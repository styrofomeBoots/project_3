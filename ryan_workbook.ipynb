{
 "cells": [
  {
   "cell_type": "code",
   "execution_count": null,
   "metadata": {},
   "outputs": [],
   "source": [
    "import pandas as pd\n",
    "import sqlite3\n",
    "\n",
    "# Importing smaller movie_metedata via csv\n",
    "# movies = pd.read_csv(\"movie_metadata.csv\")\n",
    "# movies.head()\n",
    "\n",
    "# read movie data table from db into dataframe\n",
    "con = sqlite3.connect(\"db/movies.db\")\n",
    "\n",
    "sql = f\"\"\"\n",
    "   SELECT * FROM movie_data\n",
    "   \"\"\"\n",
    "\n",
    "movies = pd.read_sql(sql, con)\n",
    "# set max display to see all available columns\n",
    "pd.set_option('display.max_columns', 500)\n",
    "movies.head()\n",
    "# Checking for duplicates...\n",
    "movies['imdb_num_code'].value_counts()"
   ]
  },
  {
   "cell_type": "code",
   "execution_count": null,
   "metadata": {},
   "outputs": [],
   "source": [
    "# Print list of columns in smaller movies dataframe, in alphabetical order\n",
    "for col in movies.columns.sort_values().values:\n",
    "    print (col)"
   ]
  },
  {
   "cell_type": "code",
   "execution_count": null,
   "metadata": {},
   "outputs": [],
   "source": [
    "movies_large = pd.read_csv('movies_metadata.csv')\n",
    "movies_large = movies_large.set_index('imdb_id')\n",
    "movies_large.head()"
   ]
  },
  {
   "cell_type": "code",
   "execution_count": null,
   "metadata": {},
   "outputs": [],
   "source": [
    "for col in movies_large.columns.sort_values().values:\n",
    "    print (col)"
   ]
  },
  {
   "cell_type": "code",
   "execution_count": null,
   "metadata": {},
   "outputs": [],
   "source": [
    "movies.describe()\n",
    "# Originally was ~4,900-5,100 records before re-pulling the data on 6/23 @ 8:21 pm...\n",
    "# Believe it is because Seth dropped all N/A values\n",
    "# New record count is not 3,738"
   ]
  },
  {
   "cell_type": "code",
   "execution_count": null,
   "metadata": {},
   "outputs": [],
   "source": [
    "movies_large.describe()"
   ]
  },
  {
   "cell_type": "code",
   "execution_count": null,
   "metadata": {},
   "outputs": [],
   "source": [
    "# Converting popularity from type 'object' to type 'numeric' (float)\n",
    "movies['popularity'] = pd.to_numeric(movies['popularity'])\n",
    "# Checking counts and types...nothing has changed.  \n",
    "# Actually, there appears to be two more records now.  Why?\n",
    "movies.describe()"
   ]
  },
  {
   "cell_type": "code",
   "execution_count": null,
   "metadata": {},
   "outputs": [],
   "source": [
    "# Create new dataframe with just the production companies and genres from large dataset\n",
    "movies_large_pc = movies_large[[\"production_companies\",\"genres\"]]\n",
    "movies_large_pc.head()"
   ]
  },
  {
   "cell_type": "code",
   "execution_count": null,
   "metadata": {},
   "outputs": [],
   "source": [
    "# Counting the number of production companies and genres per movie\n",
    "movies_large_pc['production_companies_count'] = movies_large_pc['production_companies'].str.count('id')\n",
    "movies_large_pc['genres_count'] = movies_large_pc['genres'].str.count('name')\n",
    "movies_large_pc.head()"
   ]
  },
  {
   "cell_type": "code",
   "execution_count": null,
   "metadata": {},
   "outputs": [],
   "source": [
    "# Add new columns to the existing movies table in sqllite db\n",
    "\n",
    "# Columns straight from large dataset\n",
    "movies = movies.merge(movies_large_pc[['production_companies_count','genres_count']], left_on=\"imdb_num_code\", right_index=True, how=\"inner\")\n",
    "# Calculated columns based on occurrences of strings in certain columns\n",
    "movies = movies.merge(movies_large[['popularity','vote_count','vote_average']], left_on=\"imdb_num_code\", right_index=True, how=\"inner\")\n",
    "movies\n",
    "\n",
    "# Definitions of new fields:\n",
    "\n",
    "# Popularity: (Undetermined at this point on how this is calculated) - appears to be 0 to 100 rating scale.\n",
    "# Vote Count: Number of users that voted for the movie on the TMDB website.\n",
    "# Vote Average: Average score from the aforementioned votes.  \n",
    "# Production Companies Count: Number of production companies that were a part of developing the movie.\n",
    "# Genres Count: Number of genre classifications assigned to each movie.\n",
    "\n",
    "# Website for large dataset:\n",
    "# https://www.kaggle.com/rounakbanik/the-movies-dataset#movies_metadata.csv\n",
    "\n"
   ]
  },
  {
   "cell_type": "code",
   "execution_count": null,
   "metadata": {},
   "outputs": [],
   "source": [
    "# Code to drop dups if the above cell is written multiple times\n",
    "# movies = movies.drop(['popularity_x','vote_count_x','vote_average_x','production_companies_count_x',\n",
    "#                     'genres_count_x','production_companies_count_y','genres_count_y','popularity_y',\n",
    "#                     'vote_count_y','vote_average_y'],axis=1)\n"
   ]
  },
  {
   "cell_type": "code",
   "execution_count": null,
   "metadata": {},
   "outputs": [],
   "source": [
    "# Seem to be duplicate records now...\n",
    "movies['imdb_num_code'].value_counts()\n",
    "\n",
    "# Also, why is there 128 duplicate records for tt0157472?"
   ]
  },
  {
   "cell_type": "code",
   "execution_count": null,
   "metadata": {},
   "outputs": [],
   "source": [
    "# Remove duplicates\n",
    "# removeDups2_movies = movies.drop_duplicates(subset =\"imdb_num_code\", \n",
    "#                      keep = 'first', inplace = True) "
   ]
  },
  {
   "cell_type": "code",
   "execution_count": null,
   "metadata": {},
   "outputs": [],
   "source": [
    "movies"
   ]
  },
  {
   "cell_type": "markdown",
   "metadata": {},
   "source": [
    "##########################################\n",
    "\n",
    "# Modelling\n",
    "\n",
    "##########################################"
   ]
  },
  {
   "cell_type": "markdown",
   "metadata": {},
   "source": [
    "## AdaBoost"
   ]
  },
  {
   "cell_type": "code",
   "execution_count": 1,
   "metadata": {},
   "outputs": [],
   "source": [
    "import pandas as pd\n",
    "import sqlite3\n",
    "import matplotlib.pyplot as plt\n",
    "from sklearn.metrics import roc_curve, roc_auc_score\n",
    "import warnings\n",
    "warnings.filterwarnings('ignore')"
   ]
  },
  {
   "cell_type": "code",
   "execution_count": 2,
   "metadata": {},
   "outputs": [
    {
     "data": {
      "text/html": [
       "<div>\n",
       "<style scoped>\n",
       "    .dataframe tbody tr th:only-of-type {\n",
       "        vertical-align: middle;\n",
       "    }\n",
       "\n",
       "    .dataframe tbody tr th {\n",
       "        vertical-align: top;\n",
       "    }\n",
       "\n",
       "    .dataframe thead th {\n",
       "        text-align: right;\n",
       "    }\n",
       "</style>\n",
       "<table border=\"1\" class=\"dataframe\">\n",
       "  <thead>\n",
       "    <tr style=\"text-align: right;\">\n",
       "      <th></th>\n",
       "      <th>actor_1_facebook_likes</th>\n",
       "      <th>actor_1_name</th>\n",
       "      <th>actor_1_score</th>\n",
       "      <th>actor_2_facebook_likes</th>\n",
       "      <th>actor_2_name</th>\n",
       "      <th>actor_2_score</th>\n",
       "      <th>actor_3_facebook_likes</th>\n",
       "      <th>actor_3_name</th>\n",
       "      <th>actor_3_score</th>\n",
       "      <th>aspect_ratio</th>\n",
       "      <th>budget</th>\n",
       "      <th>cast_total_facebook_likes</th>\n",
       "      <th>color</th>\n",
       "      <th>content_rating</th>\n",
       "      <th>country</th>\n",
       "      <th>director_facebook_likes</th>\n",
       "      <th>director_name</th>\n",
       "      <th>director_score</th>\n",
       "      <th>duration</th>\n",
       "      <th>facenumber_in_poster</th>\n",
       "      <th>genres</th>\n",
       "      <th>genres_count</th>\n",
       "      <th>gross</th>\n",
       "      <th>gross_margin</th>\n",
       "      <th>holiday_month</th>\n",
       "      <th>imdb_num_code</th>\n",
       "      <th>imdb_score</th>\n",
       "      <th>language</th>\n",
       "      <th>movie_facebook_likes</th>\n",
       "      <th>movie_imdb_link</th>\n",
       "      <th>movie_title</th>\n",
       "      <th>num_critic_for_reviews</th>\n",
       "      <th>num_user_for_reviews</th>\n",
       "      <th>num_voted_users</th>\n",
       "      <th>plot_keywords</th>\n",
       "      <th>popularity</th>\n",
       "      <th>production_companies_count</th>\n",
       "      <th>rating_numeric</th>\n",
       "      <th>rel_mon_01</th>\n",
       "      <th>rel_mon_02</th>\n",
       "      <th>rel_mon_03</th>\n",
       "      <th>rel_mon_04</th>\n",
       "      <th>rel_mon_05</th>\n",
       "      <th>rel_mon_06</th>\n",
       "      <th>rel_mon_07</th>\n",
       "      <th>rel_mon_08</th>\n",
       "      <th>rel_mon_09</th>\n",
       "      <th>rel_mon_10</th>\n",
       "      <th>rel_mon_11</th>\n",
       "      <th>rel_mon_12</th>\n",
       "      <th>release_date</th>\n",
       "      <th>release_month</th>\n",
       "      <th>revenue</th>\n",
       "      <th>success_bins</th>\n",
       "      <th>successful</th>\n",
       "      <th>title_year</th>\n",
       "      <th>tot_noms</th>\n",
       "      <th>tot_wins</th>\n",
       "      <th>total_actor_starpower</th>\n",
       "      <th>vote_average</th>\n",
       "      <th>vote_count</th>\n",
       "    </tr>\n",
       "  </thead>\n",
       "  <tbody>\n",
       "    <tr>\n",
       "      <th>0</th>\n",
       "      <td>1000.0</td>\n",
       "      <td>CCH Pounder</td>\n",
       "      <td>1.520767</td>\n",
       "      <td>936.0</td>\n",
       "      <td>Joel David Moore</td>\n",
       "      <td>1.747604</td>\n",
       "      <td>855.0</td>\n",
       "      <td>Wes Studi</td>\n",
       "      <td>2.066294</td>\n",
       "      <td>1.78</td>\n",
       "      <td>237000000.0</td>\n",
       "      <td>4834</td>\n",
       "      <td>Color</td>\n",
       "      <td>PG-13</td>\n",
       "      <td>USA</td>\n",
       "      <td>0.0</td>\n",
       "      <td>James Cameron</td>\n",
       "      <td>3.091853</td>\n",
       "      <td>178.0</td>\n",
       "      <td>0.0</td>\n",
       "      <td>Action|Adventure|Fantasy|Sci-Fi</td>\n",
       "      <td>4</td>\n",
       "      <td>760505847.0</td>\n",
       "      <td>0.688365</td>\n",
       "      <td>1</td>\n",
       "      <td>tt0499549</td>\n",
       "      <td>7.9</td>\n",
       "      <td>English</td>\n",
       "      <td>33000</td>\n",
       "      <td>http://www.imdb.com/title/tt0499549/?ref_=fn_t...</td>\n",
       "      <td>Avatar</td>\n",
       "      <td>723.0</td>\n",
       "      <td>3054.0</td>\n",
       "      <td>886204</td>\n",
       "      <td>avatar|future|marine|native|paraplegic</td>\n",
       "      <td>185.070892</td>\n",
       "      <td>4.0</td>\n",
       "      <td>3</td>\n",
       "      <td>0</td>\n",
       "      <td>0</td>\n",
       "      <td>0</td>\n",
       "      <td>0</td>\n",
       "      <td>0</td>\n",
       "      <td>0</td>\n",
       "      <td>0</td>\n",
       "      <td>0</td>\n",
       "      <td>0</td>\n",
       "      <td>0</td>\n",
       "      <td>0</td>\n",
       "      <td>1</td>\n",
       "      <td>2009-12-10</td>\n",
       "      <td>12</td>\n",
       "      <td>523505847.0</td>\n",
       "      <td>extreme success</td>\n",
       "      <td>1</td>\n",
       "      <td>2009.0</td>\n",
       "      <td>0</td>\n",
       "      <td>0</td>\n",
       "      <td>5.334665</td>\n",
       "      <td>7.2</td>\n",
       "      <td>12114.0</td>\n",
       "    </tr>\n",
       "    <tr>\n",
       "      <th>1</th>\n",
       "      <td>3000.0</td>\n",
       "      <td>Djimon Hounsou</td>\n",
       "      <td>3.041534</td>\n",
       "      <td>1000.0</td>\n",
       "      <td>Jason Flemyng</td>\n",
       "      <td>5.825346</td>\n",
       "      <td>855.0</td>\n",
       "      <td>Wes Studi</td>\n",
       "      <td>2.066294</td>\n",
       "      <td>2.35</td>\n",
       "      <td>45000000.0</td>\n",
       "      <td>6558</td>\n",
       "      <td>Color</td>\n",
       "      <td>R</td>\n",
       "      <td>USA</td>\n",
       "      <td>208.0</td>\n",
       "      <td>Stephen Sommers</td>\n",
       "      <td>1.766773</td>\n",
       "      <td>106.0</td>\n",
       "      <td>0.0</td>\n",
       "      <td>Action|Adventure|Horror|Sci-Fi</td>\n",
       "      <td>4</td>\n",
       "      <td>11146409.0</td>\n",
       "      <td>-3.037175</td>\n",
       "      <td>0</td>\n",
       "      <td>tt0118956</td>\n",
       "      <td>6.0</td>\n",
       "      <td>English</td>\n",
       "      <td>0</td>\n",
       "      <td>http://www.imdb.com/title/tt0118956/?ref_=fn_t...</td>\n",
       "      <td>Deep Rising</td>\n",
       "      <td>106.0</td>\n",
       "      <td>273.0</td>\n",
       "      <td>26551</td>\n",
       "      <td>creature feature|hijacker|ocean|ship|shot in t...</td>\n",
       "      <td>6.922458</td>\n",
       "      <td>3.0</td>\n",
       "      <td>4</td>\n",
       "      <td>1</td>\n",
       "      <td>0</td>\n",
       "      <td>0</td>\n",
       "      <td>0</td>\n",
       "      <td>0</td>\n",
       "      <td>0</td>\n",
       "      <td>0</td>\n",
       "      <td>0</td>\n",
       "      <td>0</td>\n",
       "      <td>0</td>\n",
       "      <td>0</td>\n",
       "      <td>0</td>\n",
       "      <td>1998-01-30</td>\n",
       "      <td>01</td>\n",
       "      <td>-33853591.0</td>\n",
       "      <td>no success</td>\n",
       "      <td>0</td>\n",
       "      <td>1998.0</td>\n",
       "      <td>0</td>\n",
       "      <td>0</td>\n",
       "      <td>10.933174</td>\n",
       "      <td>6.0</td>\n",
       "      <td>155.0</td>\n",
       "    </tr>\n",
       "    <tr>\n",
       "      <th>2</th>\n",
       "      <td>23000.0</td>\n",
       "      <td>Christian Bale</td>\n",
       "      <td>8.364217</td>\n",
       "      <td>909.0</td>\n",
       "      <td>Michael Greyeyes</td>\n",
       "      <td>0.582535</td>\n",
       "      <td>855.0</td>\n",
       "      <td>Wes Studi</td>\n",
       "      <td>2.066294</td>\n",
       "      <td>2.35</td>\n",
       "      <td>30000000.0</td>\n",
       "      <td>27829</td>\n",
       "      <td>Color</td>\n",
       "      <td>PG-13</td>\n",
       "      <td>USA</td>\n",
       "      <td>0.0</td>\n",
       "      <td>Terrence Malick</td>\n",
       "      <td>1.325080</td>\n",
       "      <td>150.0</td>\n",
       "      <td>0.0</td>\n",
       "      <td>Biography|Drama|History|Romance</td>\n",
       "      <td>3</td>\n",
       "      <td>12712093.0</td>\n",
       "      <td>-1.359958</td>\n",
       "      <td>1</td>\n",
       "      <td>tt0402399</td>\n",
       "      <td>6.7</td>\n",
       "      <td>English</td>\n",
       "      <td>0</td>\n",
       "      <td>http://www.imdb.com/title/tt0402399/?ref_=fn_t...</td>\n",
       "      <td>The New World</td>\n",
       "      <td>222.0</td>\n",
       "      <td>671.0</td>\n",
       "      <td>70771</td>\n",
       "      <td>captain|fort|love|native american|trade</td>\n",
       "      <td>7.694502</td>\n",
       "      <td>5.0</td>\n",
       "      <td>3</td>\n",
       "      <td>0</td>\n",
       "      <td>0</td>\n",
       "      <td>0</td>\n",
       "      <td>0</td>\n",
       "      <td>0</td>\n",
       "      <td>0</td>\n",
       "      <td>0</td>\n",
       "      <td>0</td>\n",
       "      <td>0</td>\n",
       "      <td>0</td>\n",
       "      <td>0</td>\n",
       "      <td>1</td>\n",
       "      <td>2005-12-25</td>\n",
       "      <td>12</td>\n",
       "      <td>-17287907.0</td>\n",
       "      <td>no success</td>\n",
       "      <td>0</td>\n",
       "      <td>2005.0</td>\n",
       "      <td>0</td>\n",
       "      <td>0</td>\n",
       "      <td>11.013046</td>\n",
       "      <td>6.4</td>\n",
       "      <td>336.0</td>\n",
       "    </tr>\n",
       "    <tr>\n",
       "      <th>3</th>\n",
       "      <td>21000.0</td>\n",
       "      <td>Robert Downey Jr.</td>\n",
       "      <td>9.884984</td>\n",
       "      <td>936.0</td>\n",
       "      <td>Joel David Moore</td>\n",
       "      <td>1.747604</td>\n",
       "      <td>722.0</td>\n",
       "      <td>Kristin Davis</td>\n",
       "      <td>2.066294</td>\n",
       "      <td>2.35</td>\n",
       "      <td>50000000.0</td>\n",
       "      <td>24664</td>\n",
       "      <td>Color</td>\n",
       "      <td>PG</td>\n",
       "      <td>USA</td>\n",
       "      <td>48.0</td>\n",
       "      <td>Brian Robbins</td>\n",
       "      <td>2.650160</td>\n",
       "      <td>98.0</td>\n",
       "      <td>0.0</td>\n",
       "      <td>Comedy|Family|Fantasy</td>\n",
       "      <td>2</td>\n",
       "      <td>61112916.0</td>\n",
       "      <td>0.181842</td>\n",
       "      <td>0</td>\n",
       "      <td>tt0393735</td>\n",
       "      <td>4.4</td>\n",
       "      <td>English</td>\n",
       "      <td>747</td>\n",
       "      <td>http://www.imdb.com/title/tt0393735/?ref_=fn_t...</td>\n",
       "      <td>The Shaggy Dog</td>\n",
       "      <td>76.0</td>\n",
       "      <td>83.0</td>\n",
       "      <td>14888</td>\n",
       "      <td>animal as human|dog movie|elevator|human becom...</td>\n",
       "      <td>4.878907</td>\n",
       "      <td>3.0</td>\n",
       "      <td>2</td>\n",
       "      <td>0</td>\n",
       "      <td>0</td>\n",
       "      <td>1</td>\n",
       "      <td>0</td>\n",
       "      <td>0</td>\n",
       "      <td>0</td>\n",
       "      <td>0</td>\n",
       "      <td>0</td>\n",
       "      <td>0</td>\n",
       "      <td>0</td>\n",
       "      <td>0</td>\n",
       "      <td>0</td>\n",
       "      <td>2006-03-09</td>\n",
       "      <td>03</td>\n",
       "      <td>11112916.0</td>\n",
       "      <td>moderate success</td>\n",
       "      <td>1</td>\n",
       "      <td>2006.0</td>\n",
       "      <td>1</td>\n",
       "      <td>0</td>\n",
       "      <td>13.698882</td>\n",
       "      <td>4.5</td>\n",
       "      <td>138.0</td>\n",
       "    </tr>\n",
       "    <tr>\n",
       "      <th>4</th>\n",
       "      <td>14000.0</td>\n",
       "      <td>Josh Hutcherson</td>\n",
       "      <td>2.661342</td>\n",
       "      <td>12000.0</td>\n",
       "      <td>Dwayne Johnson</td>\n",
       "      <td>1.747604</td>\n",
       "      <td>722.0</td>\n",
       "      <td>Kristin Davis</td>\n",
       "      <td>2.066294</td>\n",
       "      <td>1.85</td>\n",
       "      <td>79000000.0</td>\n",
       "      <td>27842</td>\n",
       "      <td>Color</td>\n",
       "      <td>PG</td>\n",
       "      <td>USA</td>\n",
       "      <td>62.0</td>\n",
       "      <td>Brad Peyton</td>\n",
       "      <td>1.325080</td>\n",
       "      <td>94.0</td>\n",
       "      <td>3.0</td>\n",
       "      <td>Action|Adventure|Comedy|Family|Fantasy|Sci-Fi</td>\n",
       "      <td>3</td>\n",
       "      <td>103812241.0</td>\n",
       "      <td>0.239011</td>\n",
       "      <td>0</td>\n",
       "      <td>tt1397514</td>\n",
       "      <td>5.8</td>\n",
       "      <td>English</td>\n",
       "      <td>0</td>\n",
       "      <td>http://www.imdb.com/title/tt1397514/?ref_=fn_t...</td>\n",
       "      <td>Journey 2: The Mysterious Island</td>\n",
       "      <td>178.0</td>\n",
       "      <td>133.0</td>\n",
       "      <td>67296</td>\n",
       "      <td>gold|hurricane|island|mountain|mysterious island</td>\n",
       "      <td>9.46307</td>\n",
       "      <td>3.0</td>\n",
       "      <td>2</td>\n",
       "      <td>1</td>\n",
       "      <td>0</td>\n",
       "      <td>0</td>\n",
       "      <td>0</td>\n",
       "      <td>0</td>\n",
       "      <td>0</td>\n",
       "      <td>0</td>\n",
       "      <td>0</td>\n",
       "      <td>0</td>\n",
       "      <td>0</td>\n",
       "      <td>0</td>\n",
       "      <td>0</td>\n",
       "      <td>2012-01-19</td>\n",
       "      <td>01</td>\n",
       "      <td>24812241.0</td>\n",
       "      <td>average success</td>\n",
       "      <td>1</td>\n",
       "      <td>2012.0</td>\n",
       "      <td>0</td>\n",
       "      <td>0</td>\n",
       "      <td>6.475240</td>\n",
       "      <td>5.8</td>\n",
       "      <td>1050.0</td>\n",
       "    </tr>\n",
       "  </tbody>\n",
       "</table>\n",
       "</div>"
      ],
      "text/plain": [
       "   actor_1_facebook_likes       actor_1_name  actor_1_score  \\\n",
       "0                  1000.0        CCH Pounder       1.520767   \n",
       "1                  3000.0     Djimon Hounsou       3.041534   \n",
       "2                 23000.0     Christian Bale       8.364217   \n",
       "3                 21000.0  Robert Downey Jr.       9.884984   \n",
       "4                 14000.0    Josh Hutcherson       2.661342   \n",
       "\n",
       "   actor_2_facebook_likes      actor_2_name  actor_2_score  \\\n",
       "0                   936.0  Joel David Moore       1.747604   \n",
       "1                  1000.0     Jason Flemyng       5.825346   \n",
       "2                   909.0  Michael Greyeyes       0.582535   \n",
       "3                   936.0  Joel David Moore       1.747604   \n",
       "4                 12000.0    Dwayne Johnson       1.747604   \n",
       "\n",
       "   actor_3_facebook_likes   actor_3_name  actor_3_score  aspect_ratio  \\\n",
       "0                   855.0      Wes Studi       2.066294          1.78   \n",
       "1                   855.0      Wes Studi       2.066294          2.35   \n",
       "2                   855.0      Wes Studi       2.066294          2.35   \n",
       "3                   722.0  Kristin Davis       2.066294          2.35   \n",
       "4                   722.0  Kristin Davis       2.066294          1.85   \n",
       "\n",
       "        budget  cast_total_facebook_likes  color content_rating country  \\\n",
       "0  237000000.0                       4834  Color          PG-13     USA   \n",
       "1   45000000.0                       6558  Color              R     USA   \n",
       "2   30000000.0                      27829  Color          PG-13     USA   \n",
       "3   50000000.0                      24664  Color             PG     USA   \n",
       "4   79000000.0                      27842  Color             PG     USA   \n",
       "\n",
       "   director_facebook_likes    director_name  director_score  duration  \\\n",
       "0                      0.0    James Cameron        3.091853     178.0   \n",
       "1                    208.0  Stephen Sommers        1.766773     106.0   \n",
       "2                      0.0  Terrence Malick        1.325080     150.0   \n",
       "3                     48.0    Brian Robbins        2.650160      98.0   \n",
       "4                     62.0      Brad Peyton        1.325080      94.0   \n",
       "\n",
       "   facenumber_in_poster                                         genres  \\\n",
       "0                   0.0                Action|Adventure|Fantasy|Sci-Fi   \n",
       "1                   0.0                 Action|Adventure|Horror|Sci-Fi   \n",
       "2                   0.0                Biography|Drama|History|Romance   \n",
       "3                   0.0                          Comedy|Family|Fantasy   \n",
       "4                   3.0  Action|Adventure|Comedy|Family|Fantasy|Sci-Fi   \n",
       "\n",
       "   genres_count        gross  gross_margin  holiday_month imdb_num_code  \\\n",
       "0             4  760505847.0      0.688365              1     tt0499549   \n",
       "1             4   11146409.0     -3.037175              0     tt0118956   \n",
       "2             3   12712093.0     -1.359958              1     tt0402399   \n",
       "3             2   61112916.0      0.181842              0     tt0393735   \n",
       "4             3  103812241.0      0.239011              0     tt1397514   \n",
       "\n",
       "   imdb_score language  movie_facebook_likes  \\\n",
       "0         7.9  English                 33000   \n",
       "1         6.0  English                     0   \n",
       "2         6.7  English                     0   \n",
       "3         4.4  English                   747   \n",
       "4         5.8  English                     0   \n",
       "\n",
       "                                     movie_imdb_link  \\\n",
       "0  http://www.imdb.com/title/tt0499549/?ref_=fn_t...   \n",
       "1  http://www.imdb.com/title/tt0118956/?ref_=fn_t...   \n",
       "2  http://www.imdb.com/title/tt0402399/?ref_=fn_t...   \n",
       "3  http://www.imdb.com/title/tt0393735/?ref_=fn_t...   \n",
       "4  http://www.imdb.com/title/tt1397514/?ref_=fn_t...   \n",
       "\n",
       "                         movie_title  num_critic_for_reviews  \\\n",
       "0                            Avatar                    723.0   \n",
       "1                       Deep Rising                    106.0   \n",
       "2                     The New World                    222.0   \n",
       "3                    The Shaggy Dog                     76.0   \n",
       "4  Journey 2: The Mysterious Island                    178.0   \n",
       "\n",
       "   num_user_for_reviews  num_voted_users  \\\n",
       "0                3054.0           886204   \n",
       "1                 273.0            26551   \n",
       "2                 671.0            70771   \n",
       "3                  83.0            14888   \n",
       "4                 133.0            67296   \n",
       "\n",
       "                                       plot_keywords  popularity  \\\n",
       "0             avatar|future|marine|native|paraplegic  185.070892   \n",
       "1  creature feature|hijacker|ocean|ship|shot in t...    6.922458   \n",
       "2            captain|fort|love|native american|trade    7.694502   \n",
       "3  animal as human|dog movie|elevator|human becom...    4.878907   \n",
       "4   gold|hurricane|island|mountain|mysterious island     9.46307   \n",
       "\n",
       "   production_companies_count  rating_numeric  rel_mon_01  rel_mon_02  \\\n",
       "0                         4.0               3           0           0   \n",
       "1                         3.0               4           1           0   \n",
       "2                         5.0               3           0           0   \n",
       "3                         3.0               2           0           0   \n",
       "4                         3.0               2           1           0   \n",
       "\n",
       "   rel_mon_03  rel_mon_04  rel_mon_05  rel_mon_06  rel_mon_07  rel_mon_08  \\\n",
       "0           0           0           0           0           0           0   \n",
       "1           0           0           0           0           0           0   \n",
       "2           0           0           0           0           0           0   \n",
       "3           1           0           0           0           0           0   \n",
       "4           0           0           0           0           0           0   \n",
       "\n",
       "   rel_mon_09  rel_mon_10  rel_mon_11  rel_mon_12 release_date release_month  \\\n",
       "0           0           0           0           1   2009-12-10            12   \n",
       "1           0           0           0           0   1998-01-30            01   \n",
       "2           0           0           0           1   2005-12-25            12   \n",
       "3           0           0           0           0   2006-03-09            03   \n",
       "4           0           0           0           0   2012-01-19            01   \n",
       "\n",
       "       revenue      success_bins  successful  title_year  tot_noms  tot_wins  \\\n",
       "0  523505847.0   extreme success           1      2009.0         0         0   \n",
       "1  -33853591.0        no success           0      1998.0         0         0   \n",
       "2  -17287907.0        no success           0      2005.0         0         0   \n",
       "3   11112916.0  moderate success           1      2006.0         1         0   \n",
       "4   24812241.0   average success           1      2012.0         0         0   \n",
       "\n",
       "   total_actor_starpower  vote_average  vote_count  \n",
       "0               5.334665           7.2     12114.0  \n",
       "1              10.933174           6.0       155.0  \n",
       "2              11.013046           6.4       336.0  \n",
       "3              13.698882           4.5       138.0  \n",
       "4               6.475240           5.8      1050.0  "
      ]
     },
     "execution_count": 2,
     "metadata": {},
     "output_type": "execute_result"
    }
   ],
   "source": [
    "con = sqlite3.connect(\"db/movies.db\")\n",
    "\n",
    "sql = f\"\"\"\n",
    "   SELECT * FROM movie_data\n",
    "   \"\"\"\n",
    "\n",
    "movies = pd.read_sql(sql, con)\n",
    "# set max display to see all available columns\n",
    "pd.set_option('display.max_columns', 500)\n",
    "movies.sort_index(1).head()"
   ]
  },
  {
   "cell_type": "code",
   "execution_count": 3,
   "metadata": {},
   "outputs": [],
   "source": [
    "# Load libraries\n",
    "from sklearn.ensemble import AdaBoostClassifier\n",
    "from sklearn import datasets\n",
    "# Import train_test_split function\n",
    "from sklearn.model_selection import train_test_split\n",
    "#Import scikit-learn metrics module for accuracy calculation\n",
    "from sklearn import metrics"
   ]
  },
  {
   "cell_type": "code",
   "execution_count": 4,
   "metadata": {},
   "outputs": [],
   "source": [
    "# Load data\n",
    "data = movies[['duration','rating_numeric', \n",
    "               'director_score','production_companies_count',\n",
    "                'tot_wins\",\"tot_noms\", \"total_actor_starpower\", \n",
    "               'holiday_month']]\n",
    "\n",
    "to_predict = movies [[\"successful\"]]\n",
    "X = data\n",
    "y = to_predict"
   ]
  },
  {
   "cell_type": "code",
   "execution_count": null,
   "metadata": {},
   "outputs": [],
   "source": [
    "#                 'rel_mon_01', 'rel_mon_02', 'rel_mon_03',\n",
    "#                 'rel_mon_04', 'rel_mon_05', 'rel_mon_06', 'rel_mon_07', 'rel_mon_08', 'rel_mon_09',\n",
    "#                 'rel_mon_10', 'rel_mon_11', 'rel_mon_12',"
   ]
  },
  {
   "cell_type": "code",
   "execution_count": 5,
   "metadata": {},
   "outputs": [
    {
     "data": {
      "text/html": [
       "<div>\n",
       "<style scoped>\n",
       "    .dataframe tbody tr th:only-of-type {\n",
       "        vertical-align: middle;\n",
       "    }\n",
       "\n",
       "    .dataframe tbody tr th {\n",
       "        vertical-align: top;\n",
       "    }\n",
       "\n",
       "    .dataframe thead th {\n",
       "        text-align: right;\n",
       "    }\n",
       "</style>\n",
       "<table border=\"1\" class=\"dataframe\">\n",
       "  <thead>\n",
       "    <tr style=\"text-align: right;\">\n",
       "      <th></th>\n",
       "      <th>duration</th>\n",
       "      <th>rating_numeric</th>\n",
       "      <th>director_score</th>\n",
       "      <th>production_companies_count</th>\n",
       "      <th>tot_wins</th>\n",
       "      <th>tot_noms</th>\n",
       "      <th>total_actor_starpower</th>\n",
       "      <th>holiday_month</th>\n",
       "    </tr>\n",
       "  </thead>\n",
       "  <tbody>\n",
       "    <tr>\n",
       "      <th>0</th>\n",
       "      <td>178.0</td>\n",
       "      <td>3</td>\n",
       "      <td>3.091853</td>\n",
       "      <td>4.0</td>\n",
       "      <td>0</td>\n",
       "      <td>0</td>\n",
       "      <td>5.334665</td>\n",
       "      <td>1</td>\n",
       "    </tr>\n",
       "    <tr>\n",
       "      <th>1</th>\n",
       "      <td>106.0</td>\n",
       "      <td>4</td>\n",
       "      <td>1.766773</td>\n",
       "      <td>3.0</td>\n",
       "      <td>0</td>\n",
       "      <td>0</td>\n",
       "      <td>10.933174</td>\n",
       "      <td>0</td>\n",
       "    </tr>\n",
       "    <tr>\n",
       "      <th>2</th>\n",
       "      <td>150.0</td>\n",
       "      <td>3</td>\n",
       "      <td>1.325080</td>\n",
       "      <td>5.0</td>\n",
       "      <td>0</td>\n",
       "      <td>0</td>\n",
       "      <td>11.013046</td>\n",
       "      <td>1</td>\n",
       "    </tr>\n",
       "    <tr>\n",
       "      <th>3</th>\n",
       "      <td>98.0</td>\n",
       "      <td>2</td>\n",
       "      <td>2.650160</td>\n",
       "      <td>3.0</td>\n",
       "      <td>0</td>\n",
       "      <td>1</td>\n",
       "      <td>13.698882</td>\n",
       "      <td>0</td>\n",
       "    </tr>\n",
       "    <tr>\n",
       "      <th>4</th>\n",
       "      <td>94.0</td>\n",
       "      <td>2</td>\n",
       "      <td>1.325080</td>\n",
       "      <td>3.0</td>\n",
       "      <td>0</td>\n",
       "      <td>0</td>\n",
       "      <td>6.475240</td>\n",
       "      <td>0</td>\n",
       "    </tr>\n",
       "  </tbody>\n",
       "</table>\n",
       "</div>"
      ],
      "text/plain": [
       "   duration  rating_numeric  director_score  production_companies_count  \\\n",
       "0     178.0               3        3.091853                         4.0   \n",
       "1     106.0               4        1.766773                         3.0   \n",
       "2     150.0               3        1.325080                         5.0   \n",
       "3      98.0               2        2.650160                         3.0   \n",
       "4      94.0               2        1.325080                         3.0   \n",
       "\n",
       "   tot_wins  tot_noms  total_actor_starpower  holiday_month  \n",
       "0         0         0               5.334665              1  \n",
       "1         0         0              10.933174              0  \n",
       "2         0         0              11.013046              1  \n",
       "3         0         1              13.698882              0  \n",
       "4         0         0               6.475240              0  "
      ]
     },
     "execution_count": 5,
     "metadata": {},
     "output_type": "execute_result"
    }
   ],
   "source": [
    "X.head()"
   ]
  },
  {
   "cell_type": "code",
   "execution_count": 43,
   "metadata": {},
   "outputs": [],
   "source": [
    "# Split dataset into training set and test set\n",
    "# 75% training, 25% testing - default values from SciKit\n",
    "X_train, X_test, y_train, y_test = train_test_split(X, y) "
   ]
  },
  {
   "cell_type": "code",
   "execution_count": 44,
   "metadata": {},
   "outputs": [],
   "source": [
    "# # define hyper parameters Set\n",
    "# params = {'max_features': ['auto', 'sqrt', 'log2'],\n",
    "#           'min_samples_split': [2,3,4,5,6,7,8,9,10,11,12,13,14,15], \n",
    "#           'min_samples_leaf':[1,2,3,4,5,6,7,8,9,10,11],\n",
    "#           'random_state':[123]}"
   ]
  },
  {
   "cell_type": "code",
   "execution_count": 45,
   "metadata": {},
   "outputs": [],
   "source": [
    "# Create adaboost classifer object\n",
    "abc = AdaBoostClassifier(n_estimators=50,\n",
    "                         learning_rate=1,\n",
    "                        )\n",
    "# Train Adaboost Classifier\n",
    "model = abc.fit(X_train, y_train)\n",
    "\n",
    "#Predict the response for test dataset\n",
    "y_pred = model.predict(X_test)\n",
    "\n",
    "# The most important parameters are base_estimator, n_estimators, and learning_rate.\n",
    "\n",
    "# base_estimator: It is a weak learner used to train the model. It uses DecisionTreeClassifier as default weak learner for training purpose. You can also specify different machine learning algorithms.\n",
    "# n_estimators: Number of weak learners to train iteratively.\n",
    "# learning_rate: It contributes to the weights of weak learners. It uses 1 as a default value."
   ]
  },
  {
   "cell_type": "code",
   "execution_count": 46,
   "metadata": {},
   "outputs": [
    {
     "name": "stdout",
     "output_type": "stream",
     "text": [
      "Accuracy: 0.5637362637362637\n"
     ]
    }
   ],
   "source": [
    "# Model Accuracy, how often is the classifier correct?\n",
    "print(\"Accuracy:\",metrics.accuracy_score(y_test, y_pred))"
   ]
  },
  {
   "cell_type": "code",
   "execution_count": 47,
   "metadata": {
    "scrolled": true
   },
   "outputs": [],
   "source": [
    "# Using Different Base Learners\n",
    "# You can use any ML learner as base estimator if it accepts sample weight such as Decision Tree, Support Vector Classifier.\n",
    "\n",
    "# # Load libraries\n",
    "# from sklearn.ensemble import AdaBoostClassifier\n",
    "\n",
    "# # Import Support Vector Classifier\n",
    "# from sklearn.svm import SVC\n",
    "# #Import scikit-learn metrics module for accuracy calculation\n",
    "# from sklearn import metrics\n",
    "\n",
    "# svc=SVC(probability=True, kernel='poly')\n",
    "\n",
    "# # Create adaboost classifer object\n",
    "# abc = AdaBoostClassifier(n_estimators=50, base_estimator=svc,learning_rate=1)\n",
    "\n",
    "# # Train Adaboost Classifer\n",
    "# model = abc.fit(X_train, y_train)\n",
    "\n",
    "# #Predict the response for test dataset\n",
    "# y_pred = model.predict(X_test)\n",
    "\n",
    "# # Grid Search\n",
    "# from sklearn.grid_search import GridSearchCV\n",
    "# from sklearn.metrics import roc_curve, roc_auc_score\n",
    "\n",
    "# # ROC Curve (Receiving Operator Characteristic)\n",
    "# grid_search_ABC = GridSearchCV(abc, param_grid=params, scoring = 'roc_auc') \n",
    "\n",
    "\n",
    "# Model Accuracy, how often is the classifier correct?\n",
    "# print(\"Accuracy:\", metrics.accuracy_score(y_test, y_pred))"
   ]
  },
  {
   "cell_type": "code",
   "execution_count": 48,
   "metadata": {},
   "outputs": [
    {
     "data": {
      "text/plain": [
       "<Figure size 1332x756 with 0 Axes>"
      ]
     },
     "metadata": {},
     "output_type": "display_data"
    }
   ],
   "source": [
    "from matplotlib.pyplot import figure\n",
    "fig = plt.gcf()\n",
    "fig.set_size_inches(18.5, 10.5)"
   ]
  },
  {
   "cell_type": "markdown",
   "metadata": {},
   "source": [
    "### Feature Importance - AdaBoost Model"
   ]
  },
  {
   "cell_type": "code",
   "execution_count": 49,
   "metadata": {},
   "outputs": [
    {
     "data": {
      "image/png": "[encoded data removed]",
      "text/plain": [
       "<Figure size 432x288 with 1 Axes>"
      ]
     },
     "metadata": {
      "needs_background": "dark"
     },
     "output_type": "display_data"
    },
    {
     "data": {
      "text/plain": [
       "<Figure size 720x576 with 0 Axes>"
      ]
     },
     "metadata": {},
     "output_type": "display_data"
    }
   ],
   "source": [
    "#plot graph of feature importances for better visualization\n",
    "feat_importances = pd.Series(model.feature_importances_, index=X.columns)\n",
    "feat_importances.nlargest(10).plot(kind='barh')\n",
    "label = plt.xlabel(\"Features\")\n",
    "label.set_color(\"white\")\n",
    "[i.set_color(\"white\") for i in plt.gca().get_xticklabels()]\n",
    "[i.set_color(\"white\") for i in plt.gca().get_yticklabels()]\n",
    "plt.figure(figsize=(10,8))\n",
    "plt.show()\n",
    "\n"
   ]
  },
  {
   "cell_type": "code",
   "execution_count": 50,
   "metadata": {},
   "outputs": [],
   "source": [
    "# https://www.datacamp.com/community/tutorials/naive-bayes-scikit-learn"
   ]
  },
  {
   "cell_type": "markdown",
   "metadata": {},
   "source": [
    "### AdaBoost with Principle Component Analysis (PCA) "
   ]
  },
  {
   "cell_type": "code",
   "execution_count": 51,
   "metadata": {},
   "outputs": [],
   "source": [
    "from mpl_toolkits.mplot3d import Axes3D\n",
    "from sklearn import decomposition\n",
    "from sklearn import datasets"
   ]
  },
  {
   "cell_type": "code",
   "execution_count": 52,
   "metadata": {},
   "outputs": [],
   "source": [
    "# Create adaboost classifer object\n",
    "abc = AdaBoostClassifier(n_estimators=50,\n",
    "                         learning_rate=1)\n",
    "# Train Adaboost Classifer\n",
    "model = abc.fit(X_train, y_train)"
   ]
  },
  {
   "cell_type": "code",
   "execution_count": 53,
   "metadata": {},
   "outputs": [
    {
     "name": "stdout",
     "output_type": "stream",
     "text": [
      "n=2 0.5164835164835165 \n",
      "n=3 0.5318681318681319 \n",
      "n=4 0.5527472527472528 \n",
      "n=5 0.5483516483516484 \n",
      "n=6 0.5582417582417583 \n",
      "n=7 0.5659340659340659 \n",
      "n=8 0.5582417582417583 \n"
     ]
    }
   ],
   "source": [
    "# Function to test PCA with a range of component values\n",
    "\n",
    "for n in range(2,9):\n",
    "    \n",
    "    pca = decomposition.PCA(n_components = n)\n",
    "    pca.fit(X_train, y_train)\n",
    "    X_train_pca = pca.transform(X_train)\n",
    "    X_test_pca = pca.transform(X_test)\n",
    "    \n",
    "    model.fit(X_train_pca, y_train)\n",
    "    print(\"n=\"+str(n),model.score(X_test_pca, y_test),\"\")"
   ]
  },
  {
   "cell_type": "code",
   "execution_count": 54,
   "metadata": {},
   "outputs": [
    {
     "data": {
      "text/plain": [
       "array([5.37631049e+02, 2.32757267e+01, 5.00953880e+00, 4.18109689e+00,\n",
       "       3.05519203e+00, 7.87161803e-01, 1.40323376e-01, 9.50003817e-02])"
      ]
     },
     "execution_count": 54,
     "metadata": {},
     "output_type": "execute_result"
    }
   ],
   "source": [
    "pca.explained_variance_"
   ]
  },
  {
   "cell_type": "code",
   "execution_count": 55,
   "metadata": {},
   "outputs": [
    {
     "data": {
      "text/plain": [
       "array([9.36353839e-01, 4.05376811e-02, 8.72475818e-03, 7.28191970e-03,\n",
       "       5.32101112e-03, 1.37094384e-03, 2.44391264e-04, 1.65455422e-04])"
      ]
     },
     "execution_count": 55,
     "metadata": {},
     "output_type": "execute_result"
    }
   ],
   "source": [
    "pca.explained_variance_ratio_ "
   ]
  },
  {
   "cell_type": "code",
   "execution_count": 56,
   "metadata": {},
   "outputs": [],
   "source": [
    "# import numpy as np\n",
    "# i = np.identity(len(X_train[0]))\n",
    "# i\n",
    "# pd.DataFrame(pca.transform(i))\n",
    "# These column names are equivalent to rows 0-9 in pca.transform above\n",
    "# movies.columns"
   ]
  },
  {
   "cell_type": "markdown",
   "metadata": {},
   "source": [
    "### AdaBoost Model with PCA and Scaled X_train and X_test data"
   ]
  },
  {
   "cell_type": "code",
   "execution_count": 57,
   "metadata": {},
   "outputs": [],
   "source": [
    "from sklearn.preprocessing import StandardScaler\n",
    "from sklearn.preprocessing import MinMaxScaler\n",
    "# X_scaler = MinMaxScaler(feature_range=[0, 1]).fit(X_train)\n",
    "X_scaler = StandardScaler().fit(X_train)\n",
    "# transform the data\n",
    "X_train_scaled = X_scaler.transform(X_train)\n",
    "X_test_scaled = X_scaler.transform(X_test)"
   ]
  },
  {
   "cell_type": "code",
   "execution_count": 58,
   "metadata": {},
   "outputs": [],
   "source": [
    "# Create adaboost classifier object\n",
    "abc = AdaBoostClassifier(n_estimators=50,\n",
    "                         learning_rate=1)\n",
    "# Train Adaboost Classifer\n",
    "model = abc.fit(X_train_scaled, y_train)"
   ]
  },
  {
   "cell_type": "code",
   "execution_count": 59,
   "metadata": {},
   "outputs": [
    {
     "name": "stdout",
     "output_type": "stream",
     "text": [
      "n=2 0.5362637362637362\n",
      "n=3 0.5164835164835165\n",
      "n=4 0.5384615384615384\n",
      "n=5 0.5384615384615384\n",
      "n=6 0.5461538461538461\n",
      "n=7 0.5318681318681319\n",
      "n=8 0.5208791208791209\n"
     ]
    }
   ],
   "source": [
    "# Function to test PCA with a range of component values\n",
    "\n",
    "for n in range(2,9):\n",
    "    \n",
    "    pca = decomposition.PCA(n_components = n)\n",
    "    pca.fit(X_train_scaled, y_train)\n",
    "    X_train_pca = pca.transform(X_train_scaled)\n",
    "    X_test_pca = pca.transform(X_test_scaled)\n",
    "    \n",
    "    model.fit(X_train_pca, y_train)\n",
    "    print(\"n=\"+str(n),model.score(X_test_pca, y_test))"
   ]
  },
  {
   "cell_type": "code",
   "execution_count": 65,
   "metadata": {},
   "outputs": [
    {
     "data": {
      "text/plain": [
       "array([0.28833955, 0.15864126, 0.13620581, 0.12002105, 0.10416892,\n",
       "       0.09245495, 0.07912406, 0.02104441])"
      ]
     },
     "execution_count": 65,
     "metadata": {},
     "output_type": "execute_result"
    }
   ],
   "source": [
    "pca.explained_variance_ratio_ "
   ]
  },
  {
   "cell_type": "code",
   "execution_count": 60,
   "metadata": {
    "scrolled": true
   },
   "outputs": [
    {
     "data": {
      "text/plain": [
       "successful    910\n",
       "dtype: int64"
      ]
     },
     "execution_count": 60,
     "metadata": {},
     "output_type": "execute_result"
    }
   ],
   "source": [
    "y_test.count()"
   ]
  },
  {
   "cell_type": "code",
   "execution_count": 61,
   "metadata": {},
   "outputs": [],
   "source": [
    "predicted = model.predict(X_test_scaled)"
   ]
  },
  {
   "cell_type": "code",
   "execution_count": 62,
   "metadata": {},
   "outputs": [
    {
     "data": {
      "text/plain": [
       "array([[162, 253],\n",
       "       [184, 311]], dtype=int64)"
      ]
     },
     "execution_count": 62,
     "metadata": {},
     "output_type": "execute_result"
    }
   ],
   "source": [
    "from sklearn.metrics import confusion_matrix\n",
    "confusion_matrix(y_test, predicted)"
   ]
  },
  {
   "cell_type": "code",
   "execution_count": 63,
   "metadata": {},
   "outputs": [
    {
     "name": "stdout",
     "output_type": "stream",
     "text": [
      "true negative: 162 false positive: 253\n",
      "false negative: 184 true positive: 311\n"
     ]
    }
   ],
   "source": [
    "tn, fp, fn, tp = confusion_matrix(y_test, predicted).ravel()\n",
    "print(f\"true negative: {tn:3d} false positive: {fp:3d}\")\n",
    "print(f\"false negative: {fn:3d} true positive: {tp:3d}\")\n",
    "\n",
    "# This is also terrible.  "
   ]
  },
  {
   "cell_type": "code",
   "execution_count": 64,
   "metadata": {},
   "outputs": [],
   "source": [
    "# Updated ROC code for Bryan's notebook\n",
    "\n",
    "# # predict probabilities\n",
    "# probsNN = modelNN.predict_proba(X_test_scaled)\n",
    "# probsRf = modelRf1.predict_proba(X_test_scaled)\n",
    "# probsAda = model.predict_proba(X_test_scaled)\n",
    "\n",
    "# # keep probabilities for the positive outcome only\n",
    "# probsNN = probsNN[:, 1]\n",
    "# probsRf = probsRf[:, 1]\n",
    "# probsAda = probsAda[:, 1]\n",
    "\n",
    "# # calculate AUC for NN and RF models\n",
    "# aucNN = roc_auc_score(y_test, probsNN)\n",
    "# aucRf = roc_auc_score(y_test, probsRf)\n",
    "# aucAda = roc_auc_score(y_test, probsAda)\n",
    "# print('Neural Network AUC (Area Under Curve): %.3f' % aucNN)\n",
    "# print('Random Forest AUC (Area Under Curve): %.3f' % aucRf)\n",
    "# print('Random Forest AUC (Area Under Curve): %.3f' % aucAda)\n",
    "# print('\\n')\n",
    "# # calculate roc curve\n",
    "# fprNN, tprNN, thresholdsNN = roc_curve(y_test, probsNN)\n",
    "# fprRf, tprRf, thresholdsRf = roc_curve(y_test, probsRf)\n",
    "# fprAda, tprAda, thresholdsAda = roc_curve(y_test, probsAda)\n",
    "\n",
    "# # plot no skill\n",
    "# pyplot.plot([0, 1], [0, 1], linestyle='--', label=\"Random\")\n",
    "# # plot the Neural Network roc curve\n",
    "# pyplot.plot(fprNN, tprNN, marker='.', label=\"Neural Network\")\n",
    "# # plot the Random Forest ROC curve \n",
    "# pyplot.plot(fprRf, tprRf, marker = '.', label = \"Random Forest\")\n",
    "# # plot the Random Forest ROC curve \n",
    "# pyplot.plot(fprAda, tprAda, marker = '.', label = \"AdaBoost\")\n",
    "# # title\n",
    "# plt.title('ROC Curve', fontsize = 16)\n",
    "# # legend\n",
    "# plt.legend(loc = 'lower right', fontsize = 10)\n",
    "# # show the plot\n",
    "# pyplot.show()"
   ]
  },
  {
   "cell_type": "markdown",
   "metadata": {},
   "source": [
    "### AdaBoost with RandomizedSearchCV and Hyper Parameter Tuning"
   ]
  },
  {
   "cell_type": "code",
   "execution_count": 24,
   "metadata": {},
   "outputs": [
    {
     "ename": "NameError",
     "evalue": "name 'params' is not defined",
     "output_type": "error",
     "traceback": [
      "\u001b[1;31m---------------------------------------------------------------------------\u001b[0m",
      "\u001b[1;31mNameError\u001b[0m                                 Traceback (most recent call last)",
      "\u001b[1;32m<ipython-input-24-91895fa965d4>\u001b[0m in \u001b[0;36m<module>\u001b[1;34m()\u001b[0m\n\u001b[0;32m      8\u001b[0m \u001b[1;33m\u001b[0m\u001b[0m\n\u001b[0;32m      9\u001b[0m rscv_abc = RandomizedSearchCV(AdaBoostClassifier(),\n\u001b[1;32m---> 10\u001b[1;33m \u001b[0mparam_distributions\u001b[0m \u001b[1;33m=\u001b[0m \u001b[0mparams\u001b[0m\u001b[1;33m,\u001b[0m\u001b[1;33m\u001b[0m\u001b[0m\n\u001b[0m\u001b[0;32m     11\u001b[0m \u001b[0mcv\u001b[0m\u001b[1;33m=\u001b[0m\u001b[1;36m3\u001b[0m\u001b[1;33m,\u001b[0m\u001b[1;33m\u001b[0m\u001b[0m\n\u001b[0;32m     12\u001b[0m \u001b[0mn_iter\u001b[0m \u001b[1;33m=\u001b[0m \u001b[1;36m10\u001b[0m\u001b[1;33m,\u001b[0m\u001b[1;33m\u001b[0m\u001b[0m\n",
      "\u001b[1;31mNameError\u001b[0m: name 'params' is not defined"
     ]
    }
   ],
   "source": [
    "from sklearn.model_selection import RandomizedSearchCV\n",
    "\n",
    "param = {\n",
    "'n_estimators': [50, 100],\n",
    "'learning_rate' : [0.01,0.05,0.1,0.3,1],\n",
    "'loss' : ['linear', 'square', 'exponential']\n",
    "}\n",
    "\n",
    "rscv_abc = RandomizedSearchCV(AdaBoostClassifier(),\n",
    "param_distributions = params,\n",
    "cv=3,\n",
    "n_iter = 10,\n",
    "n_jobs=-1)"
   ]
  },
  {
   "cell_type": "code",
   "execution_count": 25,
   "metadata": {},
   "outputs": [
    {
     "ename": "NameError",
     "evalue": "name 'rscv_abc' is not defined",
     "output_type": "error",
     "traceback": [
      "\u001b[1;31m---------------------------------------------------------------------------\u001b[0m",
      "\u001b[1;31mNameError\u001b[0m                                 Traceback (most recent call last)",
      "\u001b[1;32m<ipython-input-25-9188554422bc>\u001b[0m in \u001b[0;36m<module>\u001b[1;34m()\u001b[0m\n\u001b[0;32m      1\u001b[0m \u001b[1;31m# This is erroring out...\u001b[0m\u001b[1;33m\u001b[0m\u001b[1;33m\u001b[0m\u001b[0m\n\u001b[0;32m      2\u001b[0m \u001b[1;31m# Train Adaboost Classifer\u001b[0m\u001b[1;33m\u001b[0m\u001b[1;33m\u001b[0m\u001b[0m\n\u001b[1;32m----> 3\u001b[1;33m \u001b[0mmodel\u001b[0m \u001b[1;33m=\u001b[0m \u001b[0mrscv_abc\u001b[0m\u001b[1;33m.\u001b[0m\u001b[0mfit\u001b[0m\u001b[1;33m(\u001b[0m\u001b[0mX_train\u001b[0m\u001b[1;33m,\u001b[0m \u001b[0my_train\u001b[0m\u001b[1;33m)\u001b[0m\u001b[1;33m\u001b[0m\u001b[0m\n\u001b[0m\u001b[0;32m      4\u001b[0m \u001b[1;33m\u001b[0m\u001b[0m\n\u001b[0;32m      5\u001b[0m \u001b[1;31m#Predict the response for test dataset\u001b[0m\u001b[1;33m\u001b[0m\u001b[1;33m\u001b[0m\u001b[0m\n",
      "\u001b[1;31mNameError\u001b[0m: name 'rscv_abc' is not defined"
     ]
    }
   ],
   "source": [
    "# This is erroring out...\n",
    "# Train Adaboost Classifer\n",
    "model = rscv_abc.fit(X_train, y_train)\n",
    "\n",
    "#Predict the response for test dataset\n",
    "y_pred = model.predict(X_test)\n",
    "\n",
    "print(\"Accuracy:\",metrics.accuracy_score(y_test, y_pred))"
   ]
  },
  {
   "cell_type": "code",
   "execution_count": null,
   "metadata": {},
   "outputs": [],
   "source": []
  }
 ],
 "metadata": {
  "kernelspec": {
   "display_name": "Python 3",
   "language": "python",
   "name": "python3"
  },
  "language_info": {
   "codemirror_mode": {
    "name": "ipython",
    "version": 3
   },
   "file_extension": ".py",
   "mimetype": "text/x-python",
   "name": "python",
   "nbconvert_exporter": "python",
   "pygments_lexer": "ipython3",
   "version": "3.7.0"
  }
 },
 "nbformat": 4,
 "nbformat_minor": 2
}
