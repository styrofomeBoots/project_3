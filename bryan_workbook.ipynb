{
 "cells": [
  {
   "cell_type": "code",
   "execution_count": 1,
   "metadata": {},
   "outputs": [],
   "source": [
    "#import dependencies\n",
    "import requests\n",
    "import time\n",
    "import sqlite3\n",
    "import warnings\n",
    "import numpy as np\n",
    "import pandas as pd\n",
    "import matplotlib.pyplot as plt\n",
    "from pprint import pprint as pp\n",
    "from bs4 import BeautifulSoup as bs\n",
    "from sklearn import decomposition\n",
    "from sklearn.model_selection import train_test_split, GridSearchCV, KFold\n",
    "from sklearn.preprocessing import StandardScaler, MinMaxScaler\n",
    "from sklearn.linear_model import LinearRegression, LogisticRegression\n",
    "from sklearn.metrics import mean_squared_error, r2_score, roc_curve, roc_auc_score, f1_score, precision_recall_curve, average_precision_score, auc\n",
    "from sklearn.svm import SVC, SVR\n",
    "from sklearn import svm\n",
    "from sklearn import metrics\n",
    "from tensorflow.keras.models import Sequential\n",
    "from tensorflow.keras.utils import to_categorical\n",
    "from tensorflow.keras.layers import Dense\n",
    "from matplotlib import pyplot\n",
    "from sklearn import tree\n",
    "from sklearn.ensemble import RandomForestClassifier\n",
    "from sklearn.feature_extraction.text import CountVectorizer\n",
    "from sklearn.svm import LinearSVC"
   ]
  },
  {
   "cell_type": "code",
   "execution_count": 2,
   "metadata": {},
   "outputs": [
    {
     "data": {
      "text/html": [
       "<div>\n",
       "<style scoped>\n",
       "    .dataframe tbody tr th:only-of-type {\n",
       "        vertical-align: middle;\n",
       "    }\n",
       "\n",
       "    .dataframe tbody tr th {\n",
       "        vertical-align: top;\n",
       "    }\n",
       "\n",
       "    .dataframe thead th {\n",
       "        text-align: right;\n",
       "    }\n",
       "</style>\n",
       "<table border=\"1\" class=\"dataframe\">\n",
       "  <thead>\n",
       "    <tr style=\"text-align: right;\">\n",
       "      <th></th>\n",
       "      <th>color</th>\n",
       "      <th>director_name</th>\n",
       "      <th>num_critic_for_reviews</th>\n",
       "      <th>duration</th>\n",
       "      <th>director_facebook_likes</th>\n",
       "      <th>actor_3_facebook_likes</th>\n",
       "      <th>actor_2_name</th>\n",
       "      <th>actor_1_facebook_likes</th>\n",
       "      <th>gross</th>\n",
       "      <th>genres</th>\n",
       "      <th>...</th>\n",
       "      <th>production_companies_count</th>\n",
       "      <th>genres_count</th>\n",
       "      <th>popularity</th>\n",
       "      <th>vote_count</th>\n",
       "      <th>vote_average</th>\n",
       "      <th>total_actor_starpower</th>\n",
       "      <th>release_month</th>\n",
       "      <th>holiday_month</th>\n",
       "      <th>tot_noms</th>\n",
       "      <th>tot_wins</th>\n",
       "    </tr>\n",
       "  </thead>\n",
       "  <tbody>\n",
       "    <tr>\n",
       "      <th>0</th>\n",
       "      <td>Color</td>\n",
       "      <td>James Cameron</td>\n",
       "      <td>723.0</td>\n",
       "      <td>178.0</td>\n",
       "      <td>0.0</td>\n",
       "      <td>855.0</td>\n",
       "      <td>Joel David Moore</td>\n",
       "      <td>1000.0</td>\n",
       "      <td>760505847.0</td>\n",
       "      <td>Action|Adventure|Fantasy|Sci-Fi</td>\n",
       "      <td>...</td>\n",
       "      <td>4.0</td>\n",
       "      <td>4</td>\n",
       "      <td>185.070892</td>\n",
       "      <td>12114.0</td>\n",
       "      <td>7.2</td>\n",
       "      <td>5.334665</td>\n",
       "      <td>12</td>\n",
       "      <td>1</td>\n",
       "      <td>0</td>\n",
       "      <td>0</td>\n",
       "    </tr>\n",
       "    <tr>\n",
       "      <th>1</th>\n",
       "      <td>Color</td>\n",
       "      <td>Stephen Sommers</td>\n",
       "      <td>106.0</td>\n",
       "      <td>106.0</td>\n",
       "      <td>208.0</td>\n",
       "      <td>855.0</td>\n",
       "      <td>Jason Flemyng</td>\n",
       "      <td>3000.0</td>\n",
       "      <td>11146409.0</td>\n",
       "      <td>Action|Adventure|Horror|Sci-Fi</td>\n",
       "      <td>...</td>\n",
       "      <td>3.0</td>\n",
       "      <td>4</td>\n",
       "      <td>6.922458</td>\n",
       "      <td>155.0</td>\n",
       "      <td>6.0</td>\n",
       "      <td>10.933174</td>\n",
       "      <td>01</td>\n",
       "      <td>0</td>\n",
       "      <td>0</td>\n",
       "      <td>0</td>\n",
       "    </tr>\n",
       "    <tr>\n",
       "      <th>2</th>\n",
       "      <td>Color</td>\n",
       "      <td>Terrence Malick</td>\n",
       "      <td>222.0</td>\n",
       "      <td>150.0</td>\n",
       "      <td>0.0</td>\n",
       "      <td>855.0</td>\n",
       "      <td>Michael Greyeyes</td>\n",
       "      <td>23000.0</td>\n",
       "      <td>12712093.0</td>\n",
       "      <td>Biography|Drama|History|Romance</td>\n",
       "      <td>...</td>\n",
       "      <td>5.0</td>\n",
       "      <td>3</td>\n",
       "      <td>7.694502</td>\n",
       "      <td>336.0</td>\n",
       "      <td>6.4</td>\n",
       "      <td>11.013046</td>\n",
       "      <td>12</td>\n",
       "      <td>1</td>\n",
       "      <td>0</td>\n",
       "      <td>0</td>\n",
       "    </tr>\n",
       "    <tr>\n",
       "      <th>3</th>\n",
       "      <td>Color</td>\n",
       "      <td>Brian Robbins</td>\n",
       "      <td>76.0</td>\n",
       "      <td>98.0</td>\n",
       "      <td>48.0</td>\n",
       "      <td>722.0</td>\n",
       "      <td>Joel David Moore</td>\n",
       "      <td>21000.0</td>\n",
       "      <td>61112916.0</td>\n",
       "      <td>Comedy|Family|Fantasy</td>\n",
       "      <td>...</td>\n",
       "      <td>3.0</td>\n",
       "      <td>2</td>\n",
       "      <td>4.878907</td>\n",
       "      <td>138.0</td>\n",
       "      <td>4.5</td>\n",
       "      <td>13.698882</td>\n",
       "      <td>03</td>\n",
       "      <td>0</td>\n",
       "      <td>1</td>\n",
       "      <td>0</td>\n",
       "    </tr>\n",
       "    <tr>\n",
       "      <th>4</th>\n",
       "      <td>Color</td>\n",
       "      <td>Brad Peyton</td>\n",
       "      <td>178.0</td>\n",
       "      <td>94.0</td>\n",
       "      <td>62.0</td>\n",
       "      <td>722.0</td>\n",
       "      <td>Dwayne Johnson</td>\n",
       "      <td>14000.0</td>\n",
       "      <td>103812241.0</td>\n",
       "      <td>Action|Adventure|Comedy|Family|Fantasy|Sci-Fi</td>\n",
       "      <td>...</td>\n",
       "      <td>3.0</td>\n",
       "      <td>3</td>\n",
       "      <td>9.46307</td>\n",
       "      <td>1050.0</td>\n",
       "      <td>5.8</td>\n",
       "      <td>6.475240</td>\n",
       "      <td>01</td>\n",
       "      <td>0</td>\n",
       "      <td>0</td>\n",
       "      <td>0</td>\n",
       "    </tr>\n",
       "  </tbody>\n",
       "</table>\n",
       "<p>5 rows × 49 columns</p>\n",
       "</div>"
      ],
      "text/plain": [
       "   color    director_name  num_critic_for_reviews  duration  \\\n",
       "0  Color    James Cameron                   723.0     178.0   \n",
       "1  Color  Stephen Sommers                   106.0     106.0   \n",
       "2  Color  Terrence Malick                   222.0     150.0   \n",
       "3  Color    Brian Robbins                    76.0      98.0   \n",
       "4  Color      Brad Peyton                   178.0      94.0   \n",
       "\n",
       "   director_facebook_likes  actor_3_facebook_likes      actor_2_name  \\\n",
       "0                      0.0                   855.0  Joel David Moore   \n",
       "1                    208.0                   855.0     Jason Flemyng   \n",
       "2                      0.0                   855.0  Michael Greyeyes   \n",
       "3                     48.0                   722.0  Joel David Moore   \n",
       "4                     62.0                   722.0    Dwayne Johnson   \n",
       "\n",
       "   actor_1_facebook_likes        gross  \\\n",
       "0                  1000.0  760505847.0   \n",
       "1                  3000.0   11146409.0   \n",
       "2                 23000.0   12712093.0   \n",
       "3                 21000.0   61112916.0   \n",
       "4                 14000.0  103812241.0   \n",
       "\n",
       "                                          genres   ...     \\\n",
       "0                Action|Adventure|Fantasy|Sci-Fi   ...      \n",
       "1                 Action|Adventure|Horror|Sci-Fi   ...      \n",
       "2                Biography|Drama|History|Romance   ...      \n",
       "3                          Comedy|Family|Fantasy   ...      \n",
       "4  Action|Adventure|Comedy|Family|Fantasy|Sci-Fi   ...      \n",
       "\n",
       "  production_companies_count genres_count  popularity  vote_count  \\\n",
       "0                        4.0            4  185.070892     12114.0   \n",
       "1                        3.0            4    6.922458       155.0   \n",
       "2                        5.0            3    7.694502       336.0   \n",
       "3                        3.0            2    4.878907       138.0   \n",
       "4                        3.0            3     9.46307      1050.0   \n",
       "\n",
       "  vote_average  total_actor_starpower release_month holiday_month  tot_noms  \\\n",
       "0          7.2               5.334665            12             1         0   \n",
       "1          6.0              10.933174            01             0         0   \n",
       "2          6.4              11.013046            12             1         0   \n",
       "3          4.5              13.698882            03             0         1   \n",
       "4          5.8               6.475240            01             0         0   \n",
       "\n",
       "  tot_wins  \n",
       "0        0  \n",
       "1        0  \n",
       "2        0  \n",
       "3        0  \n",
       "4        0  \n",
       "\n",
       "[5 rows x 49 columns]"
      ]
     },
     "execution_count": 2,
     "metadata": {},
     "output_type": "execute_result"
    }
   ],
   "source": [
    "# create connection to database\n",
    "warnings.filterwarnings('ignore')\n",
    "\n",
    "con = sqlite3.connect(\"db/movies.db\")\n",
    "sql = f\"\"\"\n",
    "   SELECT * FROM movie_data\n",
    "   \"\"\"\n",
    "\n",
    "# bring in db to pandas dataframe\n",
    "movieDf = pd.read_sql(sql, con)\n",
    "movieDf.head()"
   ]
  },
  {
   "cell_type": "code",
   "execution_count": 3,
   "metadata": {},
   "outputs": [
    {
     "name": "stdout",
     "output_type": "stream",
     "text": [
      "actor_1_facebook_likes\n",
      "actor_1_name\n",
      "actor_1_score\n",
      "actor_2_facebook_likes\n",
      "actor_2_name\n",
      "actor_2_score\n",
      "actor_3_facebook_likes\n",
      "actor_3_name\n",
      "actor_3_score\n",
      "aspect_ratio\n",
      "budget\n",
      "cast_total_facebook_likes\n",
      "color\n",
      "content_rating\n",
      "country\n",
      "director_facebook_likes\n",
      "director_name\n",
      "director_score\n",
      "duration\n",
      "facenumber_in_poster\n",
      "genres\n",
      "genres_count\n",
      "gross\n",
      "gross_margin\n",
      "holiday_month\n",
      "imdb_num_code\n",
      "imdb_score\n",
      "language\n",
      "movie_facebook_likes\n",
      "movie_imdb_link\n",
      "movie_title\n",
      "num_critic_for_reviews\n",
      "num_user_for_reviews\n",
      "num_voted_users\n",
      "plot_keywords\n",
      "popularity\n",
      "production_companies_count\n",
      "rating_numeric\n",
      "release_date\n",
      "release_month\n",
      "revenue\n",
      "success_bins\n",
      "successful\n",
      "title_year\n",
      "tot_noms\n",
      "tot_wins\n",
      "total_actor_starpower\n",
      "vote_average\n",
      "vote_count\n"
     ]
    }
   ],
   "source": [
    "# review columns\n",
    "for col in movieDf.columns.sort_values().values:\n",
    "    print(col)"
   ]
  },
  {
   "cell_type": "code",
   "execution_count": 4,
   "metadata": {},
   "outputs": [
    {
     "data": {
      "text/html": [
       "<div>\n",
       "<style scoped>\n",
       "    .dataframe tbody tr th:only-of-type {\n",
       "        vertical-align: middle;\n",
       "    }\n",
       "\n",
       "    .dataframe tbody tr th {\n",
       "        vertical-align: top;\n",
       "    }\n",
       "\n",
       "    .dataframe thead th {\n",
       "        text-align: right;\n",
       "    }\n",
       "</style>\n",
       "<table border=\"1\" class=\"dataframe\">\n",
       "  <thead>\n",
       "    <tr style=\"text-align: right;\">\n",
       "      <th></th>\n",
       "      <th>duration</th>\n",
       "      <th>facenumber_in_poster</th>\n",
       "      <th>rating_numeric</th>\n",
       "      <th>budget</th>\n",
       "      <th>revenue</th>\n",
       "      <th>gross_margin</th>\n",
       "      <th>successful</th>\n",
       "      <th>director_score</th>\n",
       "      <th>production_companies_count</th>\n",
       "      <th>total_actor_starpower</th>\n",
       "      <th>release_month</th>\n",
       "      <th>holiday_month</th>\n",
       "      <th>tot_wins</th>\n",
       "      <th>tot_noms</th>\n",
       "    </tr>\n",
       "  </thead>\n",
       "  <tbody>\n",
       "    <tr>\n",
       "      <th>0</th>\n",
       "      <td>178.0</td>\n",
       "      <td>0.0</td>\n",
       "      <td>3</td>\n",
       "      <td>237000000.0</td>\n",
       "      <td>523505847.0</td>\n",
       "      <td>0.688365</td>\n",
       "      <td>1</td>\n",
       "      <td>3.091853</td>\n",
       "      <td>4.0</td>\n",
       "      <td>5.334665</td>\n",
       "      <td>12</td>\n",
       "      <td>1</td>\n",
       "      <td>0</td>\n",
       "      <td>0</td>\n",
       "    </tr>\n",
       "    <tr>\n",
       "      <th>1</th>\n",
       "      <td>106.0</td>\n",
       "      <td>0.0</td>\n",
       "      <td>4</td>\n",
       "      <td>45000000.0</td>\n",
       "      <td>-33853591.0</td>\n",
       "      <td>-3.037175</td>\n",
       "      <td>0</td>\n",
       "      <td>1.766773</td>\n",
       "      <td>3.0</td>\n",
       "      <td>10.933174</td>\n",
       "      <td>01</td>\n",
       "      <td>0</td>\n",
       "      <td>0</td>\n",
       "      <td>0</td>\n",
       "    </tr>\n",
       "    <tr>\n",
       "      <th>2</th>\n",
       "      <td>150.0</td>\n",
       "      <td>0.0</td>\n",
       "      <td>3</td>\n",
       "      <td>30000000.0</td>\n",
       "      <td>-17287907.0</td>\n",
       "      <td>-1.359958</td>\n",
       "      <td>0</td>\n",
       "      <td>1.325080</td>\n",
       "      <td>5.0</td>\n",
       "      <td>11.013046</td>\n",
       "      <td>12</td>\n",
       "      <td>1</td>\n",
       "      <td>0</td>\n",
       "      <td>0</td>\n",
       "    </tr>\n",
       "    <tr>\n",
       "      <th>3</th>\n",
       "      <td>98.0</td>\n",
       "      <td>0.0</td>\n",
       "      <td>2</td>\n",
       "      <td>50000000.0</td>\n",
       "      <td>11112916.0</td>\n",
       "      <td>0.181842</td>\n",
       "      <td>1</td>\n",
       "      <td>2.650160</td>\n",
       "      <td>3.0</td>\n",
       "      <td>13.698882</td>\n",
       "      <td>03</td>\n",
       "      <td>0</td>\n",
       "      <td>0</td>\n",
       "      <td>1</td>\n",
       "    </tr>\n",
       "    <tr>\n",
       "      <th>4</th>\n",
       "      <td>94.0</td>\n",
       "      <td>3.0</td>\n",
       "      <td>2</td>\n",
       "      <td>79000000.0</td>\n",
       "      <td>24812241.0</td>\n",
       "      <td>0.239011</td>\n",
       "      <td>1</td>\n",
       "      <td>1.325080</td>\n",
       "      <td>3.0</td>\n",
       "      <td>6.475240</td>\n",
       "      <td>01</td>\n",
       "      <td>0</td>\n",
       "      <td>0</td>\n",
       "      <td>0</td>\n",
       "    </tr>\n",
       "    <tr>\n",
       "      <th>5</th>\n",
       "      <td>146.0</td>\n",
       "      <td>4.0</td>\n",
       "      <td>4</td>\n",
       "      <td>100000000.0</td>\n",
       "      <td>-4671063.0</td>\n",
       "      <td>-0.048999</td>\n",
       "      <td>0</td>\n",
       "      <td>0.441693</td>\n",
       "      <td>4.0</td>\n",
       "      <td>3.409212</td>\n",
       "      <td>05</td>\n",
       "      <td>0</td>\n",
       "      <td>1</td>\n",
       "      <td>2</td>\n",
       "    </tr>\n",
       "    <tr>\n",
       "      <th>6</th>\n",
       "      <td>90.0</td>\n",
       "      <td>0.0</td>\n",
       "      <td>3</td>\n",
       "      <td>25000000.0</td>\n",
       "      <td>-6139597.0</td>\n",
       "      <td>-0.325528</td>\n",
       "      <td>0</td>\n",
       "      <td>2.650160</td>\n",
       "      <td>1.0</td>\n",
       "      <td>2.816560</td>\n",
       "      <td>09</td>\n",
       "      <td>0</td>\n",
       "      <td>0</td>\n",
       "      <td>0</td>\n",
       "    </tr>\n",
       "    <tr>\n",
       "      <th>7</th>\n",
       "      <td>121.0</td>\n",
       "      <td>0.0</td>\n",
       "      <td>4</td>\n",
       "      <td>83000000.0</td>\n",
       "      <td>-16137932.0</td>\n",
       "      <td>-0.241362</td>\n",
       "      <td>0</td>\n",
       "      <td>2.208466</td>\n",
       "      <td>1.0</td>\n",
       "      <td>6.499734</td>\n",
       "      <td>11</td>\n",
       "      <td>1</td>\n",
       "      <td>0</td>\n",
       "      <td>0</td>\n",
       "    </tr>\n",
       "    <tr>\n",
       "      <th>8</th>\n",
       "      <td>101.0</td>\n",
       "      <td>1.0</td>\n",
       "      <td>4</td>\n",
       "      <td>42000000.0</td>\n",
       "      <td>-28791977.0</td>\n",
       "      <td>-2.179885</td>\n",
       "      <td>0</td>\n",
       "      <td>0.883387</td>\n",
       "      <td>8.0</td>\n",
       "      <td>3.409212</td>\n",
       "      <td>08</td>\n",
       "      <td>0</td>\n",
       "      <td>0</td>\n",
       "      <td>0</td>\n",
       "    </tr>\n",
       "    <tr>\n",
       "      <th>9</th>\n",
       "      <td>110.0</td>\n",
       "      <td>1.0</td>\n",
       "      <td>4</td>\n",
       "      <td>45000000.0</td>\n",
       "      <td>25001065.0</td>\n",
       "      <td>0.357153</td>\n",
       "      <td>1</td>\n",
       "      <td>0.883387</td>\n",
       "      <td>4.0</td>\n",
       "      <td>3.409212</td>\n",
       "      <td>08</td>\n",
       "      <td>0</td>\n",
       "      <td>0</td>\n",
       "      <td>0</td>\n",
       "    </tr>\n",
       "  </tbody>\n",
       "</table>\n",
       "</div>"
      ],
      "text/plain": [
       "   duration  facenumber_in_poster  rating_numeric       budget      revenue  \\\n",
       "0     178.0                   0.0               3  237000000.0  523505847.0   \n",
       "1     106.0                   0.0               4   45000000.0  -33853591.0   \n",
       "2     150.0                   0.0               3   30000000.0  -17287907.0   \n",
       "3      98.0                   0.0               2   50000000.0   11112916.0   \n",
       "4      94.0                   3.0               2   79000000.0   24812241.0   \n",
       "5     146.0                   4.0               4  100000000.0   -4671063.0   \n",
       "6      90.0                   0.0               3   25000000.0   -6139597.0   \n",
       "7     121.0                   0.0               4   83000000.0  -16137932.0   \n",
       "8     101.0                   1.0               4   42000000.0  -28791977.0   \n",
       "9     110.0                   1.0               4   45000000.0   25001065.0   \n",
       "\n",
       "   gross_margin  successful  director_score  production_companies_count  \\\n",
       "0      0.688365           1        3.091853                         4.0   \n",
       "1     -3.037175           0        1.766773                         3.0   \n",
       "2     -1.359958           0        1.325080                         5.0   \n",
       "3      0.181842           1        2.650160                         3.0   \n",
       "4      0.239011           1        1.325080                         3.0   \n",
       "5     -0.048999           0        0.441693                         4.0   \n",
       "6     -0.325528           0        2.650160                         1.0   \n",
       "7     -0.241362           0        2.208466                         1.0   \n",
       "8     -2.179885           0        0.883387                         8.0   \n",
       "9      0.357153           1        0.883387                         4.0   \n",
       "\n",
       "   total_actor_starpower release_month  holiday_month  tot_wins  tot_noms  \n",
       "0               5.334665            12              1         0         0  \n",
       "1              10.933174            01              0         0         0  \n",
       "2              11.013046            12              1         0         0  \n",
       "3              13.698882            03              0         0         1  \n",
       "4               6.475240            01              0         0         0  \n",
       "5               3.409212            05              0         1         2  \n",
       "6               2.816560            09              0         0         0  \n",
       "7               6.499734            11              1         0         0  \n",
       "8               3.409212            08              0         0         0  \n",
       "9               3.409212            08              0         0         0  "
      ]
     },
     "execution_count": 4,
     "metadata": {},
     "output_type": "execute_result"
    }
   ],
   "source": [
    "# create table for model purposes\n",
    "modelDf = movieDf[[\"duration\",\"facenumber_in_poster\",\"rating_numeric\",\"budget\",\"revenue\",\"gross_margin\", \n",
    "                   \"successful\",\"director_score\",\"production_companies_count\",\"total_actor_starpower\",\"release_month\",\n",
    "                   \"holiday_month\",\"tot_wins\",\"tot_noms\"]]\n",
    "modelDf = modelDf.dropna()\n",
    "modelDf.head(10)"
   ]
  },
  {
   "cell_type": "code",
   "execution_count": 10,
   "metadata": {},
   "outputs": [
    {
     "data": {
      "text/plain": [
       "1    1950\n",
       "0    1687\n",
       "Name: successful, dtype: int64"
      ]
     },
     "execution_count": 10,
     "metadata": {},
     "output_type": "execute_result"
    }
   ],
   "source": [
    "modelDf[\"successful\"].value_counts()"
   ]
  },
  {
   "cell_type": "code",
   "execution_count": 11,
   "metadata": {},
   "outputs": [
    {
     "name": "stdout",
     "output_type": "stream",
     "text": [
      "(3637, 9) (3637, 1)\n"
     ]
    }
   ],
   "source": [
    "# Assign X (data) and y (target)\n",
    "X = modelDf[[\"duration\",\"release_month\",\"rating_numeric\",\"director_score\",\"production_companies_count\",\"total_actor_starpower\",\n",
    "             \"tot_wins\",\"tot_noms\",\"holiday_month\"]]\n",
    "y = modelDf[\"successful\"].values.reshape(-1, 1)\n",
    "print(X.shape, y.shape)"
   ]
  },
  {
   "cell_type": "code",
   "execution_count": 12,
   "metadata": {},
   "outputs": [],
   "source": [
    "# split the training and testing data\n",
    "X_train, X_test, y_train, y_test = train_test_split(X, y, random_state=1158, train_size=0.75, stratify=y)\n",
    "\n",
    "# Create a StandardScater model and fit it to the training data\n",
    "X_scaler = StandardScaler().fit(X_train)"
   ]
  },
  {
   "cell_type": "code",
   "execution_count": 13,
   "metadata": {},
   "outputs": [
    {
     "data": {
      "text/plain": [
       "1    488\n",
       "0    422\n",
       "Name: 0, dtype: int64"
      ]
     },
     "execution_count": 13,
     "metadata": {},
     "output_type": "execute_result"
    }
   ],
   "source": [
    "pd.DataFrame(y_test)[0].value_counts()"
   ]
  },
  {
   "cell_type": "code",
   "execution_count": 14,
   "metadata": {},
   "outputs": [],
   "source": [
    "# transform the data\n",
    "X_train_scaled = X_scaler.transform(X_train)\n",
    "X_test_scaled = X_scaler.transform(X_test)"
   ]
  },
  {
   "cell_type": "markdown",
   "metadata": {},
   "source": [
    "# Logistic Regression Model "
   ]
  },
  {
   "cell_type": "code",
   "execution_count": 24,
   "metadata": {},
   "outputs": [
    {
     "data": {
      "text/plain": [
       "LogisticRegression(C=1.0, class_weight=None, dual=False, fit_intercept=True,\n",
       "                   intercept_scaling=1, l1_ratio=None, max_iter=100,\n",
       "                   multi_class='warn', n_jobs=None, penalty='l2',\n",
       "                   random_state=None, solver='warn', tol=0.0001, verbose=0,\n",
       "                   warm_start=False)"
      ]
     },
     "execution_count": 24,
     "metadata": {},
     "output_type": "execute_result"
    }
   ],
   "source": [
    "#build logistic model \n",
    "model = LogisticRegression()\n",
    "\n",
    "#fit on training data\n",
    "model.fit(X_train_scaled, y_train)"
   ]
  },
  {
   "cell_type": "code",
   "execution_count": 25,
   "metadata": {},
   "outputs": [
    {
     "name": "stdout",
     "output_type": "stream",
     "text": [
      "testing_score: 0.5563186813186813\n"
     ]
    }
   ],
   "source": [
    "# Use our model to predict a value\n",
    "predicted = model.predict(X_test_scaled)\n",
    "\n",
    "# Score the prediction with mse and r2\n",
    "mse = mean_squared_error(y_test, predicted)\n",
    "r2 = r2_score(y_test, predicted)\n",
    "testing_score = model.score(X_test_scaled,y_test)\n",
    "\n",
    "print(f\"testing_score: {testing_score}\")"
   ]
  },
  {
   "cell_type": "markdown",
   "metadata": {},
   "source": [
    "# Deep Neural Network"
   ]
  },
  {
   "cell_type": "code",
   "execution_count": 144,
   "metadata": {},
   "outputs": [],
   "source": [
    "# creating the empty squential network\n",
    "modelNN = Sequential()"
   ]
  },
  {
   "cell_type": "code",
   "execution_count": 145,
   "metadata": {},
   "outputs": [],
   "source": [
    "# Add the first layer where the input dimensions are features used in the model\n",
    "modelNN.add(Dense(units=21, activation='relu', input_dim=7))"
   ]
  },
  {
   "cell_type": "code",
   "execution_count": 146,
   "metadata": {},
   "outputs": [],
   "source": [
    "# Add the hidden layer\n",
    "modelNN.add(Dense(units=21, activation='relu'))\n",
    "\n",
    "# another layer\n",
    "modelNN.add(Dense(units=21, activation='relu'))"
   ]
  },
  {
   "cell_type": "code",
   "execution_count": 147,
   "metadata": {},
   "outputs": [],
   "source": [
    "# Add output layer, 2 units for \"classes\" of output, i.e. Yes or No \n",
    "modelNN.add(Dense(units=2, activation='softmax'))"
   ]
  },
  {
   "cell_type": "code",
   "execution_count": 151,
   "metadata": {},
   "outputs": [],
   "source": [
    "# Compile the model using the adaptive learning rate optimizer \"adam\", spare_categorical_crossentropy\n",
    "# for the loss function since we did not one-hot encode the labels and used accuracy for the training metrics.\n",
    "modelNN.compile(optimizer='adam',\n",
    "              loss='sparse_categorical_crossentropy',\n",
    "              metrics=['accuracy'])"
   ]
  },
  {
   "cell_type": "code",
   "execution_count": 152,
   "metadata": {},
   "outputs": [
    {
     "name": "stdout",
     "output_type": "stream",
     "text": [
      "Epoch 1/300\n",
      " - 0s - loss: 0.5136 - acc: 0.7308\n",
      "Epoch 2/300\n",
      " - 0s - loss: 0.5127 - acc: 0.7298\n",
      "Epoch 3/300\n",
      " - 0s - loss: 0.5072 - acc: 0.7363\n",
      "Epoch 4/300\n",
      " - 0s - loss: 0.5106 - acc: 0.7298\n",
      "Epoch 5/300\n",
      " - 0s - loss: 0.5107 - acc: 0.7336\n",
      "Epoch 6/300\n",
      " - 0s - loss: 0.5082 - acc: 0.7264\n",
      "Epoch 7/300\n",
      " - 0s - loss: 0.5079 - acc: 0.7370\n",
      "Epoch 8/300\n",
      " - 0s - loss: 0.5080 - acc: 0.7367\n",
      "Epoch 9/300\n",
      " - 0s - loss: 0.5117 - acc: 0.7243\n",
      "Epoch 10/300\n",
      " - 0s - loss: 0.5058 - acc: 0.7360\n",
      "Epoch 11/300\n",
      " - 0s - loss: 0.5105 - acc: 0.7387\n",
      "Epoch 12/300\n",
      " - 0s - loss: 0.5086 - acc: 0.7336\n",
      "Epoch 13/300\n",
      " - 0s - loss: 0.5057 - acc: 0.7363\n",
      "Epoch 14/300\n",
      " - 0s - loss: 0.5039 - acc: 0.7332\n",
      "Epoch 15/300\n",
      " - 0s - loss: 0.5083 - acc: 0.7277\n",
      "Epoch 16/300\n",
      " - 0s - loss: 0.5082 - acc: 0.7336\n",
      "Epoch 17/300\n",
      " - 0s - loss: 0.5043 - acc: 0.7295\n",
      "Epoch 18/300\n",
      " - 0s - loss: 0.5053 - acc: 0.7363\n",
      "Epoch 19/300\n",
      " - 0s - loss: 0.5051 - acc: 0.7370\n",
      "Epoch 20/300\n",
      " - 0s - loss: 0.5044 - acc: 0.7370\n",
      "Epoch 21/300\n",
      " - 0s - loss: 0.5054 - acc: 0.7315\n",
      "Epoch 22/300\n",
      " - 0s - loss: 0.4996 - acc: 0.7425\n",
      "Epoch 23/300\n",
      " - 0s - loss: 0.5009 - acc: 0.7387\n",
      "Epoch 24/300\n",
      " - 0s - loss: 0.5037 - acc: 0.7332\n",
      "Epoch 25/300\n",
      " - 0s - loss: 0.5019 - acc: 0.7312\n",
      "Epoch 26/300\n",
      " - 0s - loss: 0.5010 - acc: 0.7332\n",
      "Epoch 27/300\n",
      " - 0s - loss: 0.5029 - acc: 0.7411\n",
      "Epoch 28/300\n",
      " - 0s - loss: 0.5036 - acc: 0.7363\n",
      "Epoch 29/300\n",
      " - 0s - loss: 0.5038 - acc: 0.7288\n",
      "Epoch 30/300\n",
      " - 0s - loss: 0.4995 - acc: 0.7398\n",
      "Epoch 31/300\n",
      " - 0s - loss: 0.5021 - acc: 0.7384\n",
      "Epoch 32/300\n",
      " - 0s - loss: 0.4986 - acc: 0.7405\n",
      "Epoch 33/300\n",
      " - 0s - loss: 0.5001 - acc: 0.7367\n",
      "Epoch 34/300\n",
      " - 0s - loss: 0.4987 - acc: 0.7363\n",
      "Epoch 35/300\n",
      " - 0s - loss: 0.5008 - acc: 0.7411\n",
      "Epoch 36/300\n",
      " - 0s - loss: 0.5009 - acc: 0.7415\n",
      "Epoch 37/300\n",
      " - 0s - loss: 0.5001 - acc: 0.7384\n",
      "Epoch 38/300\n",
      " - 0s - loss: 0.4957 - acc: 0.7436\n",
      "Epoch 39/300\n",
      " - 0s - loss: 0.5042 - acc: 0.7350\n",
      "Epoch 40/300\n",
      " - 0s - loss: 0.4966 - acc: 0.7367\n",
      "Epoch 41/300\n",
      " - 0s - loss: 0.4930 - acc: 0.7449\n",
      "Epoch 42/300\n",
      " - 0s - loss: 0.4959 - acc: 0.7429\n",
      "Epoch 43/300\n",
      " - 0s - loss: 0.4940 - acc: 0.7449\n",
      "Epoch 44/300\n",
      " - 0s - loss: 0.4933 - acc: 0.7460\n",
      "Epoch 45/300\n",
      " - 0s - loss: 0.4921 - acc: 0.7477\n",
      "Epoch 46/300\n",
      " - 0s - loss: 0.4962 - acc: 0.7439\n",
      "Epoch 47/300\n",
      " - 0s - loss: 0.4940 - acc: 0.7473\n",
      "Epoch 48/300\n",
      " - 0s - loss: 0.4954 - acc: 0.7497\n",
      "Epoch 49/300\n",
      " - 0s - loss: 0.4912 - acc: 0.7446\n",
      "Epoch 50/300\n",
      " - 0s - loss: 0.4896 - acc: 0.7456\n",
      "Epoch 51/300\n",
      " - 0s - loss: 0.4974 - acc: 0.7442\n",
      "Epoch 52/300\n",
      " - 0s - loss: 0.4933 - acc: 0.7460\n",
      "Epoch 53/300\n",
      " - 0s - loss: 0.4938 - acc: 0.7484\n",
      "Epoch 54/300\n",
      " - 0s - loss: 0.4879 - acc: 0.7439\n",
      "Epoch 55/300\n",
      " - 0s - loss: 0.4901 - acc: 0.7466\n",
      "Epoch 56/300\n",
      " - 0s - loss: 0.4916 - acc: 0.7439\n",
      "Epoch 57/300\n",
      " - 0s - loss: 0.4891 - acc: 0.7391\n",
      "Epoch 58/300\n",
      " - 0s - loss: 0.4853 - acc: 0.7532\n",
      "Epoch 59/300\n",
      " - 0s - loss: 0.4865 - acc: 0.7473\n",
      "Epoch 60/300\n",
      " - 0s - loss: 0.4961 - acc: 0.7360\n",
      "Epoch 61/300\n",
      " - 0s - loss: 0.4878 - acc: 0.7446\n",
      "Epoch 62/300\n",
      " - 0s - loss: 0.4901 - acc: 0.7442\n",
      "Epoch 63/300\n",
      " - 0s - loss: 0.4876 - acc: 0.7521\n",
      "Epoch 64/300\n",
      " - 0s - loss: 0.4899 - acc: 0.7515\n",
      "Epoch 65/300\n",
      " - 0s - loss: 0.4912 - acc: 0.7477\n",
      "Epoch 66/300\n",
      " - 0s - loss: 0.4895 - acc: 0.7415\n",
      "Epoch 67/300\n",
      " - 0s - loss: 0.4822 - acc: 0.7487\n",
      "Epoch 68/300\n",
      " - 0s - loss: 0.4866 - acc: 0.7446\n",
      "Epoch 69/300\n",
      " - 0s - loss: 0.4888 - acc: 0.7470\n",
      "Epoch 70/300\n",
      " - 0s - loss: 0.4894 - acc: 0.7442\n",
      "Epoch 71/300\n",
      " - 0s - loss: 0.4869 - acc: 0.7504\n",
      "Epoch 72/300\n",
      " - 0s - loss: 0.4837 - acc: 0.7518\n",
      "Epoch 73/300\n",
      " - 0s - loss: 0.4877 - acc: 0.7432\n",
      "Epoch 74/300\n",
      " - 0s - loss: 0.4863 - acc: 0.7456\n",
      "Epoch 75/300\n",
      " - 0s - loss: 0.4853 - acc: 0.7497\n",
      "Epoch 76/300\n",
      " - 0s - loss: 0.4828 - acc: 0.7576\n",
      "Epoch 77/300\n",
      " - 0s - loss: 0.4828 - acc: 0.7487\n",
      "Epoch 78/300\n",
      " - 0s - loss: 0.4846 - acc: 0.7504\n",
      "Epoch 79/300\n",
      " - 0s - loss: 0.4824 - acc: 0.7463\n",
      "Epoch 80/300\n",
      " - 0s - loss: 0.4848 - acc: 0.7484\n",
      "Epoch 81/300\n",
      " - 0s - loss: 0.4748 - acc: 0.7501\n",
      "Epoch 82/300\n",
      " - 0s - loss: 0.4810 - acc: 0.7576\n",
      "Epoch 83/300\n",
      " - 0s - loss: 0.4810 - acc: 0.7556\n",
      "Epoch 84/300\n",
      " - 0s - loss: 0.4767 - acc: 0.7563\n",
      "Epoch 85/300\n",
      " - 0s - loss: 0.4795 - acc: 0.7539\n",
      "Epoch 86/300\n",
      " - 0s - loss: 0.4786 - acc: 0.7487\n",
      "Epoch 87/300\n",
      " - 0s - loss: 0.4751 - acc: 0.7566\n",
      "Epoch 88/300\n",
      " - 0s - loss: 0.4789 - acc: 0.7601\n",
      "Epoch 89/300\n",
      " - 0s - loss: 0.4767 - acc: 0.7525\n",
      "Epoch 90/300\n",
      " - 0s - loss: 0.4811 - acc: 0.7511\n",
      "Epoch 91/300\n",
      " - 0s - loss: 0.4798 - acc: 0.7477\n",
      "Epoch 92/300\n",
      " - 0s - loss: 0.4841 - acc: 0.7466\n",
      "Epoch 93/300\n",
      " - 0s - loss: 0.4770 - acc: 0.7491\n",
      "Epoch 94/300\n",
      " - 0s - loss: 0.4779 - acc: 0.7521\n",
      "Epoch 95/300\n",
      " - 0s - loss: 0.4733 - acc: 0.7535\n",
      "Epoch 96/300\n",
      " - 0s - loss: 0.4763 - acc: 0.7542\n",
      "Epoch 97/300\n",
      " - 0s - loss: 0.4761 - acc: 0.7587\n",
      "Epoch 98/300\n",
      " - 0s - loss: 0.4762 - acc: 0.7573\n",
      "Epoch 99/300\n",
      " - 0s - loss: 0.4797 - acc: 0.7504\n",
      "Epoch 100/300\n",
      " - 0s - loss: 0.4763 - acc: 0.7542\n",
      "Epoch 101/300\n",
      " - 0s - loss: 0.4754 - acc: 0.7552\n",
      "Epoch 102/300\n",
      " - 0s - loss: 0.4719 - acc: 0.7570\n",
      "Epoch 103/300\n",
      " - 0s - loss: 0.4737 - acc: 0.7549\n",
      "Epoch 104/300\n",
      " - 0s - loss: 0.4709 - acc: 0.7573\n",
      "Epoch 105/300\n",
      " - 0s - loss: 0.4710 - acc: 0.7552\n",
      "Epoch 106/300\n",
      " - 0s - loss: 0.4720 - acc: 0.7552\n",
      "Epoch 107/300\n",
      " - 0s - loss: 0.4690 - acc: 0.7576\n",
      "Epoch 108/300\n",
      " - 0s - loss: 0.4717 - acc: 0.7649\n",
      "Epoch 109/300\n",
      " - 0s - loss: 0.4716 - acc: 0.7563\n",
      "Epoch 110/300\n",
      " - 0s - loss: 0.4717 - acc: 0.7566\n",
      "Epoch 111/300\n",
      " - 0s - loss: 0.4724 - acc: 0.7594\n",
      "Epoch 112/300\n",
      " - 0s - loss: 0.4725 - acc: 0.7542\n",
      "Epoch 113/300\n",
      " - 0s - loss: 0.4698 - acc: 0.7559\n",
      "Epoch 114/300\n",
      " - 0s - loss: 0.4703 - acc: 0.7570\n",
      "Epoch 115/300\n",
      " - 0s - loss: 0.4681 - acc: 0.7635\n",
      "Epoch 116/300\n",
      " - 0s - loss: 0.4681 - acc: 0.7662\n",
      "Epoch 117/300\n",
      " - 0s - loss: 0.4655 - acc: 0.7676\n",
      "Epoch 118/300\n",
      " - 0s - loss: 0.4678 - acc: 0.7614\n",
      "Epoch 119/300\n",
      " - 0s - loss: 0.4666 - acc: 0.7621\n",
      "Epoch 120/300\n",
      " - 0s - loss: 0.4729 - acc: 0.7597\n",
      "Epoch 121/300\n",
      " - 0s - loss: 0.4716 - acc: 0.7625\n",
      "Epoch 122/300\n",
      " - 0s - loss: 0.4748 - acc: 0.7587\n",
      "Epoch 123/300\n",
      " - 0s - loss: 0.4728 - acc: 0.7559\n",
      "Epoch 124/300\n",
      " - 0s - loss: 0.4685 - acc: 0.7645\n",
      "Epoch 125/300\n",
      " - 0s - loss: 0.4724 - acc: 0.7521\n",
      "Epoch 126/300\n",
      " - 0s - loss: 0.4654 - acc: 0.7656\n",
      "Epoch 127/300\n",
      " - 0s - loss: 0.4715 - acc: 0.7546\n",
      "Epoch 128/300\n",
      " - 0s - loss: 0.4654 - acc: 0.7580\n",
      "Epoch 129/300\n",
      " - 0s - loss: 0.4606 - acc: 0.7656\n",
      "Epoch 130/300\n",
      " - 0s - loss: 0.4705 - acc: 0.7590\n",
      "Epoch 131/300\n",
      " - 0s - loss: 0.4668 - acc: 0.7611\n",
      "Epoch 132/300\n",
      " - 0s - loss: 0.4629 - acc: 0.7680\n",
      "Epoch 133/300\n",
      " - 0s - loss: 0.4648 - acc: 0.7607\n",
      "Epoch 134/300\n",
      " - 0s - loss: 0.4641 - acc: 0.7686\n",
      "Epoch 135/300\n",
      " - 0s - loss: 0.4645 - acc: 0.7618\n",
      "Epoch 136/300\n",
      " - 0s - loss: 0.4607 - acc: 0.7676\n",
      "Epoch 137/300\n",
      " - 0s - loss: 0.4637 - acc: 0.7580\n",
      "Epoch 138/300\n",
      " - 0s - loss: 0.4663 - acc: 0.7611\n",
      "Epoch 139/300\n",
      " - 0s - loss: 0.4635 - acc: 0.7635\n",
      "Epoch 140/300\n",
      " - 0s - loss: 0.4667 - acc: 0.7693\n",
      "Epoch 141/300\n",
      " - 0s - loss: 0.4590 - acc: 0.7597\n",
      "Epoch 142/300\n",
      " - 0s - loss: 0.4576 - acc: 0.7666\n",
      "Epoch 143/300\n",
      " - 0s - loss: 0.4617 - acc: 0.7683\n",
      "Epoch 144/300\n",
      " - 0s - loss: 0.4673 - acc: 0.7642\n",
      "Epoch 145/300\n",
      " - 0s - loss: 0.4591 - acc: 0.7625\n",
      "Epoch 146/300\n",
      " - 0s - loss: 0.4587 - acc: 0.7631\n",
      "Epoch 147/300\n",
      " - 0s - loss: 0.4568 - acc: 0.7673\n",
      "Epoch 148/300\n",
      " - 0s - loss: 0.4616 - acc: 0.7614\n",
      "Epoch 149/300\n",
      " - 0s - loss: 0.4597 - acc: 0.7724\n",
      "Epoch 150/300\n",
      " - 0s - loss: 0.4597 - acc: 0.7711\n",
      "Epoch 151/300\n",
      " - 0s - loss: 0.4590 - acc: 0.7656\n",
      "Epoch 152/300\n",
      " - 0s - loss: 0.4558 - acc: 0.7690\n",
      "Epoch 153/300\n",
      " - 0s - loss: 0.4599 - acc: 0.7683\n",
      "Epoch 154/300\n",
      " - 0s - loss: 0.4551 - acc: 0.7669\n",
      "Epoch 155/300\n",
      " - 0s - loss: 0.4574 - acc: 0.7652\n",
      "Epoch 156/300\n",
      " - 0s - loss: 0.4536 - acc: 0.7618\n",
      "Epoch 157/300\n",
      " - 0s - loss: 0.4558 - acc: 0.7731\n",
      "Epoch 158/300\n",
      " - 0s - loss: 0.4588 - acc: 0.7656\n",
      "Epoch 159/300\n",
      " - 0s - loss: 0.4555 - acc: 0.7690\n",
      "Epoch 160/300\n",
      " - 0s - loss: 0.4556 - acc: 0.7625\n",
      "Epoch 161/300\n",
      " - 0s - loss: 0.4566 - acc: 0.7635\n",
      "Epoch 162/300\n",
      " - 0s - loss: 0.4554 - acc: 0.7721\n",
      "Epoch 163/300\n",
      " - 0s - loss: 0.4563 - acc: 0.7690\n",
      "Epoch 164/300\n",
      " - 0s - loss: 0.4545 - acc: 0.7662\n",
      "Epoch 165/300\n",
      " - 0s - loss: 0.4544 - acc: 0.7673\n",
      "Epoch 166/300\n",
      " - 0s - loss: 0.4558 - acc: 0.7721\n",
      "Epoch 167/300\n",
      " - 0s - loss: 0.4533 - acc: 0.7724\n",
      "Epoch 168/300\n",
      " - 0s - loss: 0.4525 - acc: 0.7693\n",
      "Epoch 169/300\n",
      " - 0s - loss: 0.4528 - acc: 0.7724\n",
      "Epoch 170/300\n",
      " - 0s - loss: 0.4516 - acc: 0.7735\n"
     ]
    },
    {
     "name": "stdout",
     "output_type": "stream",
     "text": [
      "Epoch 171/300\n",
      " - 0s - loss: 0.4532 - acc: 0.7728\n",
      "Epoch 172/300\n",
      " - 0s - loss: 0.4547 - acc: 0.7731\n",
      "Epoch 173/300\n",
      " - 0s - loss: 0.4491 - acc: 0.7766\n",
      "Epoch 174/300\n",
      " - 0s - loss: 0.4484 - acc: 0.7731\n",
      "Epoch 175/300\n",
      " - 0s - loss: 0.4551 - acc: 0.7745\n",
      "Epoch 176/300\n",
      " - 0s - loss: 0.4555 - acc: 0.7690\n",
      "Epoch 177/300\n",
      " - 0s - loss: 0.4588 - acc: 0.7704\n",
      "Epoch 178/300\n",
      " - 0s - loss: 0.4562 - acc: 0.7642\n",
      "Epoch 179/300\n",
      " - 0s - loss: 0.4498 - acc: 0.7700\n",
      "Epoch 180/300\n",
      " - 0s - loss: 0.4480 - acc: 0.7728\n",
      "Epoch 181/300\n",
      " - 0s - loss: 0.4484 - acc: 0.7772\n",
      "Epoch 182/300\n",
      " - 0s - loss: 0.4540 - acc: 0.7697\n",
      "Epoch 183/300\n",
      " - 0s - loss: 0.4472 - acc: 0.7783\n",
      "Epoch 184/300\n",
      " - 0s - loss: 0.4510 - acc: 0.7669\n",
      "Epoch 185/300\n",
      " - 0s - loss: 0.4521 - acc: 0.7752\n",
      "Epoch 186/300\n",
      " - 0s - loss: 0.4476 - acc: 0.7755\n",
      "Epoch 187/300\n",
      " - 0s - loss: 0.4454 - acc: 0.7748\n",
      "Epoch 188/300\n",
      " - 0s - loss: 0.4507 - acc: 0.7772\n",
      "Epoch 189/300\n",
      " - 0s - loss: 0.4501 - acc: 0.7793\n",
      "Epoch 190/300\n",
      " - 0s - loss: 0.4472 - acc: 0.7721\n",
      "Epoch 191/300\n",
      " - 0s - loss: 0.4438 - acc: 0.7769\n",
      "Epoch 192/300\n",
      " - 0s - loss: 0.4471 - acc: 0.7631\n",
      "Epoch 193/300\n",
      " - 0s - loss: 0.4516 - acc: 0.7724\n",
      "Epoch 194/300\n",
      " - 0s - loss: 0.4503 - acc: 0.7779\n",
      "Epoch 195/300\n",
      " - 0s - loss: 0.4486 - acc: 0.7762\n",
      "Epoch 196/300\n",
      " - 0s - loss: 0.4454 - acc: 0.7769\n",
      "Epoch 197/300\n",
      " - 0s - loss: 0.4466 - acc: 0.7766\n",
      "Epoch 198/300\n",
      " - 0s - loss: 0.4477 - acc: 0.7745\n",
      "Epoch 199/300\n",
      " - 0s - loss: 0.4431 - acc: 0.7803\n",
      "Epoch 200/300\n",
      " - 0s - loss: 0.4476 - acc: 0.7810\n",
      "Epoch 201/300\n",
      " - 0s - loss: 0.4446 - acc: 0.7807\n",
      "Epoch 202/300\n",
      " - 0s - loss: 0.4415 - acc: 0.7803\n",
      "Epoch 203/300\n",
      " - 0s - loss: 0.4466 - acc: 0.7814\n",
      "Epoch 204/300\n",
      " - 0s - loss: 0.4450 - acc: 0.7752\n",
      "Epoch 205/300\n",
      " - 0s - loss: 0.4486 - acc: 0.7735\n",
      "Epoch 206/300\n",
      " - 0s - loss: 0.4399 - acc: 0.7793\n",
      "Epoch 207/300\n",
      " - 0s - loss: 0.4444 - acc: 0.7759\n",
      "Epoch 208/300\n",
      " - 0s - loss: 0.4494 - acc: 0.7683\n",
      "Epoch 209/300\n",
      " - 0s - loss: 0.4470 - acc: 0.7748\n",
      "Epoch 210/300\n",
      " - 0s - loss: 0.4457 - acc: 0.7735\n",
      "Epoch 211/300\n",
      " - 0s - loss: 0.4447 - acc: 0.7769\n",
      "Epoch 212/300\n",
      " - 0s - loss: 0.4432 - acc: 0.7700\n",
      "Epoch 213/300\n",
      " - 0s - loss: 0.4404 - acc: 0.7841\n",
      "Epoch 214/300\n",
      " - 0s - loss: 0.4413 - acc: 0.7796\n",
      "Epoch 215/300\n",
      " - 0s - loss: 0.4518 - acc: 0.7700\n",
      "Epoch 216/300\n",
      " - 0s - loss: 0.4370 - acc: 0.7886\n",
      "Epoch 217/300\n",
      " - 0s - loss: 0.4426 - acc: 0.7779\n",
      "Epoch 218/300\n",
      " - 0s - loss: 0.4413 - acc: 0.7793\n",
      "Epoch 219/300\n",
      " - 0s - loss: 0.4393 - acc: 0.7814\n",
      "Epoch 220/300\n",
      " - 0s - loss: 0.4409 - acc: 0.7824\n",
      "Epoch 221/300\n",
      " - 0s - loss: 0.4446 - acc: 0.7752\n",
      "Epoch 222/300\n",
      " - 0s - loss: 0.4421 - acc: 0.7724\n",
      "Epoch 223/300\n",
      " - 0s - loss: 0.4382 - acc: 0.7841\n",
      "Epoch 224/300\n",
      " - 0s - loss: 0.4423 - acc: 0.7803\n",
      "Epoch 225/300\n",
      " - 0s - loss: 0.4376 - acc: 0.7827\n",
      "Epoch 226/300\n",
      " - 0s - loss: 0.4415 - acc: 0.7817\n",
      "Epoch 227/300\n",
      " - 0s - loss: 0.4386 - acc: 0.7748\n",
      "Epoch 228/300\n",
      " - 0s - loss: 0.4388 - acc: 0.7779\n",
      "Epoch 229/300\n",
      " - 0s - loss: 0.4440 - acc: 0.7741\n",
      "Epoch 230/300\n",
      " - 0s - loss: 0.4339 - acc: 0.7896\n",
      "Epoch 231/300\n",
      " - 0s - loss: 0.4394 - acc: 0.7855\n",
      "Epoch 232/300\n",
      " - 0s - loss: 0.4416 - acc: 0.7817\n",
      "Epoch 233/300\n",
      " - 0s - loss: 0.4382 - acc: 0.7858\n",
      "Epoch 234/300\n",
      " - 0s - loss: 0.4354 - acc: 0.7831\n",
      "Epoch 235/300\n",
      " - 0s - loss: 0.4396 - acc: 0.7862\n",
      "Epoch 236/300\n",
      " - 0s - loss: 0.4340 - acc: 0.7796\n",
      "Epoch 237/300\n",
      " - 0s - loss: 0.4409 - acc: 0.7772\n",
      "Epoch 238/300\n",
      " - 0s - loss: 0.4332 - acc: 0.7838\n",
      "Epoch 239/300\n",
      " - 0s - loss: 0.4343 - acc: 0.7779\n",
      "Epoch 240/300\n",
      " - 0s - loss: 0.4443 - acc: 0.7738\n",
      "Epoch 241/300\n",
      " - 0s - loss: 0.4376 - acc: 0.7810\n",
      "Epoch 242/300\n",
      " - 0s - loss: 0.4330 - acc: 0.7869\n",
      "Epoch 243/300\n",
      " - 0s - loss: 0.4354 - acc: 0.7731\n",
      "Epoch 244/300\n",
      " - 0s - loss: 0.4371 - acc: 0.7800\n",
      "Epoch 245/300\n",
      " - 0s - loss: 0.4334 - acc: 0.7900\n",
      "Epoch 246/300\n",
      " - 0s - loss: 0.4347 - acc: 0.7831\n",
      "Epoch 247/300\n",
      " - 0s - loss: 0.4360 - acc: 0.7807\n",
      "Epoch 248/300\n",
      " - 0s - loss: 0.4348 - acc: 0.7900\n",
      "Epoch 249/300\n",
      " - 0s - loss: 0.4405 - acc: 0.7872\n",
      "Epoch 250/300\n",
      " - 0s - loss: 0.4367 - acc: 0.7893\n",
      "Epoch 251/300\n",
      " - 0s - loss: 0.4332 - acc: 0.7827\n",
      "Epoch 252/300\n",
      " - 0s - loss: 0.4311 - acc: 0.7824\n",
      "Epoch 253/300\n",
      " - 0s - loss: 0.4280 - acc: 0.7893\n",
      "Epoch 254/300\n",
      " - 0s - loss: 0.4421 - acc: 0.7790\n",
      "Epoch 255/300\n",
      " - 0s - loss: 0.4384 - acc: 0.7845\n",
      "Epoch 256/300\n",
      " - 0s - loss: 0.4361 - acc: 0.7827\n",
      "Epoch 257/300\n",
      " - 0s - loss: 0.4320 - acc: 0.7851\n",
      "Epoch 258/300\n",
      " - 0s - loss: 0.4459 - acc: 0.7790\n",
      "Epoch 259/300\n",
      " - 0s - loss: 0.4350 - acc: 0.7817\n",
      "Epoch 260/300\n",
      " - 0s - loss: 0.4305 - acc: 0.7869\n",
      "Epoch 261/300\n",
      " - 0s - loss: 0.4334 - acc: 0.7855\n",
      "Epoch 262/300\n",
      " - 0s - loss: 0.4300 - acc: 0.7917\n",
      "Epoch 263/300\n",
      " - 0s - loss: 0.4290 - acc: 0.7872\n",
      "Epoch 264/300\n",
      " - 0s - loss: 0.4312 - acc: 0.7827\n",
      "Epoch 265/300\n",
      " - 0s - loss: 0.4348 - acc: 0.7721\n",
      "Epoch 266/300\n",
      " - 0s - loss: 0.4266 - acc: 0.7896\n",
      "Epoch 267/300\n",
      " - 0s - loss: 0.4303 - acc: 0.7786\n",
      "Epoch 268/300\n",
      " - 0s - loss: 0.4304 - acc: 0.7889\n",
      "Epoch 269/300\n",
      " - 0s - loss: 0.4292 - acc: 0.7838\n",
      "Epoch 270/300\n",
      " - 0s - loss: 0.4265 - acc: 0.7855\n",
      "Epoch 271/300\n",
      " - 0s - loss: 0.4403 - acc: 0.7769\n",
      "Epoch 272/300\n",
      " - 0s - loss: 0.4268 - acc: 0.7821\n",
      "Epoch 273/300\n",
      " - 0s - loss: 0.4285 - acc: 0.7876\n",
      "Epoch 274/300\n",
      " - 0s - loss: 0.4339 - acc: 0.7831\n",
      "Epoch 275/300\n",
      " - 0s - loss: 0.4323 - acc: 0.7817\n",
      "Epoch 276/300\n",
      " - 0s - loss: 0.4319 - acc: 0.7872\n",
      "Epoch 277/300\n",
      " - 0s - loss: 0.4311 - acc: 0.7876\n",
      "Epoch 278/300\n",
      " - 0s - loss: 0.4235 - acc: 0.7882\n",
      "Epoch 279/300\n",
      " - 0s - loss: 0.4305 - acc: 0.7845\n",
      "Epoch 280/300\n",
      " - 0s - loss: 0.4331 - acc: 0.7834\n",
      "Epoch 281/300\n",
      " - 0s - loss: 0.4295 - acc: 0.7900\n",
      "Epoch 282/300\n",
      " - 0s - loss: 0.4215 - acc: 0.7924\n",
      "Epoch 283/300\n",
      " - 0s - loss: 0.4264 - acc: 0.7876\n",
      "Epoch 284/300\n",
      " - 0s - loss: 0.4254 - acc: 0.7851\n",
      "Epoch 285/300\n",
      " - 0s - loss: 0.4227 - acc: 0.7869\n",
      "Epoch 286/300\n",
      " - 0s - loss: 0.4249 - acc: 0.7910\n",
      "Epoch 287/300\n",
      " - 0s - loss: 0.4283 - acc: 0.7872\n",
      "Epoch 288/300\n",
      " - 0s - loss: 0.4277 - acc: 0.7858\n",
      "Epoch 289/300\n",
      " - 0s - loss: 0.4241 - acc: 0.7910\n",
      "Epoch 290/300\n",
      " - 0s - loss: 0.4260 - acc: 0.7941\n",
      "Epoch 291/300\n",
      " - 0s - loss: 0.4245 - acc: 0.7869\n",
      "Epoch 292/300\n",
      " - 0s - loss: 0.4295 - acc: 0.7858\n",
      "Epoch 293/300\n",
      " - 0s - loss: 0.4248 - acc: 0.7927\n",
      "Epoch 294/300\n",
      " - 0s - loss: 0.4252 - acc: 0.7903\n",
      "Epoch 295/300\n",
      " - 0s - loss: 0.4316 - acc: 0.7790\n",
      "Epoch 296/300\n",
      " - 0s - loss: 0.4307 - acc: 0.7821\n",
      "Epoch 297/300\n",
      " - 0s - loss: 0.4251 - acc: 0.7848\n",
      "Epoch 298/300\n",
      " - 0s - loss: 0.4280 - acc: 0.7872\n",
      "Epoch 299/300\n",
      " - 0s - loss: 0.4263 - acc: 0.7834\n",
      "Epoch 300/300\n",
      " - 0s - loss: 0.4244 - acc: 0.7900\n"
     ]
    },
    {
     "data": {
      "text/plain": [
       "<tensorflow.python.keras.callbacks.History at 0x1a36479550>"
      ]
     },
     "execution_count": 152,
     "metadata": {},
     "output_type": "execute_result"
    }
   ],
   "source": [
    "# Use the training data to fit (train) the model\n",
    "modelNN.fit(\n",
    "    X_train_scaled,\n",
    "    y_train,\n",
    "    epochs=300,\n",
    "    shuffle=True,\n",
    "    verbose=2\n",
    ")"
   ]
  },
  {
   "cell_type": "code",
   "execution_count": 154,
   "metadata": {},
   "outputs": [
    {
     "name": "stdout",
     "output_type": "stream",
     "text": [
      " - 0s - loss: 1.1442 - acc: 0.5426\n",
      "Loss: 1.1441975858185318, Accuracy: 0.5425823926925659\n"
     ]
    }
   ],
   "source": [
    "# evaluate model by using test data\n",
    "model_loss, model_accuracy = modelNN.evaluate(\n",
    "    X_test_scaled, y_test, verbose=2)\n",
    "print(f\"Loss: {model_loss}, Accuracy: {model_accuracy}\")"
   ]
  },
  {
   "cell_type": "markdown",
   "metadata": {},
   "source": []
  },
  {
   "cell_type": "markdown",
   "metadata": {},
   "source": [
    "# Decision Tree Model w/o Hyper Parameter Tuning"
   ]
  },
  {
   "cell_type": "code",
   "execution_count": 100,
   "metadata": {},
   "outputs": [],
   "source": [
    "# create model instance\n",
    "modelDT = tree.DecisionTreeClassifier()"
   ]
  },
  {
   "cell_type": "code",
   "execution_count": 101,
   "metadata": {},
   "outputs": [],
   "source": [
    "# Fit the classifier to the data\n",
    "modelDT = modelDT.fit(X_train_scaled, y_train)"
   ]
  },
  {
   "cell_type": "code",
   "execution_count": 102,
   "metadata": {},
   "outputs": [
    {
     "name": "stdout",
     "output_type": "stream",
     "text": [
      "Decision Tree Score: 0.5274725274725275\n"
     ]
    }
   ],
   "source": [
    "# Calculate the R2 score for the test data\n",
    "score = modelDT.score(X_test_scaled, y_test)\n",
    "\n",
    "print(f\"Decision Tree Score: {score}\")"
   ]
  },
  {
   "cell_type": "markdown",
   "metadata": {},
   "source": [
    "# Decision Tree Model w/ Hyper Parameter Tuning"
   ]
  },
  {
   "cell_type": "code",
   "execution_count": 103,
   "metadata": {},
   "outputs": [],
   "source": [
    "# create model instance\n",
    "modelDT1 = tree.DecisionTreeClassifier(random_state=1234)"
   ]
  },
  {
   "cell_type": "code",
   "execution_count": 104,
   "metadata": {},
   "outputs": [],
   "source": [
    "# define hyper parameters Set\n",
    "params = {'max_features': ['auto', 'sqrt', 'log2'],\n",
    "          'min_samples_split': [2,3,4,5,6,7,8,9,10,11,12,13,14,15], \n",
    "          'min_samples_leaf':[1,2,3,4,5,6,7,8,9,10,11],\n",
    "          'random_state':[123]}"
   ]
  },
  {
   "cell_type": "code",
   "execution_count": 105,
   "metadata": {},
   "outputs": [],
   "source": [
    "# compile models with hyper parameters sets\n",
    "modelDT1 = GridSearchCV(modelDT1, param_grid=params, n_jobs=-1)"
   ]
  },
  {
   "cell_type": "code",
   "execution_count": 72,
   "metadata": {},
   "outputs": [
    {
     "data": {
      "text/plain": [
       "GridSearchCV(cv='warn', error_score='raise-deprecating',\n",
       "             estimator=DecisionTreeClassifier(class_weight=None,\n",
       "                                              criterion='gini', max_depth=None,\n",
       "                                              max_features=None,\n",
       "                                              max_leaf_nodes=None,\n",
       "                                              min_impurity_decrease=0.0,\n",
       "                                              min_impurity_split=None,\n",
       "                                              min_samples_leaf=1,\n",
       "                                              min_samples_split=2,\n",
       "                                              min_weight_fraction_leaf=0.0,\n",
       "                                              presort=False, random_state=1234,\n",
       "                                              splitter='best'),\n",
       "             iid='warn', n_jobs=-1,\n",
       "             param_grid={'max_features': ['auto', 'sqrt', 'log2'],\n",
       "                         'min_samples_leaf': [1, 2, 3, 4, 5, 6, 7, 8, 9, 10,\n",
       "                                              11],\n",
       "                         'min_samples_split': [2, 3, 4, 5, 6, 7, 8, 9, 10, 11,\n",
       "                                               12, 13, 14, 15],\n",
       "                         'random_state': [123]},\n",
       "             pre_dispatch='2*n_jobs', refit=True, return_train_score=False,\n",
       "             scoring=None, verbose=0)"
      ]
     },
     "execution_count": 72,
     "metadata": {},
     "output_type": "execute_result"
    }
   ],
   "source": [
    "# train the hyper parameter tuned DT model with the training data\n",
    "modelDT1.fit(X_train_scaled,y_train)"
   ]
  },
  {
   "cell_type": "code",
   "execution_count": 73,
   "metadata": {},
   "outputs": [
    {
     "name": "stdout",
     "output_type": "stream",
     "text": [
      "Best Hyper Parameters: {'max_features': 'auto', 'min_samples_leaf': 2, 'min_samples_split': 14, 'random_state': 123}\n",
      "Accuracy: 0.5285714285714286\n"
     ]
    }
   ],
   "source": [
    "# print best parameters within the tuned DT model\n",
    "print(f\"Best Hyper Parameters: {modelDT1.best_params_}\")\n",
    "\n",
    "# make predictions with tuned DT model\n",
    "predictionDT1 = modelDT1.predict(X_test_scaled)\n",
    "\n",
    "# print accuracy (score) of tuned DT model\n",
    "print(f\"Accuracy: {metrics.accuracy_score(predictionDT1,y_test)}\")"
   ]
  },
  {
   "cell_type": "markdown",
   "metadata": {},
   "source": [
    "# Random Forest Model w/o Hyper Parameter Tuning"
   ]
  },
  {
   "cell_type": "code",
   "execution_count": 18,
   "metadata": {},
   "outputs": [
    {
     "name": "stdout",
     "output_type": "stream",
     "text": [
      "RF Score: 0.5692307692307692\n"
     ]
    }
   ],
   "source": [
    "# Create the RF instance\n",
    "rf = RandomForestClassifier(n_estimators=300)\n",
    "\n",
    "# fit the RF model with training data\n",
    "rf = rf.fit(X_train, y_train)\n",
    "\n",
    "# score the RF model using testing data\n",
    "print(f\"RF Score: {rf.score(X_test,y_test)}\")"
   ]
  },
  {
   "cell_type": "markdown",
   "metadata": {},
   "source": [
    "# Random Forest Model w/ Hyper Parameter Tuning"
   ]
  },
  {
   "cell_type": "code",
   "execution_count": 28,
   "metadata": {},
   "outputs": [],
   "source": [
    "# Create the RF instance\n",
    "rf1 = RandomForestClassifier()"
   ]
  },
  {
   "cell_type": "code",
   "execution_count": 32,
   "metadata": {},
   "outputs": [],
   "source": [
    "#Hyper Parameters Set for decision tree\n",
    "params = {'criterion':['gini','entropy'],\n",
    "          'n_estimators':[50,100,200,500,1000],\n",
    "          'min_samples_leaf':[1,2,3],\n",
    "          'min_samples_split':[3,4,5,6,7], \n",
    "          'random_state':[123],\n",
    "          'n_jobs':[-1]}"
   ]
  },
  {
   "cell_type": "code",
   "execution_count": 33,
   "metadata": {},
   "outputs": [],
   "source": [
    "# create models with hyper parameters sets\n",
    "modelRf1 = GridSearchCV(rf1, param_grid=params, n_jobs=-1)"
   ]
  },
  {
   "cell_type": "code",
   "execution_count": 34,
   "metadata": {},
   "outputs": [
    {
     "data": {
      "text/plain": [
       "GridSearchCV(cv='warn', error_score='raise-deprecating',\n",
       "             estimator=RandomForestClassifier(bootstrap=True, class_weight=None,\n",
       "                                              criterion='gini', max_depth=None,\n",
       "                                              max_features='auto',\n",
       "                                              max_leaf_nodes=None,\n",
       "                                              min_impurity_decrease=0.0,\n",
       "                                              min_impurity_split=None,\n",
       "                                              min_samples_leaf=1,\n",
       "                                              min_samples_split=2,\n",
       "                                              min_weight_fraction_leaf=0.0,\n",
       "                                              n_estimators='warn', n_jobs=None,\n",
       "                                              oob_score=False,\n",
       "                                              random_state=None, verbose=0,\n",
       "                                              warm_start=False),\n",
       "             iid='warn', n_jobs=-1,\n",
       "             param_grid={'criterion': ['gini', 'entropy'],\n",
       "                         'min_samples_leaf': [1, 2, 3],\n",
       "                         'min_samples_split': [3, 4, 5, 6, 7],\n",
       "                         'n_estimators': [50, 100, 200, 500, 1000, 10000],\n",
       "                         'n_jobs': [-1], 'random_state': [123]},\n",
       "             pre_dispatch='2*n_jobs', refit=True, return_train_score=False,\n",
       "             scoring=None, verbose=0)"
      ]
     },
     "execution_count": 34,
     "metadata": {},
     "output_type": "execute_result"
    }
   ],
   "source": [
    "# train the hyper parameter tuned RF model with the training data\n",
    "modelRf1.fit(X_train_scaled,y_train)"
   ]
  },
  {
   "cell_type": "code",
   "execution_count": 35,
   "metadata": {},
   "outputs": [
    {
     "name": "stdout",
     "output_type": "stream",
     "text": [
      "Best Hyper Parameters: {'criterion': 'entropy', 'min_samples_leaf': 2, 'min_samples_split': 5, 'n_estimators': 1000, 'n_jobs': -1, 'random_state': 123}\n",
      "\n",
      "\n",
      "Accuracy: 0.5648351648351648\n"
     ]
    }
   ],
   "source": [
    "# print best  hyper parameters set\n",
    "print(f\"Best Hyper Parameters: {modelRf1.best_params_}\")\n",
    "\n",
    "# make predicition with test data\n",
    "predictionRf1 = modelRf1.predict(X_test_scaled)\n",
    "\n",
    "# print score for tuned RF model\n",
    "print(f\"\\n\")\n",
    "print(f\"Accuracy: {metrics.accuracy_score(predictionRf1,y_test)}\")"
   ]
  },
  {
   "cell_type": "code",
   "execution_count": 32,
   "metadata": {},
   "outputs": [
    {
     "name": "stdout",
     "output_type": "stream",
     "text": [
      "Tuned RF Model Feature Importances:\n",
      "[0.23587368 0.12663746 0.06088357 0.12257793 0.12380508 0.23689128\n",
      " 0.01885639 0.06208494 0.01238967]\n"
     ]
    }
   ],
   "source": [
    "print(f\"Tuned RF Model Feature Importances:\\n{modelRf1.best_estimator_.feature_importances_}\")"
   ]
  },
  {
   "cell_type": "code",
   "execution_count": 33,
   "metadata": {},
   "outputs": [
    {
     "data": {
      "image/png": "[encoded data removed]",
      "text/plain": [
       "<Figure size 432x288 with 1 Axes>"
      ]
     },
     "metadata": {
      "needs_background": "light"
     },
     "output_type": "display_data"
    }
   ],
   "source": [
    "#plot graph of feature importances for better visualization\n",
    "feat_importances = pd.Series(modelRf1.best_estimator_.feature_importances_, index=X.columns)\n",
    "feat_importances.nlargest(10).plot(kind='barh')\n",
    "plt.show()"
   ]
  },
  {
   "cell_type": "code",
   "execution_count": 52,
   "metadata": {},
   "outputs": [],
   "source": [
    "# make predicitions based on x test scaled data\n",
    "predictions = modelRf1.predict(X_test_scaled)\n",
    "\n",
    "#create dataframe\n",
    "df = pd.DataFrame(predictions)"
   ]
  },
  {
   "cell_type": "code",
   "execution_count": 85,
   "metadata": {},
   "outputs": [
    {
     "data": {
      "text/html": [
       "<div>\n",
       "<style scoped>\n",
       "    .dataframe tbody tr th:only-of-type {\n",
       "        vertical-align: middle;\n",
       "    }\n",
       "\n",
       "    .dataframe tbody tr th {\n",
       "        vertical-align: top;\n",
       "    }\n",
       "\n",
       "    .dataframe thead th {\n",
       "        text-align: right;\n",
       "    }\n",
       "</style>\n",
       "<table border=\"1\" class=\"dataframe\">\n",
       "  <thead>\n",
       "    <tr style=\"text-align: right;\">\n",
       "      <th></th>\n",
       "      <th>Pred</th>\n",
       "      <th>Actual</th>\n",
       "      <th>Analysis</th>\n",
       "    </tr>\n",
       "  </thead>\n",
       "  <tbody>\n",
       "    <tr>\n",
       "      <th>0</th>\n",
       "      <td>0</td>\n",
       "      <td>1</td>\n",
       "      <td>1</td>\n",
       "    </tr>\n",
       "    <tr>\n",
       "      <th>1</th>\n",
       "      <td>1</td>\n",
       "      <td>1</td>\n",
       "      <td>0</td>\n",
       "    </tr>\n",
       "    <tr>\n",
       "      <th>2</th>\n",
       "      <td>0</td>\n",
       "      <td>1</td>\n",
       "      <td>1</td>\n",
       "    </tr>\n",
       "    <tr>\n",
       "      <th>3</th>\n",
       "      <td>1</td>\n",
       "      <td>1</td>\n",
       "      <td>0</td>\n",
       "    </tr>\n",
       "    <tr>\n",
       "      <th>4</th>\n",
       "      <td>1</td>\n",
       "      <td>1</td>\n",
       "      <td>0</td>\n",
       "    </tr>\n",
       "  </tbody>\n",
       "</table>\n",
       "</div>"
      ],
      "text/plain": [
       "   Pred  Actual  Analysis\n",
       "0     0       1         1\n",
       "1     1       1         0\n",
       "2     0       1         1\n",
       "3     1       1         0\n",
       "4     1       1         0"
      ]
     },
     "execution_count": 85,
     "metadata": {},
     "output_type": "execute_result"
    }
   ],
   "source": [
    "# format \n",
    "df.rename({0 : \"Pred\"}, axis=1, inplace=True)\n",
    "df[\"Actual\"] = y_test\n",
    "df[\"Analysis\"] = df[\"Actual\"]-df[\"Pred\"]\n",
    "df.head()"
   ]
  },
  {
   "cell_type": "code",
   "execution_count": 86,
   "metadata": {},
   "outputs": [
    {
     "data": {
      "text/html": [
       "<div>\n",
       "<style scoped>\n",
       "    .dataframe tbody tr th:only-of-type {\n",
       "        vertical-align: middle;\n",
       "    }\n",
       "\n",
       "    .dataframe tbody tr th {\n",
       "        vertical-align: top;\n",
       "    }\n",
       "\n",
       "    .dataframe thead th {\n",
       "        text-align: right;\n",
       "    }\n",
       "</style>\n",
       "<table border=\"1\" class=\"dataframe\">\n",
       "  <thead>\n",
       "    <tr style=\"text-align: right;\">\n",
       "      <th></th>\n",
       "      <th>Pred</th>\n",
       "      <th>Actual</th>\n",
       "      <th>Analysis</th>\n",
       "    </tr>\n",
       "  </thead>\n",
       "  <tbody>\n",
       "    <tr>\n",
       "      <th>0</th>\n",
       "      <td>0</td>\n",
       "      <td>1</td>\n",
       "      <td>Incorrect</td>\n",
       "    </tr>\n",
       "    <tr>\n",
       "      <th>1</th>\n",
       "      <td>1</td>\n",
       "      <td>1</td>\n",
       "      <td>Correct</td>\n",
       "    </tr>\n",
       "    <tr>\n",
       "      <th>2</th>\n",
       "      <td>0</td>\n",
       "      <td>1</td>\n",
       "      <td>Incorrect</td>\n",
       "    </tr>\n",
       "    <tr>\n",
       "      <th>3</th>\n",
       "      <td>1</td>\n",
       "      <td>1</td>\n",
       "      <td>Correct</td>\n",
       "    </tr>\n",
       "    <tr>\n",
       "      <th>4</th>\n",
       "      <td>1</td>\n",
       "      <td>1</td>\n",
       "      <td>Correct</td>\n",
       "    </tr>\n",
       "  </tbody>\n",
       "</table>\n",
       "</div>"
      ],
      "text/plain": [
       "   Pred  Actual   Analysis\n",
       "0     0       1  Incorrect\n",
       "1     1       1    Correct\n",
       "2     0       1  Incorrect\n",
       "3     1       1    Correct\n",
       "4     1       1    Correct"
      ]
     },
     "execution_count": 86,
     "metadata": {},
     "output_type": "execute_result"
    }
   ],
   "source": [
    "df[\"Analysis\"].sum()\n",
    "df[\"Analysis\"] = df[\"Analysis\"].map({1:\"Incorrect\",-1:\"Incorrect\",0:\"Correct\"})\n",
    "df.head()"
   ]
  },
  {
   "cell_type": "code",
   "execution_count": 87,
   "metadata": {},
   "outputs": [
    {
     "data": {
      "text/plain": [
       "Correct      510\n",
       "Incorrect    400\n",
       "Name: Analysis, dtype: int64"
      ]
     },
     "execution_count": 87,
     "metadata": {},
     "output_type": "execute_result"
    }
   ],
   "source": [
    "df[\"Analysis\"].value_counts()"
   ]
  },
  {
   "cell_type": "code",
   "execution_count": 88,
   "metadata": {},
   "outputs": [
    {
     "data": {
      "text/plain": [
       "array([[183, 161],\n",
       "       [239, 327]])"
      ]
     },
     "execution_count": 88,
     "metadata": {},
     "output_type": "execute_result"
    }
   ],
   "source": [
    "metrics.confusion_matrix(predictions,y_test)"
   ]
  },
  {
   "cell_type": "markdown",
   "metadata": {},
   "source": [
    "# Support Vector Machine w/o Hyper Parameter Tuning"
   ]
  },
  {
   "cell_type": "code",
   "execution_count": 22,
   "metadata": {},
   "outputs": [
    {
     "data": {
      "text/plain": [
       "SVC(C=1.0, cache_size=200, class_weight=None, coef0=0.0,\n",
       "    decision_function_shape='ovr', degree=3, gamma='auto_deprecated',\n",
       "    kernel='poly', max_iter=-1, probability=False, random_state=None,\n",
       "    shrinking=True, tol=0.001, verbose=False)"
      ]
     },
     "execution_count": 22,
     "metadata": {},
     "output_type": "execute_result"
    }
   ],
   "source": [
    "# Create a support vector machine linear classifer and fit it to the training data.\n",
    "\n",
    "target_names = [\"not successful\", \"successful\"]\n",
    "\n",
    "modelSVC1 = SVC(kernel='linear', probability = True)\n",
    "modelSVC1.fit(X_train_scaled, y_train)\n",
    "\n",
    "modelSVC2 = SVC(kernel='rbf')\n",
    "modelSVC2.fit(X_train_scaled, y_train)\n",
    "\n",
    "modelSVC3 = SVC(kernel='poly')\n",
    "modelSVC3.fit(X_train_scaled, y_train)"
   ]
  },
  {
   "cell_type": "code",
   "execution_count": 46,
   "metadata": {},
   "outputs": [
    {
     "name": "stdout",
     "output_type": "stream",
     "text": [
      "Linear SVC Model: 0.521978021978022\n",
      "RBF SVC Model: 0.45604395604395603\n",
      "Polynomial SVC Model: 0.4684065934065934\n"
     ]
    }
   ],
   "source": [
    "# Print model scores using the test data to compare\n",
    "print(f\"Linear SVC Model: {modelSVC1.score(X_test,y_test)}\")\n",
    "print(f\"RBF SVC Model: {modelSVC2.score(X_test,y_test)}\")\n",
    "print(f\"Polynomial SVC Model: {modelSVC3.score(X_test,y_test)}\")"
   ]
  },
  {
   "cell_type": "markdown",
   "metadata": {},
   "source": [
    "# Support Vector Machine w/ Hyper Parameter Tuning"
   ]
  },
  {
   "cell_type": "code",
   "execution_count": 16,
   "metadata": {},
   "outputs": [],
   "source": [
    "# create support vector classifier \n",
    "modelSVC = SVC()\n",
    "\n",
    "#defining hyper parameters\n",
    "params = {'C': [5,6,7,8,9,10], \n",
    "          'kernel': ['linear','rbf'],\n",
    "          'gamma': [0.1,1,10,100]}\n",
    "\n",
    "#Making models with hyper parameters sets\n",
    "modelSVC = GridSearchCV(modelSVC, param_grid=params, n_jobs=-1)"
   ]
  },
  {
   "cell_type": "code",
   "execution_count": 17,
   "metadata": {},
   "outputs": [
    {
     "data": {
      "text/plain": [
       "GridSearchCV(cv='warn', error_score='raise-deprecating',\n",
       "             estimator=SVC(C=1.0, cache_size=200, class_weight=None, coef0=0.0,\n",
       "                           decision_function_shape='ovr', degree=3,\n",
       "                           gamma='auto_deprecated', kernel='rbf', max_iter=-1,\n",
       "                           probability=False, random_state=None, shrinking=True,\n",
       "                           tol=0.001, verbose=False),\n",
       "             iid='warn', n_jobs=-1,\n",
       "             param_grid={'C': [5, 6, 7, 8, 9, 10], 'gamma': [0.1, 1, 10, 100],\n",
       "                         'kernel': ['linear', 'rbf']},\n",
       "             pre_dispatch='2*n_jobs', refit=True, return_train_score=False,\n",
       "             scoring=None, verbose=0)"
      ]
     },
     "execution_count": 17,
     "metadata": {},
     "output_type": "execute_result"
    }
   ],
   "source": [
    "#Learning\n",
    "modelSVC.fit(X_train_scaled,y_train)"
   ]
  },
  {
   "cell_type": "code",
   "execution_count": 18,
   "metadata": {},
   "outputs": [
    {
     "name": "stdout",
     "output_type": "stream",
     "text": [
      "Best Hyper Parameters: {'C': 5, 'gamma': 0.1, 'kernel': 'linear'}\n"
     ]
    }
   ],
   "source": [
    "#The best hyper parameters set\n",
    "print(f\"Best Hyper Parameters: {modelSVC.best_params_}\")"
   ]
  },
  {
   "cell_type": "code",
   "execution_count": 39,
   "metadata": {},
   "outputs": [
    {
     "data": {
      "text/plain": [
       "array([-0.13760797,  0.16144078, -0.42111394,  0.07631755, -0.00314863,\n",
       "       -0.06242997,  0.03976568])"
      ]
     },
     "execution_count": 39,
     "metadata": {},
     "output_type": "execute_result"
    }
   ],
   "source": [
    "modelSVC1.coef_[0]"
   ]
  },
  {
   "cell_type": "code",
   "execution_count": 44,
   "metadata": {},
   "outputs": [
    {
     "data": {
      "image/png": "[encoded data removed]",
      "text/plain": [
       "<Figure size 432x288 with 1 Axes>"
      ]
     },
     "metadata": {
      "needs_background": "light"
     },
     "output_type": "display_data"
    },
    {
     "data": {
      "image/png": "[encoded data removed]",
      "text/plain": [
       "<Figure size 432x288 with 1 Axes>"
      ]
     },
     "metadata": {
      "needs_background": "light"
     },
     "output_type": "display_data"
    }
   ],
   "source": [
    "def f_importances(coef, names):\n",
    "    imp = coef\n",
    "    imp,names = zip(*sorted(zip(imp,names)))\n",
    "    plt.barh(range(len(names)), imp, align='center')\n",
    "    plt.yticks(range(len(names)), names)\n",
    "    plt.show()\n",
    "\n",
    "features_names = [\"rating_numeric\",\"director_score\",\"production_companies_count\",\"total_actor_starpower\",\"release_month\",\n",
    "             \"tot_wins\",\"tot_noms\"]\n",
    "\n",
    "f_importances(abs(modelSVC1.coef_[0]), features_names)\n",
    "f_importances(modelSVC1.coef_[0], features_names)"
   ]
  },
  {
   "cell_type": "code",
   "execution_count": 34,
   "metadata": {},
   "outputs": [],
   "source": [
    "# make prediction using test data\n",
    "prediction = modelSVC.predict(X_test_scaled)"
   ]
  },
  {
   "cell_type": "code",
   "execution_count": 35,
   "metadata": {},
   "outputs": [
    {
     "name": "stdout",
     "output_type": "stream",
     "text": [
      "Accuracy: 0.5467032967032966\n"
     ]
    }
   ],
   "source": [
    "#evaluation(Accuracy)\n",
    "print(f\"Accuracy: {metrics.accuracy_score(prediction,y_test)}\")"
   ]
  },
  {
   "cell_type": "markdown",
   "metadata": {},
   "source": [
    "# Summary of Models and Scores"
   ]
  },
  {
   "cell_type": "code",
   "execution_count": 118,
   "metadata": {},
   "outputs": [
    {
     "name": "stdout",
     "output_type": "stream",
     "text": [
      "Models WITHOUT Hyper Parameter Tuning\n",
      "------------------\n",
      "Decision Tree: 0.5604395604395604\n",
      "Random Forest: 0.5618131868131868\n",
      "Support Vector Machine: 0.521978021978022\n",
      "-------------------------\n",
      "Model scores WITH Hyper Parameter Tuning\n",
      "Decision Tree: 0.5508241758241759\n",
      "Random Forest: 0.5714285714285714\n",
      "Support Vector Machine: 0.5782967032967034\n"
     ]
    }
   ],
   "source": [
    "print(f\"Models WITHOUT Hyper Parameter Tuning\")\n",
    "print(f\"------------------\")\n",
    "print(f\"Decision Tree: {modelDT.score(X_test_scaled, y_test)}\")\n",
    "print(f\"Random Forest: {rf.score(X_test_scaled, y_test)}\")\n",
    "print(f\"Support Vector Machine: {modelSVC1.score(X_test,y_test)}\")\n",
    "\n",
    "\n",
    "print(\"-------------------------\")\n",
    "print(f\"Model scores WITH Hyper Parameter Tuning\")\n",
    "print(f\"Decision Tree: {metrics.accuracy_score(predictionDT1,y_test)}\")\n",
    "print(f\"Random Forest: {metrics.accuracy_score(predictionRf1,y_test)}\")\n",
    "print(f\"Support Vector Machine: {metrics.accuracy_score(prediction,y_test)}\")"
   ]
  },
  {
   "cell_type": "markdown",
   "metadata": {},
   "source": [
    "# ROC Curve (Receiving Operator Characteristic) & CAP (Cumulative Accuracy Profile)"
   ]
  },
  {
   "cell_type": "code",
   "execution_count": 108,
   "metadata": {},
   "outputs": [
    {
     "name": "stdout",
     "output_type": "stream",
     "text": [
      "AUC (Area Under Curve): 0.586\n",
      "\n",
      "\n"
     ]
    },
    {
     "data": {
      "image/png": "[encoded data removed]",
      "text/plain": [
       "<Figure size 432x288 with 1 Axes>"
      ]
     },
     "metadata": {
      "needs_background": "light"
     },
     "output_type": "display_data"
    }
   ],
   "source": [
    "# predict probabilities\n",
    "probs = modelNN.predict_proba(X_test_scaled)\n",
    "\n",
    "# keep probabilities for the positive outcome only\n",
    "probs = probs[:, 1]\n",
    "\n",
    "# calculate AUC\n",
    "auc = roc_auc_score(y_test, probs)\n",
    "print('AUC (Area Under Curve): %.3f' % auc)\n",
    "print('\\n')\n",
    "# calculate roc curve\n",
    "fpr, tpr, thresholds = roc_curve(y_test, probs)\n",
    "\n",
    "# plot no skill\n",
    "pyplot.plot([0, 1], [0, 1], linestyle='--', label=\"Random\")\n",
    "# plot the roc curve for the model\n",
    "pyplot.plot(fpr, tpr, marker='.', label=\"Neural Network\")\n",
    "# title\n",
    "plt.title('ROC Curve', fontsize = 16)\n",
    "# legend\n",
    "plt.legend(loc = 'lower right', fontsize = 10)\n",
    "# show the plot\n",
    "pyplot.show()"
   ]
  },
  {
   "cell_type": "markdown",
   "metadata": {},
   "source": [
    "# Cumulative Accuracy Profile"
   ]
  },
  {
   "cell_type": "code",
   "execution_count": 60,
   "metadata": {},
   "outputs": [
    {
     "name": "stdout",
     "output_type": "stream",
     "text": [
      "Total: 728\n",
      "Class 1 Count: 390\n",
      "Class 0 Count: 338\n"
     ]
    }
   ],
   "source": [
    "total = len(y_test)\n",
    "class_1_count = np.sum(y_test)\n",
    "class_0_count = total - class_1_count\n",
    "\n",
    "print(f\"Total: {total}\")\n",
    "print(f\"Class 1 Count: {class_1_count}\")\n",
    "print(f\"Class 0 Count: {class_0_count}\")"
   ]
  },
  {
   "cell_type": "code",
   "execution_count": 112,
   "metadata": {},
   "outputs": [
    {
     "data": {
      "text/plain": [
       "<matplotlib.legend.Legend at 0x1a2dc51898>"
      ]
     },
     "execution_count": 112,
     "metadata": {},
     "output_type": "execute_result"
    },
    {
     "data": {
      "image/png": "[encoded data removed]",
      "text/plain": [
       "<Figure size 432x288 with 1 Axes>"
      ]
     },
     "metadata": {
      "needs_background": "light"
     },
     "output_type": "display_data"
    }
   ],
   "source": [
    "# plot a random model\n",
    "plt.plot([0, total], [0, class_1_count], c = 'r', linestyle = '--', label = 'Random Model')\n",
    "\n",
    "# plot a perfect model\n",
    "plt.plot([0, class_1_count, total], \n",
    "         [0, class_1_count, class_1_count], \n",
    "         c = 'grey', \n",
    "         linewidth = 2, \n",
    "         label = 'Perfect Model')\n",
    "\n",
    "# creat plot for model to compare\n",
    "probs = modelDT1.predict_proba(X_test_scaled)\n",
    "probs = probs[:, 1]\n",
    "model_y = [y for _, y in sorted(zip(probs, y_test), reverse = True)]\n",
    "y_values = np.append([0], np.cumsum(model_y))\n",
    "x_values = np.arange(0, total + 1)\n",
    "\n",
    "plt.plot(x_values, \n",
    "         y_values, \n",
    "         c = 'b', \n",
    "         label = 'Decision Tree Classifier', \n",
    "         linewidth = 4)\n",
    "\n",
    "# Plot information\n",
    "plt.xlabel('Total observations', fontsize = 12)\n",
    "plt.ylabel('Class 1 observations', fontsize = 12)\n",
    "plt.title('Cumulative Accuracy Profile', fontsize = 12)\n",
    "plt.legend(loc = 'lower right', fontsize = 12)\n"
   ]
  },
  {
   "cell_type": "code",
   "execution_count": 90,
   "metadata": {},
   "outputs": [
    {
     "name": "stdout",
     "output_type": "stream",
     "text": [
      "Accuracy Rate for Support Vector Classifier: 0.1655287513275679\n"
     ]
    }
   ],
   "source": [
    "#  CAP Analysis using Area Under Curve\n",
    "#  The first method to analyse the CAP Curve is using Area Under Curve. Let’s consider area under \n",
    "#  random model as a. We calculate the Accuracy Rate using the following steps:\n",
    "#  Calculate the area under the perfect model (aP) till the random model (a)\n",
    "#  Calculate the area under the prediction model (aR) till the random model (a)\n",
    "#  Calculate Accuracy Rate (AR) = aR / aP\n",
    "#  The closer the Accuracy Rate is to the 1, better is the model.\n",
    "\n",
    "# Area under Random Model\n",
    "area = auc([0, total], [0, class_1_count])\n",
    "\n",
    "# Area between Perfect and Random Model\n",
    "aP = auc([0, class_1_count, total], [0, class_1_count, class_1_count]) - area\n",
    "\n",
    "# Area between Trained and Random Model\n",
    "aR = auc(x_values, y_values) - area\n",
    "\n",
    "# print accuracy\n",
    "print(\"Accuracy Rate for Support Vector Classifier: {}\".format(aR / aP))"
   ]
  },
  {
   "cell_type": "code",
   "execution_count": null,
   "metadata": {},
   "outputs": [],
   "source": []
  }
 ],
 "metadata": {
  "kernelspec": {
   "display_name": "Python 3",
   "language": "python",
   "name": "python3"
  },
  "language_info": {
   "codemirror_mode": {
    "name": "ipython",
    "version": 3
   },
   "file_extension": ".py",
   "mimetype": "text/x-python",
   "name": "python",
   "nbconvert_exporter": "python",
   "pygments_lexer": "ipython3",
   "version": "3.7.2"
  }
 },
 "nbformat": 4,
 "nbformat_minor": 2
}
