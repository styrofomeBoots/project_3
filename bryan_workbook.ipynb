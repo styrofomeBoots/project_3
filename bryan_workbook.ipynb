{
 "cells": [
  {
   "cell_type": "code",
   "execution_count": 19,
   "metadata": {},
   "outputs": [],
   "source": [
    "#import dependencies\n",
    "import requests\n",
    "import time\n",
    "import sqlite3\n",
    "import warnings\n",
    "import numpy as np\n",
    "import pandas as pd\n",
    "import matplotlib.pyplot as plt\n",
    "from pprint import pprint as pp\n",
    "from bs4 import BeautifulSoup as bs\n",
    "from sklearn.model_selection import train_test_split, GridSearchCV\n",
    "from sklearn.preprocessing import StandardScaler, MinMaxScaler\n",
    "from sklearn.linear_model import LinearRegression, LogisticRegression\n",
    "from sklearn.metrics import mean_squared_error, r2_score, roc_curve, roc_auc_score, f1_score, precision_recall_curve, average_precision_score, auc\n",
    "from sklearn.svm import SVC, SVR\n",
    "from sklearn import metrics\n",
    "from tensorflow.keras.models import Sequential\n",
    "from tensorflow.keras.utils import to_categorical\n",
    "from tensorflow.keras.layers import Dense\n",
    "from matplotlib import pyplot\n",
    "from sklearn import tree\n",
    "from sklearn.ensemble import RandomForestClassifier"
   ]
  },
  {
   "cell_type": "code",
   "execution_count": 2,
   "metadata": {},
   "outputs": [
    {
     "data": {
      "text/html": [
       "<div>\n",
       "<style scoped>\n",
       "    .dataframe tbody tr th:only-of-type {\n",
       "        vertical-align: middle;\n",
       "    }\n",
       "\n",
       "    .dataframe tbody tr th {\n",
       "        vertical-align: top;\n",
       "    }\n",
       "\n",
       "    .dataframe thead th {\n",
       "        text-align: right;\n",
       "    }\n",
       "</style>\n",
       "<table border=\"1\" class=\"dataframe\">\n",
       "  <thead>\n",
       "    <tr style=\"text-align: right;\">\n",
       "      <th></th>\n",
       "      <th>color</th>\n",
       "      <th>director_name</th>\n",
       "      <th>num_critic_for_reviews</th>\n",
       "      <th>duration</th>\n",
       "      <th>director_facebook_likes</th>\n",
       "      <th>actor_3_facebook_likes</th>\n",
       "      <th>actor_2_name</th>\n",
       "      <th>actor_1_facebook_likes</th>\n",
       "      <th>gross</th>\n",
       "      <th>genres</th>\n",
       "      <th>...</th>\n",
       "      <th>production_companies_count</th>\n",
       "      <th>genres_count</th>\n",
       "      <th>popularity</th>\n",
       "      <th>vote_count</th>\n",
       "      <th>vote_average</th>\n",
       "      <th>total_actor_starpower</th>\n",
       "      <th>release_month</th>\n",
       "      <th>holiday_month</th>\n",
       "      <th>tot_noms</th>\n",
       "      <th>tot_wins</th>\n",
       "    </tr>\n",
       "  </thead>\n",
       "  <tbody>\n",
       "    <tr>\n",
       "      <th>0</th>\n",
       "      <td>Color</td>\n",
       "      <td>James Cameron</td>\n",
       "      <td>723.0</td>\n",
       "      <td>178.0</td>\n",
       "      <td>0.0</td>\n",
       "      <td>855.0</td>\n",
       "      <td>Joel David Moore</td>\n",
       "      <td>1000.0</td>\n",
       "      <td>760505847.0</td>\n",
       "      <td>Action|Adventure|Fantasy|Sci-Fi</td>\n",
       "      <td>...</td>\n",
       "      <td>4.0</td>\n",
       "      <td>4</td>\n",
       "      <td>185.070892</td>\n",
       "      <td>12114.0</td>\n",
       "      <td>7.2</td>\n",
       "      <td>5.334665</td>\n",
       "      <td>12</td>\n",
       "      <td>1</td>\n",
       "      <td>0</td>\n",
       "      <td>0</td>\n",
       "    </tr>\n",
       "    <tr>\n",
       "      <th>1</th>\n",
       "      <td>Color</td>\n",
       "      <td>Stephen Sommers</td>\n",
       "      <td>106.0</td>\n",
       "      <td>106.0</td>\n",
       "      <td>208.0</td>\n",
       "      <td>855.0</td>\n",
       "      <td>Jason Flemyng</td>\n",
       "      <td>3000.0</td>\n",
       "      <td>11146409.0</td>\n",
       "      <td>Action|Adventure|Horror|Sci-Fi</td>\n",
       "      <td>...</td>\n",
       "      <td>3.0</td>\n",
       "      <td>4</td>\n",
       "      <td>6.922458</td>\n",
       "      <td>155.0</td>\n",
       "      <td>6.0</td>\n",
       "      <td>10.933174</td>\n",
       "      <td>01</td>\n",
       "      <td>0</td>\n",
       "      <td>0</td>\n",
       "      <td>0</td>\n",
       "    </tr>\n",
       "    <tr>\n",
       "      <th>2</th>\n",
       "      <td>Color</td>\n",
       "      <td>Terrence Malick</td>\n",
       "      <td>222.0</td>\n",
       "      <td>150.0</td>\n",
       "      <td>0.0</td>\n",
       "      <td>855.0</td>\n",
       "      <td>Michael Greyeyes</td>\n",
       "      <td>23000.0</td>\n",
       "      <td>12712093.0</td>\n",
       "      <td>Biography|Drama|History|Romance</td>\n",
       "      <td>...</td>\n",
       "      <td>5.0</td>\n",
       "      <td>3</td>\n",
       "      <td>7.694502</td>\n",
       "      <td>336.0</td>\n",
       "      <td>6.4</td>\n",
       "      <td>11.013046</td>\n",
       "      <td>12</td>\n",
       "      <td>1</td>\n",
       "      <td>0</td>\n",
       "      <td>0</td>\n",
       "    </tr>\n",
       "    <tr>\n",
       "      <th>3</th>\n",
       "      <td>Color</td>\n",
       "      <td>Brian Robbins</td>\n",
       "      <td>76.0</td>\n",
       "      <td>98.0</td>\n",
       "      <td>48.0</td>\n",
       "      <td>722.0</td>\n",
       "      <td>Joel David Moore</td>\n",
       "      <td>21000.0</td>\n",
       "      <td>61112916.0</td>\n",
       "      <td>Comedy|Family|Fantasy</td>\n",
       "      <td>...</td>\n",
       "      <td>3.0</td>\n",
       "      <td>2</td>\n",
       "      <td>4.878907</td>\n",
       "      <td>138.0</td>\n",
       "      <td>4.5</td>\n",
       "      <td>13.698882</td>\n",
       "      <td>03</td>\n",
       "      <td>0</td>\n",
       "      <td>1</td>\n",
       "      <td>0</td>\n",
       "    </tr>\n",
       "    <tr>\n",
       "      <th>4</th>\n",
       "      <td>Color</td>\n",
       "      <td>Brad Peyton</td>\n",
       "      <td>178.0</td>\n",
       "      <td>94.0</td>\n",
       "      <td>62.0</td>\n",
       "      <td>722.0</td>\n",
       "      <td>Dwayne Johnson</td>\n",
       "      <td>14000.0</td>\n",
       "      <td>103812241.0</td>\n",
       "      <td>Action|Adventure|Comedy|Family|Fantasy|Sci-Fi</td>\n",
       "      <td>...</td>\n",
       "      <td>3.0</td>\n",
       "      <td>3</td>\n",
       "      <td>9.46307</td>\n",
       "      <td>1050.0</td>\n",
       "      <td>5.8</td>\n",
       "      <td>6.475240</td>\n",
       "      <td>01</td>\n",
       "      <td>0</td>\n",
       "      <td>0</td>\n",
       "      <td>0</td>\n",
       "    </tr>\n",
       "  </tbody>\n",
       "</table>\n",
       "<p>5 rows × 49 columns</p>\n",
       "</div>"
      ],
      "text/plain": [
       "   color    director_name  num_critic_for_reviews  duration  \\\n",
       "0  Color    James Cameron                   723.0     178.0   \n",
       "1  Color  Stephen Sommers                   106.0     106.0   \n",
       "2  Color  Terrence Malick                   222.0     150.0   \n",
       "3  Color    Brian Robbins                    76.0      98.0   \n",
       "4  Color      Brad Peyton                   178.0      94.0   \n",
       "\n",
       "   director_facebook_likes  actor_3_facebook_likes      actor_2_name  \\\n",
       "0                      0.0                   855.0  Joel David Moore   \n",
       "1                    208.0                   855.0     Jason Flemyng   \n",
       "2                      0.0                   855.0  Michael Greyeyes   \n",
       "3                     48.0                   722.0  Joel David Moore   \n",
       "4                     62.0                   722.0    Dwayne Johnson   \n",
       "\n",
       "   actor_1_facebook_likes        gross  \\\n",
       "0                  1000.0  760505847.0   \n",
       "1                  3000.0   11146409.0   \n",
       "2                 23000.0   12712093.0   \n",
       "3                 21000.0   61112916.0   \n",
       "4                 14000.0  103812241.0   \n",
       "\n",
       "                                          genres   ...     \\\n",
       "0                Action|Adventure|Fantasy|Sci-Fi   ...      \n",
       "1                 Action|Adventure|Horror|Sci-Fi   ...      \n",
       "2                Biography|Drama|History|Romance   ...      \n",
       "3                          Comedy|Family|Fantasy   ...      \n",
       "4  Action|Adventure|Comedy|Family|Fantasy|Sci-Fi   ...      \n",
       "\n",
       "  production_companies_count genres_count  popularity  vote_count  \\\n",
       "0                        4.0            4  185.070892     12114.0   \n",
       "1                        3.0            4    6.922458       155.0   \n",
       "2                        5.0            3    7.694502       336.0   \n",
       "3                        3.0            2    4.878907       138.0   \n",
       "4                        3.0            3     9.46307      1050.0   \n",
       "\n",
       "  vote_average  total_actor_starpower release_month holiday_month  tot_noms  \\\n",
       "0          7.2               5.334665            12             1         0   \n",
       "1          6.0              10.933174            01             0         0   \n",
       "2          6.4              11.013046            12             1         0   \n",
       "3          4.5              13.698882            03             0         1   \n",
       "4          5.8               6.475240            01             0         0   \n",
       "\n",
       "  tot_wins  \n",
       "0        0  \n",
       "1        0  \n",
       "2        0  \n",
       "3        0  \n",
       "4        0  \n",
       "\n",
       "[5 rows x 49 columns]"
      ]
     },
     "execution_count": 2,
     "metadata": {},
     "output_type": "execute_result"
    }
   ],
   "source": [
    "# create connection to database\n",
    "warnings.filterwarnings('ignore')\n",
    "\n",
    "con = sqlite3.connect(\"db/movies.db\")\n",
    "sql = f\"\"\"\n",
    "   SELECT * FROM movie_data\n",
    "   \"\"\"\n",
    "\n",
    "# bring in db to pandas dataframe\n",
    "movieDf = pd.read_sql(sql, con)\n",
    "movieDf.head()"
   ]
  },
  {
   "cell_type": "code",
   "execution_count": 3,
   "metadata": {
    "collapsed": true
   },
   "outputs": [
    {
     "name": "stdout",
     "output_type": "stream",
     "text": [
      "actor_1_facebook_likes\n",
      "actor_1_name\n",
      "actor_1_score\n",
      "actor_2_facebook_likes\n",
      "actor_2_name\n",
      "actor_2_score\n",
      "actor_3_facebook_likes\n",
      "actor_3_name\n",
      "actor_3_score\n",
      "aspect_ratio\n",
      "budget\n",
      "cast_total_facebook_likes\n",
      "color\n",
      "content_rating\n",
      "country\n",
      "director_facebook_likes\n",
      "director_name\n",
      "director_score\n",
      "duration\n",
      "facenumber_in_poster\n",
      "genres\n",
      "genres_count\n",
      "gross\n",
      "gross_margin\n",
      "holiday_month\n",
      "imdb_num_code\n",
      "imdb_score\n",
      "language\n",
      "movie_facebook_likes\n",
      "movie_imdb_link\n",
      "movie_title\n",
      "num_critic_for_reviews\n",
      "num_user_for_reviews\n",
      "num_voted_users\n",
      "plot_keywords\n",
      "popularity\n",
      "production_companies_count\n",
      "rating_numeric\n",
      "release_date\n",
      "release_month\n",
      "revenue\n",
      "success_bins\n",
      "successful\n",
      "title_year\n",
      "tot_noms\n",
      "tot_wins\n",
      "total_actor_starpower\n",
      "vote_average\n",
      "vote_count\n"
     ]
    }
   ],
   "source": [
    "# review columns\n",
    "for col in movieDf.columns.sort_values().values:\n",
    "    print(col)"
   ]
  },
  {
   "cell_type": "code",
   "execution_count": 28,
   "metadata": {},
   "outputs": [
    {
     "data": {
      "text/html": [
       "<div>\n",
       "<style scoped>\n",
       "    .dataframe tbody tr th:only-of-type {\n",
       "        vertical-align: middle;\n",
       "    }\n",
       "\n",
       "    .dataframe tbody tr th {\n",
       "        vertical-align: top;\n",
       "    }\n",
       "\n",
       "    .dataframe thead th {\n",
       "        text-align: right;\n",
       "    }\n",
       "</style>\n",
       "<table border=\"1\" class=\"dataframe\">\n",
       "  <thead>\n",
       "    <tr style=\"text-align: right;\">\n",
       "      <th></th>\n",
       "      <th>duration</th>\n",
       "      <th>facenumber_in_poster</th>\n",
       "      <th>rating_numeric</th>\n",
       "      <th>budget</th>\n",
       "      <th>revenue</th>\n",
       "      <th>gross_margin</th>\n",
       "      <th>successful</th>\n",
       "      <th>director_score</th>\n",
       "      <th>production_companies_count</th>\n",
       "      <th>total_actor_starpower</th>\n",
       "      <th>release_month</th>\n",
       "      <th>holiday_month</th>\n",
       "      <th>tot_wins</th>\n",
       "      <th>tot_noms</th>\n",
       "    </tr>\n",
       "  </thead>\n",
       "  <tbody>\n",
       "    <tr>\n",
       "      <th>0</th>\n",
       "      <td>178.0</td>\n",
       "      <td>0.0</td>\n",
       "      <td>3</td>\n",
       "      <td>237000000.0</td>\n",
       "      <td>523505847.0</td>\n",
       "      <td>0.688365</td>\n",
       "      <td>1</td>\n",
       "      <td>3.091853</td>\n",
       "      <td>4.0</td>\n",
       "      <td>5.334665</td>\n",
       "      <td>12</td>\n",
       "      <td>1</td>\n",
       "      <td>0</td>\n",
       "      <td>0</td>\n",
       "    </tr>\n",
       "    <tr>\n",
       "      <th>1</th>\n",
       "      <td>106.0</td>\n",
       "      <td>0.0</td>\n",
       "      <td>4</td>\n",
       "      <td>45000000.0</td>\n",
       "      <td>-33853591.0</td>\n",
       "      <td>-3.037175</td>\n",
       "      <td>0</td>\n",
       "      <td>1.766773</td>\n",
       "      <td>3.0</td>\n",
       "      <td>10.933174</td>\n",
       "      <td>01</td>\n",
       "      <td>0</td>\n",
       "      <td>0</td>\n",
       "      <td>0</td>\n",
       "    </tr>\n",
       "    <tr>\n",
       "      <th>2</th>\n",
       "      <td>150.0</td>\n",
       "      <td>0.0</td>\n",
       "      <td>3</td>\n",
       "      <td>30000000.0</td>\n",
       "      <td>-17287907.0</td>\n",
       "      <td>-1.359958</td>\n",
       "      <td>0</td>\n",
       "      <td>1.325080</td>\n",
       "      <td>5.0</td>\n",
       "      <td>11.013046</td>\n",
       "      <td>12</td>\n",
       "      <td>1</td>\n",
       "      <td>0</td>\n",
       "      <td>0</td>\n",
       "    </tr>\n",
       "    <tr>\n",
       "      <th>3</th>\n",
       "      <td>98.0</td>\n",
       "      <td>0.0</td>\n",
       "      <td>2</td>\n",
       "      <td>50000000.0</td>\n",
       "      <td>11112916.0</td>\n",
       "      <td>0.181842</td>\n",
       "      <td>1</td>\n",
       "      <td>2.650160</td>\n",
       "      <td>3.0</td>\n",
       "      <td>13.698882</td>\n",
       "      <td>03</td>\n",
       "      <td>0</td>\n",
       "      <td>0</td>\n",
       "      <td>1</td>\n",
       "    </tr>\n",
       "    <tr>\n",
       "      <th>4</th>\n",
       "      <td>94.0</td>\n",
       "      <td>3.0</td>\n",
       "      <td>2</td>\n",
       "      <td>79000000.0</td>\n",
       "      <td>24812241.0</td>\n",
       "      <td>0.239011</td>\n",
       "      <td>1</td>\n",
       "      <td>1.325080</td>\n",
       "      <td>3.0</td>\n",
       "      <td>6.475240</td>\n",
       "      <td>01</td>\n",
       "      <td>0</td>\n",
       "      <td>0</td>\n",
       "      <td>0</td>\n",
       "    </tr>\n",
       "    <tr>\n",
       "      <th>5</th>\n",
       "      <td>146.0</td>\n",
       "      <td>4.0</td>\n",
       "      <td>4</td>\n",
       "      <td>100000000.0</td>\n",
       "      <td>-4671063.0</td>\n",
       "      <td>-0.048999</td>\n",
       "      <td>0</td>\n",
       "      <td>0.441693</td>\n",
       "      <td>4.0</td>\n",
       "      <td>3.409212</td>\n",
       "      <td>05</td>\n",
       "      <td>0</td>\n",
       "      <td>1</td>\n",
       "      <td>2</td>\n",
       "    </tr>\n",
       "    <tr>\n",
       "      <th>6</th>\n",
       "      <td>90.0</td>\n",
       "      <td>0.0</td>\n",
       "      <td>3</td>\n",
       "      <td>25000000.0</td>\n",
       "      <td>-6139597.0</td>\n",
       "      <td>-0.325528</td>\n",
       "      <td>0</td>\n",
       "      <td>2.650160</td>\n",
       "      <td>1.0</td>\n",
       "      <td>2.816560</td>\n",
       "      <td>09</td>\n",
       "      <td>0</td>\n",
       "      <td>0</td>\n",
       "      <td>0</td>\n",
       "    </tr>\n",
       "    <tr>\n",
       "      <th>7</th>\n",
       "      <td>121.0</td>\n",
       "      <td>0.0</td>\n",
       "      <td>4</td>\n",
       "      <td>83000000.0</td>\n",
       "      <td>-16137932.0</td>\n",
       "      <td>-0.241362</td>\n",
       "      <td>0</td>\n",
       "      <td>2.208466</td>\n",
       "      <td>1.0</td>\n",
       "      <td>6.499734</td>\n",
       "      <td>11</td>\n",
       "      <td>1</td>\n",
       "      <td>0</td>\n",
       "      <td>0</td>\n",
       "    </tr>\n",
       "    <tr>\n",
       "      <th>8</th>\n",
       "      <td>101.0</td>\n",
       "      <td>1.0</td>\n",
       "      <td>4</td>\n",
       "      <td>42000000.0</td>\n",
       "      <td>-28791977.0</td>\n",
       "      <td>-2.179885</td>\n",
       "      <td>0</td>\n",
       "      <td>0.883387</td>\n",
       "      <td>8.0</td>\n",
       "      <td>3.409212</td>\n",
       "      <td>08</td>\n",
       "      <td>0</td>\n",
       "      <td>0</td>\n",
       "      <td>0</td>\n",
       "    </tr>\n",
       "    <tr>\n",
       "      <th>9</th>\n",
       "      <td>110.0</td>\n",
       "      <td>1.0</td>\n",
       "      <td>4</td>\n",
       "      <td>45000000.0</td>\n",
       "      <td>25001065.0</td>\n",
       "      <td>0.357153</td>\n",
       "      <td>1</td>\n",
       "      <td>0.883387</td>\n",
       "      <td>4.0</td>\n",
       "      <td>3.409212</td>\n",
       "      <td>08</td>\n",
       "      <td>0</td>\n",
       "      <td>0</td>\n",
       "      <td>0</td>\n",
       "    </tr>\n",
       "  </tbody>\n",
       "</table>\n",
       "</div>"
      ],
      "text/plain": [
       "   duration  facenumber_in_poster  rating_numeric       budget      revenue  \\\n",
       "0     178.0                   0.0               3  237000000.0  523505847.0   \n",
       "1     106.0                   0.0               4   45000000.0  -33853591.0   \n",
       "2     150.0                   0.0               3   30000000.0  -17287907.0   \n",
       "3      98.0                   0.0               2   50000000.0   11112916.0   \n",
       "4      94.0                   3.0               2   79000000.0   24812241.0   \n",
       "5     146.0                   4.0               4  100000000.0   -4671063.0   \n",
       "6      90.0                   0.0               3   25000000.0   -6139597.0   \n",
       "7     121.0                   0.0               4   83000000.0  -16137932.0   \n",
       "8     101.0                   1.0               4   42000000.0  -28791977.0   \n",
       "9     110.0                   1.0               4   45000000.0   25001065.0   \n",
       "\n",
       "   gross_margin  successful  director_score  production_companies_count  \\\n",
       "0      0.688365           1        3.091853                         4.0   \n",
       "1     -3.037175           0        1.766773                         3.0   \n",
       "2     -1.359958           0        1.325080                         5.0   \n",
       "3      0.181842           1        2.650160                         3.0   \n",
       "4      0.239011           1        1.325080                         3.0   \n",
       "5     -0.048999           0        0.441693                         4.0   \n",
       "6     -0.325528           0        2.650160                         1.0   \n",
       "7     -0.241362           0        2.208466                         1.0   \n",
       "8     -2.179885           0        0.883387                         8.0   \n",
       "9      0.357153           1        0.883387                         4.0   \n",
       "\n",
       "   total_actor_starpower release_month  holiday_month  tot_wins  tot_noms  \n",
       "0               5.334665            12              1         0         0  \n",
       "1              10.933174            01              0         0         0  \n",
       "2              11.013046            12              1         0         0  \n",
       "3              13.698882            03              0         0         1  \n",
       "4               6.475240            01              0         0         0  \n",
       "5               3.409212            05              0         1         2  \n",
       "6               2.816560            09              0         0         0  \n",
       "7               6.499734            11              1         0         0  \n",
       "8               3.409212            08              0         0         0  \n",
       "9               3.409212            08              0         0         0  "
      ]
     },
     "execution_count": 28,
     "metadata": {},
     "output_type": "execute_result"
    }
   ],
   "source": [
    "# create table for model purposes\n",
    "modelDf = movieDf[[\"duration\",\"facenumber_in_poster\",\"rating_numeric\",\"budget\",\"revenue\",\"gross_margin\", \n",
    "                   \"successful\",\"director_score\",\"production_companies_count\",\"total_actor_starpower\",\"release_month\",\n",
    "                   \"holiday_month\",\"tot_wins\",\"tot_noms\"]]\n",
    "modelDf = modelDf.dropna()\n",
    "modelDf.head(10)"
   ]
  },
  {
   "cell_type": "code",
   "execution_count": 29,
   "metadata": {},
   "outputs": [
    {
     "data": {
      "text/plain": [
       "1    1950\n",
       "0    1687\n",
       "Name: successful, dtype: int64"
      ]
     },
     "execution_count": 29,
     "metadata": {},
     "output_type": "execute_result"
    }
   ],
   "source": [
    "modelDf[\"successful\"].value_counts()"
   ]
  },
  {
   "cell_type": "code",
   "execution_count": 30,
   "metadata": {},
   "outputs": [
    {
     "name": "stdout",
     "output_type": "stream",
     "text": [
      "(3637, 7) (3637, 1)\n"
     ]
    }
   ],
   "source": [
    "# Assign X (data) and y (target)\n",
    "X = modelDf[[\"rating_numeric\",\"director_score\",\"production_companies_count\",\"total_actor_starpower\",\"release_month\",\n",
    "             \"tot_wins\",\"tot_noms\"]]\n",
    "y = modelDf[\"successful\"].values.reshape(-1, 1)\n",
    "print(X.shape, y.shape)"
   ]
  },
  {
   "cell_type": "code",
   "execution_count": 31,
   "metadata": {},
   "outputs": [],
   "source": [
    "# split the training and testing data\n",
    "X_train, X_test, y_train, y_test = train_test_split(X, y, random_state=1158, train_size=0.80, stratify=y)\n",
    "\n",
    "# Create a StandardScater model and fit it to the training data\n",
    "X_scaler = StandardScaler().fit(X_train)"
   ]
  },
  {
   "cell_type": "code",
   "execution_count": 32,
   "metadata": {},
   "outputs": [
    {
     "data": {
      "text/plain": [
       "1    390\n",
       "0    338\n",
       "Name: 0, dtype: int64"
      ]
     },
     "execution_count": 32,
     "metadata": {},
     "output_type": "execute_result"
    }
   ],
   "source": [
    "pd.DataFrame(y_test)[0].value_counts()"
   ]
  },
  {
   "cell_type": "code",
   "execution_count": 33,
   "metadata": {},
   "outputs": [],
   "source": [
    "# transform the data\n",
    "X_train_scaled = X_scaler.transform(X_train)\n",
    "X_test_scaled = X_scaler.transform(X_test)"
   ]
  },
  {
   "cell_type": "markdown",
   "metadata": {},
   "source": [
    "# Logistic Regression Model "
   ]
  },
  {
   "cell_type": "code",
   "execution_count": 34,
   "metadata": {},
   "outputs": [
    {
     "data": {
      "text/plain": [
       "LogisticRegression(C=1.0, class_weight=None, dual=False, fit_intercept=True,\n",
       "                   intercept_scaling=1, l1_ratio=None, max_iter=100,\n",
       "                   multi_class='warn', n_jobs=None, penalty='l2',\n",
       "                   random_state=None, solver='warn', tol=0.0001, verbose=0,\n",
       "                   warm_start=False)"
      ]
     },
     "execution_count": 34,
     "metadata": {},
     "output_type": "execute_result"
    }
   ],
   "source": [
    "#build logistic model \n",
    "model = LogisticRegression()\n",
    "\n",
    "#fit on training data\n",
    "model.fit(X_train_scaled, y_train)"
   ]
  },
  {
   "cell_type": "code",
   "execution_count": 35,
   "metadata": {},
   "outputs": [
    {
     "name": "stdout",
     "output_type": "stream",
     "text": [
      "testing_score: 0.5563186813186813\n"
     ]
    }
   ],
   "source": [
    "# Use our model to predict a value\n",
    "predicted = model.predict(X_test_scaled)\n",
    "\n",
    "# Score the prediction with mse and r2\n",
    "mse = mean_squared_error(y_test, predicted)\n",
    "r2 = r2_score(y_test, predicted)\n",
    "testing_score = model.score(X_test_scaled,y_test)\n",
    "\n",
    "print(f\"testing_score: {testing_score}\")"
   ]
  },
  {
   "cell_type": "markdown",
   "metadata": {},
   "source": [
    "# Deep Neural Network"
   ]
  },
  {
   "cell_type": "code",
   "execution_count": 36,
   "metadata": {},
   "outputs": [],
   "source": [
    "# creating the empty squential network\n",
    "modelNN = Sequential()"
   ]
  },
  {
   "cell_type": "code",
   "execution_count": 37,
   "metadata": {},
   "outputs": [
    {
     "name": "stdout",
     "output_type": "stream",
     "text": [
      "WARNING:tensorflow:From /anaconda3/lib/python3.7/site-packages/tensorflow/python/ops/resource_variable_ops.py:435: colocate_with (from tensorflow.python.framework.ops) is deprecated and will be removed in a future version.\n",
      "Instructions for updating:\n",
      "Colocations handled automatically by placer.\n"
     ]
    }
   ],
   "source": [
    "# Add the first layer where the input dimensions are features used in the model\n",
    "modelNN.add(Dense(units=21, activation='relu', input_dim=7))"
   ]
  },
  {
   "cell_type": "code",
   "execution_count": 38,
   "metadata": {},
   "outputs": [],
   "source": [
    "# Add the hidden layer\n",
    "modelNN.add(Dense(units=21, activation='relu'))"
   ]
  },
  {
   "cell_type": "code",
   "execution_count": 39,
   "metadata": {},
   "outputs": [],
   "source": [
    "# Add output layer, 2 units for \"classes\" of output, i.e. Yes or No \n",
    "modelNN.add(Dense(units=2, activation='softmax'))"
   ]
  },
  {
   "cell_type": "code",
   "execution_count": 40,
   "metadata": {},
   "outputs": [],
   "source": [
    "# Compile the model using the adaptive learning rate optimizer \"adam\", spare_categorical_crossentropy\n",
    "# for the loss function since we did not one-hot encode the labels and used accuracy for the training metrics.\n",
    "modelNN.compile(optimizer='adagrad',\n",
    "              loss='sparse_categorical_crossentropy',\n",
    "              metrics=['accuracy'])"
   ]
  },
  {
   "cell_type": "code",
   "execution_count": 41,
   "metadata": {},
   "outputs": [
    {
     "name": "stdout",
     "output_type": "stream",
     "text": [
      "Epoch 1/200\n",
      " - 0s - loss: 0.6897 - acc: 0.5438\n",
      "Epoch 2/200\n",
      " - 0s - loss: 0.6813 - acc: 0.5624\n",
      "Epoch 3/200\n",
      " - 0s - loss: 0.6792 - acc: 0.5638\n",
      "Epoch 4/200\n",
      " - 0s - loss: 0.6775 - acc: 0.5703\n",
      "Epoch 5/200\n",
      " - 0s - loss: 0.6765 - acc: 0.5717\n",
      "Epoch 6/200\n",
      " - 0s - loss: 0.6756 - acc: 0.5730\n",
      "Epoch 7/200\n",
      " - 0s - loss: 0.6746 - acc: 0.5693\n",
      "Epoch 8/200\n",
      " - 0s - loss: 0.6743 - acc: 0.5789\n",
      "Epoch 9/200\n",
      " - 0s - loss: 0.6737 - acc: 0.5782\n",
      "Epoch 10/200\n",
      " - 0s - loss: 0.6731 - acc: 0.5820\n",
      "Epoch 11/200\n",
      " - 0s - loss: 0.6727 - acc: 0.5827\n",
      "Epoch 12/200\n",
      " - 0s - loss: 0.6722 - acc: 0.5844\n",
      "Epoch 13/200\n",
      " - 0s - loss: 0.6718 - acc: 0.5837\n",
      "Epoch 14/200\n",
      " - 0s - loss: 0.6713 - acc: 0.5840\n",
      "Epoch 15/200\n",
      " - 0s - loss: 0.6709 - acc: 0.5834\n",
      "Epoch 16/200\n",
      " - 0s - loss: 0.6705 - acc: 0.5827\n",
      "Epoch 17/200\n",
      " - 0s - loss: 0.6702 - acc: 0.5875\n",
      "Epoch 18/200\n",
      " - 0s - loss: 0.6698 - acc: 0.5861\n",
      "Epoch 19/200\n",
      " - 0s - loss: 0.6694 - acc: 0.5858\n",
      "Epoch 20/200\n",
      " - 0s - loss: 0.6688 - acc: 0.5878\n",
      "Epoch 21/200\n",
      " - 0s - loss: 0.6686 - acc: 0.5909\n",
      "Epoch 22/200\n",
      " - 0s - loss: 0.6683 - acc: 0.5923\n",
      "Epoch 23/200\n",
      " - 0s - loss: 0.6678 - acc: 0.5923\n",
      "Epoch 24/200\n",
      " - 0s - loss: 0.6675 - acc: 0.5937\n",
      "Epoch 25/200\n",
      " - 0s - loss: 0.6671 - acc: 0.5944\n",
      "Epoch 26/200\n",
      " - 0s - loss: 0.6668 - acc: 0.5933\n",
      "Epoch 27/200\n",
      " - 0s - loss: 0.6665 - acc: 0.5971\n",
      "Epoch 28/200\n",
      " - 0s - loss: 0.6662 - acc: 0.5964\n",
      "Epoch 29/200\n",
      " - 0s - loss: 0.6659 - acc: 0.5978\n",
      "Epoch 30/200\n",
      " - 0s - loss: 0.6656 - acc: 0.5964\n",
      "Epoch 31/200\n",
      " - 0s - loss: 0.6654 - acc: 0.6002\n",
      "Epoch 32/200\n",
      " - 0s - loss: 0.6651 - acc: 0.6002\n",
      "Epoch 33/200\n",
      " - 0s - loss: 0.6649 - acc: 0.6005\n",
      "Epoch 34/200\n",
      " - 0s - loss: 0.6647 - acc: 0.5999\n",
      "Epoch 35/200\n",
      " - 0s - loss: 0.6644 - acc: 0.6023\n",
      "Epoch 36/200\n",
      " - 0s - loss: 0.6642 - acc: 0.6016\n",
      "Epoch 37/200\n",
      " - 0s - loss: 0.6640 - acc: 0.5985\n",
      "Epoch 38/200\n",
      " - 0s - loss: 0.6638 - acc: 0.6009\n",
      "Epoch 39/200\n",
      " - 0s - loss: 0.6636 - acc: 0.6012\n",
      "Epoch 40/200\n",
      " - 0s - loss: 0.6634 - acc: 0.5992\n",
      "Epoch 41/200\n",
      " - 0s - loss: 0.6632 - acc: 0.6016\n",
      "Epoch 42/200\n",
      " - 0s - loss: 0.6630 - acc: 0.6005\n",
      "Epoch 43/200\n",
      " - 0s - loss: 0.6628 - acc: 0.6009\n",
      "Epoch 44/200\n",
      " - 0s - loss: 0.6626 - acc: 0.6019\n",
      "Epoch 45/200\n",
      " - 0s - loss: 0.6624 - acc: 0.6009\n",
      "Epoch 46/200\n",
      " - 0s - loss: 0.6623 - acc: 0.6023\n",
      "Epoch 47/200\n",
      " - 0s - loss: 0.6620 - acc: 0.6043\n",
      "Epoch 48/200\n",
      " - 0s - loss: 0.6619 - acc: 0.6005\n",
      "Epoch 49/200\n",
      " - 0s - loss: 0.6618 - acc: 0.6016\n",
      "Epoch 50/200\n",
      " - 0s - loss: 0.6616 - acc: 0.6019\n",
      "Epoch 51/200\n",
      " - 0s - loss: 0.6614 - acc: 0.6002\n",
      "Epoch 52/200\n",
      " - 0s - loss: 0.6614 - acc: 0.6036\n",
      "Epoch 53/200\n",
      " - 0s - loss: 0.6611 - acc: 0.6019\n",
      "Epoch 54/200\n",
      " - 0s - loss: 0.6609 - acc: 0.6023\n",
      "Epoch 55/200\n",
      " - 0s - loss: 0.6609 - acc: 0.6030\n",
      "Epoch 56/200\n",
      " - 0s - loss: 0.6606 - acc: 0.6033\n",
      "Epoch 57/200\n",
      " - 0s - loss: 0.6605 - acc: 0.6023\n",
      "Epoch 58/200\n",
      " - 0s - loss: 0.6604 - acc: 0.6047\n",
      "Epoch 59/200\n",
      " - 0s - loss: 0.6602 - acc: 0.6036\n",
      "Epoch 60/200\n",
      " - 0s - loss: 0.6601 - acc: 0.6033\n",
      "Epoch 61/200\n",
      " - 0s - loss: 0.6600 - acc: 0.6016\n",
      "Epoch 62/200\n",
      " - 0s - loss: 0.6598 - acc: 0.6050\n",
      "Epoch 63/200\n",
      " - 0s - loss: 0.6596 - acc: 0.6067\n",
      "Epoch 64/200\n",
      " - 0s - loss: 0.6595 - acc: 0.6054\n",
      "Epoch 65/200\n",
      " - 0s - loss: 0.6594 - acc: 0.6026\n",
      "Epoch 66/200\n",
      " - 0s - loss: 0.6592 - acc: 0.6019\n",
      "Epoch 67/200\n",
      " - 0s - loss: 0.6591 - acc: 0.6030\n",
      "Epoch 68/200\n",
      " - 0s - loss: 0.6590 - acc: 0.6026\n",
      "Epoch 69/200\n",
      " - 0s - loss: 0.6588 - acc: 0.6033\n",
      "Epoch 70/200\n",
      " - 0s - loss: 0.6588 - acc: 0.6043\n",
      "Epoch 71/200\n",
      " - 0s - loss: 0.6586 - acc: 0.6012\n",
      "Epoch 72/200\n",
      " - 0s - loss: 0.6585 - acc: 0.6019\n",
      "Epoch 73/200\n",
      " - 0s - loss: 0.6584 - acc: 0.6036\n",
      "Epoch 74/200\n",
      " - 0s - loss: 0.6582 - acc: 0.6023\n",
      "Epoch 75/200\n",
      " - 0s - loss: 0.6581 - acc: 0.6009\n",
      "Epoch 76/200\n",
      " - 0s - loss: 0.6580 - acc: 0.6050\n",
      "Epoch 77/200\n",
      " - 0s - loss: 0.6579 - acc: 0.6047\n",
      "Epoch 78/200\n",
      " - 0s - loss: 0.6577 - acc: 0.6030\n",
      "Epoch 79/200\n",
      " - 0s - loss: 0.6576 - acc: 0.6019\n",
      "Epoch 80/200\n",
      " - 0s - loss: 0.6575 - acc: 0.6030\n",
      "Epoch 81/200\n",
      " - 0s - loss: 0.6574 - acc: 0.6057\n",
      "Epoch 82/200\n",
      " - 0s - loss: 0.6573 - acc: 0.6054\n",
      "Epoch 83/200\n",
      " - 0s - loss: 0.6572 - acc: 0.6030\n",
      "Epoch 84/200\n",
      " - 0s - loss: 0.6570 - acc: 0.6026\n",
      "Epoch 85/200\n",
      " - 0s - loss: 0.6570 - acc: 0.6009\n",
      "Epoch 86/200\n",
      " - 0s - loss: 0.6568 - acc: 0.6043\n",
      "Epoch 87/200\n",
      " - 0s - loss: 0.6567 - acc: 0.6033\n",
      "Epoch 88/200\n",
      " - 0s - loss: 0.6566 - acc: 0.6040\n",
      "Epoch 89/200\n",
      " - 0s - loss: 0.6565 - acc: 0.6047\n",
      "Epoch 90/200\n",
      " - 0s - loss: 0.6564 - acc: 0.6009\n",
      "Epoch 91/200\n",
      " - 0s - loss: 0.6562 - acc: 0.6043\n",
      "Epoch 92/200\n",
      " - 0s - loss: 0.6561 - acc: 0.6067\n",
      "Epoch 93/200\n",
      " - 0s - loss: 0.6561 - acc: 0.6030\n",
      "Epoch 94/200\n",
      " - 0s - loss: 0.6560 - acc: 0.6043\n",
      "Epoch 95/200\n",
      " - 0s - loss: 0.6558 - acc: 0.6054\n",
      "Epoch 96/200\n",
      " - 0s - loss: 0.6557 - acc: 0.6054\n",
      "Epoch 97/200\n",
      " - 0s - loss: 0.6556 - acc: 0.6040\n",
      "Epoch 98/200\n",
      " - 0s - loss: 0.6555 - acc: 0.6054\n",
      "Epoch 99/200\n",
      " - 0s - loss: 0.6554 - acc: 0.6040\n",
      "Epoch 100/200\n",
      " - 0s - loss: 0.6553 - acc: 0.6067\n",
      "Epoch 101/200\n",
      " - 0s - loss: 0.6552 - acc: 0.6040\n",
      "Epoch 102/200\n",
      " - 0s - loss: 0.6551 - acc: 0.6067\n",
      "Epoch 103/200\n",
      " - 0s - loss: 0.6550 - acc: 0.6054\n",
      "Epoch 104/200\n",
      " - 0s - loss: 0.6549 - acc: 0.6078\n",
      "Epoch 105/200\n",
      " - 0s - loss: 0.6548 - acc: 0.6078\n",
      "Epoch 106/200\n",
      " - 0s - loss: 0.6547 - acc: 0.6040\n",
      "Epoch 107/200\n",
      " - 0s - loss: 0.6546 - acc: 0.6043\n",
      "Epoch 108/200\n",
      " - 0s - loss: 0.6545 - acc: 0.6074\n",
      "Epoch 109/200\n",
      " - 0s - loss: 0.6544 - acc: 0.6085\n",
      "Epoch 110/200\n",
      " - 0s - loss: 0.6544 - acc: 0.6098\n",
      "Epoch 111/200\n",
      " - 0s - loss: 0.6543 - acc: 0.6054\n",
      "Epoch 112/200\n",
      " - 0s - loss: 0.6542 - acc: 0.6081\n",
      "Epoch 113/200\n",
      " - 0s - loss: 0.6540 - acc: 0.6078\n",
      "Epoch 114/200\n",
      " - 0s - loss: 0.6540 - acc: 0.6057\n",
      "Epoch 115/200\n",
      " - 0s - loss: 0.6538 - acc: 0.6030\n",
      "Epoch 116/200\n",
      " - 0s - loss: 0.6538 - acc: 0.6071\n",
      "Epoch 117/200\n",
      " - 0s - loss: 0.6537 - acc: 0.6047\n",
      "Epoch 118/200\n",
      " - 0s - loss: 0.6536 - acc: 0.6088\n",
      "Epoch 119/200\n",
      " - 0s - loss: 0.6535 - acc: 0.6081\n",
      "Epoch 120/200\n",
      " - 0s - loss: 0.6534 - acc: 0.6074\n",
      "Epoch 121/200\n",
      " - 0s - loss: 0.6534 - acc: 0.6088\n",
      "Epoch 122/200\n",
      " - 0s - loss: 0.6533 - acc: 0.6064\n",
      "Epoch 123/200\n",
      " - 0s - loss: 0.6532 - acc: 0.6085\n",
      "Epoch 124/200\n",
      " - 0s - loss: 0.6531 - acc: 0.6067\n",
      "Epoch 125/200\n",
      " - 0s - loss: 0.6530 - acc: 0.6047\n",
      "Epoch 126/200\n",
      " - 0s - loss: 0.6529 - acc: 0.6064\n",
      "Epoch 127/200\n",
      " - 0s - loss: 0.6529 - acc: 0.6078\n",
      "Epoch 128/200\n",
      " - 0s - loss: 0.6528 - acc: 0.6057\n",
      "Epoch 129/200\n",
      " - 0s - loss: 0.6527 - acc: 0.6071\n",
      "Epoch 130/200\n",
      " - 0s - loss: 0.6526 - acc: 0.6061\n",
      "Epoch 131/200\n",
      " - 0s - loss: 0.6526 - acc: 0.6085\n",
      "Epoch 132/200\n",
      " - 0s - loss: 0.6524 - acc: 0.6078\n",
      "Epoch 133/200\n",
      " - 0s - loss: 0.6524 - acc: 0.6071\n",
      "Epoch 134/200\n",
      " - 0s - loss: 0.6523 - acc: 0.6067\n",
      "Epoch 135/200\n",
      " - 0s - loss: 0.6523 - acc: 0.6085\n",
      "Epoch 136/200\n",
      " - 0s - loss: 0.6522 - acc: 0.6057\n",
      "Epoch 137/200\n",
      " - 0s - loss: 0.6521 - acc: 0.6054\n",
      "Epoch 138/200\n",
      " - 0s - loss: 0.6520 - acc: 0.6064\n",
      "Epoch 139/200\n",
      " - 0s - loss: 0.6520 - acc: 0.6088\n",
      "Epoch 140/200\n",
      " - 0s - loss: 0.6518 - acc: 0.6074\n",
      "Epoch 141/200\n",
      " - 0s - loss: 0.6518 - acc: 0.6074\n",
      "Epoch 142/200\n",
      " - 0s - loss: 0.6517 - acc: 0.6098\n",
      "Epoch 143/200\n",
      " - 0s - loss: 0.6516 - acc: 0.6074\n",
      "Epoch 144/200\n",
      " - 0s - loss: 0.6516 - acc: 0.6074\n",
      "Epoch 145/200\n",
      " - 0s - loss: 0.6515 - acc: 0.6095\n",
      "Epoch 146/200\n",
      " - 0s - loss: 0.6514 - acc: 0.6109\n",
      "Epoch 147/200\n",
      " - 0s - loss: 0.6513 - acc: 0.6067\n",
      "Epoch 148/200\n",
      " - 0s - loss: 0.6512 - acc: 0.6074\n",
      "Epoch 149/200\n",
      " - 0s - loss: 0.6512 - acc: 0.6085\n",
      "Epoch 150/200\n",
      " - 0s - loss: 0.6511 - acc: 0.6074\n",
      "Epoch 151/200\n",
      " - 0s - loss: 0.6510 - acc: 0.6067\n",
      "Epoch 152/200\n",
      " - 0s - loss: 0.6509 - acc: 0.6091\n",
      "Epoch 153/200\n",
      " - 0s - loss: 0.6509 - acc: 0.6091\n",
      "Epoch 154/200\n",
      " - 0s - loss: 0.6509 - acc: 0.6102\n",
      "Epoch 155/200\n",
      " - 0s - loss: 0.6507 - acc: 0.6091\n",
      "Epoch 156/200\n",
      " - 0s - loss: 0.6507 - acc: 0.6091\n",
      "Epoch 157/200\n",
      " - 0s - loss: 0.6506 - acc: 0.6098\n",
      "Epoch 158/200\n",
      " - 0s - loss: 0.6505 - acc: 0.6078\n",
      "Epoch 159/200\n",
      " - 0s - loss: 0.6505 - acc: 0.6088\n",
      "Epoch 160/200\n",
      " - 0s - loss: 0.6504 - acc: 0.6074\n",
      "Epoch 161/200\n",
      " - 0s - loss: 0.6504 - acc: 0.6071\n",
      "Epoch 162/200\n",
      " - 0s - loss: 0.6503 - acc: 0.6098\n",
      "Epoch 163/200\n",
      " - 0s - loss: 0.6502 - acc: 0.6088\n",
      "Epoch 164/200\n",
      " - 0s - loss: 0.6501 - acc: 0.6085\n",
      "Epoch 165/200\n",
      " - 0s - loss: 0.6501 - acc: 0.6091\n",
      "Epoch 166/200\n",
      " - 0s - loss: 0.6500 - acc: 0.6095\n",
      "Epoch 167/200\n",
      " - 0s - loss: 0.6500 - acc: 0.6098\n",
      "Epoch 168/200\n",
      " - 0s - loss: 0.6499 - acc: 0.6078\n",
      "Epoch 169/200\n",
      " - 0s - loss: 0.6498 - acc: 0.6116\n",
      "Epoch 170/200\n",
      " - 0s - loss: 0.6497 - acc: 0.6112\n"
     ]
    },
    {
     "name": "stdout",
     "output_type": "stream",
     "text": [
      "Epoch 171/200\n",
      " - 0s - loss: 0.6496 - acc: 0.6095\n",
      "Epoch 172/200\n",
      " - 0s - loss: 0.6496 - acc: 0.6078\n",
      "Epoch 173/200\n",
      " - 0s - loss: 0.6495 - acc: 0.6102\n",
      "Epoch 174/200\n",
      " - 0s - loss: 0.6495 - acc: 0.6091\n",
      "Epoch 175/200\n",
      " - 0s - loss: 0.6494 - acc: 0.6078\n",
      "Epoch 176/200\n",
      " - 0s - loss: 0.6493 - acc: 0.6122\n",
      "Epoch 177/200\n",
      " - 0s - loss: 0.6493 - acc: 0.6085\n",
      "Epoch 178/200\n",
      " - 0s - loss: 0.6492 - acc: 0.6085\n",
      "Epoch 179/200\n",
      " - 0s - loss: 0.6492 - acc: 0.6098\n",
      "Epoch 180/200\n",
      " - 0s - loss: 0.6491 - acc: 0.6126\n",
      "Epoch 181/200\n",
      " - 0s - loss: 0.6490 - acc: 0.6081\n",
      "Epoch 182/200\n",
      " - 0s - loss: 0.6489 - acc: 0.6109\n",
      "Epoch 183/200\n",
      " - 0s - loss: 0.6489 - acc: 0.6126\n",
      "Epoch 184/200\n",
      " - 0s - loss: 0.6488 - acc: 0.6112\n",
      "Epoch 185/200\n",
      " - 0s - loss: 0.6487 - acc: 0.6081\n",
      "Epoch 186/200\n",
      " - 0s - loss: 0.6487 - acc: 0.6116\n",
      "Epoch 187/200\n",
      " - 0s - loss: 0.6486 - acc: 0.6146\n",
      "Epoch 188/200\n",
      " - 0s - loss: 0.6486 - acc: 0.6095\n",
      "Epoch 189/200\n",
      " - 0s - loss: 0.6485 - acc: 0.6098\n",
      "Epoch 190/200\n",
      " - 0s - loss: 0.6485 - acc: 0.6102\n",
      "Epoch 191/200\n",
      " - 0s - loss: 0.6484 - acc: 0.6116\n",
      "Epoch 192/200\n",
      " - 0s - loss: 0.6483 - acc: 0.6133\n",
      "Epoch 193/200\n",
      " - 0s - loss: 0.6483 - acc: 0.6122\n",
      "Epoch 194/200\n",
      " - 0s - loss: 0.6482 - acc: 0.6102\n",
      "Epoch 195/200\n",
      " - 0s - loss: 0.6481 - acc: 0.6126\n",
      "Epoch 196/200\n",
      " - 0s - loss: 0.6481 - acc: 0.6109\n",
      "Epoch 197/200\n",
      " - 0s - loss: 0.6480 - acc: 0.6140\n",
      "Epoch 198/200\n",
      " - 0s - loss: 0.6479 - acc: 0.6109\n",
      "Epoch 199/200\n",
      " - 0s - loss: 0.6479 - acc: 0.6112\n",
      "Epoch 200/200\n",
      " - 0s - loss: 0.6479 - acc: 0.6112\n"
     ]
    },
    {
     "data": {
      "text/plain": [
       "<tensorflow.python.keras.callbacks.History at 0x1a30f04f28>"
      ]
     },
     "execution_count": 41,
     "metadata": {},
     "output_type": "execute_result"
    }
   ],
   "source": [
    "# Use the training data to fit (train) the model\n",
    "modelNN.fit(\n",
    "    X_train_scaled,\n",
    "    y_train,\n",
    "    epochs=200,\n",
    "    shuffle=True,\n",
    "    verbose=2\n",
    ")"
   ]
  },
  {
   "cell_type": "code",
   "execution_count": 42,
   "metadata": {},
   "outputs": [
    {
     "name": "stdout",
     "output_type": "stream",
     "text": [
      " - 0s - loss: 0.6760 - acc: 0.5742\n",
      "Loss: 0.6759922550274775, Accuracy: 0.5741758346557617\n"
     ]
    }
   ],
   "source": [
    "# evaluate model by using test data\n",
    "model_loss, model_accuracy = modelNN.evaluate(\n",
    "    X_test_scaled, y_test, verbose=2)\n",
    "print(f\"Loss: {model_loss}, Accuracy: {model_accuracy}\")"
   ]
  },
  {
   "cell_type": "markdown",
   "metadata": {},
   "source": [
    "# Calculate ROC Curve vs Precision Recall Curve\n",
    "\n",
    "##### Generally, the use of ROC curves and precision-recall curves are as follows:\n",
    "#### ROC curves should be used when there are roughly equal numbers of observations for each class.\n",
    "#### Precision-Recall curves should be used when there is a moderate to large class imbalance."
   ]
  },
  {
   "cell_type": "code",
   "execution_count": 43,
   "metadata": {},
   "outputs": [],
   "source": [
    "# predict probabilities\n",
    "probs = modelNN.predict_proba(X_test_scaled)\n",
    "# keep probabilities for the positive outcome only\n",
    "probs = probs[:, 1]"
   ]
  },
  {
   "cell_type": "code",
   "execution_count": 44,
   "metadata": {},
   "outputs": [
    {
     "name": "stdout",
     "output_type": "stream",
     "text": [
      "AUC: 0.594\n"
     ]
    }
   ],
   "source": [
    "# calculate AUC\n",
    "auc = roc_auc_score(y_test, probs)\n",
    "print('AUC: %.3f' % auc)"
   ]
  },
  {
   "cell_type": "code",
   "execution_count": 45,
   "metadata": {},
   "outputs": [],
   "source": [
    "# calculate roc curve\n",
    "fpr, tpr, thresholds = roc_curve(y_test, probs)"
   ]
  },
  {
   "cell_type": "code",
   "execution_count": 46,
   "metadata": {},
   "outputs": [
    {
     "data": {
      "image/png": "[encoded data removed]",
      "text/plain": [
       "<Figure size 432x288 with 1 Axes>"
      ]
     },
     "metadata": {
      "needs_background": "light"
     },
     "output_type": "display_data"
    }
   ],
   "source": [
    "# plot no skill\n",
    "pyplot.plot([0, 1], [0, 1], linestyle='--')\n",
    "# plot the roc curve for the model\n",
    "pyplot.plot(fpr, tpr, marker='.')\n",
    "# show the plot\n",
    "pyplot.show()"
   ]
  },
  {
   "cell_type": "markdown",
   "metadata": {},
   "source": [
    "# Precision Recall Curve"
   ]
  },
  {
   "cell_type": "code",
   "execution_count": 47,
   "metadata": {},
   "outputs": [
    {
     "ename": "TypeError",
     "evalue": "'numpy.float64' object is not callable",
     "output_type": "error",
     "traceback": [
      "\u001b[0;31m---------------------------------------------------------------------------\u001b[0m",
      "\u001b[0;31mTypeError\u001b[0m                                 Traceback (most recent call last)",
      "\u001b[0;32m<ipython-input-47-94c61ad12502>\u001b[0m in \u001b[0;36m<module>\u001b[0;34m()\u001b[0m\n\u001b[1;32m      6\u001b[0m \u001b[0mf1\u001b[0m \u001b[0;34m=\u001b[0m \u001b[0mf1_score\u001b[0m\u001b[0;34m(\u001b[0m\u001b[0my_test\u001b[0m\u001b[0;34m,\u001b[0m \u001b[0myClass\u001b[0m\u001b[0;34m)\u001b[0m\u001b[0;34m\u001b[0m\u001b[0;34m\u001b[0m\u001b[0m\n\u001b[1;32m      7\u001b[0m \u001b[0;31m# calculate precision-recall AUC\u001b[0m\u001b[0;34m\u001b[0m\u001b[0;34m\u001b[0m\u001b[0;34m\u001b[0m\u001b[0m\n\u001b[0;32m----> 8\u001b[0;31m \u001b[0mauc\u001b[0m \u001b[0;34m=\u001b[0m \u001b[0mauc\u001b[0m\u001b[0;34m(\u001b[0m\u001b[0mrecall\u001b[0m\u001b[0;34m,\u001b[0m \u001b[0mprecision\u001b[0m\u001b[0;34m)\u001b[0m\u001b[0;34m\u001b[0m\u001b[0;34m\u001b[0m\u001b[0m\n\u001b[0m\u001b[1;32m      9\u001b[0m \u001b[0;31m# calculate average precision score\u001b[0m\u001b[0;34m\u001b[0m\u001b[0;34m\u001b[0m\u001b[0;34m\u001b[0m\u001b[0m\n\u001b[1;32m     10\u001b[0m \u001b[0map\u001b[0m \u001b[0;34m=\u001b[0m \u001b[0maverage_precision_score\u001b[0m\u001b[0;34m(\u001b[0m\u001b[0my_test\u001b[0m\u001b[0;34m,\u001b[0m \u001b[0mprobs\u001b[0m\u001b[0;34m)\u001b[0m\u001b[0;34m\u001b[0m\u001b[0;34m\u001b[0m\u001b[0m\n",
      "\u001b[0;31mTypeError\u001b[0m: 'numpy.float64' object is not callable"
     ]
    }
   ],
   "source": [
    "# predict class values\n",
    "yClass = model.predict(X_test_scaled)\n",
    "# calculate precision-recall curve\n",
    "precision, recall, thresholds = precision_recall_curve(y_test, probs)\n",
    "# calculate F1 score\n",
    "f1 = f1_score(y_test, yClass)\n",
    "# calculate precision-recall AUC\n",
    "auc = auc(recall, precision)\n",
    "# calculate average precision score\n",
    "ap = average_precision_score(y_test, probs)\n",
    "print('f1=%.3f auc=%.3f ap=%.3f' % (f1, auc, ap))"
   ]
  },
  {
   "cell_type": "code",
   "execution_count": 54,
   "metadata": {},
   "outputs": [
    {
     "data": {
      "image/png": "[encoded data removed]",
      "text/plain": [
       "<Figure size 432x288 with 1 Axes>"
      ]
     },
     "metadata": {
      "needs_background": "light"
     },
     "output_type": "display_data"
    }
   ],
   "source": [
    "# plot no skill\n",
    "pyplot.plot([0, 1], [0.5, 0.5], linestyle='--')\n",
    "# plot the precision-recall curve for the model\n",
    "pyplot.plot(recall, precision, marker='.')\n",
    "# show the plot\n",
    "pyplot.show()"
   ]
  },
  {
   "cell_type": "markdown",
   "metadata": {},
   "source": [
    "# Decision Tree Model w/o Hyper Parameter Tuning"
   ]
  },
  {
   "cell_type": "code",
   "execution_count": 48,
   "metadata": {},
   "outputs": [],
   "source": [
    "# create model instance\n",
    "modelDT = tree.DecisionTreeClassifier()"
   ]
  },
  {
   "cell_type": "code",
   "execution_count": 49,
   "metadata": {},
   "outputs": [],
   "source": [
    "# Fit the classifier to the data\n",
    "modelDT = modelDT.fit(X_train_scaled, y_train)"
   ]
  },
  {
   "cell_type": "code",
   "execution_count": 51,
   "metadata": {},
   "outputs": [
    {
     "name": "stdout",
     "output_type": "stream",
     "text": [
      "Decision Tree Score: 0.5604395604395604\n"
     ]
    }
   ],
   "source": [
    "# Calculate the R2 score for the test data\n",
    "score = modelDT.score(X_test_scaled, y_test)\n",
    "\n",
    "print(f\"Decision Tree Score: {score}\")"
   ]
  },
  {
   "cell_type": "markdown",
   "metadata": {},
   "source": [
    "# Decision Tree Model w/ Hyper Parameter Tuning"
   ]
  },
  {
   "cell_type": "code",
   "execution_count": 70,
   "metadata": {},
   "outputs": [],
   "source": [
    "# create model instance\n",
    "modelDT1 = tree.DecisionTreeClassifier(random_state=1234)"
   ]
  },
  {
   "cell_type": "code",
   "execution_count": 71,
   "metadata": {},
   "outputs": [],
   "source": [
    "# define hyper parameters Set\n",
    "params = {'max_features': ['auto', 'sqrt', 'log2'],\n",
    "          'min_samples_split': [2,3,4,5,6,7,8,9,10,11,12,13,14,15], \n",
    "          'min_samples_leaf':[1,2,3,4,5,6,7,8,9,10,11],\n",
    "          'random_state':[123]}"
   ]
  },
  {
   "cell_type": "code",
   "execution_count": 72,
   "metadata": {},
   "outputs": [],
   "source": [
    "# compile models with hyper parameters sets\n",
    "modelDT1 = GridSearchCV(modelDT1, param_grid=params, n_jobs=-1)"
   ]
  },
  {
   "cell_type": "code",
   "execution_count": 73,
   "metadata": {},
   "outputs": [
    {
     "data": {
      "text/plain": [
       "GridSearchCV(cv='warn', error_score='raise-deprecating',\n",
       "             estimator=DecisionTreeClassifier(class_weight=None,\n",
       "                                              criterion='gini', max_depth=None,\n",
       "                                              max_features=None,\n",
       "                                              max_leaf_nodes=None,\n",
       "                                              min_impurity_decrease=0.0,\n",
       "                                              min_impurity_split=None,\n",
       "                                              min_samples_leaf=1,\n",
       "                                              min_samples_split=2,\n",
       "                                              min_weight_fraction_leaf=0.0,\n",
       "                                              presort=False, random_state=1234,\n",
       "                                              splitter='best'),\n",
       "             iid='warn', n_jobs=-1,\n",
       "             param_grid={'max_features': ['auto', 'sqrt', 'log2'],\n",
       "                         'min_samples_leaf': [1, 2, 3, 4, 5, 6, 7, 8, 9, 10,\n",
       "                                              11],\n",
       "                         'min_samples_split': [2, 3, 4, 5, 6, 7, 8, 9, 10, 11,\n",
       "                                               12, 13, 14, 15],\n",
       "                         'random_state': [123]},\n",
       "             pre_dispatch='2*n_jobs', refit=True, return_train_score=False,\n",
       "             scoring=None, verbose=0)"
      ]
     },
     "execution_count": 73,
     "metadata": {},
     "output_type": "execute_result"
    }
   ],
   "source": [
    "# train the hyper parameter tuned DT model with the training data\n",
    "modelDT1.fit(X_train_scaled,y_train)"
   ]
  },
  {
   "cell_type": "code",
   "execution_count": 82,
   "metadata": {},
   "outputs": [
    {
     "name": "stdout",
     "output_type": "stream",
     "text": [
      "Best Hyper Parameters: {'max_features': 'auto', 'min_samples_leaf': 11, 'min_samples_split': 2, 'random_state': 123}\n",
      "Accuracy: 0.5508241758241759\n"
     ]
    }
   ],
   "source": [
    "# print best parameters within the tuned DT model\n",
    "print(f\"Best Hyper Parameters: {modelDT1.best_params_}\")\n",
    "\n",
    "# make predictions with tuned DT model\n",
    "predictionDT1 = modelDT1.predict(X_test_scaled)\n",
    "\n",
    "# print accuracy (score) of tuned DT model\n",
    "print(f\"Accuracy: {metrics.accuracy_score(predictionDT1,y_test)}\")"
   ]
  },
  {
   "cell_type": "markdown",
   "metadata": {},
   "source": [
    "# Random Forest Model w/o Hyper Parameter Tuning"
   ]
  },
  {
   "cell_type": "code",
   "execution_count": 88,
   "metadata": {},
   "outputs": [
    {
     "name": "stdout",
     "output_type": "stream",
     "text": [
      "RF Score: 0.5618131868131868\n"
     ]
    }
   ],
   "source": [
    "# Create the RF instance\n",
    "rf = RandomForestClassifier(n_estimators=200)\n",
    "\n",
    "# fit the RF model with training data\n",
    "rf = rf.fit(X_train_scaled, y_train)\n",
    "\n",
    "# score the RF model using testing data\n",
    "print(f\"RF Score: {rf.score(X_test_scaled,y_test)}\")"
   ]
  },
  {
   "cell_type": "markdown",
   "metadata": {},
   "source": [
    "# Random Forest Model w/ Hyper Parameter Tuning"
   ]
  },
  {
   "cell_type": "code",
   "execution_count": 93,
   "metadata": {},
   "outputs": [],
   "source": [
    "# Create the RF instance\n",
    "rf1 = RandomForestClassifier()"
   ]
  },
  {
   "cell_type": "code",
   "execution_count": 94,
   "metadata": {},
   "outputs": [],
   "source": [
    "#Hyper Parameters Set for decision tree\n",
    "params = {'criterion':['gini','entropy'],\n",
    "          'n_estimators':[50,100,200],\n",
    "          'min_samples_leaf':[1,2,3],\n",
    "          'min_samples_split':[3,4,5,6,7], \n",
    "          'random_state':[123],\n",
    "          'n_jobs':[-1]}"
   ]
  },
  {
   "cell_type": "code",
   "execution_count": 95,
   "metadata": {},
   "outputs": [],
   "source": [
    "# create models with hyper parameters sets\n",
    "modelRf1 = GridSearchCV(rf1, param_grid=params, n_jobs=-1)"
   ]
  },
  {
   "cell_type": "code",
   "execution_count": 96,
   "metadata": {},
   "outputs": [
    {
     "data": {
      "text/plain": [
       "GridSearchCV(cv='warn', error_score='raise-deprecating',\n",
       "             estimator=RandomForestClassifier(bootstrap=True, class_weight=None,\n",
       "                                              criterion='gini', max_depth=None,\n",
       "                                              max_features='auto',\n",
       "                                              max_leaf_nodes=None,\n",
       "                                              min_impurity_decrease=0.0,\n",
       "                                              min_impurity_split=None,\n",
       "                                              min_samples_leaf=1,\n",
       "                                              min_samples_split=2,\n",
       "                                              min_weight_fraction_leaf=0.0,\n",
       "                                              n_estimators='warn', n_jobs=None,\n",
       "                                              oob_score=False,\n",
       "                                              random_state=None, verbose=0,\n",
       "                                              warm_start=False),\n",
       "             iid='warn', n_jobs=-1,\n",
       "             param_grid={'criterion': ['gini', 'entropy'],\n",
       "                         'min_samples_leaf': [1, 2, 3],\n",
       "                         'min_samples_split': [3, 4, 5, 6, 7],\n",
       "                         'n_estimators': [50, 100, 200], 'n_jobs': [-1],\n",
       "                         'random_state': [123]},\n",
       "             pre_dispatch='2*n_jobs', refit=True, return_train_score=False,\n",
       "             scoring=None, verbose=0)"
      ]
     },
     "execution_count": 96,
     "metadata": {},
     "output_type": "execute_result"
    }
   ],
   "source": [
    "# train the hyper parameter tuned RF model with the training data\n",
    "modelRf1.fit(X_train_scaled,y_train)"
   ]
  },
  {
   "cell_type": "code",
   "execution_count": 116,
   "metadata": {},
   "outputs": [
    {
     "name": "stdout",
     "output_type": "stream",
     "text": [
      "Best Hyper Parameters: {'criterion': 'gini', 'min_samples_leaf': 1, 'min_samples_split': 7, 'n_estimators': 100, 'n_jobs': -1, 'random_state': 123}\n",
      "\n",
      "\n",
      "Accuracy: 0.5714285714285714\n"
     ]
    }
   ],
   "source": [
    "# print best  hyper parameters set\n",
    "print(f\"Best Hyper Parameters: {modelRf1.best_params_}\")\n",
    "\n",
    "# make predicition with test data\n",
    "predictionRf1 = modelRf1.predict(X_test_scaled)\n",
    "\n",
    "# print score for tuned RF model\n",
    "print(f\"\\n\")\n",
    "print(f\"Accuracy: {metrics.accuracy_score(predictionRf1,y_test)}\")"
   ]
  },
  {
   "cell_type": "code",
   "execution_count": 109,
   "metadata": {},
   "outputs": [
    {
     "name": "stdout",
     "output_type": "stream",
     "text": [
      "Tuned RF Model Feature Importances:\n",
      "[0.0737611  0.15846131 0.15838497 0.31665917 0.18101607 0.02833611\n",
      " 0.08338128]\n"
     ]
    }
   ],
   "source": [
    "print(f\"Tuned RF Model Feature Importances:\\n{modelRf1.best_estimator_.feature_importances_}\")"
   ]
  },
  {
   "cell_type": "code",
   "execution_count": 115,
   "metadata": {},
   "outputs": [
    {
     "data": {
      "image/png": "[encoded data removed]",
      "text/plain": [
       "<Figure size 432x288 with 1 Axes>"
      ]
     },
     "metadata": {
      "needs_background": "light"
     },
     "output_type": "display_data"
    }
   ],
   "source": [
    "#plot graph of feature importances for better visualization\n",
    "feat_importances = pd.Series(modelRf1.best_estimator_.feature_importances_, index=X.columns)\n",
    "feat_importances.nlargest(10).plot(kind='barh')\n",
    "plt.show()"
   ]
  },
  {
   "cell_type": "markdown",
   "metadata": {},
   "source": [
    "# Support Vector Machine w/o Hyper Parameter Tuning"
   ]
  },
  {
   "cell_type": "code",
   "execution_count": 11,
   "metadata": {},
   "outputs": [
    {
     "data": {
      "text/plain": [
       "SVC(C=1.0, cache_size=200, class_weight=None, coef0=0.0,\n",
       "    decision_function_shape='ovr', degree=3, gamma='auto_deprecated',\n",
       "    kernel='poly', max_iter=-1, probability=False, random_state=None,\n",
       "    shrinking=True, tol=0.001, verbose=False)"
      ]
     },
     "execution_count": 11,
     "metadata": {},
     "output_type": "execute_result"
    }
   ],
   "source": [
    "# Create a support vector machine linear classifer and fit it to the training data.\n",
    "\n",
    "target_names = [\"not successful\", \"successful\"]\n",
    "\n",
    "modelSVC1 = SVC(kernel='linear')\n",
    "modelSVC1.fit(X_train_scaled, y_train)\n",
    "\n",
    "modelSVC2 = SVC(kernel='rbf')\n",
    "modelSVC2.fit(X_train_scaled, y_train)\n",
    "\n",
    "modelSVC3 = SVC(kernel='poly')\n",
    "modelSVC3.fit(X_train_scaled, y_train)"
   ]
  },
  {
   "cell_type": "code",
   "execution_count": 12,
   "metadata": {},
   "outputs": [
    {
     "name": "stdout",
     "output_type": "stream",
     "text": [
      "Linear SVC Model: 0.521978021978022\n",
      "RBF SVC Model: 0.45604395604395603\n",
      "Polynomial SVC Model: 0.4684065934065934\n"
     ]
    }
   ],
   "source": [
    "# Print model scores using the test data to compare\n",
    "print(f\"Linear SVC Model: {modelSVC1.score(X_test,y_test)}\")\n",
    "print(f\"RBF SVC Model: {modelSVC2.score(X_test,y_test)}\")\n",
    "print(f\"Polynomial SVC Model: {modelSVC3.score(X_test,y_test)}\")"
   ]
  },
  {
   "cell_type": "markdown",
   "metadata": {},
   "source": [
    "# Support Vector Machine w/ Hyper Parameter Tuning"
   ]
  },
  {
   "cell_type": "code",
   "execution_count": 119,
   "metadata": {},
   "outputs": [],
   "source": [
    "# create support vector classifier \n",
    "modelSVC = SVC()\n",
    "\n",
    "#defining hyper parameters\n",
    "params = {'C': [5,6,7,8,9,10], \n",
    "          'kernel': ['linear','rbf'],\n",
    "          'gamma': [0.1,1,10,100]}\n",
    "\n",
    "#Making models with hyper parameters sets\n",
    "modelSVC = GridSearchCV(modelSVC, param_grid=params, n_jobs=-1)"
   ]
  },
  {
   "cell_type": "code",
   "execution_count": 120,
   "metadata": {},
   "outputs": [
    {
     "data": {
      "text/plain": [
       "GridSearchCV(cv='warn', error_score='raise-deprecating',\n",
       "             estimator=SVC(C=1.0, cache_size=200, class_weight=None, coef0=0.0,\n",
       "                           decision_function_shape='ovr', degree=3,\n",
       "                           gamma='auto_deprecated', kernel='rbf', max_iter=-1,\n",
       "                           probability=False, random_state=None, shrinking=True,\n",
       "                           tol=0.001, verbose=False),\n",
       "             iid='warn', n_jobs=-1,\n",
       "             param_grid={'C': [5, 6, 7, 8, 9, 10], 'gamma': [0.1, 1, 10, 100],\n",
       "                         'kernel': ['linear', 'rbf']},\n",
       "             pre_dispatch='2*n_jobs', refit=True, return_train_score=False,\n",
       "             scoring=None, verbose=0)"
      ]
     },
     "execution_count": 120,
     "metadata": {},
     "output_type": "execute_result"
    }
   ],
   "source": [
    "#Learning\n",
    "modelSVC.fit(X_train_scaled,y_train)"
   ]
  },
  {
   "cell_type": "code",
   "execution_count": 121,
   "metadata": {},
   "outputs": [
    {
     "name": "stdout",
     "output_type": "stream",
     "text": [
      "Best Hyper Parameters: {'C': 5, 'gamma': 0.1, 'kernel': 'linear'}\n"
     ]
    }
   ],
   "source": [
    "#The best hyper parameters set\n",
    "print(f\"Best Hyper Parameters: {modelSVC.best_params_}\")"
   ]
  },
  {
   "cell_type": "code",
   "execution_count": 122,
   "metadata": {},
   "outputs": [],
   "source": [
    "# make prediction using test data\n",
    "prediction = modelSVC.predict(X_test_scaled)"
   ]
  },
  {
   "cell_type": "code",
   "execution_count": 123,
   "metadata": {},
   "outputs": [
    {
     "name": "stdout",
     "output_type": "stream",
     "text": [
      "Accuracy: 0.5467032967032966\n"
     ]
    }
   ],
   "source": [
    "#evaluation(Accuracy)\n",
    "print(f\"Accuracy: {metrics.accuracy_score(prediction,y_test)}\")"
   ]
  },
  {
   "cell_type": "markdown",
   "metadata": {},
   "source": [
    "# Summary of Models and Scores"
   ]
  },
  {
   "cell_type": "code",
   "execution_count": 118,
   "metadata": {},
   "outputs": [
    {
     "name": "stdout",
     "output_type": "stream",
     "text": [
      "Models WITHOUT Hyper Parameter Tuning\n",
      "------------------\n",
      "Decision Tree: 0.5604395604395604\n",
      "Random Forest: 0.5618131868131868\n",
      "Support Vector Machine: 0.521978021978022\n",
      "-------------------------\n",
      "Model scores WITH Hyper Parameter Tuning\n",
      "Decision Tree: 0.5508241758241759\n",
      "Random Forest: 0.5714285714285714\n",
      "Support Vector Machine: 0.5782967032967034\n"
     ]
    }
   ],
   "source": [
    "print(f\"Models WITHOUT Hyper Parameter Tuning\")\n",
    "print(f\"------------------\")\n",
    "print(f\"Decision Tree: {modelDT.score(X_test_scaled, y_test)}\")\n",
    "print(f\"Random Forest: {rf.score(X_test_scaled, y_test)}\")\n",
    "print(f\"Support Vector Machine: {modelSVC1.score(X_test,y_test)}\")\n",
    "\n",
    "\n",
    "print(\"-------------------------\")\n",
    "print(f\"Model scores WITH Hyper Parameter Tuning\")\n",
    "print(f\"Decision Tree: {metrics.accuracy_score(predictionDT1,y_test)}\")\n",
    "print(f\"Random Forest: {metrics.accuracy_score(predictionRf1,y_test)}\")\n",
    "print(f\"Support Vector Machine: {metrics.accuracy_score(prediction,y_test)}\")"
   ]
  },
  {
   "cell_type": "code",
   "execution_count": null,
   "metadata": {},
   "outputs": [],
   "source": []
  }
 ],
 "metadata": {
  "kernelspec": {
   "display_name": "Python 3",
   "language": "python",
   "name": "python3"
  },
  "language_info": {
   "codemirror_mode": {
    "name": "ipython",
    "version": 3
   },
   "file_extension": ".py",
   "mimetype": "text/x-python",
   "name": "python",
   "nbconvert_exporter": "python",
   "pygments_lexer": "ipython3",
   "version": "3.7.2"
  }
 },
 "nbformat": 4,
 "nbformat_minor": 2
}
