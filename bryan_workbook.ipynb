{
 "cells": [
  {
   "cell_type": "code",
   "execution_count": 1,
   "metadata": {},
   "outputs": [],
   "source": [
    "#import dependencies\n",
    "import requests\n",
    "import time\n",
    "import sqlite3\n",
    "import warnings\n",
    "import numpy as np\n",
    "import pandas as pd\n",
    "import matplotlib.pyplot as plt\n",
    "from pprint import pprint as pp\n",
    "from bs4 import BeautifulSoup as bs\n",
    "from sklearn import decomposition\n",
    "from sklearn.metrics import confusion_matrix\n",
    "from sklearn.ensemble import AdaBoostClassifier\n",
    "from sklearn.model_selection import train_test_split, GridSearchCV, KFold\n",
    "from sklearn.preprocessing import StandardScaler, MinMaxScaler\n",
    "from sklearn.linear_model import LinearRegression, LogisticRegression\n",
    "from sklearn.metrics import mean_squared_error, r2_score, roc_curve, roc_auc_score, f1_score, precision_recall_curve, average_precision_score, auc\n",
    "from sklearn.svm import SVC, SVR\n",
    "from sklearn import svm\n",
    "from sklearn import metrics\n",
    "from tensorflow.keras.models import Sequential\n",
    "from tensorflow.keras.utils import to_categorical\n",
    "from tensorflow.keras.layers import Dense\n",
    "from matplotlib import pyplot\n",
    "from sklearn import tree\n",
    "from sklearn.ensemble import RandomForestClassifier\n",
    "from sklearn.feature_extraction.text import CountVectorizer\n",
    "from sklearn.svm import LinearSVC"
   ]
  },
  {
   "cell_type": "code",
   "execution_count": 2,
   "metadata": {},
   "outputs": [
    {
     "data": {
      "text/html": [
       "<div>\n",
       "<style scoped>\n",
       "    .dataframe tbody tr th:only-of-type {\n",
       "        vertical-align: middle;\n",
       "    }\n",
       "\n",
       "    .dataframe tbody tr th {\n",
       "        vertical-align: top;\n",
       "    }\n",
       "\n",
       "    .dataframe thead th {\n",
       "        text-align: right;\n",
       "    }\n",
       "</style>\n",
       "<table border=\"1\" class=\"dataframe\">\n",
       "  <thead>\n",
       "    <tr style=\"text-align: right;\">\n",
       "      <th></th>\n",
       "      <th>color</th>\n",
       "      <th>director_name</th>\n",
       "      <th>num_critic_for_reviews</th>\n",
       "      <th>duration</th>\n",
       "      <th>director_facebook_likes</th>\n",
       "      <th>actor_3_facebook_likes</th>\n",
       "      <th>actor_2_name</th>\n",
       "      <th>actor_1_facebook_likes</th>\n",
       "      <th>gross</th>\n",
       "      <th>genres</th>\n",
       "      <th>...</th>\n",
       "      <th>rel_mon_04</th>\n",
       "      <th>rel_mon_05</th>\n",
       "      <th>rel_mon_06</th>\n",
       "      <th>rel_mon_07</th>\n",
       "      <th>rel_mon_08</th>\n",
       "      <th>rel_mon_09</th>\n",
       "      <th>rel_mon_10</th>\n",
       "      <th>rel_mon_11</th>\n",
       "      <th>rel_mon_12</th>\n",
       "      <th>release_month</th>\n",
       "    </tr>\n",
       "  </thead>\n",
       "  <tbody>\n",
       "    <tr>\n",
       "      <th>0</th>\n",
       "      <td>Color</td>\n",
       "      <td>James Cameron</td>\n",
       "      <td>723.0</td>\n",
       "      <td>178.0</td>\n",
       "      <td>0.0</td>\n",
       "      <td>855.0</td>\n",
       "      <td>Joel David Moore</td>\n",
       "      <td>1000.0</td>\n",
       "      <td>760505847.0</td>\n",
       "      <td>Action|Adventure|Fantasy|Sci-Fi</td>\n",
       "      <td>...</td>\n",
       "      <td>0</td>\n",
       "      <td>0</td>\n",
       "      <td>0</td>\n",
       "      <td>0</td>\n",
       "      <td>0</td>\n",
       "      <td>0</td>\n",
       "      <td>0</td>\n",
       "      <td>0</td>\n",
       "      <td>1</td>\n",
       "      <td>12</td>\n",
       "    </tr>\n",
       "    <tr>\n",
       "      <th>1</th>\n",
       "      <td>Color</td>\n",
       "      <td>Stephen Sommers</td>\n",
       "      <td>106.0</td>\n",
       "      <td>106.0</td>\n",
       "      <td>208.0</td>\n",
       "      <td>855.0</td>\n",
       "      <td>Jason Flemyng</td>\n",
       "      <td>3000.0</td>\n",
       "      <td>11146409.0</td>\n",
       "      <td>Action|Adventure|Horror|Sci-Fi</td>\n",
       "      <td>...</td>\n",
       "      <td>0</td>\n",
       "      <td>0</td>\n",
       "      <td>0</td>\n",
       "      <td>0</td>\n",
       "      <td>0</td>\n",
       "      <td>0</td>\n",
       "      <td>0</td>\n",
       "      <td>0</td>\n",
       "      <td>0</td>\n",
       "      <td>01</td>\n",
       "    </tr>\n",
       "    <tr>\n",
       "      <th>2</th>\n",
       "      <td>Color</td>\n",
       "      <td>Terrence Malick</td>\n",
       "      <td>222.0</td>\n",
       "      <td>150.0</td>\n",
       "      <td>0.0</td>\n",
       "      <td>855.0</td>\n",
       "      <td>Michael Greyeyes</td>\n",
       "      <td>23000.0</td>\n",
       "      <td>12712093.0</td>\n",
       "      <td>Biography|Drama|History|Romance</td>\n",
       "      <td>...</td>\n",
       "      <td>0</td>\n",
       "      <td>0</td>\n",
       "      <td>0</td>\n",
       "      <td>0</td>\n",
       "      <td>0</td>\n",
       "      <td>0</td>\n",
       "      <td>0</td>\n",
       "      <td>0</td>\n",
       "      <td>1</td>\n",
       "      <td>12</td>\n",
       "    </tr>\n",
       "    <tr>\n",
       "      <th>3</th>\n",
       "      <td>Color</td>\n",
       "      <td>Brian Robbins</td>\n",
       "      <td>76.0</td>\n",
       "      <td>98.0</td>\n",
       "      <td>48.0</td>\n",
       "      <td>722.0</td>\n",
       "      <td>Joel David Moore</td>\n",
       "      <td>21000.0</td>\n",
       "      <td>61112916.0</td>\n",
       "      <td>Comedy|Family|Fantasy</td>\n",
       "      <td>...</td>\n",
       "      <td>0</td>\n",
       "      <td>0</td>\n",
       "      <td>0</td>\n",
       "      <td>0</td>\n",
       "      <td>0</td>\n",
       "      <td>0</td>\n",
       "      <td>0</td>\n",
       "      <td>0</td>\n",
       "      <td>0</td>\n",
       "      <td>03</td>\n",
       "    </tr>\n",
       "    <tr>\n",
       "      <th>4</th>\n",
       "      <td>Color</td>\n",
       "      <td>Brad Peyton</td>\n",
       "      <td>178.0</td>\n",
       "      <td>94.0</td>\n",
       "      <td>62.0</td>\n",
       "      <td>722.0</td>\n",
       "      <td>Dwayne Johnson</td>\n",
       "      <td>14000.0</td>\n",
       "      <td>103812241.0</td>\n",
       "      <td>Action|Adventure|Comedy|Family|Fantasy|Sci-Fi</td>\n",
       "      <td>...</td>\n",
       "      <td>0</td>\n",
       "      <td>0</td>\n",
       "      <td>0</td>\n",
       "      <td>0</td>\n",
       "      <td>0</td>\n",
       "      <td>0</td>\n",
       "      <td>0</td>\n",
       "      <td>0</td>\n",
       "      <td>0</td>\n",
       "      <td>01</td>\n",
       "    </tr>\n",
       "  </tbody>\n",
       "</table>\n",
       "<p>5 rows × 61 columns</p>\n",
       "</div>"
      ],
      "text/plain": [
       "   color    director_name  num_critic_for_reviews  duration  \\\n",
       "0  Color    James Cameron                   723.0     178.0   \n",
       "1  Color  Stephen Sommers                   106.0     106.0   \n",
       "2  Color  Terrence Malick                   222.0     150.0   \n",
       "3  Color    Brian Robbins                    76.0      98.0   \n",
       "4  Color      Brad Peyton                   178.0      94.0   \n",
       "\n",
       "   director_facebook_likes  actor_3_facebook_likes      actor_2_name  \\\n",
       "0                      0.0                   855.0  Joel David Moore   \n",
       "1                    208.0                   855.0     Jason Flemyng   \n",
       "2                      0.0                   855.0  Michael Greyeyes   \n",
       "3                     48.0                   722.0  Joel David Moore   \n",
       "4                     62.0                   722.0    Dwayne Johnson   \n",
       "\n",
       "   actor_1_facebook_likes        gross  \\\n",
       "0                  1000.0  760505847.0   \n",
       "1                  3000.0   11146409.0   \n",
       "2                 23000.0   12712093.0   \n",
       "3                 21000.0   61112916.0   \n",
       "4                 14000.0  103812241.0   \n",
       "\n",
       "                                          genres      ...      rel_mon_04  \\\n",
       "0                Action|Adventure|Fantasy|Sci-Fi      ...               0   \n",
       "1                 Action|Adventure|Horror|Sci-Fi      ...               0   \n",
       "2                Biography|Drama|History|Romance      ...               0   \n",
       "3                          Comedy|Family|Fantasy      ...               0   \n",
       "4  Action|Adventure|Comedy|Family|Fantasy|Sci-Fi      ...               0   \n",
       "\n",
       "  rel_mon_05  rel_mon_06  rel_mon_07 rel_mon_08  rel_mon_09 rel_mon_10  \\\n",
       "0          0           0           0          0           0          0   \n",
       "1          0           0           0          0           0          0   \n",
       "2          0           0           0          0           0          0   \n",
       "3          0           0           0          0           0          0   \n",
       "4          0           0           0          0           0          0   \n",
       "\n",
       "  rel_mon_11  rel_mon_12 release_month  \n",
       "0          0           1            12  \n",
       "1          0           0            01  \n",
       "2          0           1            12  \n",
       "3          0           0            03  \n",
       "4          0           0            01  \n",
       "\n",
       "[5 rows x 61 columns]"
      ]
     },
     "execution_count": 2,
     "metadata": {},
     "output_type": "execute_result"
    }
   ],
   "source": [
    "# create connection to database\n",
    "warnings.filterwarnings('ignore')\n",
    "\n",
    "con = sqlite3.connect(\"db/movies.db\")\n",
    "sql = f\"\"\"\n",
    "   SELECT * FROM movie_data\n",
    "   \"\"\"\n",
    "\n",
    "# bring in db to pandas dataframe\n",
    "movieDf = pd.read_sql(sql, con)\n",
    "movieDf.head()"
   ]
  },
  {
   "cell_type": "code",
   "execution_count": 3,
   "metadata": {
    "scrolled": true
   },
   "outputs": [
    {
     "name": "stdout",
     "output_type": "stream",
     "text": [
      "actor_1_facebook_likes\n",
      "actor_1_name\n",
      "actor_1_score\n",
      "actor_2_facebook_likes\n",
      "actor_2_name\n",
      "actor_2_score\n",
      "actor_3_facebook_likes\n",
      "actor_3_name\n",
      "actor_3_score\n",
      "aspect_ratio\n",
      "budget\n",
      "cast_total_facebook_likes\n",
      "color\n",
      "content_rating\n",
      "country\n",
      "director_facebook_likes\n",
      "director_name\n",
      "director_score\n",
      "duration\n",
      "facenumber_in_poster\n",
      "genres\n",
      "genres_count\n",
      "gross\n",
      "gross_margin\n",
      "holiday_month\n",
      "imdb_num_code\n",
      "imdb_score\n",
      "language\n",
      "movie_facebook_likes\n",
      "movie_imdb_link\n",
      "movie_title\n",
      "num_critic_for_reviews\n",
      "num_user_for_reviews\n",
      "num_voted_users\n",
      "plot_keywords\n",
      "popularity\n",
      "production_companies_count\n",
      "rating_numeric\n",
      "rel_mon_01\n",
      "rel_mon_02\n",
      "rel_mon_03\n",
      "rel_mon_04\n",
      "rel_mon_05\n",
      "rel_mon_06\n",
      "rel_mon_07\n",
      "rel_mon_08\n",
      "rel_mon_09\n",
      "rel_mon_10\n",
      "rel_mon_11\n",
      "rel_mon_12\n",
      "release_date\n",
      "release_month\n",
      "revenue\n",
      "success_bins\n",
      "successful\n",
      "title_year\n",
      "tot_noms\n",
      "tot_wins\n",
      "total_actor_starpower\n",
      "vote_average\n",
      "vote_count\n"
     ]
    }
   ],
   "source": [
    "# review columns\n",
    "for col in movieDf.columns.sort_values().values:\n",
    "    print(col)"
   ]
  },
  {
   "cell_type": "code",
   "execution_count": 4,
   "metadata": {
    "collapsed": true
   },
   "outputs": [
    {
     "data": {
      "text/html": [
       "<div>\n",
       "<style scoped>\n",
       "    .dataframe tbody tr th:only-of-type {\n",
       "        vertical-align: middle;\n",
       "    }\n",
       "\n",
       "    .dataframe tbody tr th {\n",
       "        vertical-align: top;\n",
       "    }\n",
       "\n",
       "    .dataframe thead th {\n",
       "        text-align: right;\n",
       "    }\n",
       "</style>\n",
       "<table border=\"1\" class=\"dataframe\">\n",
       "  <thead>\n",
       "    <tr style=\"text-align: right;\">\n",
       "      <th></th>\n",
       "      <th>duration</th>\n",
       "      <th>rating_numeric</th>\n",
       "      <th>budget</th>\n",
       "      <th>revenue</th>\n",
       "      <th>gross_margin</th>\n",
       "      <th>successful</th>\n",
       "      <th>director_score</th>\n",
       "      <th>production_companies_count</th>\n",
       "      <th>total_actor_starpower</th>\n",
       "      <th>rel_mon_01</th>\n",
       "      <th>...</th>\n",
       "      <th>rel_mon_06</th>\n",
       "      <th>rel_mon_07</th>\n",
       "      <th>rel_mon_08</th>\n",
       "      <th>rel_mon_09</th>\n",
       "      <th>rel_mon_10</th>\n",
       "      <th>rel_mon_11</th>\n",
       "      <th>rel_mon_12</th>\n",
       "      <th>holiday_month</th>\n",
       "      <th>tot_wins</th>\n",
       "      <th>tot_noms</th>\n",
       "    </tr>\n",
       "  </thead>\n",
       "  <tbody>\n",
       "    <tr>\n",
       "      <th>0</th>\n",
       "      <td>178.0</td>\n",
       "      <td>3</td>\n",
       "      <td>237000000.0</td>\n",
       "      <td>523505847.0</td>\n",
       "      <td>0.688365</td>\n",
       "      <td>1</td>\n",
       "      <td>3.091853</td>\n",
       "      <td>4.0</td>\n",
       "      <td>5.334665</td>\n",
       "      <td>0</td>\n",
       "      <td>...</td>\n",
       "      <td>0</td>\n",
       "      <td>0</td>\n",
       "      <td>0</td>\n",
       "      <td>0</td>\n",
       "      <td>0</td>\n",
       "      <td>0</td>\n",
       "      <td>1</td>\n",
       "      <td>1</td>\n",
       "      <td>0</td>\n",
       "      <td>0</td>\n",
       "    </tr>\n",
       "    <tr>\n",
       "      <th>1</th>\n",
       "      <td>106.0</td>\n",
       "      <td>4</td>\n",
       "      <td>45000000.0</td>\n",
       "      <td>-33853591.0</td>\n",
       "      <td>-3.037175</td>\n",
       "      <td>0</td>\n",
       "      <td>1.766773</td>\n",
       "      <td>3.0</td>\n",
       "      <td>10.933174</td>\n",
       "      <td>1</td>\n",
       "      <td>...</td>\n",
       "      <td>0</td>\n",
       "      <td>0</td>\n",
       "      <td>0</td>\n",
       "      <td>0</td>\n",
       "      <td>0</td>\n",
       "      <td>0</td>\n",
       "      <td>0</td>\n",
       "      <td>0</td>\n",
       "      <td>0</td>\n",
       "      <td>0</td>\n",
       "    </tr>\n",
       "    <tr>\n",
       "      <th>2</th>\n",
       "      <td>150.0</td>\n",
       "      <td>3</td>\n",
       "      <td>30000000.0</td>\n",
       "      <td>-17287907.0</td>\n",
       "      <td>-1.359958</td>\n",
       "      <td>0</td>\n",
       "      <td>1.325080</td>\n",
       "      <td>5.0</td>\n",
       "      <td>11.013046</td>\n",
       "      <td>0</td>\n",
       "      <td>...</td>\n",
       "      <td>0</td>\n",
       "      <td>0</td>\n",
       "      <td>0</td>\n",
       "      <td>0</td>\n",
       "      <td>0</td>\n",
       "      <td>0</td>\n",
       "      <td>1</td>\n",
       "      <td>1</td>\n",
       "      <td>0</td>\n",
       "      <td>0</td>\n",
       "    </tr>\n",
       "    <tr>\n",
       "      <th>3</th>\n",
       "      <td>98.0</td>\n",
       "      <td>2</td>\n",
       "      <td>50000000.0</td>\n",
       "      <td>11112916.0</td>\n",
       "      <td>0.181842</td>\n",
       "      <td>1</td>\n",
       "      <td>2.650160</td>\n",
       "      <td>3.0</td>\n",
       "      <td>13.698882</td>\n",
       "      <td>0</td>\n",
       "      <td>...</td>\n",
       "      <td>0</td>\n",
       "      <td>0</td>\n",
       "      <td>0</td>\n",
       "      <td>0</td>\n",
       "      <td>0</td>\n",
       "      <td>0</td>\n",
       "      <td>0</td>\n",
       "      <td>0</td>\n",
       "      <td>0</td>\n",
       "      <td>1</td>\n",
       "    </tr>\n",
       "    <tr>\n",
       "      <th>4</th>\n",
       "      <td>94.0</td>\n",
       "      <td>2</td>\n",
       "      <td>79000000.0</td>\n",
       "      <td>24812241.0</td>\n",
       "      <td>0.239011</td>\n",
       "      <td>1</td>\n",
       "      <td>1.325080</td>\n",
       "      <td>3.0</td>\n",
       "      <td>6.475240</td>\n",
       "      <td>1</td>\n",
       "      <td>...</td>\n",
       "      <td>0</td>\n",
       "      <td>0</td>\n",
       "      <td>0</td>\n",
       "      <td>0</td>\n",
       "      <td>0</td>\n",
       "      <td>0</td>\n",
       "      <td>0</td>\n",
       "      <td>0</td>\n",
       "      <td>0</td>\n",
       "      <td>0</td>\n",
       "    </tr>\n",
       "    <tr>\n",
       "      <th>5</th>\n",
       "      <td>146.0</td>\n",
       "      <td>4</td>\n",
       "      <td>100000000.0</td>\n",
       "      <td>-4671063.0</td>\n",
       "      <td>-0.048999</td>\n",
       "      <td>0</td>\n",
       "      <td>0.441693</td>\n",
       "      <td>4.0</td>\n",
       "      <td>3.409212</td>\n",
       "      <td>0</td>\n",
       "      <td>...</td>\n",
       "      <td>0</td>\n",
       "      <td>0</td>\n",
       "      <td>0</td>\n",
       "      <td>0</td>\n",
       "      <td>0</td>\n",
       "      <td>0</td>\n",
       "      <td>0</td>\n",
       "      <td>0</td>\n",
       "      <td>1</td>\n",
       "      <td>2</td>\n",
       "    </tr>\n",
       "    <tr>\n",
       "      <th>6</th>\n",
       "      <td>90.0</td>\n",
       "      <td>3</td>\n",
       "      <td>25000000.0</td>\n",
       "      <td>-6139597.0</td>\n",
       "      <td>-0.325528</td>\n",
       "      <td>0</td>\n",
       "      <td>2.650160</td>\n",
       "      <td>1.0</td>\n",
       "      <td>2.816560</td>\n",
       "      <td>0</td>\n",
       "      <td>...</td>\n",
       "      <td>0</td>\n",
       "      <td>0</td>\n",
       "      <td>0</td>\n",
       "      <td>1</td>\n",
       "      <td>0</td>\n",
       "      <td>0</td>\n",
       "      <td>0</td>\n",
       "      <td>0</td>\n",
       "      <td>0</td>\n",
       "      <td>0</td>\n",
       "    </tr>\n",
       "    <tr>\n",
       "      <th>7</th>\n",
       "      <td>121.0</td>\n",
       "      <td>4</td>\n",
       "      <td>83000000.0</td>\n",
       "      <td>-16137932.0</td>\n",
       "      <td>-0.241362</td>\n",
       "      <td>0</td>\n",
       "      <td>2.208466</td>\n",
       "      <td>1.0</td>\n",
       "      <td>6.499734</td>\n",
       "      <td>0</td>\n",
       "      <td>...</td>\n",
       "      <td>0</td>\n",
       "      <td>0</td>\n",
       "      <td>0</td>\n",
       "      <td>0</td>\n",
       "      <td>0</td>\n",
       "      <td>1</td>\n",
       "      <td>0</td>\n",
       "      <td>1</td>\n",
       "      <td>0</td>\n",
       "      <td>0</td>\n",
       "    </tr>\n",
       "    <tr>\n",
       "      <th>8</th>\n",
       "      <td>101.0</td>\n",
       "      <td>4</td>\n",
       "      <td>42000000.0</td>\n",
       "      <td>-28791977.0</td>\n",
       "      <td>-2.179885</td>\n",
       "      <td>0</td>\n",
       "      <td>0.883387</td>\n",
       "      <td>8.0</td>\n",
       "      <td>3.409212</td>\n",
       "      <td>0</td>\n",
       "      <td>...</td>\n",
       "      <td>0</td>\n",
       "      <td>0</td>\n",
       "      <td>1</td>\n",
       "      <td>0</td>\n",
       "      <td>0</td>\n",
       "      <td>0</td>\n",
       "      <td>0</td>\n",
       "      <td>0</td>\n",
       "      <td>0</td>\n",
       "      <td>0</td>\n",
       "    </tr>\n",
       "    <tr>\n",
       "      <th>9</th>\n",
       "      <td>110.0</td>\n",
       "      <td>4</td>\n",
       "      <td>45000000.0</td>\n",
       "      <td>25001065.0</td>\n",
       "      <td>0.357153</td>\n",
       "      <td>1</td>\n",
       "      <td>0.883387</td>\n",
       "      <td>4.0</td>\n",
       "      <td>3.409212</td>\n",
       "      <td>0</td>\n",
       "      <td>...</td>\n",
       "      <td>0</td>\n",
       "      <td>0</td>\n",
       "      <td>1</td>\n",
       "      <td>0</td>\n",
       "      <td>0</td>\n",
       "      <td>0</td>\n",
       "      <td>0</td>\n",
       "      <td>0</td>\n",
       "      <td>0</td>\n",
       "      <td>0</td>\n",
       "    </tr>\n",
       "  </tbody>\n",
       "</table>\n",
       "<p>10 rows × 24 columns</p>\n",
       "</div>"
      ],
      "text/plain": [
       "   duration  rating_numeric       budget      revenue  gross_margin  \\\n",
       "0     178.0               3  237000000.0  523505847.0      0.688365   \n",
       "1     106.0               4   45000000.0  -33853591.0     -3.037175   \n",
       "2     150.0               3   30000000.0  -17287907.0     -1.359958   \n",
       "3      98.0               2   50000000.0   11112916.0      0.181842   \n",
       "4      94.0               2   79000000.0   24812241.0      0.239011   \n",
       "5     146.0               4  100000000.0   -4671063.0     -0.048999   \n",
       "6      90.0               3   25000000.0   -6139597.0     -0.325528   \n",
       "7     121.0               4   83000000.0  -16137932.0     -0.241362   \n",
       "8     101.0               4   42000000.0  -28791977.0     -2.179885   \n",
       "9     110.0               4   45000000.0   25001065.0      0.357153   \n",
       "\n",
       "   successful  director_score  production_companies_count  \\\n",
       "0           1        3.091853                         4.0   \n",
       "1           0        1.766773                         3.0   \n",
       "2           0        1.325080                         5.0   \n",
       "3           1        2.650160                         3.0   \n",
       "4           1        1.325080                         3.0   \n",
       "5           0        0.441693                         4.0   \n",
       "6           0        2.650160                         1.0   \n",
       "7           0        2.208466                         1.0   \n",
       "8           0        0.883387                         8.0   \n",
       "9           1        0.883387                         4.0   \n",
       "\n",
       "   total_actor_starpower  rel_mon_01    ...     rel_mon_06  rel_mon_07  \\\n",
       "0               5.334665           0    ...              0           0   \n",
       "1              10.933174           1    ...              0           0   \n",
       "2              11.013046           0    ...              0           0   \n",
       "3              13.698882           0    ...              0           0   \n",
       "4               6.475240           1    ...              0           0   \n",
       "5               3.409212           0    ...              0           0   \n",
       "6               2.816560           0    ...              0           0   \n",
       "7               6.499734           0    ...              0           0   \n",
       "8               3.409212           0    ...              0           0   \n",
       "9               3.409212           0    ...              0           0   \n",
       "\n",
       "   rel_mon_08  rel_mon_09  rel_mon_10  rel_mon_11  rel_mon_12  holiday_month  \\\n",
       "0           0           0           0           0           1              1   \n",
       "1           0           0           0           0           0              0   \n",
       "2           0           0           0           0           1              1   \n",
       "3           0           0           0           0           0              0   \n",
       "4           0           0           0           0           0              0   \n",
       "5           0           0           0           0           0              0   \n",
       "6           0           1           0           0           0              0   \n",
       "7           0           0           0           1           0              1   \n",
       "8           1           0           0           0           0              0   \n",
       "9           1           0           0           0           0              0   \n",
       "\n",
       "   tot_wins  tot_noms  \n",
       "0         0         0  \n",
       "1         0         0  \n",
       "2         0         0  \n",
       "3         0         1  \n",
       "4         0         0  \n",
       "5         1         2  \n",
       "6         0         0  \n",
       "7         0         0  \n",
       "8         0         0  \n",
       "9         0         0  \n",
       "\n",
       "[10 rows x 24 columns]"
      ]
     },
     "execution_count": 4,
     "metadata": {},
     "output_type": "execute_result"
    }
   ],
   "source": [
    "# create table for model purposes\n",
    "modelDf = movieDf[[\"duration\",\"rating_numeric\",\"budget\",\"revenue\",\"gross_margin\", \n",
    "                   \"successful\",\"director_score\",\"production_companies_count\",\"total_actor_starpower\",\"rel_mon_01\",\n",
    "                   \"rel_mon_02\", \"rel_mon_03\", \"rel_mon_04\", \"rel_mon_05\", \"rel_mon_06\", \"rel_mon_07\", \"rel_mon_08\",\n",
    "                   \"rel_mon_09\", \"rel_mon_10\", \"rel_mon_11\", \"rel_mon_12\",\"holiday_month\",\"tot_wins\",\"tot_noms\"]]\n",
    "modelDf = modelDf.dropna()\n",
    "modelDf.head(10)"
   ]
  },
  {
   "cell_type": "code",
   "execution_count": 5,
   "metadata": {},
   "outputs": [
    {
     "data": {
      "text/plain": [
       "1    1950\n",
       "0    1687\n",
       "Name: successful, dtype: int64"
      ]
     },
     "execution_count": 5,
     "metadata": {},
     "output_type": "execute_result"
    }
   ],
   "source": [
    "modelDf[\"successful\"].value_counts()"
   ]
  },
  {
   "cell_type": "code",
   "execution_count": 93,
   "metadata": {},
   "outputs": [
    {
     "name": "stdout",
     "output_type": "stream",
     "text": [
      "(3637, 20) (3637, 1)\n",
      "(3637, 8) (3637, 1)\n"
     ]
    }
   ],
   "source": [
    "# Assign X (data) and y (target)\n",
    "X = modelDf[[\"duration\",\"rel_mon_01\",\"rel_mon_02\", \"rel_mon_03\", \"rel_mon_04\", \"rel_mon_05\", \"rel_mon_06\",\n",
    "             \"rel_mon_07\", \"rel_mon_08\", \"rel_mon_09\", \"rel_mon_10\", \"rel_mon_11\", \"rel_mon_12\",\"rating_numeric\",\n",
    "             \"director_score\",\"production_companies_count\",\"total_actor_starpower\",\"tot_wins\",\"tot_noms\",\n",
    "             \"holiday_month\"]]\n",
    "\n",
    "\n",
    "X2 = modelDf[['duration','rating_numeric', 'director_score','production_companies_count',\n",
    "            \"holiday_month\",\"tot_wins\",\"tot_noms\", \"total_actor_starpower\"]]\n",
    "\n",
    "y = modelDf[\"successful\"].values.reshape(-1, 1)\n",
    "print(X.shape, y.shape)\n",
    "print(X2.shape, y.shape)\n"
   ]
  },
  {
   "cell_type": "code",
   "execution_count": 94,
   "metadata": {},
   "outputs": [],
   "source": [
    "# split the training and testing data\n",
    "X_train, X_test, y_train, y_test = train_test_split(X, y, random_state=1158, train_size=0.80, stratify=y)\n",
    "X2_train, X2_test, y_train, y_test = train_test_split(X2, y, random_state=1158, train_size=0.80, stratify=y)\n",
    "\n",
    "\n",
    "# Create a StandardScater model and fit it to the training data\n",
    "X_scaler = StandardScaler().fit(X_train)\n",
    "X2_scaler = StandardScaler().fit(X2_train)\n",
    "\n",
    "\n",
    "# Create a MinMax Scaler as an alternative\n",
    "Xm_scaler = MinMaxScaler(feature_range=[0, 1])"
   ]
  },
  {
   "cell_type": "code",
   "execution_count": 96,
   "metadata": {},
   "outputs": [
    {
     "data": {
      "text/plain": [
       "1    390\n",
       "0    338\n",
       "Name: 0, dtype: int64"
      ]
     },
     "execution_count": 96,
     "metadata": {},
     "output_type": "execute_result"
    }
   ],
   "source": [
    "pd.DataFrame(y_test)[0].value_counts()"
   ]
  },
  {
   "cell_type": "code",
   "execution_count": 97,
   "metadata": {},
   "outputs": [],
   "source": [
    "# transform the data\n",
    "X_train_scaled = X_scaler.transform(X_train)\n",
    "X_test_scaled = X_scaler.transform(X_test)\n",
    "\n",
    "X2_train_scaled = X2_scaler.transform(X2_train)\n",
    "X2_test_scaled = X2_scaler.transform(X2_test)\n",
    "\n",
    "Xm_train_scaled = Xm_scaler.fit_transform(X_train)\n",
    "Xm_test_scaled = Xm_scaler.fit_transform(X_test)\n",
    "\n",
    "Xm2_train_scaled = Xm_scaler.fit_transform(X2_train)\n",
    "Xm2_test_scaled = Xm_scaler.fit_transform(X2_test)"
   ]
  },
  {
   "cell_type": "markdown",
   "metadata": {},
   "source": [
    "# Logistic Regression Model "
   ]
  },
  {
   "cell_type": "code",
   "execution_count": 35,
   "metadata": {},
   "outputs": [
    {
     "data": {
      "text/plain": [
       "LogisticRegression(C=1.0, class_weight=None, dual=False, fit_intercept=True,\n",
       "                   intercept_scaling=1, l1_ratio=None, max_iter=100,\n",
       "                   multi_class='warn', n_jobs=None, penalty='l2',\n",
       "                   random_state=None, solver='warn', tol=0.0001, verbose=0,\n",
       "                   warm_start=False)"
      ]
     },
     "execution_count": 35,
     "metadata": {},
     "output_type": "execute_result"
    }
   ],
   "source": [
    "#build logistic model \n",
    "model = LogisticRegression()\n",
    "\n",
    "#fit on training data\n",
    "model.fit(X_train_scaled, y_train)"
   ]
  },
  {
   "cell_type": "code",
   "execution_count": 36,
   "metadata": {},
   "outputs": [
    {
     "name": "stdout",
     "output_type": "stream",
     "text": [
      "testing_score: 0.5673076923076923\n"
     ]
    }
   ],
   "source": [
    "# Use our model to predict a value\n",
    "predicted = model.predict(X_test_scaled)\n",
    "\n",
    "# Score the prediction with mse and r2\n",
    "mse = mean_squared_error(y_test, predicted)\n",
    "r2 = r2_score(y_test, predicted)\n",
    "testing_score = model.score(X_test_scaled,y_test)\n",
    "\n",
    "print(f\"testing_score: {testing_score}\")"
   ]
  },
  {
   "cell_type": "markdown",
   "metadata": {},
   "source": [
    "# Deep Neural Network"
   ]
  },
  {
   "cell_type": "code",
   "execution_count": 37,
   "metadata": {},
   "outputs": [],
   "source": [
    "# creating the empty squential network\n",
    "modelNN = Sequential()"
   ]
  },
  {
   "cell_type": "code",
   "execution_count": 38,
   "metadata": {},
   "outputs": [],
   "source": [
    "# Add the first layer where the input dimensions are features used in the model\n",
    "modelNN.add(Dense(units=60, activation='relu', input_dim=20))"
   ]
  },
  {
   "cell_type": "code",
   "execution_count": 39,
   "metadata": {},
   "outputs": [],
   "source": [
    "# Add the hidden layer\n",
    "modelNN.add(Dense(units=60, activation='relu'))\n",
    "\n",
    "# another layer\n",
    "modelNN.add(Dense(units=60, activation='relu'))"
   ]
  },
  {
   "cell_type": "code",
   "execution_count": 40,
   "metadata": {},
   "outputs": [],
   "source": [
    "# Add output layer, 2 units for \"classes\" of output, i.e. Yes or No \n",
    "modelNN.add(Dense(units=2, activation='softmax'))"
   ]
  },
  {
   "cell_type": "code",
   "execution_count": 41,
   "metadata": {},
   "outputs": [],
   "source": [
    "# Compile the model using the adaptive learning rate optimizer \"adam\", spare_categorical_crossentropy\n",
    "# for the loss function since we did not one-hot encode the labels and used accuracy for the training metrics.\n",
    "modelNN.compile(optimizer='adam',\n",
    "              loss='sparse_categorical_crossentropy',\n",
    "              metrics=['accuracy'])"
   ]
  },
  {
   "cell_type": "code",
   "execution_count": 42,
   "metadata": {},
   "outputs": [
    {
     "name": "stdout",
     "output_type": "stream",
     "text": [
      "Epoch 1/300\n",
      " - 0s - loss: 0.6898 - acc: 0.5414\n",
      "Epoch 2/300\n",
      " - 0s - loss: 0.6716 - acc: 0.5758\n",
      "Epoch 3/300\n",
      " - 0s - loss: 0.6650 - acc: 0.6064\n",
      "Epoch 4/300\n",
      " - 0s - loss: 0.6582 - acc: 0.6095\n",
      "Epoch 5/300\n",
      " - 0s - loss: 0.6562 - acc: 0.6102\n",
      "Epoch 6/300\n",
      " - 0s - loss: 0.6494 - acc: 0.6253\n",
      "Epoch 7/300\n",
      " - 0s - loss: 0.6427 - acc: 0.6318\n",
      "Epoch 8/300\n",
      " - 0s - loss: 0.6387 - acc: 0.6253\n",
      "Epoch 9/300\n",
      " - 0s - loss: 0.6345 - acc: 0.6432\n",
      "Epoch 10/300\n",
      " - 0s - loss: 0.6308 - acc: 0.6284\n",
      "Epoch 11/300\n",
      " - 0s - loss: 0.6252 - acc: 0.6446\n",
      "Epoch 12/300\n",
      " - 0s - loss: 0.6196 - acc: 0.6497\n",
      "Epoch 13/300\n",
      " - 0s - loss: 0.6127 - acc: 0.6566\n",
      "Epoch 14/300\n",
      " - 0s - loss: 0.6090 - acc: 0.6652\n",
      "Epoch 15/300\n",
      " - 0s - loss: 0.6030 - acc: 0.6652\n",
      "Epoch 16/300\n",
      " - 0s - loss: 0.5973 - acc: 0.6611\n",
      "Epoch 17/300\n",
      " - 0s - loss: 0.5889 - acc: 0.6751\n",
      "Epoch 18/300\n",
      " - 0s - loss: 0.5859 - acc: 0.6896\n",
      "Epoch 19/300\n",
      " - 0s - loss: 0.5786 - acc: 0.6875\n",
      "Epoch 20/300\n",
      " - 0s - loss: 0.5727 - acc: 0.6947\n",
      "Epoch 21/300\n",
      " - 0s - loss: 0.5689 - acc: 0.6944\n",
      "Epoch 22/300\n",
      " - 0s - loss: 0.5653 - acc: 0.6975\n",
      "Epoch 23/300\n",
      " - 0s - loss: 0.5558 - acc: 0.7009\n",
      "Epoch 24/300\n",
      " - 0s - loss: 0.5478 - acc: 0.7174\n",
      "Epoch 25/300\n",
      " - 0s - loss: 0.5473 - acc: 0.7078\n",
      "Epoch 26/300\n",
      " - 0s - loss: 0.5362 - acc: 0.7246\n",
      "Epoch 27/300\n",
      " - 0s - loss: 0.5291 - acc: 0.7236\n",
      "Epoch 28/300\n",
      " - 0s - loss: 0.5254 - acc: 0.7291\n",
      "Epoch 29/300\n",
      " - 0s - loss: 0.5199 - acc: 0.7339\n",
      "Epoch 30/300\n",
      " - 0s - loss: 0.5121 - acc: 0.7387\n",
      "Epoch 31/300\n",
      " - 0s - loss: 0.5033 - acc: 0.7449\n",
      "Epoch 32/300\n",
      " - 0s - loss: 0.5014 - acc: 0.7515\n",
      "Epoch 33/300\n",
      " - 0s - loss: 0.4971 - acc: 0.7463\n",
      "Epoch 34/300\n",
      " - 0s - loss: 0.4926 - acc: 0.7528\n",
      "Epoch 35/300\n",
      " - 0s - loss: 0.4776 - acc: 0.7625\n",
      "Epoch 36/300\n",
      " - 0s - loss: 0.4758 - acc: 0.7590\n",
      "Epoch 37/300\n",
      " - 0s - loss: 0.4765 - acc: 0.7621\n",
      "Epoch 38/300\n",
      " - 0s - loss: 0.4669 - acc: 0.7673\n",
      "Epoch 39/300\n",
      " - 0s - loss: 0.4556 - acc: 0.7728\n",
      "Epoch 40/300\n",
      " - 0s - loss: 0.4600 - acc: 0.7755\n",
      "Epoch 41/300\n",
      " - 0s - loss: 0.4515 - acc: 0.7814\n",
      "Epoch 42/300\n",
      " - 0s - loss: 0.4406 - acc: 0.7855\n",
      "Epoch 43/300\n",
      " - 0s - loss: 0.4453 - acc: 0.7783\n",
      "Epoch 44/300\n",
      " - 0s - loss: 0.4414 - acc: 0.7896\n",
      "Epoch 45/300\n",
      " - 0s - loss: 0.4208 - acc: 0.8023\n",
      "Epoch 46/300\n",
      " - 0s - loss: 0.4193 - acc: 0.8010\n",
      "Epoch 47/300\n",
      " - 0s - loss: 0.4179 - acc: 0.7999\n",
      "Epoch 48/300\n",
      " - 0s - loss: 0.4103 - acc: 0.8047\n",
      "Epoch 49/300\n",
      " - 0s - loss: 0.4076 - acc: 0.8068\n",
      "Epoch 50/300\n",
      " - 0s - loss: 0.4049 - acc: 0.8168\n",
      "Epoch 51/300\n",
      " - 0s - loss: 0.3966 - acc: 0.8102\n",
      "Epoch 52/300\n",
      " - 0s - loss: 0.3946 - acc: 0.8082\n",
      "Epoch 53/300\n",
      " - 0s - loss: 0.3915 - acc: 0.8157\n",
      "Epoch 54/300\n",
      " - 0s - loss: 0.3896 - acc: 0.8206\n",
      "Epoch 55/300\n",
      " - 0s - loss: 0.3796 - acc: 0.8219\n",
      "Epoch 56/300\n",
      " - 0s - loss: 0.3708 - acc: 0.8254\n",
      "Epoch 57/300\n",
      " - 0s - loss: 0.3689 - acc: 0.8257\n",
      "Epoch 58/300\n",
      " - 0s - loss: 0.3641 - acc: 0.8312\n",
      "Epoch 59/300\n",
      " - 0s - loss: 0.3612 - acc: 0.8312\n",
      "Epoch 60/300\n",
      " - 0s - loss: 0.3580 - acc: 0.8343\n",
      "Epoch 61/300\n",
      " - 0s - loss: 0.3575 - acc: 0.8357\n",
      "Epoch 62/300\n",
      " - 0s - loss: 0.3546 - acc: 0.8347\n",
      "Epoch 63/300\n",
      " - 0s - loss: 0.3486 - acc: 0.8384\n",
      "Epoch 64/300\n",
      " - 0s - loss: 0.3473 - acc: 0.8450\n",
      "Epoch 65/300\n",
      " - 0s - loss: 0.3445 - acc: 0.8353\n",
      "Epoch 66/300\n",
      " - 0s - loss: 0.3399 - acc: 0.8460\n",
      "Epoch 67/300\n",
      " - 0s - loss: 0.3445 - acc: 0.8381\n",
      "Epoch 68/300\n",
      " - 0s - loss: 0.3377 - acc: 0.8446\n",
      "Epoch 69/300\n",
      " - 0s - loss: 0.3210 - acc: 0.8577\n",
      "Epoch 70/300\n",
      " - 0s - loss: 0.3241 - acc: 0.8525\n",
      "Epoch 71/300\n",
      " - 0s - loss: 0.3258 - acc: 0.8573\n",
      "Epoch 72/300\n",
      " - 0s - loss: 0.3193 - acc: 0.8553\n",
      "Epoch 73/300\n",
      " - 0s - loss: 0.3108 - acc: 0.8618\n",
      "Epoch 74/300\n",
      " - 0s - loss: 0.3088 - acc: 0.8649\n",
      "Epoch 75/300\n",
      " - 0s - loss: 0.3179 - acc: 0.8553\n",
      "Epoch 76/300\n",
      " - 0s - loss: 0.3082 - acc: 0.8618\n",
      "Epoch 77/300\n",
      " - 0s - loss: 0.3066 - acc: 0.8560\n",
      "Epoch 78/300\n",
      " - 0s - loss: 0.2975 - acc: 0.8704\n",
      "Epoch 79/300\n",
      " - 0s - loss: 0.3011 - acc: 0.8632\n",
      "Epoch 80/300\n",
      " - 0s - loss: 0.3010 - acc: 0.8659\n",
      "Epoch 81/300\n",
      " - 0s - loss: 0.3124 - acc: 0.8622\n",
      "Epoch 82/300\n",
      " - 0s - loss: 0.2854 - acc: 0.8759\n",
      "Epoch 83/300\n",
      " - 0s - loss: 0.2791 - acc: 0.8749\n",
      "Epoch 84/300\n",
      " - 0s - loss: 0.2812 - acc: 0.8697\n",
      "Epoch 85/300\n",
      " - 0s - loss: 0.2753 - acc: 0.8783\n",
      "Epoch 86/300\n",
      " - 0s - loss: 0.2707 - acc: 0.8845\n",
      "Epoch 87/300\n",
      " - 0s - loss: 0.2719 - acc: 0.8838\n",
      "Epoch 88/300\n",
      " - 0s - loss: 0.2695 - acc: 0.8804\n",
      "Epoch 89/300\n",
      " - 0s - loss: 0.2686 - acc: 0.8835\n",
      "Epoch 90/300\n",
      " - 0s - loss: 0.2721 - acc: 0.8776\n",
      "Epoch 91/300\n",
      " - 0s - loss: 0.2612 - acc: 0.8869\n",
      "Epoch 92/300\n",
      " - 0s - loss: 0.2598 - acc: 0.8921\n",
      "Epoch 93/300\n",
      " - 0s - loss: 0.2540 - acc: 0.8897\n",
      "Epoch 94/300\n",
      " - 0s - loss: 0.2457 - acc: 0.8958\n",
      "Epoch 95/300\n",
      " - 0s - loss: 0.2394 - acc: 0.9017\n",
      "Epoch 96/300\n",
      " - 0s - loss: 0.2583 - acc: 0.8780\n",
      "Epoch 97/300\n",
      " - 0s - loss: 0.2463 - acc: 0.8945\n",
      "Epoch 98/300\n",
      " - 0s - loss: 0.2488 - acc: 0.8945\n",
      "Epoch 99/300\n",
      " - 0s - loss: 0.2357 - acc: 0.8993\n",
      "Epoch 100/300\n",
      " - 0s - loss: 0.2429 - acc: 0.8938\n",
      "Epoch 101/300\n",
      " - 0s - loss: 0.2326 - acc: 0.9031\n",
      "Epoch 102/300\n",
      " - 0s - loss: 0.2309 - acc: 0.9051\n",
      "Epoch 103/300\n",
      " - 0s - loss: 0.2301 - acc: 0.8972\n",
      "Epoch 104/300\n",
      " - 0s - loss: 0.2255 - acc: 0.9055\n",
      "Epoch 105/300\n",
      " - 0s - loss: 0.2280 - acc: 0.9031\n",
      "Epoch 106/300\n",
      " - 0s - loss: 0.2241 - acc: 0.9031\n",
      "Epoch 107/300\n",
      " - 0s - loss: 0.2329 - acc: 0.8969\n",
      "Epoch 108/300\n",
      " - 0s - loss: 0.2398 - acc: 0.8921\n",
      "Epoch 109/300\n",
      " - 0s - loss: 0.2425 - acc: 0.8965\n",
      "Epoch 110/300\n",
      " - 0s - loss: 0.2143 - acc: 0.9089\n",
      "Epoch 111/300\n",
      " - 0s - loss: 0.2131 - acc: 0.9103\n",
      "Epoch 112/300\n",
      " - 0s - loss: 0.2068 - acc: 0.9209\n",
      "Epoch 113/300\n",
      " - 0s - loss: 0.2128 - acc: 0.9144\n",
      "Epoch 114/300\n",
      " - 0s - loss: 0.2089 - acc: 0.9082\n",
      "Epoch 115/300\n",
      " - 0s - loss: 0.2145 - acc: 0.9072\n",
      "Epoch 116/300\n",
      " - 0s - loss: 0.2006 - acc: 0.9178\n",
      "Epoch 117/300\n",
      " - 0s - loss: 0.2265 - acc: 0.9007\n",
      "Epoch 118/300\n",
      " - 0s - loss: 0.2112 - acc: 0.9137\n",
      "Epoch 119/300\n",
      " - 0s - loss: 0.1966 - acc: 0.9172\n",
      "Epoch 120/300\n",
      " - 0s - loss: 0.1946 - acc: 0.9165\n",
      "Epoch 121/300\n",
      " - 0s - loss: 0.1908 - acc: 0.9227\n",
      "Epoch 122/300\n",
      " - 0s - loss: 0.1933 - acc: 0.9209\n",
      "Epoch 123/300\n",
      " - 0s - loss: 0.2015 - acc: 0.9134\n",
      "Epoch 124/300\n",
      " - 0s - loss: 0.1901 - acc: 0.9206\n",
      "Epoch 125/300\n",
      " - 0s - loss: 0.1928 - acc: 0.9240\n",
      "Epoch 126/300\n",
      " - 0s - loss: 0.1848 - acc: 0.9216\n",
      "Epoch 127/300\n",
      " - 0s - loss: 0.1881 - acc: 0.9206\n",
      "Epoch 128/300\n",
      " - 0s - loss: 0.1848 - acc: 0.9244\n",
      "Epoch 129/300\n",
      " - 0s - loss: 0.1833 - acc: 0.9264\n",
      "Epoch 130/300\n",
      " - 0s - loss: 0.1806 - acc: 0.9261\n",
      "Epoch 131/300\n",
      " - 0s - loss: 0.1804 - acc: 0.9237\n",
      "Epoch 132/300\n",
      " - 0s - loss: 0.1766 - acc: 0.9285\n",
      "Epoch 133/300\n",
      " - 0s - loss: 0.1835 - acc: 0.9209\n",
      "Epoch 134/300\n",
      " - 0s - loss: 0.1849 - acc: 0.9199\n",
      "Epoch 135/300\n",
      " - 0s - loss: 0.1885 - acc: 0.9240\n",
      "Epoch 136/300\n",
      " - 0s - loss: 0.1892 - acc: 0.9230\n",
      "Epoch 137/300\n",
      " - 0s - loss: 0.1747 - acc: 0.9292\n",
      "Epoch 138/300\n",
      " - 0s - loss: 0.1705 - acc: 0.9278\n",
      "Epoch 139/300\n",
      " - 0s - loss: 0.1827 - acc: 0.9233\n",
      "Epoch 140/300\n",
      " - 0s - loss: 0.1700 - acc: 0.9275\n",
      "Epoch 141/300\n",
      " - 0s - loss: 0.1715 - acc: 0.9240\n",
      "Epoch 142/300\n",
      " - 0s - loss: 0.1598 - acc: 0.9340\n",
      "Epoch 143/300\n",
      " - 0s - loss: 0.1615 - acc: 0.9388\n",
      "Epoch 144/300\n",
      " - 0s - loss: 0.1666 - acc: 0.9302\n",
      "Epoch 145/300\n",
      " - 0s - loss: 0.1776 - acc: 0.9199\n",
      "Epoch 146/300\n",
      " - 0s - loss: 0.1664 - acc: 0.9309\n",
      "Epoch 147/300\n",
      " - 0s - loss: 0.1673 - acc: 0.9343\n",
      "Epoch 148/300\n",
      " - 0s - loss: 0.1599 - acc: 0.9367\n",
      "Epoch 149/300\n",
      " - 0s - loss: 0.1545 - acc: 0.9367\n",
      "Epoch 150/300\n",
      " - 0s - loss: 0.1530 - acc: 0.9340\n",
      "Epoch 151/300\n",
      " - 0s - loss: 0.1558 - acc: 0.9354\n",
      "Epoch 152/300\n",
      " - 0s - loss: 0.1520 - acc: 0.9412\n",
      "Epoch 153/300\n",
      " - 0s - loss: 0.1517 - acc: 0.9405\n",
      "Epoch 154/300\n",
      " - 0s - loss: 0.1590 - acc: 0.9361\n",
      "Epoch 155/300\n",
      " - 0s - loss: 0.1481 - acc: 0.9398\n",
      "Epoch 156/300\n",
      " - 0s - loss: 0.1759 - acc: 0.9268\n",
      "Epoch 157/300\n",
      " - 0s - loss: 0.1872 - acc: 0.9213\n",
      "Epoch 158/300\n",
      " - 0s - loss: 0.1569 - acc: 0.9357\n",
      "Epoch 159/300\n",
      " - 0s - loss: 0.1552 - acc: 0.9357\n",
      "Epoch 160/300\n",
      " - 0s - loss: 0.1600 - acc: 0.9306\n",
      "Epoch 161/300\n",
      " - 0s - loss: 0.1463 - acc: 0.9385\n",
      "Epoch 162/300\n",
      " - 0s - loss: 0.1480 - acc: 0.9364\n",
      "Epoch 163/300\n",
      " - 0s - loss: 0.1429 - acc: 0.9385\n",
      "Epoch 164/300\n",
      " - 0s - loss: 0.1453 - acc: 0.9354\n",
      "Epoch 165/300\n",
      " - 0s - loss: 0.1414 - acc: 0.9419\n",
      "Epoch 166/300\n",
      " - 0s - loss: 0.1286 - acc: 0.9477\n",
      "Epoch 167/300\n",
      " - 0s - loss: 0.1366 - acc: 0.9426\n",
      "Epoch 168/300\n",
      " - 0s - loss: 0.1310 - acc: 0.9460\n",
      "Epoch 169/300\n",
      " - 0s - loss: 0.1310 - acc: 0.9491\n",
      "Epoch 170/300\n",
      " - 0s - loss: 0.1372 - acc: 0.9443\n"
     ]
    },
    {
     "name": "stdout",
     "output_type": "stream",
     "text": [
      "Epoch 171/300\n",
      " - 0s - loss: 0.1331 - acc: 0.9467\n",
      "Epoch 172/300\n",
      " - 0s - loss: 0.1232 - acc: 0.9550\n",
      "Epoch 173/300\n",
      " - 0s - loss: 0.1294 - acc: 0.9519\n",
      "Epoch 174/300\n",
      " - 0s - loss: 0.1306 - acc: 0.9429\n",
      "Epoch 175/300\n",
      " - 0s - loss: 0.1276 - acc: 0.9526\n",
      "Epoch 176/300\n",
      " - 0s - loss: 0.1318 - acc: 0.9488\n",
      "Epoch 177/300\n",
      " - 0s - loss: 0.1358 - acc: 0.9453\n",
      "Epoch 178/300\n",
      " - 0s - loss: 0.1298 - acc: 0.9488\n",
      "Epoch 179/300\n",
      " - 0s - loss: 0.1292 - acc: 0.9453\n",
      "Epoch 180/300\n",
      " - 0s - loss: 0.1376 - acc: 0.9443\n",
      "Epoch 181/300\n",
      " - 0s - loss: 0.2308 - acc: 0.9123\n",
      "Epoch 182/300\n",
      " - 0s - loss: 0.2152 - acc: 0.9172\n",
      "Epoch 183/300\n",
      " - 0s - loss: 0.1703 - acc: 0.9330\n",
      "Epoch 184/300\n",
      " - 0s - loss: 0.1321 - acc: 0.9484\n",
      "Epoch 185/300\n",
      " - 0s - loss: 0.1184 - acc: 0.9553\n",
      "Epoch 186/300\n",
      " - 0s - loss: 0.1280 - acc: 0.9495\n",
      "Epoch 187/300\n",
      " - 0s - loss: 0.1160 - acc: 0.9546\n",
      "Epoch 188/300\n",
      " - 0s - loss: 0.1180 - acc: 0.9546\n",
      "Epoch 189/300\n",
      " - 0s - loss: 0.1180 - acc: 0.9498\n",
      "Epoch 190/300\n",
      " - 0s - loss: 0.1119 - acc: 0.9557\n",
      "Epoch 191/300\n",
      " - 0s - loss: 0.1147 - acc: 0.9553\n",
      "Epoch 192/300\n",
      " - 0s - loss: 0.1121 - acc: 0.9508\n",
      "Epoch 193/300\n",
      " - 0s - loss: 0.1091 - acc: 0.9584\n",
      "Epoch 194/300\n",
      " - 0s - loss: 0.1101 - acc: 0.9584\n",
      "Epoch 195/300\n",
      " - 0s - loss: 0.1239 - acc: 0.9491\n",
      "Epoch 196/300\n",
      " - 0s - loss: 0.1088 - acc: 0.9605\n",
      "Epoch 197/300\n",
      " - 0s - loss: 0.1098 - acc: 0.9608\n",
      "Epoch 198/300\n",
      " - 0s - loss: 0.1183 - acc: 0.9519\n",
      "Epoch 199/300\n",
      " - 0s - loss: 0.1666 - acc: 0.9337\n",
      "Epoch 200/300\n",
      " - 0s - loss: 0.1625 - acc: 0.9388\n",
      "Epoch 201/300\n",
      " - 0s - loss: 0.1364 - acc: 0.9474\n",
      "Epoch 202/300\n",
      " - 0s - loss: 0.1364 - acc: 0.9495\n",
      "Epoch 203/300\n",
      " - 0s - loss: 0.1157 - acc: 0.9563\n",
      "Epoch 204/300\n",
      " - 0s - loss: 0.1087 - acc: 0.9519\n",
      "Epoch 205/300\n",
      " - 0s - loss: 0.1095 - acc: 0.9581\n",
      "Epoch 206/300\n",
      " - 0s - loss: 0.1101 - acc: 0.9560\n",
      "Epoch 207/300\n",
      " - 0s - loss: 0.1046 - acc: 0.9574\n",
      "Epoch 208/300\n",
      " - 0s - loss: 0.1242 - acc: 0.9515\n",
      "Epoch 209/300\n",
      " - 0s - loss: 0.1093 - acc: 0.9598\n",
      "Epoch 210/300\n",
      " - 0s - loss: 0.1082 - acc: 0.9570\n",
      "Epoch 211/300\n",
      " - 0s - loss: 0.0932 - acc: 0.9663\n",
      "Epoch 212/300\n",
      " - 0s - loss: 0.1004 - acc: 0.9605\n",
      "Epoch 213/300\n",
      " - 0s - loss: 0.1008 - acc: 0.9598\n",
      "Epoch 214/300\n",
      " - 0s - loss: 0.1059 - acc: 0.9584\n",
      "Epoch 215/300\n",
      " - 0s - loss: 0.0977 - acc: 0.9612\n",
      "Epoch 216/300\n",
      " - 0s - loss: 0.1019 - acc: 0.9570\n",
      "Epoch 217/300\n",
      " - 0s - loss: 0.1005 - acc: 0.9608\n",
      "Epoch 218/300\n",
      " - 0s - loss: 0.0969 - acc: 0.9656\n",
      "Epoch 219/300\n",
      " - 0s - loss: 0.1056 - acc: 0.9581\n",
      "Epoch 220/300\n",
      " - 0s - loss: 0.1210 - acc: 0.9508\n",
      "Epoch 221/300\n",
      " - 0s - loss: 0.1333 - acc: 0.9471\n",
      "Epoch 222/300\n",
      " - 0s - loss: 0.1582 - acc: 0.9347\n",
      "Epoch 223/300\n",
      " - 0s - loss: 0.1674 - acc: 0.9319\n",
      "Epoch 224/300\n",
      " - 0s - loss: 0.1220 - acc: 0.9550\n",
      "Epoch 225/300\n",
      " - 0s - loss: 0.1654 - acc: 0.9340\n",
      "Epoch 226/300\n",
      " - 0s - loss: 0.1151 - acc: 0.9574\n",
      "Epoch 227/300\n",
      " - 0s - loss: 0.0991 - acc: 0.9608\n",
      "Epoch 228/300\n",
      " - 0s - loss: 0.0930 - acc: 0.9656\n",
      "Epoch 229/300\n",
      " - 0s - loss: 0.0974 - acc: 0.9639\n",
      "Epoch 230/300\n",
      " - 0s - loss: 0.0987 - acc: 0.9598\n",
      "Epoch 231/300\n",
      " - 0s - loss: 0.0881 - acc: 0.9673\n",
      "Epoch 232/300\n",
      " - 0s - loss: 0.0909 - acc: 0.9639\n",
      "Epoch 233/300\n",
      " - 0s - loss: 0.1098 - acc: 0.9567\n",
      "Epoch 234/300\n",
      " - 0s - loss: 0.0903 - acc: 0.9656\n",
      "Epoch 235/300\n",
      " - 0s - loss: 0.0853 - acc: 0.9663\n",
      "Epoch 236/300\n",
      " - 0s - loss: 0.0884 - acc: 0.9653\n",
      "Epoch 237/300\n",
      " - 0s - loss: 0.0944 - acc: 0.9598\n",
      "Epoch 238/300\n",
      " - 0s - loss: 0.0895 - acc: 0.9660\n",
      "Epoch 239/300\n",
      " - 0s - loss: 0.1011 - acc: 0.9587\n",
      "Epoch 240/300\n",
      " - 0s - loss: 0.1081 - acc: 0.9563\n",
      "Epoch 241/300\n",
      " - 0s - loss: 0.1319 - acc: 0.9532\n",
      "Epoch 242/300\n",
      " - 0s - loss: 0.1201 - acc: 0.9543\n",
      "Epoch 243/300\n",
      " - 0s - loss: 0.1244 - acc: 0.9526\n",
      "Epoch 244/300\n",
      " - 0s - loss: 0.1049 - acc: 0.9584\n",
      "Epoch 245/300\n",
      " - 0s - loss: 0.0988 - acc: 0.9625\n",
      "Epoch 246/300\n",
      " - 0s - loss: 0.0839 - acc: 0.9677\n",
      "Epoch 247/300\n",
      " - 0s - loss: 0.0830 - acc: 0.9694\n",
      "Epoch 248/300\n",
      " - 0s - loss: 0.0806 - acc: 0.9711\n",
      "Epoch 249/300\n",
      " - 0s - loss: 0.0816 - acc: 0.9708\n",
      "Epoch 250/300\n",
      " - 0s - loss: 0.0855 - acc: 0.9663\n",
      "Epoch 251/300\n",
      " - 0s - loss: 0.0941 - acc: 0.9656\n",
      "Epoch 252/300\n",
      " - 0s - loss: 0.0847 - acc: 0.9691\n",
      "Epoch 253/300\n",
      " - 0s - loss: 0.0832 - acc: 0.9711\n",
      "Epoch 254/300\n",
      " - 0s - loss: 0.0902 - acc: 0.9660\n",
      "Epoch 255/300\n",
      " - 0s - loss: 0.0878 - acc: 0.9691\n",
      "Epoch 256/300\n",
      " - 0s - loss: 0.1138 - acc: 0.9567\n",
      "Epoch 257/300\n",
      " - 0s - loss: 0.1486 - acc: 0.9450\n",
      "Epoch 258/300\n",
      " - 0s - loss: 0.1193 - acc: 0.9546\n",
      "Epoch 259/300\n",
      " - 0s - loss: 0.0974 - acc: 0.9612\n",
      "Epoch 260/300\n",
      " - 0s - loss: 0.0830 - acc: 0.9701\n",
      "Epoch 261/300\n",
      " - 0s - loss: 0.0837 - acc: 0.9670\n",
      "Epoch 262/300\n",
      " - 0s - loss: 0.0770 - acc: 0.9715\n",
      "Epoch 263/300\n",
      " - 0s - loss: 0.0795 - acc: 0.9697\n",
      "Epoch 264/300\n",
      " - 0s - loss: 0.0833 - acc: 0.9691\n",
      "Epoch 265/300\n",
      " - 0s - loss: 0.0916 - acc: 0.9697\n",
      "Epoch 266/300\n",
      " - 0s - loss: 0.1195 - acc: 0.9639\n",
      "Epoch 267/300\n",
      " - 0s - loss: 0.1149 - acc: 0.9581\n",
      "Epoch 268/300\n",
      " - 0s - loss: 0.1040 - acc: 0.9618\n",
      "Epoch 269/300\n",
      " - 0s - loss: 0.1039 - acc: 0.9598\n",
      "Epoch 270/300\n",
      " - 0s - loss: 0.1034 - acc: 0.9605\n",
      "Epoch 271/300\n",
      " - 0s - loss: 0.0840 - acc: 0.9677\n",
      "Epoch 272/300\n",
      " - 0s - loss: 0.0667 - acc: 0.9811\n",
      "Epoch 273/300\n",
      " - 0s - loss: 0.0622 - acc: 0.9807\n",
      "Epoch 274/300\n",
      " - 0s - loss: 0.0620 - acc: 0.9777\n",
      "Epoch 275/300\n",
      " - 0s - loss: 0.0722 - acc: 0.9715\n",
      "Epoch 276/300\n",
      " - 0s - loss: 0.0922 - acc: 0.9639\n",
      "Epoch 277/300\n",
      " - 0s - loss: 0.0775 - acc: 0.9715\n",
      "Epoch 278/300\n",
      " - 0s - loss: 0.0779 - acc: 0.9701\n",
      "Epoch 279/300\n",
      " - 0s - loss: 0.0784 - acc: 0.9708\n",
      "Epoch 280/300\n",
      " - 0s - loss: 0.0802 - acc: 0.9732\n",
      "Epoch 281/300\n",
      " - 0s - loss: 0.0760 - acc: 0.9697\n",
      "Epoch 282/300\n",
      " - 0s - loss: 0.0795 - acc: 0.9718\n",
      "Epoch 283/300\n",
      " - 0s - loss: 0.0740 - acc: 0.9728\n",
      "Epoch 284/300\n",
      " - 0s - loss: 0.0778 - acc: 0.9701\n",
      "Epoch 285/300\n",
      " - 0s - loss: 0.0736 - acc: 0.9704\n",
      "Epoch 286/300\n",
      " - 0s - loss: 0.0871 - acc: 0.9680\n",
      "Epoch 287/300\n",
      " - 0s - loss: 0.0839 - acc: 0.9667\n",
      "Epoch 288/300\n",
      " - 0s - loss: 0.0825 - acc: 0.9687\n",
      "Epoch 289/300\n",
      " - 0s - loss: 0.0838 - acc: 0.9660\n",
      "Epoch 290/300\n",
      " - 0s - loss: 0.0804 - acc: 0.9718\n",
      "Epoch 291/300\n",
      " - 0s - loss: 0.0957 - acc: 0.9612\n",
      "Epoch 292/300\n",
      " - 0s - loss: 0.1920 - acc: 0.9364\n",
      "Epoch 293/300\n",
      " - 0s - loss: 0.2050 - acc: 0.9275\n",
      "Epoch 294/300\n",
      " - 0s - loss: 0.1120 - acc: 0.9591\n",
      "Epoch 295/300\n",
      " - 0s - loss: 0.0771 - acc: 0.9697\n",
      "Epoch 296/300\n",
      " - 0s - loss: 0.0716 - acc: 0.9742\n",
      "Epoch 297/300\n",
      " - 0s - loss: 0.0601 - acc: 0.9777\n",
      "Epoch 298/300\n",
      " - 0s - loss: 0.0574 - acc: 0.9797\n",
      "Epoch 299/300\n",
      " - 0s - loss: 0.0539 - acc: 0.9804\n",
      "Epoch 300/300\n",
      " - 0s - loss: 0.0524 - acc: 0.9838\n"
     ]
    },
    {
     "data": {
      "text/plain": [
       "<tensorflow.python.keras.callbacks.History at 0x1a3061d160>"
      ]
     },
     "execution_count": 42,
     "metadata": {},
     "output_type": "execute_result"
    }
   ],
   "source": [
    "# Use the training data to fit (train) the model\n",
    "modelNN.fit(\n",
    "    X_train_scaled,\n",
    "    y_train,\n",
    "    epochs=300,\n",
    "    shuffle=True,\n",
    "    verbose=2\n",
    ")"
   ]
  },
  {
   "cell_type": "code",
   "execution_count": 43,
   "metadata": {},
   "outputs": [
    {
     "name": "stdout",
     "output_type": "stream",
     "text": [
      " - 0s - loss: 3.3016 - acc: 0.5179\n",
      "Loss: 3.301634764933324, Accuracy: 0.5178571343421936\n"
     ]
    }
   ],
   "source": [
    "# evaluate model by using test data\n",
    "model_loss, model_accuracy = modelNN.evaluate(\n",
    "    X_test_scaled, y_test, verbose=2)\n",
    "print(f\"Loss: {model_loss}, Accuracy: {model_accuracy}\")"
   ]
  },
  {
   "cell_type": "markdown",
   "metadata": {},
   "source": []
  },
  {
   "cell_type": "markdown",
   "metadata": {},
   "source": [
    "# Decision Tree Model w/o Hyper Parameter Tuning"
   ]
  },
  {
   "cell_type": "code",
   "execution_count": 44,
   "metadata": {},
   "outputs": [],
   "source": [
    "# create model instance\n",
    "modelDT = tree.DecisionTreeClassifier()"
   ]
  },
  {
   "cell_type": "code",
   "execution_count": 45,
   "metadata": {},
   "outputs": [],
   "source": [
    "# Fit the classifier to the data\n",
    "modelDT = modelDT.fit(X_train_scaled, y_train)"
   ]
  },
  {
   "cell_type": "code",
   "execution_count": 46,
   "metadata": {},
   "outputs": [
    {
     "name": "stdout",
     "output_type": "stream",
     "text": [
      "Decision Tree Score: 0.5398351648351648\n"
     ]
    }
   ],
   "source": [
    "# Calculate the R2 score for the test data\n",
    "score = modelDT.score(X_test_scaled, y_test)\n",
    "\n",
    "print(f\"Decision Tree Score: {score}\")"
   ]
  },
  {
   "cell_type": "markdown",
   "metadata": {},
   "source": [
    "# Decision Tree Model w/ Hyper Parameter Tuning"
   ]
  },
  {
   "cell_type": "code",
   "execution_count": 47,
   "metadata": {},
   "outputs": [],
   "source": [
    "# create model instance\n",
    "modelDT1 = tree.DecisionTreeClassifier(random_state=1234)"
   ]
  },
  {
   "cell_type": "code",
   "execution_count": 48,
   "metadata": {},
   "outputs": [],
   "source": [
    "# define hyper parameters Set\n",
    "params = {'max_features': ['auto', 'sqrt', 'log2'],\n",
    "          'min_samples_split': [2,3,4,5,6,7,8,9,10,11,12,13,14,15], \n",
    "          'min_samples_leaf':[1,2,3,4,5,6,7,8,9,10,11],\n",
    "          'random_state':[123]}"
   ]
  },
  {
   "cell_type": "code",
   "execution_count": 49,
   "metadata": {},
   "outputs": [],
   "source": [
    "# compile models with hyper parameters sets\n",
    "modelDT1 = GridSearchCV(modelDT1, param_grid=params, n_jobs=-1)"
   ]
  },
  {
   "cell_type": "code",
   "execution_count": 50,
   "metadata": {},
   "outputs": [
    {
     "data": {
      "text/plain": [
       "GridSearchCV(cv='warn', error_score='raise-deprecating',\n",
       "             estimator=DecisionTreeClassifier(class_weight=None,\n",
       "                                              criterion='gini', max_depth=None,\n",
       "                                              max_features=None,\n",
       "                                              max_leaf_nodes=None,\n",
       "                                              min_impurity_decrease=0.0,\n",
       "                                              min_impurity_split=None,\n",
       "                                              min_samples_leaf=1,\n",
       "                                              min_samples_split=2,\n",
       "                                              min_weight_fraction_leaf=0.0,\n",
       "                                              presort=False, random_state=1234,\n",
       "                                              splitter='best'),\n",
       "             iid='warn', n_jobs=-1,\n",
       "             param_grid={'max_features': ['auto', 'sqrt', 'log2'],\n",
       "                         'min_samples_leaf': [1, 2, 3, 4, 5, 6, 7, 8, 9, 10,\n",
       "                                              11],\n",
       "                         'min_samples_split': [2, 3, 4, 5, 6, 7, 8, 9, 10, 11,\n",
       "                                               12, 13, 14, 15],\n",
       "                         'random_state': [123]},\n",
       "             pre_dispatch='2*n_jobs', refit=True, return_train_score=False,\n",
       "             scoring=None, verbose=0)"
      ]
     },
     "execution_count": 50,
     "metadata": {},
     "output_type": "execute_result"
    }
   ],
   "source": [
    "# train the hyper parameter tuned DT model with the training data\n",
    "modelDT1.fit(X_train_scaled,y_train)"
   ]
  },
  {
   "cell_type": "code",
   "execution_count": 51,
   "metadata": {},
   "outputs": [
    {
     "name": "stdout",
     "output_type": "stream",
     "text": [
      "Best Hyper Parameters: {'max_features': 'auto', 'min_samples_leaf': 5, 'min_samples_split': 13, 'random_state': 123}\n",
      "Accuracy: 0.5439560439560439\n"
     ]
    }
   ],
   "source": [
    "# print best parameters within the tuned DT model\n",
    "print(f\"Best Hyper Parameters: {modelDT1.best_params_}\")\n",
    "\n",
    "# make predictions with tuned DT model\n",
    "predictionDT1 = modelDT1.predict(X_test_scaled)\n",
    "\n",
    "# print accuracy (score) of tuned DT model\n",
    "print(f\"Accuracy: {metrics.accuracy_score(predictionDT1,y_test)}\")"
   ]
  },
  {
   "cell_type": "markdown",
   "metadata": {},
   "source": [
    "# Random Forest Model w/o Hyper Parameter Tuning"
   ]
  },
  {
   "cell_type": "code",
   "execution_count": 52,
   "metadata": {},
   "outputs": [
    {
     "name": "stdout",
     "output_type": "stream",
     "text": [
      "RF Score: 0.570054945054945\n"
     ]
    }
   ],
   "source": [
    "# Create the RF instance\n",
    "rf = RandomForestClassifier(n_estimators=300)\n",
    "\n",
    "# fit the RF model with training data\n",
    "rf = rf.fit(X_train, y_train)\n",
    "\n",
    "# score the RF model using testing data\n",
    "print(f\"RF Score: {rf.score(X_test,y_test)}\")"
   ]
  },
  {
   "cell_type": "markdown",
   "metadata": {},
   "source": [
    "# Random Forest Model w/ Hyper Parameter Tuning"
   ]
  },
  {
   "cell_type": "code",
   "execution_count": 53,
   "metadata": {},
   "outputs": [],
   "source": [
    "# Create the RF instance\n",
    "rf1 = RandomForestClassifier()"
   ]
  },
  {
   "cell_type": "code",
   "execution_count": 54,
   "metadata": {},
   "outputs": [],
   "source": [
    "#Hyper Parameters Set for RF\n",
    "params = {'criterion':['gini','entropy'],\n",
    "          'n_estimators':[50,100,500,1000],\n",
    "          'min_samples_leaf':[1,2,3],\n",
    "          'min_samples_split':[3,4,5,6,7], \n",
    "          'random_state':[123],\n",
    "          'n_jobs':[-1]}"
   ]
  },
  {
   "cell_type": "code",
   "execution_count": 55,
   "metadata": {},
   "outputs": [],
   "source": [
    "# create models with hyper parameters\n",
    "modelRf1 = GridSearchCV(rf1, param_grid=params, n_jobs=-1)"
   ]
  },
  {
   "cell_type": "code",
   "execution_count": 56,
   "metadata": {},
   "outputs": [
    {
     "data": {
      "text/plain": [
       "GridSearchCV(cv='warn', error_score='raise-deprecating',\n",
       "             estimator=RandomForestClassifier(bootstrap=True, class_weight=None,\n",
       "                                              criterion='gini', max_depth=None,\n",
       "                                              max_features='auto',\n",
       "                                              max_leaf_nodes=None,\n",
       "                                              min_impurity_decrease=0.0,\n",
       "                                              min_impurity_split=None,\n",
       "                                              min_samples_leaf=1,\n",
       "                                              min_samples_split=2,\n",
       "                                              min_weight_fraction_leaf=0.0,\n",
       "                                              n_estimators='warn', n_jobs=None,\n",
       "                                              oob_score=False,\n",
       "                                              random_state=None, verbose=0,\n",
       "                                              warm_start=False),\n",
       "             iid='warn', n_jobs=-1,\n",
       "             param_grid={'criterion': ['gini', 'entropy'],\n",
       "                         'min_samples_leaf': [1, 2, 3],\n",
       "                         'min_samples_split': [3, 4, 5, 6, 7],\n",
       "                         'n_estimators': [50, 100, 500, 1000], 'n_jobs': [-1],\n",
       "                         'random_state': [123]},\n",
       "             pre_dispatch='2*n_jobs', refit=True, return_train_score=False,\n",
       "             scoring=None, verbose=0)"
      ]
     },
     "execution_count": 56,
     "metadata": {},
     "output_type": "execute_result"
    }
   ],
   "source": [
    "# train the hyper parameter tuned RF model with the training data\n",
    "modelRf1.fit(X_train_scaled,y_train)"
   ]
  },
  {
   "cell_type": "code",
   "execution_count": 57,
   "metadata": {},
   "outputs": [
    {
     "name": "stdout",
     "output_type": "stream",
     "text": [
      "Best Hyper Parameters: {'criterion': 'gini', 'min_samples_leaf': 3, 'min_samples_split': 7, 'n_estimators': 500, 'n_jobs': -1, 'random_state': 123}\n",
      "Accuracy: 0.5810439560439561\n"
     ]
    }
   ],
   "source": [
    "# make predicition with test data\n",
    "predictionRf1 = modelRf1.predict(X_test_scaled)\n",
    "\n",
    "# print best  hyper parameters set\n",
    "print(f\"Best Hyper Parameters: {modelRf1.best_params_}\")\n",
    "\n",
    "# print score for tuned RF model\n",
    "print(f\"Accuracy: {metrics.accuracy_score(predictionRf1,y_test)}\")"
   ]
  },
  {
   "cell_type": "code",
   "execution_count": 58,
   "metadata": {},
   "outputs": [
    {
     "name": "stdout",
     "output_type": "stream",
     "text": [
      "Tuned RF Model Feature Importances:\n",
      "[0.21724892 0.01004161 0.01346194 0.00981803 0.01015524 0.0101785\n",
      " 0.01435724 0.01293353 0.01393811 0.0173505  0.01476214 0.00856422\n",
      " 0.00986871 0.06646321 0.13402584 0.12935757 0.21628251 0.01769076\n",
      " 0.06059388 0.01290753]\n"
     ]
    }
   ],
   "source": [
    "print(f\"Tuned RF Model Feature Importances:\\n{modelRf1.best_estimator_.feature_importances_}\")"
   ]
  },
  {
   "cell_type": "code",
   "execution_count": 59,
   "metadata": {},
   "outputs": [
    {
     "data": {
      "image/png": "[encoded data removed]",
      "text/plain": [
       "<Figure size 432x288 with 1 Axes>"
      ]
     },
     "metadata": {
      "needs_background": "light"
     },
     "output_type": "display_data"
    }
   ],
   "source": [
    "#plot graph of feature importances for better visualization\n",
    "feat_importances = pd.Series(modelRf1.best_estimator_.feature_importances_, index=X.columns)\n",
    "feat_importances.nlargest(20).plot(kind='barh')\n",
    "plt.show()"
   ]
  },
  {
   "cell_type": "code",
   "execution_count": 60,
   "metadata": {},
   "outputs": [],
   "source": [
    "# make predicitions based on x test scaled data\n",
    "predictions = modelRf1.predict(X_test_scaled)\n",
    "\n",
    "#create dataframe\n",
    "df = pd.DataFrame(predictions)"
   ]
  },
  {
   "cell_type": "code",
   "execution_count": 61,
   "metadata": {},
   "outputs": [
    {
     "data": {
      "text/html": [
       "<div>\n",
       "<style scoped>\n",
       "    .dataframe tbody tr th:only-of-type {\n",
       "        vertical-align: middle;\n",
       "    }\n",
       "\n",
       "    .dataframe tbody tr th {\n",
       "        vertical-align: top;\n",
       "    }\n",
       "\n",
       "    .dataframe thead th {\n",
       "        text-align: right;\n",
       "    }\n",
       "</style>\n",
       "<table border=\"1\" class=\"dataframe\">\n",
       "  <thead>\n",
       "    <tr style=\"text-align: right;\">\n",
       "      <th></th>\n",
       "      <th>Pred</th>\n",
       "      <th>Actual</th>\n",
       "      <th>Analysis</th>\n",
       "    </tr>\n",
       "  </thead>\n",
       "  <tbody>\n",
       "    <tr>\n",
       "      <th>0</th>\n",
       "      <td>0</td>\n",
       "      <td>0</td>\n",
       "      <td>0</td>\n",
       "    </tr>\n",
       "    <tr>\n",
       "      <th>1</th>\n",
       "      <td>1</td>\n",
       "      <td>0</td>\n",
       "      <td>-1</td>\n",
       "    </tr>\n",
       "    <tr>\n",
       "      <th>2</th>\n",
       "      <td>1</td>\n",
       "      <td>1</td>\n",
       "      <td>0</td>\n",
       "    </tr>\n",
       "    <tr>\n",
       "      <th>3</th>\n",
       "      <td>1</td>\n",
       "      <td>1</td>\n",
       "      <td>0</td>\n",
       "    </tr>\n",
       "    <tr>\n",
       "      <th>4</th>\n",
       "      <td>0</td>\n",
       "      <td>1</td>\n",
       "      <td>1</td>\n",
       "    </tr>\n",
       "  </tbody>\n",
       "</table>\n",
       "</div>"
      ],
      "text/plain": [
       "   Pred  Actual  Analysis\n",
       "0     0       0         0\n",
       "1     1       0        -1\n",
       "2     1       1         0\n",
       "3     1       1         0\n",
       "4     0       1         1"
      ]
     },
     "execution_count": 61,
     "metadata": {},
     "output_type": "execute_result"
    }
   ],
   "source": [
    "# format \n",
    "df.rename({0 : \"Pred\"}, axis=1, inplace=True)\n",
    "df[\"Actual\"] = y_test\n",
    "df[\"Analysis\"] = df[\"Actual\"]-df[\"Pred\"]\n",
    "df.head()"
   ]
  },
  {
   "cell_type": "code",
   "execution_count": 62,
   "metadata": {},
   "outputs": [
    {
     "data": {
      "text/html": [
       "<div>\n",
       "<style scoped>\n",
       "    .dataframe tbody tr th:only-of-type {\n",
       "        vertical-align: middle;\n",
       "    }\n",
       "\n",
       "    .dataframe tbody tr th {\n",
       "        vertical-align: top;\n",
       "    }\n",
       "\n",
       "    .dataframe thead th {\n",
       "        text-align: right;\n",
       "    }\n",
       "</style>\n",
       "<table border=\"1\" class=\"dataframe\">\n",
       "  <thead>\n",
       "    <tr style=\"text-align: right;\">\n",
       "      <th></th>\n",
       "      <th>Pred</th>\n",
       "      <th>Actual</th>\n",
       "      <th>Analysis</th>\n",
       "    </tr>\n",
       "  </thead>\n",
       "  <tbody>\n",
       "    <tr>\n",
       "      <th>0</th>\n",
       "      <td>0</td>\n",
       "      <td>0</td>\n",
       "      <td>Correct</td>\n",
       "    </tr>\n",
       "    <tr>\n",
       "      <th>1</th>\n",
       "      <td>1</td>\n",
       "      <td>0</td>\n",
       "      <td>Incorrect</td>\n",
       "    </tr>\n",
       "    <tr>\n",
       "      <th>2</th>\n",
       "      <td>1</td>\n",
       "      <td>1</td>\n",
       "      <td>Correct</td>\n",
       "    </tr>\n",
       "    <tr>\n",
       "      <th>3</th>\n",
       "      <td>1</td>\n",
       "      <td>1</td>\n",
       "      <td>Correct</td>\n",
       "    </tr>\n",
       "    <tr>\n",
       "      <th>4</th>\n",
       "      <td>0</td>\n",
       "      <td>1</td>\n",
       "      <td>Incorrect</td>\n",
       "    </tr>\n",
       "  </tbody>\n",
       "</table>\n",
       "</div>"
      ],
      "text/plain": [
       "   Pred  Actual   Analysis\n",
       "0     0       0    Correct\n",
       "1     1       0  Incorrect\n",
       "2     1       1    Correct\n",
       "3     1       1    Correct\n",
       "4     0       1  Incorrect"
      ]
     },
     "execution_count": 62,
     "metadata": {},
     "output_type": "execute_result"
    }
   ],
   "source": [
    "df[\"Analysis\"].sum()\n",
    "df[\"Analysis\"] = df[\"Analysis\"].map({1:\"Incorrect\",-1:\"Incorrect\",0:\"Correct\"})\n",
    "df.head()"
   ]
  },
  {
   "cell_type": "code",
   "execution_count": 63,
   "metadata": {},
   "outputs": [
    {
     "data": {
      "text/plain": [
       "Correct      423\n",
       "Incorrect    305\n",
       "Name: Analysis, dtype: int64"
      ]
     },
     "execution_count": 63,
     "metadata": {},
     "output_type": "execute_result"
    }
   ],
   "source": [
    "df[\"Analysis\"].value_counts()"
   ]
  },
  {
   "cell_type": "code",
   "execution_count": 64,
   "metadata": {},
   "outputs": [
    {
     "data": {
      "text/plain": [
       "array([[146, 113],\n",
       "       [192, 277]])"
      ]
     },
     "execution_count": 64,
     "metadata": {},
     "output_type": "execute_result"
    }
   ],
   "source": [
    "metrics.confusion_matrix(predictions,y_test)"
   ]
  },
  {
   "cell_type": "code",
   "execution_count": 65,
   "metadata": {},
   "outputs": [
    {
     "name": "stdout",
     "output_type": "stream",
     "text": [
      "true negative: 146 false positive: 192\n",
      "false negative: 113 true positive: 277\n"
     ]
    }
   ],
   "source": [
    "tn, fp, fn, tp = confusion_matrix(y_test, predictions).ravel()\n",
    "print(f\"true negative: {tn:3d} false positive: {fp:3d}\")\n",
    "print(f\"false negative: {fn:3d} true positive: {tp:3d}\")"
   ]
  },
  {
   "cell_type": "markdown",
   "metadata": {},
   "source": [
    "# Support Vector Machine w/o Hyper Parameter Tuning"
   ]
  },
  {
   "cell_type": "code",
   "execution_count": 66,
   "metadata": {},
   "outputs": [
    {
     "data": {
      "text/plain": [
       "SVC(C=1.0, cache_size=200, class_weight=None, coef0=0.0,\n",
       "    decision_function_shape='ovr', degree=3, gamma='auto_deprecated',\n",
       "    kernel='poly', max_iter=-1, probability=False, random_state=None,\n",
       "    shrinking=True, tol=0.001, verbose=False)"
      ]
     },
     "execution_count": 66,
     "metadata": {},
     "output_type": "execute_result"
    }
   ],
   "source": [
    "# Create a support vector machine linear classifer and fit it to the training data.\n",
    "\n",
    "target_names = [\"not successful\", \"successful\"]\n",
    "\n",
    "modelSVC1 = SVC(kernel='linear', probability = True)\n",
    "modelSVC1.fit(X_train_scaled, y_train)\n",
    "\n",
    "modelSVC2 = SVC(kernel='rbf')\n",
    "modelSVC2.fit(X_train_scaled, y_train)\n",
    "\n",
    "modelSVC3 = SVC(kernel='poly')\n",
    "modelSVC3.fit(X_train_scaled, y_train)"
   ]
  },
  {
   "cell_type": "code",
   "execution_count": 67,
   "metadata": {},
   "outputs": [
    {
     "name": "stdout",
     "output_type": "stream",
     "text": [
      "Linear SVC Model: 0.5357142857142857\n",
      "RBF SVC Model: 0.4642857142857143\n",
      "Polynomial SVC Model: 0.4642857142857143\n"
     ]
    }
   ],
   "source": [
    "# Print model scores using the test data to compare\n",
    "print(f\"Linear SVC Model: {modelSVC1.score(X_test,y_test)}\")\n",
    "print(f\"RBF SVC Model: {modelSVC2.score(X_test,y_test)}\")\n",
    "print(f\"Polynomial SVC Model: {modelSVC3.score(X_test,y_test)}\")"
   ]
  },
  {
   "cell_type": "markdown",
   "metadata": {},
   "source": [
    "# Support Vector Machine w/ Hyper Parameter Tuning"
   ]
  },
  {
   "cell_type": "code",
   "execution_count": 68,
   "metadata": {},
   "outputs": [],
   "source": [
    "# create support vector classifier \n",
    "modelSVC = SVC()\n",
    "\n",
    "#defining hyper parameters\n",
    "params = {'C': [5,6,7,8,9,10], \n",
    "          'kernel': ['linear','rbf'],\n",
    "          'gamma': [0.1,1,10,100]}\n",
    "\n",
    "#Making models with hyper parameters sets\n",
    "modelSVC = GridSearchCV(modelSVC, param_grid=params, n_jobs=-1)"
   ]
  },
  {
   "cell_type": "code",
   "execution_count": 69,
   "metadata": {},
   "outputs": [
    {
     "data": {
      "text/plain": [
       "GridSearchCV(cv='warn', error_score='raise-deprecating',\n",
       "             estimator=SVC(C=1.0, cache_size=200, class_weight=None, coef0=0.0,\n",
       "                           decision_function_shape='ovr', degree=3,\n",
       "                           gamma='auto_deprecated', kernel='rbf', max_iter=-1,\n",
       "                           probability=False, random_state=None, shrinking=True,\n",
       "                           tol=0.001, verbose=False),\n",
       "             iid='warn', n_jobs=-1,\n",
       "             param_grid={'C': [5, 6, 7, 8, 9, 10], 'gamma': [0.1, 1, 10, 100],\n",
       "                         'kernel': ['linear', 'rbf']},\n",
       "             pre_dispatch='2*n_jobs', refit=True, return_train_score=False,\n",
       "             scoring=None, verbose=0)"
      ]
     },
     "execution_count": 69,
     "metadata": {},
     "output_type": "execute_result"
    }
   ],
   "source": [
    "#Learning\n",
    "modelSVC.fit(X_train_scaled,y_train)"
   ]
  },
  {
   "cell_type": "code",
   "execution_count": 70,
   "metadata": {},
   "outputs": [
    {
     "name": "stdout",
     "output_type": "stream",
     "text": [
      "Best Hyper Parameters: {'C': 5, 'gamma': 0.1, 'kernel': 'linear'}\n"
     ]
    }
   ],
   "source": [
    "#The best hyper parameters set\n",
    "print(f\"Best Hyper Parameters: {modelSVC.best_params_}\")"
   ]
  },
  {
   "cell_type": "code",
   "execution_count": 71,
   "metadata": {},
   "outputs": [
    {
     "data": {
      "text/plain": [
       "array([ 1.34571345e-05, -3.52043039e-01, -3.71236314e-01,  1.50830432e-01,\n",
       "        1.43875470e-01,  1.49833939e-01,  1.57945958e-01,  1.55850876e-01,\n",
       "        1.63484814e-01, -4.70407548e-01,  1.65379620e-01,  7.05846244e-02,\n",
       "        8.40520285e-02, -1.00711049e-04,  1.90949878e-04, -3.38978982e-04,\n",
       "        1.18548983e-04, -6.75262611e-05,  5.59730787e-05,  1.15357546e-01])"
      ]
     },
     "execution_count": 71,
     "metadata": {},
     "output_type": "execute_result"
    }
   ],
   "source": [
    "modelSVC1.coef_[0]"
   ]
  },
  {
   "cell_type": "code",
   "execution_count": 72,
   "metadata": {},
   "outputs": [
    {
     "data": {
      "image/png": "[encoded data removed]",
      "text/plain": [
       "<Figure size 432x288 with 1 Axes>"
      ]
     },
     "metadata": {
      "needs_background": "light"
     },
     "output_type": "display_data"
    },
    {
     "data": {
      "image/png": "[encoded data removed]",
      "text/plain": [
       "<Figure size 432x288 with 1 Axes>"
      ]
     },
     "metadata": {
      "needs_background": "light"
     },
     "output_type": "display_data"
    }
   ],
   "source": [
    "def f_importances(coef, names):\n",
    "    imp = coef\n",
    "    imp,names = zip(*sorted(zip(imp,names)))\n",
    "    plt.barh(range(len(names)), imp, align='center')\n",
    "    plt.yticks(range(len(names)), names)\n",
    "    plt.show()\n",
    "\n",
    "features_names = [\"duration\",\"rel_mon_01\",\"rel_mon_02\", \"rel_mon_03\", \"rel_mon_04\", \"rel_mon_05\", \"rel_mon_06\",\n",
    "             \"rel_mon_07\", \"rel_mon_08\", \"rel_mon_09\", \"rel_mon_10\", \"rel_mon_11\", \"rel_mon_12\",\"rating_numeric\",\n",
    "             \"director_score\",\"production_companies_count\",\"total_actor_starpower\",\"tot_wins\",\"tot_noms\",\n",
    "             \"holiday_month\"]\n",
    "\n",
    "f_importances(abs(modelSVC1.coef_[0]), features_names)\n",
    "f_importances(modelSVC1.coef_[0], features_names)"
   ]
  },
  {
   "cell_type": "code",
   "execution_count": 73,
   "metadata": {},
   "outputs": [],
   "source": [
    "# make prediction using test data\n",
    "prediction = modelSVC.predict(X_test_scaled)"
   ]
  },
  {
   "cell_type": "code",
   "execution_count": 74,
   "metadata": {},
   "outputs": [
    {
     "name": "stdout",
     "output_type": "stream",
     "text": [
      "Accuracy: 0.5315934065934066\n"
     ]
    }
   ],
   "source": [
    "#evaluation(Accuracy)\n",
    "print(f\"Accuracy: {metrics.accuracy_score(prediction,y_test)}\")"
   ]
  },
  {
   "cell_type": "markdown",
   "metadata": {},
   "source": [
    "# QDA"
   ]
  },
  {
   "cell_type": "code",
   "execution_count": 98,
   "metadata": {},
   "outputs": [],
   "source": [
    "from mpl_toolkits.mplot3d import Axes3D\n",
    "from sklearn import decomposition\n",
    "from sklearn import datasets\n",
    "from sklearn.svm import SVC"
   ]
  },
  {
   "cell_type": "code",
   "execution_count": 99,
   "metadata": {},
   "outputs": [],
   "source": [
    "from sklearn.discriminant_analysis import QuadraticDiscriminantAnalysis\n",
    "# define model\n",
    "modelQda = QuadraticDiscriminantAnalysis()"
   ]
  },
  {
   "cell_type": "code",
   "execution_count": 106,
   "metadata": {},
   "outputs": [
    {
     "name": "stdout",
     "output_type": "stream",
     "text": [
      "n=2 0.5302197802197802 \n",
      "n=3 0.5357142857142857 \n",
      "n=4 0.5412087912087912 \n",
      "n=5 0.5563186813186813 \n",
      "n=6 0.5576923076923077 \n",
      "n=7 0.5631868131868132 \n",
      "n=8 0.5604395604395604 \n"
     ]
    }
   ],
   "source": [
    "# Function to test PCA with a range of component values\n",
    "\n",
    "for n in range(2,9):\n",
    "    \n",
    "    pca = decomposition.PCA(n_components = n)\n",
    "    pca.fit(X2_train_scaled, y_train)\n",
    "    X2_train_pca = pca.transform(X2_train_scaled)\n",
    "    X2_test_pca = pca.transform(X2_test_scaled)\n",
    "    \n",
    "    modelQda.fit(X2_train_pca, y_train)\n",
    "    print(\"n=\"+str(n),modelQda.score(X2_test_pca, y_test),\"\")"
   ]
  },
  {
   "cell_type": "code",
   "execution_count": 111,
   "metadata": {},
   "outputs": [
    {
     "name": "stdout",
     "output_type": "stream",
     "text": [
      "n=2 0.5357142857142857 \n",
      "n=3 0.5274725274725275 \n",
      "n=4 0.5494505494505495 \n",
      "n=5 0.5686813186813187 \n",
      "n=6 0.5782967032967034 \n",
      "n=7 0.5755494505494505 \n",
      "n=8 0.5837912087912088 \n"
     ]
    }
   ],
   "source": [
    "# Function to test PCA with 8 features, but this time with the MaxMin scaler (Xm)\n",
    "\n",
    "for n in range(2,9):\n",
    "    \n",
    "    pca = decomposition.PCA(n_components = n)\n",
    "    pca.fit(Xm2_train_scaled, y_train)\n",
    "    Xm2_train_pca = pca.transform(Xm2_train_scaled)\n",
    "    Xm2_test_pca = pca.transform(Xm2_test_scaled)\n",
    "    \n",
    "    modelQda.fit(Xm2_train_pca, y_train)\n",
    "    print(\"n=\"+str(n),modelQda.score(Xm2_test_pca, y_test),\"\")\n",
    "\n"
   ]
  },
  {
   "cell_type": "code",
   "execution_count": 113,
   "metadata": {},
   "outputs": [
    {
     "name": "stdout",
     "output_type": "stream",
     "text": [
      "n=8 0.5837912087912088 \n"
     ]
    }
   ],
   "source": [
    "# Function to test PCA with 8 features, but this time with the MaxMin scaler (Xm)\n",
    "    \n",
    "pca = decomposition.PCA(n_components = 8)\n",
    "pca.fit(Xm2_train_scaled, y_train)\n",
    "Xm2_train_pca = pca.transform(Xm2_train_scaled)\n",
    "Xm2_test_pca = pca.transform(Xm2_test_scaled)\n",
    "\n",
    "modelQda.fit(Xm2_train_pca, y_train)\n",
    "print(\"n=\"+str(n),modelQda.score(Xm2_test_pca, y_test),\"\")\n",
    "\n"
   ]
  },
  {
   "cell_type": "code",
   "execution_count": 114,
   "metadata": {},
   "outputs": [
    {
     "name": "stdout",
     "output_type": "stream",
     "text": [
      "mean squared error: 0.41620879120879123\n",
      "r2: -0.6733727810650889\n",
      "testing_score: 0.5837912087912088\n"
     ]
    }
   ],
   "source": [
    "# Use our model to predict a value\n",
    "predicted = modelQda.predict(Xm2_test_pca)\n",
    "\n",
    "# Score the prediction with mse and r2\n",
    "mse = mean_squared_error(y_test, predicted)\n",
    "r2 = r2_score(y_test, predicted)\n",
    "testing_score = modelQda.score(Xm2_test_pca,y_test)\n",
    "\n",
    "print(f\"mean squared error: {mse}\")\n",
    "print(f\"r2: {r2}\")\n",
    "print(f\"testing_score: {testing_score}\")"
   ]
  },
  {
   "cell_type": "markdown",
   "metadata": {},
   "source": [
    "# AdaBoost\n"
   ]
  },
  {
   "cell_type": "code",
   "execution_count": 148,
   "metadata": {},
   "outputs": [
    {
     "name": "stdout",
     "output_type": "stream",
     "text": [
      "n=8 0.5563186813186813\n"
     ]
    }
   ],
   "source": [
    "from sklearn.preprocessing import StandardScaler\n",
    "from sklearn.preprocessing import MinMaxScaler\n",
    "\n",
    "# Create adaboost classifier object\n",
    "modelAda = AdaBoostClassifier(n_estimators=50,\n",
    "                         learning_rate=1)\n",
    "\n",
    "# Function to test PCA with an optimal number of components equals 6\n",
    "pca = decomposition.PCA(n_components = 6)\n",
    "pca.fit(X2_train_scaled, y_train)\n",
    "X2_train_pca = pca.transform(X2_train_scaled)\n",
    "X2_test_pca = pca.transform(X2_test_scaled)\n",
    "\n",
    "# fit the AdaBoost model with 8 feature dataset\n",
    "modelAda.fit(X2_train_pca, y_train)\n",
    "print(\"n=\"+str(n),modelAda.score(X2_test_pca, y_test))"
   ]
  },
  {
   "cell_type": "markdown",
   "metadata": {},
   "source": [
    "# Summary of Models and Scores"
   ]
  },
  {
   "cell_type": "code",
   "execution_count": 149,
   "metadata": {},
   "outputs": [
    {
     "name": "stdout",
     "output_type": "stream",
     "text": [
      "Models WITHOUT Hyper Parameter Tuning\n",
      "------------------\n",
      "Decision Tree: 0.5398351648351648\n",
      "Random Forest: 0.5\n",
      "Support Vector Machine: 0.5357142857142857\n",
      "-------------------------\n",
      "Model scores WITH Hyper Parameter Tuning\n",
      "Decision Tree: 0.5439560439560439\n",
      "Random Forest: 0.5810439560439561\n",
      "Support Vector Machine: 0.5315934065934066\n",
      "Deep Neural Network: 0.5178571343421936\n",
      "QDA: 0.5837912087912088\n",
      "AdaBoost: 0.5563186813186813\n"
     ]
    }
   ],
   "source": [
    "print(f\"Models WITHOUT Hyper Parameter Tuning\")\n",
    "print(f\"------------------\")\n",
    "print(f\"Decision Tree: {modelDT.score(X_test_scaled, y_test)}\")\n",
    "print(f\"Random Forest: {rf.score(X_test_scaled, y_test)}\")\n",
    "print(f\"Support Vector Machine: {modelSVC1.score(X_test,y_test)}\")\n",
    "print(\"-------------------------\")\n",
    "print(f\"Model scores WITH Hyper Parameter Tuning\")\n",
    "print(f\"Decision Tree: {metrics.accuracy_score(predictionDT1,y_test)}\")\n",
    "print(f\"Random Forest: {metrics.accuracy_score(predictionRf1,y_test)}\")\n",
    "print(f\"Support Vector Machine: {metrics.accuracy_score(prediction,y_test)}\")\n",
    "print(f\"Deep Neural Network: {model_accuracy}\")\n",
    "print(f\"QDA: {modelQda.score(Xm2_test_pca,y_test)}\")\n",
    "print(f\"AdaBoost: {modelAda.score(X2_test_pca, y_test)}\")"
   ]
  },
  {
   "cell_type": "markdown",
   "metadata": {},
   "source": [
    "# ROC Curve (Receiving Operator Characteristic) & CAP (Cumulative Accuracy Profile)"
   ]
  },
  {
   "cell_type": "code",
   "execution_count": 151,
   "metadata": {},
   "outputs": [
    {
     "name": "stdout",
     "output_type": "stream",
     "text": [
      "Qda AUC (Area Under Curve): 0.581\n",
      "Random Forest AUC (Area Under Curve): 0.610\n",
      "AdaBoost (Area Under Curve): 0.575\n",
      "\n",
      "\n"
     ]
    },
    {
     "data": {
      "image/png": "[encoded data removed]",
      "text/plain": [
       "<Figure size 432x288 with 1 Axes>"
      ]
     },
     "metadata": {
      "needs_background": "light"
     },
     "output_type": "display_data"
    }
   ],
   "source": [
    "# predict probabilities\n",
    "probsQda = modelQda.predict_proba(Xm2_test_pca)\n",
    "probsRf = modelRf1.predict_proba(X_test_scaled)\n",
    "probsAda = modelAda.predict_proba(X2_test_pca)\n",
    "\n",
    "# keep probabilities for the positive outcome only\n",
    "probsQda = probsQda[:, 1]\n",
    "probsRf = probsRf[:, 1]\n",
    "probsAda = probsAda[:, 1]\n",
    "\n",
    "# calculate AUC for NN,RF, Qda, Ada models\n",
    "aucQda = roc_auc_score(y_test, probsQda)\n",
    "aucRf = roc_auc_score(y_test, probsRf)\n",
    "aucAda = roc_auc_score(y_test,probsAda)\n",
    "print('Qda AUC (Area Under Curve): %.3f' % aucQda)\n",
    "print('Random Forest AUC (Area Under Curve): %.3f' % aucRf)\n",
    "print('AdaBoost (Area Under Curve): %.3f' % aucAda)\n",
    "print('\\n')\n",
    "# calculate roc curve\n",
    "fprQda, tprQda, thresholdsQda = roc_curve(y_test, probsQda)\n",
    "fprRf, tprRf, thresholdsRf = roc_curve(y_test, probsRf)\n",
    "fprAda, tprAda, thresholdAda = roc_curve(y_test, probsAda)\n",
    "\n",
    "# plot no skill\n",
    "pyplot.plot([0, 1], [0, 1], linestyle='--', label=\"Random\")\n",
    "# plot the Qda roc curve\n",
    "pyplot.plot(fprQda, tprQda, marker='.', label=\"QDA\")\n",
    "# plot the Random Forest ROC curve \n",
    "pyplot.plot(fprRf, tprRf, marker = '.', label = \"Random Forest\")\n",
    "# plot the Ada ROC curve \n",
    "pyplot.plot(fprAda, tprAda, marker = '.', label = \"AdaBoost\")\n",
    "# title\n",
    "plt.title('ROC Curve', fontsize = 16)\n",
    "# legend\n",
    "plt.legend(loc = 'lower right', fontsize = 10)\n",
    "# show the plot\n",
    "pyplot.show()"
   ]
  },
  {
   "cell_type": "markdown",
   "metadata": {},
   "source": [
    "# Cumulative Accuracy Profile"
   ]
  },
  {
   "cell_type": "code",
   "execution_count": 120,
   "metadata": {},
   "outputs": [
    {
     "name": "stdout",
     "output_type": "stream",
     "text": [
      "Total: 728\n",
      "Class 1 Count: 390\n",
      "Class 0 Count: 338\n"
     ]
    }
   ],
   "source": [
    "total = len(y_test)\n",
    "class_1_count = np.sum(y_test)\n",
    "class_0_count = total - class_1_count\n",
    "\n",
    "print(f\"Total: {total}\")\n",
    "print(f\"Class 1 Count: {class_1_count}\")\n",
    "print(f\"Class 0 Count: {class_0_count}\")"
   ]
  },
  {
   "cell_type": "code",
   "execution_count": 152,
   "metadata": {},
   "outputs": [
    {
     "data": {
      "text/plain": [
       "<matplotlib.legend.Legend at 0x1a2fef8da0>"
      ]
     },
     "execution_count": 152,
     "metadata": {},
     "output_type": "execute_result"
    },
    {
     "data": {
      "image/png": "[encoded data removed]",
      "text/plain": [
       "<Figure size 432x288 with 1 Axes>"
      ]
     },
     "metadata": {
      "needs_background": "light"
     },
     "output_type": "display_data"
    }
   ],
   "source": [
    "# plot a random model\n",
    "plt.plot([0, total], [0, class_1_count], c = 'r', linestyle = '--', label = 'Random Model')\n",
    "\n",
    "# plot a perfect model\n",
    "plt.plot([0, class_1_count, total], \n",
    "         [0, class_1_count, class_1_count], \n",
    "         c = 'grey', \n",
    "         linewidth = 2, \n",
    "         label = 'Perfect Model')\n",
    "\n",
    "# creat plot for Random Forest model to compare\n",
    "probs = modelRf1.predict_proba(X_test_scaled)\n",
    "probs = probs[:, 1]\n",
    "model_y = [y for _, y in sorted(zip(probs, y_test), reverse = True)]\n",
    "y_values = np.append([0], np.cumsum(model_y))\n",
    "x_values = np.arange(0, total + 1)\n",
    "\n",
    "# creat plot for Qda model to compare\n",
    "probsQda = modelQda.predict_proba(Xm2_test_scaled)\n",
    "probsQda = probsQda[:, 1]\n",
    "model_y = [y for _, y in sorted(zip(probsQda, y_test), reverse = True)]\n",
    "y_valuesQda = np.append([0], np.cumsum(model_y))\n",
    "x_valuesQda = np.arange(0, total + 1)\n",
    "\n",
    "plt.plot(x_values, \n",
    "         y_values, \n",
    "         c = 'b', \n",
    "         label = 'Random Forest Classifier', \n",
    "         linewidth = 4)\n",
    "\n",
    "plt.plot(x_valuesQda, \n",
    "         y_valuesQda, \n",
    "         c = 'g', \n",
    "         label = 'QDA', \n",
    "         linewidth = 4)\n",
    "\n",
    "# Plot information\n",
    "plt.xlabel('Total observations', fontsize = 12)\n",
    "plt.ylabel('Class 1 observations', fontsize = 12)\n",
    "plt.title('Cumulative Accuracy Profile', fontsize = 12)\n",
    "plt.legend(loc = 'lower right', fontsize = 12)"
   ]
  }
 ],
 "metadata": {
  "kernelspec": {
   "display_name": "Python 3",
   "language": "python",
   "name": "python3"
  },
  "language_info": {
   "codemirror_mode": {
    "name": "ipython",
    "version": 3
   },
   "file_extension": ".py",
   "mimetype": "text/x-python",
   "name": "python",
   "nbconvert_exporter": "python",
   "pygments_lexer": "ipython3",
   "version": "3.7.2"
  }
 },
 "nbformat": 4,
 "nbformat_minor": 2
}
