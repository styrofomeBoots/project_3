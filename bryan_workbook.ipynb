{
 "cells": [
  {
   "cell_type": "code",
   "execution_count": 100,
   "metadata": {},
   "outputs": [],
   "source": [
    "#import dependencies\n",
    "import requests\n",
    "import time\n",
    "import sqlite3\n",
    "import warnings\n",
    "import numpy as np\n",
    "import pandas as pd\n",
    "import matplotlib.pyplot as plt\n",
    "from pprint import pprint as pp\n",
    "from bs4 import BeautifulSoup as bs\n",
    "from sklearn import decomposition\n",
    "from sklearn.ensemble import AdaBoostClassifier\n",
    "from sklearn.model_selection import train_test_split, GridSearchCV, KFold\n",
    "from sklearn.preprocessing import StandardScaler, MinMaxScaler\n",
    "from sklearn.linear_model import LinearRegression, LogisticRegression\n",
    "from sklearn.metrics import mean_squared_error, r2_score, roc_curve, roc_auc_score, f1_score, precision_recall_curve, average_precision_score, auc\n",
    "from sklearn.svm import SVC, SVR\n",
    "from sklearn import svm\n",
    "from sklearn import metrics\n",
    "from tensorflow.keras.models import Sequential\n",
    "from tensorflow.keras.utils import to_categorical\n",
    "from tensorflow.keras.layers import Dense\n",
    "from matplotlib import pyplot\n",
    "from sklearn import tree\n",
    "from sklearn.ensemble import RandomForestClassifier\n",
    "from sklearn.feature_extraction.text import CountVectorizer\n",
    "from sklearn.svm import LinearSVC"
   ]
  },
  {
   "cell_type": "code",
   "execution_count": 3,
   "metadata": {},
   "outputs": [
    {
     "data": {
      "text/html": [
       "<div>\n",
       "<style scoped>\n",
       "    .dataframe tbody tr th:only-of-type {\n",
       "        vertical-align: middle;\n",
       "    }\n",
       "\n",
       "    .dataframe tbody tr th {\n",
       "        vertical-align: top;\n",
       "    }\n",
       "\n",
       "    .dataframe thead th {\n",
       "        text-align: right;\n",
       "    }\n",
       "</style>\n",
       "<table border=\"1\" class=\"dataframe\">\n",
       "  <thead>\n",
       "    <tr style=\"text-align: right;\">\n",
       "      <th></th>\n",
       "      <th>color</th>\n",
       "      <th>director_name</th>\n",
       "      <th>num_critic_for_reviews</th>\n",
       "      <th>duration</th>\n",
       "      <th>director_facebook_likes</th>\n",
       "      <th>actor_3_facebook_likes</th>\n",
       "      <th>actor_2_name</th>\n",
       "      <th>actor_1_facebook_likes</th>\n",
       "      <th>gross</th>\n",
       "      <th>genres</th>\n",
       "      <th>...</th>\n",
       "      <th>rel_mon_04</th>\n",
       "      <th>rel_mon_05</th>\n",
       "      <th>rel_mon_06</th>\n",
       "      <th>rel_mon_07</th>\n",
       "      <th>rel_mon_08</th>\n",
       "      <th>rel_mon_09</th>\n",
       "      <th>rel_mon_10</th>\n",
       "      <th>rel_mon_11</th>\n",
       "      <th>rel_mon_12</th>\n",
       "      <th>release_month</th>\n",
       "    </tr>\n",
       "  </thead>\n",
       "  <tbody>\n",
       "    <tr>\n",
       "      <th>0</th>\n",
       "      <td>Color</td>\n",
       "      <td>James Cameron</td>\n",
       "      <td>723.0</td>\n",
       "      <td>178.0</td>\n",
       "      <td>0.0</td>\n",
       "      <td>855.0</td>\n",
       "      <td>Joel David Moore</td>\n",
       "      <td>1000.0</td>\n",
       "      <td>760505847.0</td>\n",
       "      <td>Action|Adventure|Fantasy|Sci-Fi</td>\n",
       "      <td>...</td>\n",
       "      <td>0</td>\n",
       "      <td>0</td>\n",
       "      <td>0</td>\n",
       "      <td>0</td>\n",
       "      <td>0</td>\n",
       "      <td>0</td>\n",
       "      <td>0</td>\n",
       "      <td>0</td>\n",
       "      <td>1</td>\n",
       "      <td>12</td>\n",
       "    </tr>\n",
       "    <tr>\n",
       "      <th>1</th>\n",
       "      <td>Color</td>\n",
       "      <td>Stephen Sommers</td>\n",
       "      <td>106.0</td>\n",
       "      <td>106.0</td>\n",
       "      <td>208.0</td>\n",
       "      <td>855.0</td>\n",
       "      <td>Jason Flemyng</td>\n",
       "      <td>3000.0</td>\n",
       "      <td>11146409.0</td>\n",
       "      <td>Action|Adventure|Horror|Sci-Fi</td>\n",
       "      <td>...</td>\n",
       "      <td>0</td>\n",
       "      <td>0</td>\n",
       "      <td>0</td>\n",
       "      <td>0</td>\n",
       "      <td>0</td>\n",
       "      <td>0</td>\n",
       "      <td>0</td>\n",
       "      <td>0</td>\n",
       "      <td>0</td>\n",
       "      <td>01</td>\n",
       "    </tr>\n",
       "    <tr>\n",
       "      <th>2</th>\n",
       "      <td>Color</td>\n",
       "      <td>Terrence Malick</td>\n",
       "      <td>222.0</td>\n",
       "      <td>150.0</td>\n",
       "      <td>0.0</td>\n",
       "      <td>855.0</td>\n",
       "      <td>Michael Greyeyes</td>\n",
       "      <td>23000.0</td>\n",
       "      <td>12712093.0</td>\n",
       "      <td>Biography|Drama|History|Romance</td>\n",
       "      <td>...</td>\n",
       "      <td>0</td>\n",
       "      <td>0</td>\n",
       "      <td>0</td>\n",
       "      <td>0</td>\n",
       "      <td>0</td>\n",
       "      <td>0</td>\n",
       "      <td>0</td>\n",
       "      <td>0</td>\n",
       "      <td>1</td>\n",
       "      <td>12</td>\n",
       "    </tr>\n",
       "    <tr>\n",
       "      <th>3</th>\n",
       "      <td>Color</td>\n",
       "      <td>Brian Robbins</td>\n",
       "      <td>76.0</td>\n",
       "      <td>98.0</td>\n",
       "      <td>48.0</td>\n",
       "      <td>722.0</td>\n",
       "      <td>Joel David Moore</td>\n",
       "      <td>21000.0</td>\n",
       "      <td>61112916.0</td>\n",
       "      <td>Comedy|Family|Fantasy</td>\n",
       "      <td>...</td>\n",
       "      <td>0</td>\n",
       "      <td>0</td>\n",
       "      <td>0</td>\n",
       "      <td>0</td>\n",
       "      <td>0</td>\n",
       "      <td>0</td>\n",
       "      <td>0</td>\n",
       "      <td>0</td>\n",
       "      <td>0</td>\n",
       "      <td>03</td>\n",
       "    </tr>\n",
       "    <tr>\n",
       "      <th>4</th>\n",
       "      <td>Color</td>\n",
       "      <td>Brad Peyton</td>\n",
       "      <td>178.0</td>\n",
       "      <td>94.0</td>\n",
       "      <td>62.0</td>\n",
       "      <td>722.0</td>\n",
       "      <td>Dwayne Johnson</td>\n",
       "      <td>14000.0</td>\n",
       "      <td>103812241.0</td>\n",
       "      <td>Action|Adventure|Comedy|Family|Fantasy|Sci-Fi</td>\n",
       "      <td>...</td>\n",
       "      <td>0</td>\n",
       "      <td>0</td>\n",
       "      <td>0</td>\n",
       "      <td>0</td>\n",
       "      <td>0</td>\n",
       "      <td>0</td>\n",
       "      <td>0</td>\n",
       "      <td>0</td>\n",
       "      <td>0</td>\n",
       "      <td>01</td>\n",
       "    </tr>\n",
       "  </tbody>\n",
       "</table>\n",
       "<p>5 rows × 61 columns</p>\n",
       "</div>"
      ],
      "text/plain": [
       "   color    director_name  num_critic_for_reviews  duration  \\\n",
       "0  Color    James Cameron                   723.0     178.0   \n",
       "1  Color  Stephen Sommers                   106.0     106.0   \n",
       "2  Color  Terrence Malick                   222.0     150.0   \n",
       "3  Color    Brian Robbins                    76.0      98.0   \n",
       "4  Color      Brad Peyton                   178.0      94.0   \n",
       "\n",
       "   director_facebook_likes  actor_3_facebook_likes      actor_2_name  \\\n",
       "0                      0.0                   855.0  Joel David Moore   \n",
       "1                    208.0                   855.0     Jason Flemyng   \n",
       "2                      0.0                   855.0  Michael Greyeyes   \n",
       "3                     48.0                   722.0  Joel David Moore   \n",
       "4                     62.0                   722.0    Dwayne Johnson   \n",
       "\n",
       "   actor_1_facebook_likes        gross  \\\n",
       "0                  1000.0  760505847.0   \n",
       "1                  3000.0   11146409.0   \n",
       "2                 23000.0   12712093.0   \n",
       "3                 21000.0   61112916.0   \n",
       "4                 14000.0  103812241.0   \n",
       "\n",
       "                                          genres      ...      rel_mon_04  \\\n",
       "0                Action|Adventure|Fantasy|Sci-Fi      ...               0   \n",
       "1                 Action|Adventure|Horror|Sci-Fi      ...               0   \n",
       "2                Biography|Drama|History|Romance      ...               0   \n",
       "3                          Comedy|Family|Fantasy      ...               0   \n",
       "4  Action|Adventure|Comedy|Family|Fantasy|Sci-Fi      ...               0   \n",
       "\n",
       "  rel_mon_05  rel_mon_06  rel_mon_07 rel_mon_08  rel_mon_09 rel_mon_10  \\\n",
       "0          0           0           0          0           0          0   \n",
       "1          0           0           0          0           0          0   \n",
       "2          0           0           0          0           0          0   \n",
       "3          0           0           0          0           0          0   \n",
       "4          0           0           0          0           0          0   \n",
       "\n",
       "  rel_mon_11  rel_mon_12 release_month  \n",
       "0          0           1            12  \n",
       "1          0           0            01  \n",
       "2          0           1            12  \n",
       "3          0           0            03  \n",
       "4          0           0            01  \n",
       "\n",
       "[5 rows x 61 columns]"
      ]
     },
     "execution_count": 3,
     "metadata": {},
     "output_type": "execute_result"
    }
   ],
   "source": [
    "# create connection to database\n",
    "warnings.filterwarnings('ignore')\n",
    "\n",
    "con = sqlite3.connect(\"db/movies.db\")\n",
    "sql = f\"\"\"\n",
    "   SELECT * FROM movie_data\n",
    "   \"\"\"\n",
    "\n",
    "# bring in db to pandas dataframe\n",
    "movieDf = pd.read_sql(sql, con)\n",
    "movieDf.head()"
   ]
  },
  {
   "cell_type": "code",
   "execution_count": 4,
   "metadata": {},
   "outputs": [
    {
     "name": "stdout",
     "output_type": "stream",
     "text": [
      "actor_1_facebook_likes\n",
      "actor_1_name\n",
      "actor_1_score\n",
      "actor_2_facebook_likes\n",
      "actor_2_name\n",
      "actor_2_score\n",
      "actor_3_facebook_likes\n",
      "actor_3_name\n",
      "actor_3_score\n",
      "aspect_ratio\n",
      "budget\n",
      "cast_total_facebook_likes\n",
      "color\n",
      "content_rating\n",
      "country\n",
      "director_facebook_likes\n",
      "director_name\n",
      "director_score\n",
      "duration\n",
      "facenumber_in_poster\n",
      "genres\n",
      "genres_count\n",
      "gross\n",
      "gross_margin\n",
      "holiday_month\n",
      "imdb_num_code\n",
      "imdb_score\n",
      "language\n",
      "movie_facebook_likes\n",
      "movie_imdb_link\n",
      "movie_title\n",
      "num_critic_for_reviews\n",
      "num_user_for_reviews\n",
      "num_voted_users\n",
      "plot_keywords\n",
      "popularity\n",
      "production_companies_count\n",
      "rating_numeric\n",
      "rel_mon_01\n",
      "rel_mon_02\n",
      "rel_mon_03\n",
      "rel_mon_04\n",
      "rel_mon_05\n",
      "rel_mon_06\n",
      "rel_mon_07\n",
      "rel_mon_08\n",
      "rel_mon_09\n",
      "rel_mon_10\n",
      "rel_mon_11\n",
      "rel_mon_12\n",
      "release_date\n",
      "release_month\n",
      "revenue\n",
      "success_bins\n",
      "successful\n",
      "title_year\n",
      "tot_noms\n",
      "tot_wins\n",
      "total_actor_starpower\n",
      "vote_average\n",
      "vote_count\n"
     ]
    }
   ],
   "source": [
    "# review columns\n",
    "for col in movieDf.columns.sort_values().values:\n",
    "    print(col)"
   ]
  },
  {
   "cell_type": "code",
   "execution_count": 5,
   "metadata": {},
   "outputs": [
    {
     "data": {
      "text/html": [
       "<div>\n",
       "<style scoped>\n",
       "    .dataframe tbody tr th:only-of-type {\n",
       "        vertical-align: middle;\n",
       "    }\n",
       "\n",
       "    .dataframe tbody tr th {\n",
       "        vertical-align: top;\n",
       "    }\n",
       "\n",
       "    .dataframe thead th {\n",
       "        text-align: right;\n",
       "    }\n",
       "</style>\n",
       "<table border=\"1\" class=\"dataframe\">\n",
       "  <thead>\n",
       "    <tr style=\"text-align: right;\">\n",
       "      <th></th>\n",
       "      <th>duration</th>\n",
       "      <th>rating_numeric</th>\n",
       "      <th>budget</th>\n",
       "      <th>revenue</th>\n",
       "      <th>gross_margin</th>\n",
       "      <th>successful</th>\n",
       "      <th>director_score</th>\n",
       "      <th>production_companies_count</th>\n",
       "      <th>total_actor_starpower</th>\n",
       "      <th>rel_mon_01</th>\n",
       "      <th>...</th>\n",
       "      <th>rel_mon_06</th>\n",
       "      <th>rel_mon_07</th>\n",
       "      <th>rel_mon_08</th>\n",
       "      <th>rel_mon_09</th>\n",
       "      <th>rel_mon_10</th>\n",
       "      <th>rel_mon_11</th>\n",
       "      <th>rel_mon_12</th>\n",
       "      <th>holiday_month</th>\n",
       "      <th>tot_wins</th>\n",
       "      <th>tot_noms</th>\n",
       "    </tr>\n",
       "  </thead>\n",
       "  <tbody>\n",
       "    <tr>\n",
       "      <th>0</th>\n",
       "      <td>178.0</td>\n",
       "      <td>3</td>\n",
       "      <td>237000000.0</td>\n",
       "      <td>523505847.0</td>\n",
       "      <td>0.688365</td>\n",
       "      <td>1</td>\n",
       "      <td>3.091853</td>\n",
       "      <td>4.0</td>\n",
       "      <td>5.334665</td>\n",
       "      <td>0</td>\n",
       "      <td>...</td>\n",
       "      <td>0</td>\n",
       "      <td>0</td>\n",
       "      <td>0</td>\n",
       "      <td>0</td>\n",
       "      <td>0</td>\n",
       "      <td>0</td>\n",
       "      <td>1</td>\n",
       "      <td>1</td>\n",
       "      <td>0</td>\n",
       "      <td>0</td>\n",
       "    </tr>\n",
       "    <tr>\n",
       "      <th>1</th>\n",
       "      <td>106.0</td>\n",
       "      <td>4</td>\n",
       "      <td>45000000.0</td>\n",
       "      <td>-33853591.0</td>\n",
       "      <td>-3.037175</td>\n",
       "      <td>0</td>\n",
       "      <td>1.766773</td>\n",
       "      <td>3.0</td>\n",
       "      <td>10.933174</td>\n",
       "      <td>1</td>\n",
       "      <td>...</td>\n",
       "      <td>0</td>\n",
       "      <td>0</td>\n",
       "      <td>0</td>\n",
       "      <td>0</td>\n",
       "      <td>0</td>\n",
       "      <td>0</td>\n",
       "      <td>0</td>\n",
       "      <td>0</td>\n",
       "      <td>0</td>\n",
       "      <td>0</td>\n",
       "    </tr>\n",
       "    <tr>\n",
       "      <th>2</th>\n",
       "      <td>150.0</td>\n",
       "      <td>3</td>\n",
       "      <td>30000000.0</td>\n",
       "      <td>-17287907.0</td>\n",
       "      <td>-1.359958</td>\n",
       "      <td>0</td>\n",
       "      <td>1.325080</td>\n",
       "      <td>5.0</td>\n",
       "      <td>11.013046</td>\n",
       "      <td>0</td>\n",
       "      <td>...</td>\n",
       "      <td>0</td>\n",
       "      <td>0</td>\n",
       "      <td>0</td>\n",
       "      <td>0</td>\n",
       "      <td>0</td>\n",
       "      <td>0</td>\n",
       "      <td>1</td>\n",
       "      <td>1</td>\n",
       "      <td>0</td>\n",
       "      <td>0</td>\n",
       "    </tr>\n",
       "    <tr>\n",
       "      <th>3</th>\n",
       "      <td>98.0</td>\n",
       "      <td>2</td>\n",
       "      <td>50000000.0</td>\n",
       "      <td>11112916.0</td>\n",
       "      <td>0.181842</td>\n",
       "      <td>1</td>\n",
       "      <td>2.650160</td>\n",
       "      <td>3.0</td>\n",
       "      <td>13.698882</td>\n",
       "      <td>0</td>\n",
       "      <td>...</td>\n",
       "      <td>0</td>\n",
       "      <td>0</td>\n",
       "      <td>0</td>\n",
       "      <td>0</td>\n",
       "      <td>0</td>\n",
       "      <td>0</td>\n",
       "      <td>0</td>\n",
       "      <td>0</td>\n",
       "      <td>0</td>\n",
       "      <td>1</td>\n",
       "    </tr>\n",
       "    <tr>\n",
       "      <th>4</th>\n",
       "      <td>94.0</td>\n",
       "      <td>2</td>\n",
       "      <td>79000000.0</td>\n",
       "      <td>24812241.0</td>\n",
       "      <td>0.239011</td>\n",
       "      <td>1</td>\n",
       "      <td>1.325080</td>\n",
       "      <td>3.0</td>\n",
       "      <td>6.475240</td>\n",
       "      <td>1</td>\n",
       "      <td>...</td>\n",
       "      <td>0</td>\n",
       "      <td>0</td>\n",
       "      <td>0</td>\n",
       "      <td>0</td>\n",
       "      <td>0</td>\n",
       "      <td>0</td>\n",
       "      <td>0</td>\n",
       "      <td>0</td>\n",
       "      <td>0</td>\n",
       "      <td>0</td>\n",
       "    </tr>\n",
       "    <tr>\n",
       "      <th>5</th>\n",
       "      <td>146.0</td>\n",
       "      <td>4</td>\n",
       "      <td>100000000.0</td>\n",
       "      <td>-4671063.0</td>\n",
       "      <td>-0.048999</td>\n",
       "      <td>0</td>\n",
       "      <td>0.441693</td>\n",
       "      <td>4.0</td>\n",
       "      <td>3.409212</td>\n",
       "      <td>0</td>\n",
       "      <td>...</td>\n",
       "      <td>0</td>\n",
       "      <td>0</td>\n",
       "      <td>0</td>\n",
       "      <td>0</td>\n",
       "      <td>0</td>\n",
       "      <td>0</td>\n",
       "      <td>0</td>\n",
       "      <td>0</td>\n",
       "      <td>1</td>\n",
       "      <td>2</td>\n",
       "    </tr>\n",
       "    <tr>\n",
       "      <th>6</th>\n",
       "      <td>90.0</td>\n",
       "      <td>3</td>\n",
       "      <td>25000000.0</td>\n",
       "      <td>-6139597.0</td>\n",
       "      <td>-0.325528</td>\n",
       "      <td>0</td>\n",
       "      <td>2.650160</td>\n",
       "      <td>1.0</td>\n",
       "      <td>2.816560</td>\n",
       "      <td>0</td>\n",
       "      <td>...</td>\n",
       "      <td>0</td>\n",
       "      <td>0</td>\n",
       "      <td>0</td>\n",
       "      <td>1</td>\n",
       "      <td>0</td>\n",
       "      <td>0</td>\n",
       "      <td>0</td>\n",
       "      <td>0</td>\n",
       "      <td>0</td>\n",
       "      <td>0</td>\n",
       "    </tr>\n",
       "    <tr>\n",
       "      <th>7</th>\n",
       "      <td>121.0</td>\n",
       "      <td>4</td>\n",
       "      <td>83000000.0</td>\n",
       "      <td>-16137932.0</td>\n",
       "      <td>-0.241362</td>\n",
       "      <td>0</td>\n",
       "      <td>2.208466</td>\n",
       "      <td>1.0</td>\n",
       "      <td>6.499734</td>\n",
       "      <td>0</td>\n",
       "      <td>...</td>\n",
       "      <td>0</td>\n",
       "      <td>0</td>\n",
       "      <td>0</td>\n",
       "      <td>0</td>\n",
       "      <td>0</td>\n",
       "      <td>1</td>\n",
       "      <td>0</td>\n",
       "      <td>1</td>\n",
       "      <td>0</td>\n",
       "      <td>0</td>\n",
       "    </tr>\n",
       "    <tr>\n",
       "      <th>8</th>\n",
       "      <td>101.0</td>\n",
       "      <td>4</td>\n",
       "      <td>42000000.0</td>\n",
       "      <td>-28791977.0</td>\n",
       "      <td>-2.179885</td>\n",
       "      <td>0</td>\n",
       "      <td>0.883387</td>\n",
       "      <td>8.0</td>\n",
       "      <td>3.409212</td>\n",
       "      <td>0</td>\n",
       "      <td>...</td>\n",
       "      <td>0</td>\n",
       "      <td>0</td>\n",
       "      <td>1</td>\n",
       "      <td>0</td>\n",
       "      <td>0</td>\n",
       "      <td>0</td>\n",
       "      <td>0</td>\n",
       "      <td>0</td>\n",
       "      <td>0</td>\n",
       "      <td>0</td>\n",
       "    </tr>\n",
       "    <tr>\n",
       "      <th>9</th>\n",
       "      <td>110.0</td>\n",
       "      <td>4</td>\n",
       "      <td>45000000.0</td>\n",
       "      <td>25001065.0</td>\n",
       "      <td>0.357153</td>\n",
       "      <td>1</td>\n",
       "      <td>0.883387</td>\n",
       "      <td>4.0</td>\n",
       "      <td>3.409212</td>\n",
       "      <td>0</td>\n",
       "      <td>...</td>\n",
       "      <td>0</td>\n",
       "      <td>0</td>\n",
       "      <td>1</td>\n",
       "      <td>0</td>\n",
       "      <td>0</td>\n",
       "      <td>0</td>\n",
       "      <td>0</td>\n",
       "      <td>0</td>\n",
       "      <td>0</td>\n",
       "      <td>0</td>\n",
       "    </tr>\n",
       "  </tbody>\n",
       "</table>\n",
       "<p>10 rows × 24 columns</p>\n",
       "</div>"
      ],
      "text/plain": [
       "   duration  rating_numeric       budget      revenue  gross_margin  \\\n",
       "0     178.0               3  237000000.0  523505847.0      0.688365   \n",
       "1     106.0               4   45000000.0  -33853591.0     -3.037175   \n",
       "2     150.0               3   30000000.0  -17287907.0     -1.359958   \n",
       "3      98.0               2   50000000.0   11112916.0      0.181842   \n",
       "4      94.0               2   79000000.0   24812241.0      0.239011   \n",
       "5     146.0               4  100000000.0   -4671063.0     -0.048999   \n",
       "6      90.0               3   25000000.0   -6139597.0     -0.325528   \n",
       "7     121.0               4   83000000.0  -16137932.0     -0.241362   \n",
       "8     101.0               4   42000000.0  -28791977.0     -2.179885   \n",
       "9     110.0               4   45000000.0   25001065.0      0.357153   \n",
       "\n",
       "   successful  director_score  production_companies_count  \\\n",
       "0           1        3.091853                         4.0   \n",
       "1           0        1.766773                         3.0   \n",
       "2           0        1.325080                         5.0   \n",
       "3           1        2.650160                         3.0   \n",
       "4           1        1.325080                         3.0   \n",
       "5           0        0.441693                         4.0   \n",
       "6           0        2.650160                         1.0   \n",
       "7           0        2.208466                         1.0   \n",
       "8           0        0.883387                         8.0   \n",
       "9           1        0.883387                         4.0   \n",
       "\n",
       "   total_actor_starpower  rel_mon_01    ...     rel_mon_06  rel_mon_07  \\\n",
       "0               5.334665           0    ...              0           0   \n",
       "1              10.933174           1    ...              0           0   \n",
       "2              11.013046           0    ...              0           0   \n",
       "3              13.698882           0    ...              0           0   \n",
       "4               6.475240           1    ...              0           0   \n",
       "5               3.409212           0    ...              0           0   \n",
       "6               2.816560           0    ...              0           0   \n",
       "7               6.499734           0    ...              0           0   \n",
       "8               3.409212           0    ...              0           0   \n",
       "9               3.409212           0    ...              0           0   \n",
       "\n",
       "   rel_mon_08  rel_mon_09  rel_mon_10  rel_mon_11  rel_mon_12  holiday_month  \\\n",
       "0           0           0           0           0           1              1   \n",
       "1           0           0           0           0           0              0   \n",
       "2           0           0           0           0           1              1   \n",
       "3           0           0           0           0           0              0   \n",
       "4           0           0           0           0           0              0   \n",
       "5           0           0           0           0           0              0   \n",
       "6           0           1           0           0           0              0   \n",
       "7           0           0           0           1           0              1   \n",
       "8           1           0           0           0           0              0   \n",
       "9           1           0           0           0           0              0   \n",
       "\n",
       "   tot_wins  tot_noms  \n",
       "0         0         0  \n",
       "1         0         0  \n",
       "2         0         0  \n",
       "3         0         1  \n",
       "4         0         0  \n",
       "5         1         2  \n",
       "6         0         0  \n",
       "7         0         0  \n",
       "8         0         0  \n",
       "9         0         0  \n",
       "\n",
       "[10 rows x 24 columns]"
      ]
     },
     "execution_count": 5,
     "metadata": {},
     "output_type": "execute_result"
    }
   ],
   "source": [
    "# create table for model purposes\n",
    "modelDf = movieDf[[\"duration\",\"rating_numeric\",\"budget\",\"revenue\",\"gross_margin\", \n",
    "                   \"successful\",\"director_score\",\"production_companies_count\",\"total_actor_starpower\",\"rel_mon_01\",\n",
    "                   \"rel_mon_02\", \"rel_mon_03\", \"rel_mon_04\", \"rel_mon_05\", \"rel_mon_06\", \"rel_mon_07\", \"rel_mon_08\",\n",
    "                   \"rel_mon_09\", \"rel_mon_10\", \"rel_mon_11\", \"rel_mon_12\",\"holiday_month\",\"tot_wins\",\"tot_noms\"]]\n",
    "modelDf = modelDf.dropna()\n",
    "modelDf.head(10)"
   ]
  },
  {
   "cell_type": "code",
   "execution_count": 6,
   "metadata": {},
   "outputs": [
    {
     "data": {
      "text/plain": [
       "1    1950\n",
       "0    1687\n",
       "Name: successful, dtype: int64"
      ]
     },
     "execution_count": 6,
     "metadata": {},
     "output_type": "execute_result"
    }
   ],
   "source": [
    "modelDf[\"successful\"].value_counts()"
   ]
  },
  {
   "cell_type": "code",
   "execution_count": 7,
   "metadata": {},
   "outputs": [
    {
     "name": "stdout",
     "output_type": "stream",
     "text": [
      "(3637, 20) (3637, 1)\n"
     ]
    }
   ],
   "source": [
    "# Assign X (data) and y (target)\n",
    "X = modelDf[[\"duration\",\"rel_mon_01\",\"rel_mon_02\", \"rel_mon_03\", \"rel_mon_04\", \"rel_mon_05\", \"rel_mon_06\",\n",
    "             \"rel_mon_07\", \"rel_mon_08\", \"rel_mon_09\", \"rel_mon_10\", \"rel_mon_11\", \"rel_mon_12\",\"rating_numeric\",\n",
    "             \"director_score\",\"production_companies_count\",\"total_actor_starpower\",\"tot_wins\",\"tot_noms\",\n",
    "             \"holiday_month\"]]\n",
    "y = modelDf[\"successful\"].values.reshape(-1, 1)\n",
    "print(X.shape, y.shape)"
   ]
  },
  {
   "cell_type": "code",
   "execution_count": 53,
   "metadata": {},
   "outputs": [],
   "source": [
    "# split the training and testing data\n",
    "X_train, X_test, y_train, y_test = train_test_split(X, y, random_state=1158, train_size=0.80, stratify=y)\n",
    "\n",
    "# Create a StandardScater model and fit it to the training data\n",
    "X_scaler = StandardScaler().fit(X_train)"
   ]
  },
  {
   "cell_type": "code",
   "execution_count": 54,
   "metadata": {},
   "outputs": [
    {
     "data": {
      "text/plain": [
       "1    390\n",
       "0    338\n",
       "Name: 0, dtype: int64"
      ]
     },
     "execution_count": 54,
     "metadata": {},
     "output_type": "execute_result"
    }
   ],
   "source": [
    "pd.DataFrame(y_test)[0].value_counts()"
   ]
  },
  {
   "cell_type": "code",
   "execution_count": 55,
   "metadata": {},
   "outputs": [],
   "source": [
    "# transform the data\n",
    "X_train_scaled = X_scaler.transform(X_train)\n",
    "X_test_scaled = X_scaler.transform(X_test)"
   ]
  },
  {
   "cell_type": "markdown",
   "metadata": {},
   "source": [
    "# Logistic Regression Model "
   ]
  },
  {
   "cell_type": "code",
   "execution_count": 56,
   "metadata": {},
   "outputs": [
    {
     "data": {
      "text/plain": [
       "LogisticRegression(C=1.0, class_weight=None, dual=False, fit_intercept=True,\n",
       "                   intercept_scaling=1, l1_ratio=None, max_iter=100,\n",
       "                   multi_class='warn', n_jobs=None, penalty='l2',\n",
       "                   random_state=None, solver='warn', tol=0.0001, verbose=0,\n",
       "                   warm_start=False)"
      ]
     },
     "execution_count": 56,
     "metadata": {},
     "output_type": "execute_result"
    }
   ],
   "source": [
    "#build logistic model \n",
    "model = LogisticRegression()\n",
    "\n",
    "#fit on training data\n",
    "model.fit(X_train_scaled, y_train)"
   ]
  },
  {
   "cell_type": "code",
   "execution_count": 57,
   "metadata": {},
   "outputs": [
    {
     "name": "stdout",
     "output_type": "stream",
     "text": [
      "testing_score: 0.5673076923076923\n"
     ]
    }
   ],
   "source": [
    "# Use our model to predict a value\n",
    "predicted = model.predict(X_test_scaled)\n",
    "\n",
    "# Score the prediction with mse and r2\n",
    "mse = mean_squared_error(y_test, predicted)\n",
    "r2 = r2_score(y_test, predicted)\n",
    "testing_score = model.score(X_test_scaled,y_test)\n",
    "\n",
    "print(f\"testing_score: {testing_score}\")"
   ]
  },
  {
   "cell_type": "markdown",
   "metadata": {},
   "source": [
    "# Deep Neural Network"
   ]
  },
  {
   "cell_type": "code",
   "execution_count": 58,
   "metadata": {},
   "outputs": [],
   "source": [
    "# creating the empty squential network\n",
    "modelNN = Sequential()"
   ]
  },
  {
   "cell_type": "code",
   "execution_count": 59,
   "metadata": {},
   "outputs": [],
   "source": [
    "# Add the first layer where the input dimensions are features used in the model\n",
    "modelNN.add(Dense(units=60, activation='relu', input_dim=20))"
   ]
  },
  {
   "cell_type": "code",
   "execution_count": 60,
   "metadata": {},
   "outputs": [],
   "source": [
    "# Add the hidden layer\n",
    "modelNN.add(Dense(units=60, activation='relu'))\n",
    "\n",
    "# another layer\n",
    "modelNN.add(Dense(units=60, activation='relu'))"
   ]
  },
  {
   "cell_type": "code",
   "execution_count": 61,
   "metadata": {},
   "outputs": [],
   "source": [
    "# Add output layer, 2 units for \"classes\" of output, i.e. Yes or No \n",
    "modelNN.add(Dense(units=2, activation='softmax'))"
   ]
  },
  {
   "cell_type": "code",
   "execution_count": 62,
   "metadata": {},
   "outputs": [],
   "source": [
    "# Compile the model using the adaptive learning rate optimizer \"adam\", spare_categorical_crossentropy\n",
    "# for the loss function since we did not one-hot encode the labels and used accuracy for the training metrics.\n",
    "modelNN.compile(optimizer='adam',\n",
    "              loss='sparse_categorical_crossentropy',\n",
    "              metrics=['accuracy'])"
   ]
  },
  {
   "cell_type": "code",
   "execution_count": 63,
   "metadata": {},
   "outputs": [
    {
     "name": "stdout",
     "output_type": "stream",
     "text": [
      "Epoch 1/300\n",
      " - 0s - loss: 0.6905 - acc: 0.5421\n",
      "Epoch 2/300\n",
      " - 0s - loss: 0.6718 - acc: 0.5913\n",
      "Epoch 3/300\n",
      " - 0s - loss: 0.6680 - acc: 0.5909\n",
      "Epoch 4/300\n",
      " - 0s - loss: 0.6622 - acc: 0.6002\n",
      "Epoch 5/300\n",
      " - 0s - loss: 0.6582 - acc: 0.6009\n",
      "Epoch 6/300\n",
      " - 0s - loss: 0.6519 - acc: 0.6184\n",
      "Epoch 7/300\n",
      " - 0s - loss: 0.6461 - acc: 0.6219\n",
      "Epoch 8/300\n",
      " - 0s - loss: 0.6415 - acc: 0.6404\n",
      "Epoch 9/300\n",
      " - 0s - loss: 0.6403 - acc: 0.6308\n",
      "Epoch 10/300\n",
      " - 0s - loss: 0.6352 - acc: 0.6353\n",
      "Epoch 11/300\n",
      " - 0s - loss: 0.6297 - acc: 0.6394\n",
      "Epoch 12/300\n",
      " - 0s - loss: 0.6242 - acc: 0.6459\n",
      "Epoch 13/300\n",
      " - 0s - loss: 0.6244 - acc: 0.6507\n",
      "Epoch 14/300\n",
      " - 0s - loss: 0.6164 - acc: 0.6490\n",
      "Epoch 15/300\n",
      " - 0s - loss: 0.6123 - acc: 0.6573\n",
      "Epoch 16/300\n",
      " - 0s - loss: 0.6032 - acc: 0.6724\n",
      "Epoch 17/300\n",
      " - 0s - loss: 0.6023 - acc: 0.6707\n",
      "Epoch 18/300\n",
      " - 0s - loss: 0.5928 - acc: 0.6721\n",
      "Epoch 19/300\n",
      " - 0s - loss: 0.5901 - acc: 0.6800\n",
      "Epoch 20/300\n",
      " - 0s - loss: 0.5806 - acc: 0.6910\n",
      "Epoch 21/300\n",
      " - 0s - loss: 0.5770 - acc: 0.6944\n",
      "Epoch 22/300\n",
      " - 0s - loss: 0.5683 - acc: 0.7006\n",
      "Epoch 23/300\n",
      " - 0s - loss: 0.5650 - acc: 0.7020\n",
      "Epoch 24/300\n",
      " - 0s - loss: 0.5602 - acc: 0.7051\n",
      "Epoch 25/300\n",
      " - 0s - loss: 0.5558 - acc: 0.7075\n",
      "Epoch 26/300\n",
      " - 0s - loss: 0.5463 - acc: 0.7140\n",
      "Epoch 27/300\n",
      " - 0s - loss: 0.5426 - acc: 0.7260\n",
      "Epoch 28/300\n",
      " - 0s - loss: 0.5400 - acc: 0.7195\n",
      "Epoch 29/300\n",
      " - 0s - loss: 0.5314 - acc: 0.7260\n",
      "Epoch 30/300\n",
      " - 0s - loss: 0.5250 - acc: 0.7198\n",
      "Epoch 31/300\n",
      " - 0s - loss: 0.5171 - acc: 0.7387\n",
      "Epoch 32/300\n",
      " - 0s - loss: 0.5122 - acc: 0.7439\n",
      "Epoch 33/300\n",
      " - 0s - loss: 0.5095 - acc: 0.7398\n",
      "Epoch 34/300\n",
      " - 0s - loss: 0.5046 - acc: 0.7466\n",
      "Epoch 35/300\n",
      " - 0s - loss: 0.4993 - acc: 0.7552\n",
      "Epoch 36/300\n",
      " - 0s - loss: 0.4825 - acc: 0.7631\n",
      "Epoch 37/300\n",
      " - 0s - loss: 0.4923 - acc: 0.7580\n",
      "Epoch 38/300\n",
      " - 0s - loss: 0.4768 - acc: 0.7686\n",
      "Epoch 39/300\n",
      " - 0s - loss: 0.4761 - acc: 0.7656\n",
      "Epoch 40/300\n",
      " - 0s - loss: 0.4654 - acc: 0.7704\n",
      "Epoch 41/300\n",
      " - 0s - loss: 0.4704 - acc: 0.7666\n",
      "Epoch 42/300\n",
      " - 0s - loss: 0.4517 - acc: 0.7869\n",
      "Epoch 43/300\n",
      " - 0s - loss: 0.4485 - acc: 0.7779\n",
      "Epoch 44/300\n",
      " - 0s - loss: 0.4462 - acc: 0.7814\n",
      "Epoch 45/300\n",
      " - 0s - loss: 0.4365 - acc: 0.7896\n",
      "Epoch 46/300\n",
      " - 0s - loss: 0.4347 - acc: 0.7951\n",
      "Epoch 47/300\n",
      " - 0s - loss: 0.4257 - acc: 0.7937\n",
      "Epoch 48/300\n",
      " - 0s - loss: 0.4184 - acc: 0.8013\n",
      "Epoch 49/300\n",
      " - 0s - loss: 0.4206 - acc: 0.7982\n",
      "Epoch 50/300\n",
      " - 0s - loss: 0.4093 - acc: 0.8054\n",
      "Epoch 51/300\n",
      " - 0s - loss: 0.4059 - acc: 0.8034\n",
      "Epoch 52/300\n",
      " - 0s - loss: 0.4060 - acc: 0.8003\n",
      "Epoch 53/300\n",
      " - 0s - loss: 0.4030 - acc: 0.8085\n",
      "Epoch 54/300\n",
      " - 0s - loss: 0.3909 - acc: 0.8168\n",
      "Epoch 55/300\n",
      " - 0s - loss: 0.3864 - acc: 0.8154\n",
      "Epoch 56/300\n",
      " - 0s - loss: 0.3806 - acc: 0.8140\n",
      "Epoch 57/300\n",
      " - 0s - loss: 0.3758 - acc: 0.8271\n",
      "Epoch 58/300\n",
      " - 0s - loss: 0.3662 - acc: 0.8336\n",
      "Epoch 59/300\n",
      " - 0s - loss: 0.3711 - acc: 0.8295\n",
      "Epoch 60/300\n",
      " - 0s - loss: 0.3734 - acc: 0.8154\n",
      "Epoch 61/300\n",
      " - 0s - loss: 0.3596 - acc: 0.8360\n",
      "Epoch 62/300\n",
      " - 0s - loss: 0.3571 - acc: 0.8347\n",
      "Epoch 63/300\n",
      " - 0s - loss: 0.3517 - acc: 0.8274\n",
      "Epoch 64/300\n",
      " - 0s - loss: 0.3472 - acc: 0.8391\n",
      "Epoch 65/300\n",
      " - 0s - loss: 0.3439 - acc: 0.8419\n",
      "Epoch 66/300\n",
      " - 0s - loss: 0.3377 - acc: 0.8426\n",
      "Epoch 67/300\n",
      " - 0s - loss: 0.3379 - acc: 0.8460\n",
      "Epoch 68/300\n",
      " - 0s - loss: 0.3297 - acc: 0.8481\n",
      "Epoch 69/300\n",
      " - 0s - loss: 0.3294 - acc: 0.8508\n",
      "Epoch 70/300\n",
      " - 0s - loss: 0.3293 - acc: 0.8546\n",
      "Epoch 71/300\n",
      " - 0s - loss: 0.3174 - acc: 0.8625\n",
      "Epoch 72/300\n",
      " - 0s - loss: 0.3146 - acc: 0.8570\n",
      "Epoch 73/300\n",
      " - 0s - loss: 0.3139 - acc: 0.8584\n",
      "Epoch 74/300\n",
      " - 0s - loss: 0.3110 - acc: 0.8580\n",
      "Epoch 75/300\n",
      " - 0s - loss: 0.3048 - acc: 0.8604\n",
      "Epoch 76/300\n",
      " - 0s - loss: 0.3025 - acc: 0.8618\n",
      "Epoch 77/300\n",
      " - 0s - loss: 0.2979 - acc: 0.8694\n",
      "Epoch 78/300\n",
      " - 0s - loss: 0.2972 - acc: 0.8591\n",
      "Epoch 79/300\n",
      " - 0s - loss: 0.2881 - acc: 0.8752\n",
      "Epoch 80/300\n",
      " - 0s - loss: 0.2885 - acc: 0.8725\n",
      "Epoch 81/300\n",
      " - 0s - loss: 0.2886 - acc: 0.8725\n",
      "Epoch 82/300\n",
      " - 0s - loss: 0.2820 - acc: 0.8769\n",
      "Epoch 83/300\n",
      " - 0s - loss: 0.2795 - acc: 0.8752\n",
      "Epoch 84/300\n",
      " - 0s - loss: 0.2612 - acc: 0.8817\n",
      "Epoch 85/300\n",
      " - 0s - loss: 0.2694 - acc: 0.8842\n",
      "Epoch 86/300\n",
      " - 0s - loss: 0.2701 - acc: 0.8814\n",
      "Epoch 87/300\n",
      " - 0s - loss: 0.2619 - acc: 0.8745\n",
      "Epoch 88/300\n",
      " - 0s - loss: 0.2601 - acc: 0.8924\n",
      "Epoch 89/300\n",
      " - 0s - loss: 0.2513 - acc: 0.8921\n",
      "Epoch 90/300\n",
      " - 0s - loss: 0.2531 - acc: 0.8910\n",
      "Epoch 91/300\n",
      " - 0s - loss: 0.2530 - acc: 0.8907\n",
      "Epoch 92/300\n",
      " - 0s - loss: 0.2460 - acc: 0.8927\n",
      "Epoch 93/300\n",
      " - 0s - loss: 0.2481 - acc: 0.8910\n",
      "Epoch 94/300\n",
      " - 0s - loss: 0.2424 - acc: 0.8979\n",
      "Epoch 95/300\n",
      " - 0s - loss: 0.2352 - acc: 0.9031\n",
      "Epoch 96/300\n",
      " - 0s - loss: 0.2404 - acc: 0.8962\n",
      "Epoch 97/300\n",
      " - 0s - loss: 0.2334 - acc: 0.8969\n",
      "Epoch 98/300\n",
      " - 0s - loss: 0.2264 - acc: 0.9044\n",
      "Epoch 99/300\n",
      " - 0s - loss: 0.2275 - acc: 0.9051\n",
      "Epoch 100/300\n",
      " - 0s - loss: 0.2266 - acc: 0.9075\n",
      "Epoch 101/300\n",
      " - 0s - loss: 0.2301 - acc: 0.9010\n",
      "Epoch 102/300\n",
      " - 0s - loss: 0.2269 - acc: 0.9051\n",
      "Epoch 103/300\n",
      " - 0s - loss: 0.2204 - acc: 0.9117\n",
      "Epoch 104/300\n",
      " - 0s - loss: 0.2132 - acc: 0.9113\n",
      "Epoch 105/300\n",
      " - 0s - loss: 0.2114 - acc: 0.9113\n",
      "Epoch 106/300\n",
      " - 0s - loss: 0.2314 - acc: 0.8993\n",
      "Epoch 107/300\n",
      " - 0s - loss: 0.2308 - acc: 0.9065\n",
      "Epoch 108/300\n",
      " - 0s - loss: 0.2148 - acc: 0.9099\n",
      "Epoch 109/300\n",
      " - 0s - loss: 0.2041 - acc: 0.9147\n",
      "Epoch 110/300\n",
      " - 0s - loss: 0.1930 - acc: 0.9264\n",
      "Epoch 111/300\n",
      " - 0s - loss: 0.1942 - acc: 0.9206\n",
      "Epoch 112/300\n",
      " - 0s - loss: 0.2038 - acc: 0.9158\n",
      "Epoch 113/300\n",
      " - 0s - loss: 0.1954 - acc: 0.9213\n",
      "Epoch 114/300\n",
      " - 0s - loss: 0.2029 - acc: 0.9147\n",
      "Epoch 115/300\n",
      " - 0s - loss: 0.1999 - acc: 0.9147\n",
      "Epoch 116/300\n",
      " - 0s - loss: 0.1861 - acc: 0.9233\n",
      "Epoch 117/300\n",
      " - 0s - loss: 0.1866 - acc: 0.9244\n",
      "Epoch 118/300\n",
      " - 0s - loss: 0.1848 - acc: 0.9209\n",
      "Epoch 119/300\n",
      " - 0s - loss: 0.1866 - acc: 0.9237\n",
      "Epoch 120/300\n",
      " - 0s - loss: 0.1844 - acc: 0.9213\n",
      "Epoch 121/300\n",
      " - 0s - loss: 0.1833 - acc: 0.9247\n",
      "Epoch 122/300\n",
      " - 0s - loss: 0.1810 - acc: 0.9213\n",
      "Epoch 123/300\n",
      " - 0s - loss: 0.1774 - acc: 0.9275\n",
      "Epoch 124/300\n",
      " - 0s - loss: 0.1750 - acc: 0.9306\n",
      "Epoch 125/300\n",
      " - 0s - loss: 0.1863 - acc: 0.9268\n",
      "Epoch 126/300\n",
      " - 0s - loss: 0.1715 - acc: 0.9292\n",
      "Epoch 127/300\n",
      " - 0s - loss: 0.1715 - acc: 0.9288\n",
      "Epoch 128/300\n",
      " - 0s - loss: 0.1613 - acc: 0.9357\n",
      "Epoch 129/300\n",
      " - 0s - loss: 0.1706 - acc: 0.9299\n",
      "Epoch 130/300\n",
      " - 0s - loss: 0.1721 - acc: 0.9292\n",
      "Epoch 131/300\n",
      " - 0s - loss: 0.2012 - acc: 0.9199\n",
      "Epoch 132/300\n",
      " - 0s - loss: 0.1717 - acc: 0.9312\n",
      "Epoch 133/300\n",
      " - 0s - loss: 0.1738 - acc: 0.9292\n",
      "Epoch 134/300\n",
      " - 0s - loss: 0.1607 - acc: 0.9395\n",
      "Epoch 135/300\n",
      " - 0s - loss: 0.1649 - acc: 0.9309\n",
      "Epoch 136/300\n",
      " - 0s - loss: 0.1783 - acc: 0.9319\n",
      "Epoch 137/300\n",
      " - 0s - loss: 0.1740 - acc: 0.9340\n",
      "Epoch 138/300\n",
      " - 0s - loss: 0.2146 - acc: 0.9199\n",
      "Epoch 139/300\n",
      " - 0s - loss: 0.1734 - acc: 0.9257\n",
      "Epoch 140/300\n",
      " - 0s - loss: 0.1626 - acc: 0.9323\n",
      "Epoch 141/300\n",
      " - 0s - loss: 0.1445 - acc: 0.9460\n",
      "Epoch 142/300\n",
      " - 0s - loss: 0.1428 - acc: 0.9447\n",
      "Epoch 143/300\n",
      " - 0s - loss: 0.1397 - acc: 0.9440\n",
      "Epoch 144/300\n",
      " - 0s - loss: 0.1285 - acc: 0.9546\n",
      "Epoch 145/300\n",
      " - 0s - loss: 0.1382 - acc: 0.9419\n",
      "Epoch 146/300\n",
      " - 0s - loss: 0.1490 - acc: 0.9405\n",
      "Epoch 147/300\n",
      " - 0s - loss: 0.1515 - acc: 0.9416\n",
      "Epoch 148/300\n",
      " - 0s - loss: 0.1424 - acc: 0.9488\n",
      "Epoch 149/300\n",
      " - 0s - loss: 0.1484 - acc: 0.9433\n",
      "Epoch 150/300\n",
      " - 0s - loss: 0.1482 - acc: 0.9433\n",
      "Epoch 151/300\n",
      " - 0s - loss: 0.1429 - acc: 0.9477\n",
      "Epoch 152/300\n",
      " - 0s - loss: 0.1317 - acc: 0.9467\n",
      "Epoch 153/300\n",
      " - 0s - loss: 0.1289 - acc: 0.9536\n",
      "Epoch 154/300\n",
      " - 0s - loss: 0.1283 - acc: 0.9519\n",
      "Epoch 155/300\n",
      " - 0s - loss: 0.1324 - acc: 0.9474\n",
      "Epoch 156/300\n",
      " - 0s - loss: 0.1296 - acc: 0.9539\n",
      "Epoch 157/300\n",
      " - 0s - loss: 0.1365 - acc: 0.9447\n",
      "Epoch 158/300\n",
      " - 0s - loss: 0.1451 - acc: 0.9447\n",
      "Epoch 159/300\n",
      " - 0s - loss: 0.1678 - acc: 0.9299\n",
      "Epoch 160/300\n",
      " - 0s - loss: 0.1485 - acc: 0.9405\n",
      "Epoch 161/300\n",
      " - 0s - loss: 0.1584 - acc: 0.9357\n",
      "Epoch 162/300\n",
      " - 0s - loss: 0.1294 - acc: 0.9512\n",
      "Epoch 163/300\n",
      " - 0s - loss: 0.1296 - acc: 0.9505\n",
      "Epoch 164/300\n",
      " - 0s - loss: 0.1352 - acc: 0.9481\n",
      "Epoch 165/300\n",
      " - 0s - loss: 0.1395 - acc: 0.9457\n",
      "Epoch 166/300\n",
      " - 0s - loss: 0.1713 - acc: 0.9340\n",
      "Epoch 167/300\n",
      " - 0s - loss: 0.1388 - acc: 0.9436\n",
      "Epoch 168/300\n",
      " - 0s - loss: 0.1215 - acc: 0.9526\n",
      "Epoch 169/300\n",
      " - 0s - loss: 0.1330 - acc: 0.9467\n",
      "Epoch 170/300\n",
      " - 0s - loss: 0.1156 - acc: 0.9508\n"
     ]
    },
    {
     "name": "stdout",
     "output_type": "stream",
     "text": [
      "Epoch 171/300\n",
      " - 0s - loss: 0.1046 - acc: 0.9612\n",
      "Epoch 172/300\n",
      " - 0s - loss: 0.1097 - acc: 0.9598\n",
      "Epoch 173/300\n",
      " - 0s - loss: 0.1121 - acc: 0.9601\n",
      "Epoch 174/300\n",
      " - 0s - loss: 0.1194 - acc: 0.9563\n",
      "Epoch 175/300\n",
      " - 0s - loss: 0.1238 - acc: 0.9532\n",
      "Epoch 176/300\n",
      " - 0s - loss: 0.1221 - acc: 0.9553\n",
      "Epoch 177/300\n",
      " - 0s - loss: 0.1182 - acc: 0.9553\n",
      "Epoch 178/300\n",
      " - 0s - loss: 0.1508 - acc: 0.9419\n",
      "Epoch 179/300\n",
      " - 0s - loss: 0.1406 - acc: 0.9447\n",
      "Epoch 180/300\n",
      " - 0s - loss: 0.1243 - acc: 0.9488\n",
      "Epoch 181/300\n",
      " - 0s - loss: 0.1093 - acc: 0.9557\n",
      "Epoch 182/300\n",
      " - 0s - loss: 0.1086 - acc: 0.9581\n",
      "Epoch 183/300\n",
      " - 0s - loss: 0.1186 - acc: 0.9505\n",
      "Epoch 184/300\n",
      " - 0s - loss: 0.1172 - acc: 0.9550\n",
      "Epoch 185/300\n",
      " - 0s - loss: 0.1234 - acc: 0.9505\n",
      "Epoch 186/300\n",
      " - 0s - loss: 0.1165 - acc: 0.9532\n",
      "Epoch 187/300\n",
      " - 0s - loss: 0.1100 - acc: 0.9557\n",
      "Epoch 188/300\n",
      " - 0s - loss: 0.1371 - acc: 0.9474\n",
      "Epoch 189/300\n",
      " - 0s - loss: 0.1560 - acc: 0.9371\n",
      "Epoch 190/300\n",
      " - 0s - loss: 0.1539 - acc: 0.9419\n",
      "Epoch 191/300\n",
      " - 0s - loss: 0.1472 - acc: 0.9467\n",
      "Epoch 192/300\n",
      " - 0s - loss: 0.1380 - acc: 0.9498\n",
      "Epoch 193/300\n",
      " - 0s - loss: 0.0999 - acc: 0.9632\n",
      "Epoch 194/300\n",
      " - 0s - loss: 0.0982 - acc: 0.9656\n",
      "Epoch 195/300\n",
      " - 0s - loss: 0.0940 - acc: 0.9649\n",
      "Epoch 196/300\n",
      " - 0s - loss: 0.0903 - acc: 0.9660\n",
      "Epoch 197/300\n",
      " - 0s - loss: 0.0998 - acc: 0.9629\n",
      "Epoch 198/300\n",
      " - 0s - loss: 0.0841 - acc: 0.9715\n",
      "Epoch 199/300\n",
      " - 0s - loss: 0.0872 - acc: 0.9673\n",
      "Epoch 200/300\n",
      " - 0s - loss: 0.0976 - acc: 0.9663\n",
      "Epoch 201/300\n",
      " - 0s - loss: 0.1061 - acc: 0.9608\n",
      "Epoch 202/300\n",
      " - 0s - loss: 0.1029 - acc: 0.9574\n",
      "Epoch 203/300\n",
      " - 0s - loss: 0.1203 - acc: 0.9539\n",
      "Epoch 204/300\n",
      " - 0s - loss: 0.1376 - acc: 0.9440\n",
      "Epoch 205/300\n",
      " - 0s - loss: 0.1079 - acc: 0.9587\n",
      "Epoch 206/300\n",
      " - 0s - loss: 0.1242 - acc: 0.9539\n",
      "Epoch 207/300\n",
      " - 0s - loss: 0.1189 - acc: 0.9526\n",
      "Epoch 208/300\n",
      " - 0s - loss: 0.0987 - acc: 0.9625\n",
      "Epoch 209/300\n",
      " - 0s - loss: 0.1014 - acc: 0.9601\n",
      "Epoch 210/300\n",
      " - 0s - loss: 0.0939 - acc: 0.9660\n",
      "Epoch 211/300\n",
      " - 0s - loss: 0.0933 - acc: 0.9656\n",
      "Epoch 212/300\n",
      " - 0s - loss: 0.0854 - acc: 0.9725\n",
      "Epoch 213/300\n",
      " - 0s - loss: 0.1127 - acc: 0.9543\n",
      "Epoch 214/300\n",
      " - 0s - loss: 0.1173 - acc: 0.9532\n",
      "Epoch 215/300\n",
      " - 0s - loss: 0.0997 - acc: 0.9636\n",
      "Epoch 216/300\n",
      " - 0s - loss: 0.0963 - acc: 0.9632\n",
      "Epoch 217/300\n",
      " - 0s - loss: 0.1551 - acc: 0.9474\n",
      "Epoch 218/300\n",
      " - 0s - loss: 0.1236 - acc: 0.9505\n",
      "Epoch 219/300\n",
      " - 0s - loss: 0.1823 - acc: 0.9436\n",
      "Epoch 220/300\n",
      " - 0s - loss: 0.1122 - acc: 0.9557\n",
      "Epoch 221/300\n",
      " - 0s - loss: 0.0915 - acc: 0.9649\n",
      "Epoch 222/300\n",
      " - 0s - loss: 0.1069 - acc: 0.9615\n",
      "Epoch 223/300\n",
      " - 0s - loss: 0.0795 - acc: 0.9725\n",
      "Epoch 224/300\n",
      " - 0s - loss: 0.0950 - acc: 0.9684\n",
      "Epoch 225/300\n",
      " - 0s - loss: 0.0931 - acc: 0.9629\n",
      "Epoch 226/300\n",
      " - 0s - loss: 0.0871 - acc: 0.9670\n",
      "Epoch 227/300\n",
      " - 0s - loss: 0.0883 - acc: 0.9687\n",
      "Epoch 228/300\n",
      " - 0s - loss: 0.0733 - acc: 0.9735\n",
      "Epoch 229/300\n",
      " - 0s - loss: 0.0811 - acc: 0.9708\n",
      "Epoch 230/300\n",
      " - 0s - loss: 0.0885 - acc: 0.9656\n",
      "Epoch 231/300\n",
      " - 0s - loss: 0.1070 - acc: 0.9605\n",
      "Epoch 232/300\n",
      " - 0s - loss: 0.1261 - acc: 0.9512\n",
      "Epoch 233/300\n",
      " - 0s - loss: 0.1196 - acc: 0.9581\n",
      "Epoch 234/300\n",
      " - 0s - loss: 0.0988 - acc: 0.9598\n",
      "Epoch 235/300\n",
      " - 0s - loss: 0.1009 - acc: 0.9642\n",
      "Epoch 236/300\n",
      " - 0s - loss: 0.0909 - acc: 0.9660\n",
      "Epoch 237/300\n",
      " - 0s - loss: 0.0930 - acc: 0.9622\n",
      "Epoch 238/300\n",
      " - 0s - loss: 0.0839 - acc: 0.9694\n",
      "Epoch 239/300\n",
      " - 0s - loss: 0.0899 - acc: 0.9673\n",
      "Epoch 240/300\n",
      " - 0s - loss: 0.0798 - acc: 0.9701\n",
      "Epoch 241/300\n",
      " - 0s - loss: 0.0747 - acc: 0.9722\n",
      "Epoch 242/300\n",
      " - 0s - loss: 0.0908 - acc: 0.9642\n",
      "Epoch 243/300\n",
      " - 0s - loss: 0.0799 - acc: 0.9722\n",
      "Epoch 244/300\n",
      " - 0s - loss: 0.0796 - acc: 0.9735\n",
      "Epoch 245/300\n",
      " - 0s - loss: 0.0834 - acc: 0.9694\n",
      "Epoch 246/300\n",
      " - 0s - loss: 0.1020 - acc: 0.9629\n",
      "Epoch 247/300\n",
      " - 0s - loss: 0.1049 - acc: 0.9605\n",
      "Epoch 248/300\n",
      " - 0s - loss: 0.0818 - acc: 0.9704\n",
      "Epoch 249/300\n",
      " - 0s - loss: 0.0901 - acc: 0.9667\n",
      "Epoch 250/300\n",
      " - 0s - loss: 0.0847 - acc: 0.9667\n",
      "Epoch 251/300\n",
      " - 0s - loss: 0.0839 - acc: 0.9704\n",
      "Epoch 252/300\n",
      " - 0s - loss: 0.0838 - acc: 0.9677\n",
      "Epoch 253/300\n",
      " - 0s - loss: 0.0995 - acc: 0.9608\n",
      "Epoch 254/300\n",
      " - 0s - loss: 0.0807 - acc: 0.9691\n",
      "Epoch 255/300\n",
      " - 0s - loss: 0.0726 - acc: 0.9732\n",
      "Epoch 256/300\n",
      " - 0s - loss: 0.0735 - acc: 0.9708\n",
      "Epoch 257/300\n",
      " - 0s - loss: 0.0994 - acc: 0.9618\n",
      "Epoch 258/300\n",
      " - 0s - loss: 0.1163 - acc: 0.9550\n",
      "Epoch 259/300\n",
      " - 0s - loss: 0.1714 - acc: 0.9378\n",
      "Epoch 260/300\n",
      " - 0s - loss: 0.1851 - acc: 0.9312\n",
      "Epoch 261/300\n",
      " - 0s - loss: 0.1464 - acc: 0.9440\n",
      "Epoch 262/300\n",
      " - 0s - loss: 0.0894 - acc: 0.9694\n",
      "Epoch 263/300\n",
      " - 0s - loss: 0.0714 - acc: 0.9725\n",
      "Epoch 264/300\n",
      " - 0s - loss: 0.0700 - acc: 0.9735\n",
      "Epoch 265/300\n",
      " - 0s - loss: 0.0567 - acc: 0.9801\n",
      "Epoch 266/300\n",
      " - 0s - loss: 0.0724 - acc: 0.9749\n",
      "Epoch 267/300\n",
      " - 0s - loss: 0.0710 - acc: 0.9759\n",
      "Epoch 268/300\n",
      " - 0s - loss: 0.0656 - acc: 0.9770\n",
      "Epoch 269/300\n",
      " - 0s - loss: 0.0658 - acc: 0.9773\n",
      "Epoch 270/300\n",
      " - 0s - loss: 0.0847 - acc: 0.9704\n",
      "Epoch 271/300\n",
      " - 0s - loss: 0.1029 - acc: 0.9570\n",
      "Epoch 272/300\n",
      " - 0s - loss: 0.0945 - acc: 0.9639\n",
      "Epoch 273/300\n",
      " - 0s - loss: 0.0766 - acc: 0.9718\n",
      "Epoch 274/300\n",
      " - 0s - loss: 0.0634 - acc: 0.9763\n",
      "Epoch 275/300\n",
      " - 0s - loss: 0.0660 - acc: 0.9742\n",
      "Epoch 276/300\n",
      " - 0s - loss: 0.0708 - acc: 0.9756\n",
      "Epoch 277/300\n",
      " - 0s - loss: 0.0676 - acc: 0.9749\n",
      "Epoch 278/300\n",
      " - 0s - loss: 0.0742 - acc: 0.9739\n",
      "Epoch 279/300\n",
      " - 0s - loss: 0.0696 - acc: 0.9735\n",
      "Epoch 280/300\n",
      " - 0s - loss: 0.0690 - acc: 0.9763\n",
      "Epoch 281/300\n",
      " - 0s - loss: 0.0671 - acc: 0.9728\n",
      "Epoch 282/300\n",
      " - 0s - loss: 0.0710 - acc: 0.9735\n",
      "Epoch 283/300\n",
      " - 0s - loss: 0.1013 - acc: 0.9622\n",
      "Epoch 284/300\n",
      " - 0s - loss: 0.1541 - acc: 0.9502\n",
      "Epoch 285/300\n",
      " - 0s - loss: 0.1288 - acc: 0.9491\n",
      "Epoch 286/300\n",
      " - 0s - loss: 0.1384 - acc: 0.9484\n",
      "Epoch 287/300\n",
      " - 0s - loss: 0.1212 - acc: 0.9560\n",
      "Epoch 288/300\n",
      " - 0s - loss: 0.0808 - acc: 0.9660\n",
      "Epoch 289/300\n",
      " - 0s - loss: 0.0658 - acc: 0.9777\n",
      "Epoch 290/300\n",
      " - 0s - loss: 0.0758 - acc: 0.9718\n",
      "Epoch 291/300\n",
      " - 0s - loss: 0.0793 - acc: 0.9697\n",
      "Epoch 292/300\n",
      " - 0s - loss: 0.0611 - acc: 0.9773\n",
      "Epoch 293/300\n",
      " - 0s - loss: 0.0611 - acc: 0.9756\n",
      "Epoch 294/300\n",
      " - 0s - loss: 0.0621 - acc: 0.9777\n",
      "Epoch 295/300\n",
      " - 0s - loss: 0.0585 - acc: 0.9807\n",
      "Epoch 296/300\n",
      " - 0s - loss: 0.0564 - acc: 0.9790\n",
      "Epoch 297/300\n",
      " - 0s - loss: 0.0609 - acc: 0.9759\n",
      "Epoch 298/300\n",
      " - 0s - loss: 0.0585 - acc: 0.9777\n",
      "Epoch 299/300\n",
      " - 0s - loss: 0.0625 - acc: 0.9804\n",
      "Epoch 300/300\n",
      " - 0s - loss: 0.0542 - acc: 0.9811\n"
     ]
    },
    {
     "data": {
      "text/plain": [
       "<tensorflow.python.keras.callbacks.History at 0x1a3413a4e0>"
      ]
     },
     "execution_count": 63,
     "metadata": {},
     "output_type": "execute_result"
    }
   ],
   "source": [
    "# Use the training data to fit (train) the model\n",
    "modelNN.fit(\n",
    "    X_train_scaled,\n",
    "    y_train,\n",
    "    epochs=300,\n",
    "    shuffle=True,\n",
    "    verbose=2\n",
    ")"
   ]
  },
  {
   "cell_type": "code",
   "execution_count": 64,
   "metadata": {},
   "outputs": [
    {
     "name": "stdout",
     "output_type": "stream",
     "text": [
      " - 0s - loss: 3.0850 - acc: 0.5467\n",
      "Loss: 3.085045555135706, Accuracy: 0.5467032790184021\n"
     ]
    }
   ],
   "source": [
    "# evaluate model by using test data\n",
    "model_loss, model_accuracy = modelNN.evaluate(\n",
    "    X_test_scaled, y_test, verbose=2)\n",
    "print(f\"Loss: {model_loss}, Accuracy: {model_accuracy}\")"
   ]
  },
  {
   "cell_type": "markdown",
   "metadata": {},
   "source": []
  },
  {
   "cell_type": "markdown",
   "metadata": {},
   "source": [
    "# Decision Tree Model w/o Hyper Parameter Tuning"
   ]
  },
  {
   "cell_type": "code",
   "execution_count": 65,
   "metadata": {},
   "outputs": [],
   "source": [
    "# create model instance\n",
    "modelDT = tree.DecisionTreeClassifier()"
   ]
  },
  {
   "cell_type": "code",
   "execution_count": 66,
   "metadata": {},
   "outputs": [],
   "source": [
    "# Fit the classifier to the data\n",
    "modelDT = modelDT.fit(X_train_scaled, y_train)"
   ]
  },
  {
   "cell_type": "code",
   "execution_count": 67,
   "metadata": {},
   "outputs": [
    {
     "name": "stdout",
     "output_type": "stream",
     "text": [
      "Decision Tree Score: 0.5412087912087912\n"
     ]
    }
   ],
   "source": [
    "# Calculate the R2 score for the test data\n",
    "score = modelDT.score(X_test_scaled, y_test)\n",
    "\n",
    "print(f\"Decision Tree Score: {score}\")"
   ]
  },
  {
   "cell_type": "markdown",
   "metadata": {},
   "source": [
    "# Decision Tree Model w/ Hyper Parameter Tuning"
   ]
  },
  {
   "cell_type": "code",
   "execution_count": 68,
   "metadata": {},
   "outputs": [],
   "source": [
    "# create model instance\n",
    "modelDT1 = tree.DecisionTreeClassifier(random_state=1234)"
   ]
  },
  {
   "cell_type": "code",
   "execution_count": 69,
   "metadata": {},
   "outputs": [],
   "source": [
    "# define hyper parameters Set\n",
    "params = {'max_features': ['auto', 'sqrt', 'log2'],\n",
    "          'min_samples_split': [2,3,4,5,6,7,8,9,10,11,12,13,14,15], \n",
    "          'min_samples_leaf':[1,2,3,4,5,6,7,8,9,10,11],\n",
    "          'random_state':[123]}"
   ]
  },
  {
   "cell_type": "code",
   "execution_count": 70,
   "metadata": {},
   "outputs": [],
   "source": [
    "# compile models with hyper parameters sets\n",
    "modelDT1 = GridSearchCV(modelDT1, param_grid=params, n_jobs=-1)"
   ]
  },
  {
   "cell_type": "code",
   "execution_count": 71,
   "metadata": {},
   "outputs": [
    {
     "data": {
      "text/plain": [
       "GridSearchCV(cv='warn', error_score='raise-deprecating',\n",
       "             estimator=DecisionTreeClassifier(class_weight=None,\n",
       "                                              criterion='gini', max_depth=None,\n",
       "                                              max_features=None,\n",
       "                                              max_leaf_nodes=None,\n",
       "                                              min_impurity_decrease=0.0,\n",
       "                                              min_impurity_split=None,\n",
       "                                              min_samples_leaf=1,\n",
       "                                              min_samples_split=2,\n",
       "                                              min_weight_fraction_leaf=0.0,\n",
       "                                              presort=False, random_state=1234,\n",
       "                                              splitter='best'),\n",
       "             iid='warn', n_jobs=-1,\n",
       "             param_grid={'max_features': ['auto', 'sqrt', 'log2'],\n",
       "                         'min_samples_leaf': [1, 2, 3, 4, 5, 6, 7, 8, 9, 10,\n",
       "                                              11],\n",
       "                         'min_samples_split': [2, 3, 4, 5, 6, 7, 8, 9, 10, 11,\n",
       "                                               12, 13, 14, 15],\n",
       "                         'random_state': [123]},\n",
       "             pre_dispatch='2*n_jobs', refit=True, return_train_score=False,\n",
       "             scoring=None, verbose=0)"
      ]
     },
     "execution_count": 71,
     "metadata": {},
     "output_type": "execute_result"
    }
   ],
   "source": [
    "# train the hyper parameter tuned DT model with the training data\n",
    "modelDT1.fit(X_train_scaled,y_train)"
   ]
  },
  {
   "cell_type": "code",
   "execution_count": 72,
   "metadata": {},
   "outputs": [
    {
     "name": "stdout",
     "output_type": "stream",
     "text": [
      "Best Hyper Parameters: {'max_features': 'auto', 'min_samples_leaf': 5, 'min_samples_split': 13, 'random_state': 123}\n",
      "Accuracy: 0.5439560439560439\n"
     ]
    }
   ],
   "source": [
    "# print best parameters within the tuned DT model\n",
    "print(f\"Best Hyper Parameters: {modelDT1.best_params_}\")\n",
    "\n",
    "# make predictions with tuned DT model\n",
    "predictionDT1 = modelDT1.predict(X_test_scaled)\n",
    "\n",
    "# print accuracy (score) of tuned DT model\n",
    "print(f\"Accuracy: {metrics.accuracy_score(predictionDT1,y_test)}\")"
   ]
  },
  {
   "cell_type": "markdown",
   "metadata": {},
   "source": [
    "# Random Forest Model w/o Hyper Parameter Tuning"
   ]
  },
  {
   "cell_type": "code",
   "execution_count": 73,
   "metadata": {},
   "outputs": [
    {
     "name": "stdout",
     "output_type": "stream",
     "text": [
      "RF Score: 0.5769230769230769\n"
     ]
    }
   ],
   "source": [
    "# Create the RF instance\n",
    "rf = RandomForestClassifier(n_estimators=300)\n",
    "\n",
    "# fit the RF model with training data\n",
    "rf = rf.fit(X_train, y_train)\n",
    "\n",
    "# score the RF model using testing data\n",
    "print(f\"RF Score: {rf.score(X_test,y_test)}\")"
   ]
  },
  {
   "cell_type": "markdown",
   "metadata": {},
   "source": [
    "# Random Forest Model w/ Hyper Parameter Tuning"
   ]
  },
  {
   "cell_type": "code",
   "execution_count": 74,
   "metadata": {},
   "outputs": [],
   "source": [
    "# Create the RF instance\n",
    "rf1 = RandomForestClassifier()"
   ]
  },
  {
   "cell_type": "code",
   "execution_count": 75,
   "metadata": {},
   "outputs": [],
   "source": [
    "#Hyper Parameters Set for RF\n",
    "params = {'criterion':['gini','entropy'],\n",
    "          'n_estimators':[50,100,500,1000],\n",
    "          'min_samples_leaf':[1,2,3],\n",
    "          'min_samples_split':[3,4,5,6,7], \n",
    "          'random_state':[123],\n",
    "          'n_jobs':[-1]}"
   ]
  },
  {
   "cell_type": "code",
   "execution_count": 76,
   "metadata": {},
   "outputs": [],
   "source": [
    "# create models with hyper parameters\n",
    "modelRf1 = GridSearchCV(rf1, param_grid=params, n_jobs=-1)"
   ]
  },
  {
   "cell_type": "code",
   "execution_count": 77,
   "metadata": {},
   "outputs": [
    {
     "data": {
      "text/plain": [
       "GridSearchCV(cv='warn', error_score='raise-deprecating',\n",
       "             estimator=RandomForestClassifier(bootstrap=True, class_weight=None,\n",
       "                                              criterion='gini', max_depth=None,\n",
       "                                              max_features='auto',\n",
       "                                              max_leaf_nodes=None,\n",
       "                                              min_impurity_decrease=0.0,\n",
       "                                              min_impurity_split=None,\n",
       "                                              min_samples_leaf=1,\n",
       "                                              min_samples_split=2,\n",
       "                                              min_weight_fraction_leaf=0.0,\n",
       "                                              n_estimators='warn', n_jobs=None,\n",
       "                                              oob_score=False,\n",
       "                                              random_state=None, verbose=0,\n",
       "                                              warm_start=False),\n",
       "             iid='warn', n_jobs=-1,\n",
       "             param_grid={'criterion': ['gini', 'entropy'],\n",
       "                         'min_samples_leaf': [1, 2, 3],\n",
       "                         'min_samples_split': [3, 4, 5, 6, 7],\n",
       "                         'n_estimators': [50, 100, 500, 1000], 'n_jobs': [-1],\n",
       "                         'random_state': [123]},\n",
       "             pre_dispatch='2*n_jobs', refit=True, return_train_score=False,\n",
       "             scoring=None, verbose=0)"
      ]
     },
     "execution_count": 77,
     "metadata": {},
     "output_type": "execute_result"
    }
   ],
   "source": [
    "# train the hyper parameter tuned RF model with the training data\n",
    "modelRf1.fit(X_train_scaled,y_train)"
   ]
  },
  {
   "cell_type": "code",
   "execution_count": 102,
   "metadata": {},
   "outputs": [
    {
     "name": "stdout",
     "output_type": "stream",
     "text": [
      "Best Hyper Parameters: {'criterion': 'gini', 'min_samples_leaf': 3, 'min_samples_split': 7, 'n_estimators': 500, 'n_jobs': -1, 'random_state': 123}\n",
      "Accuracy: 0.5810439560439561\n"
     ]
    }
   ],
   "source": [
    "# make predicition with test data\n",
    "predictionRf1 = modelRf1.predict(X_test_scaled)\n",
    "\n",
    "# print best  hyper parameters set\n",
    "print(f\"Best Hyper Parameters: {modelRf1.best_params_}\")\n",
    "\n",
    "# print score for tuned RF model\n",
    "print(f\"Accuracy: {metrics.accuracy_score(predictionRf1,y_test)}\")"
   ]
  },
  {
   "cell_type": "code",
   "execution_count": 79,
   "metadata": {},
   "outputs": [
    {
     "name": "stdout",
     "output_type": "stream",
     "text": [
      "Tuned RF Model Feature Importances:\n",
      "[0.21724892 0.01004161 0.01346194 0.00981803 0.01015524 0.0101785\n",
      " 0.01435724 0.01293353 0.01393811 0.0173505  0.01476214 0.00856422\n",
      " 0.00986871 0.06646321 0.13402584 0.12935757 0.21628251 0.01769076\n",
      " 0.06059388 0.01290753]\n"
     ]
    }
   ],
   "source": [
    "print(f\"Tuned RF Model Feature Importances:\\n{modelRf1.best_estimator_.feature_importances_}\")"
   ]
  },
  {
   "cell_type": "code",
   "execution_count": 80,
   "metadata": {},
   "outputs": [
    {
     "data": {
      "image/png": "[encoded data removed]",
      "text/plain": [
       "<Figure size 432x288 with 1 Axes>"
      ]
     },
     "metadata": {
      "needs_background": "light"
     },
     "output_type": "display_data"
    }
   ],
   "source": [
    "#plot graph of feature importances for better visualization\n",
    "feat_importances = pd.Series(modelRf1.best_estimator_.feature_importances_, index=X.columns)\n",
    "feat_importances.nlargest(20).plot(kind='barh')\n",
    "plt.show()"
   ]
  },
  {
   "cell_type": "code",
   "execution_count": 81,
   "metadata": {},
   "outputs": [],
   "source": [
    "# make predicitions based on x test scaled data\n",
    "predictions = modelRf1.predict(X_test_scaled)\n",
    "\n",
    "#create dataframe\n",
    "df = pd.DataFrame(predictions)"
   ]
  },
  {
   "cell_type": "code",
   "execution_count": 82,
   "metadata": {},
   "outputs": [
    {
     "data": {
      "text/html": [
       "<div>\n",
       "<style scoped>\n",
       "    .dataframe tbody tr th:only-of-type {\n",
       "        vertical-align: middle;\n",
       "    }\n",
       "\n",
       "    .dataframe tbody tr th {\n",
       "        vertical-align: top;\n",
       "    }\n",
       "\n",
       "    .dataframe thead th {\n",
       "        text-align: right;\n",
       "    }\n",
       "</style>\n",
       "<table border=\"1\" class=\"dataframe\">\n",
       "  <thead>\n",
       "    <tr style=\"text-align: right;\">\n",
       "      <th></th>\n",
       "      <th>Pred</th>\n",
       "      <th>Actual</th>\n",
       "      <th>Analysis</th>\n",
       "    </tr>\n",
       "  </thead>\n",
       "  <tbody>\n",
       "    <tr>\n",
       "      <th>0</th>\n",
       "      <td>0</td>\n",
       "      <td>0</td>\n",
       "      <td>0</td>\n",
       "    </tr>\n",
       "    <tr>\n",
       "      <th>1</th>\n",
       "      <td>1</td>\n",
       "      <td>0</td>\n",
       "      <td>-1</td>\n",
       "    </tr>\n",
       "    <tr>\n",
       "      <th>2</th>\n",
       "      <td>1</td>\n",
       "      <td>1</td>\n",
       "      <td>0</td>\n",
       "    </tr>\n",
       "    <tr>\n",
       "      <th>3</th>\n",
       "      <td>1</td>\n",
       "      <td>1</td>\n",
       "      <td>0</td>\n",
       "    </tr>\n",
       "    <tr>\n",
       "      <th>4</th>\n",
       "      <td>0</td>\n",
       "      <td>1</td>\n",
       "      <td>1</td>\n",
       "    </tr>\n",
       "  </tbody>\n",
       "</table>\n",
       "</div>"
      ],
      "text/plain": [
       "   Pred  Actual  Analysis\n",
       "0     0       0         0\n",
       "1     1       0        -1\n",
       "2     1       1         0\n",
       "3     1       1         0\n",
       "4     0       1         1"
      ]
     },
     "execution_count": 82,
     "metadata": {},
     "output_type": "execute_result"
    }
   ],
   "source": [
    "# format \n",
    "df.rename({0 : \"Pred\"}, axis=1, inplace=True)\n",
    "df[\"Actual\"] = y_test\n",
    "df[\"Analysis\"] = df[\"Actual\"]-df[\"Pred\"]\n",
    "df.head()"
   ]
  },
  {
   "cell_type": "code",
   "execution_count": 83,
   "metadata": {},
   "outputs": [
    {
     "data": {
      "text/html": [
       "<div>\n",
       "<style scoped>\n",
       "    .dataframe tbody tr th:only-of-type {\n",
       "        vertical-align: middle;\n",
       "    }\n",
       "\n",
       "    .dataframe tbody tr th {\n",
       "        vertical-align: top;\n",
       "    }\n",
       "\n",
       "    .dataframe thead th {\n",
       "        text-align: right;\n",
       "    }\n",
       "</style>\n",
       "<table border=\"1\" class=\"dataframe\">\n",
       "  <thead>\n",
       "    <tr style=\"text-align: right;\">\n",
       "      <th></th>\n",
       "      <th>Pred</th>\n",
       "      <th>Actual</th>\n",
       "      <th>Analysis</th>\n",
       "    </tr>\n",
       "  </thead>\n",
       "  <tbody>\n",
       "    <tr>\n",
       "      <th>0</th>\n",
       "      <td>0</td>\n",
       "      <td>0</td>\n",
       "      <td>Correct</td>\n",
       "    </tr>\n",
       "    <tr>\n",
       "      <th>1</th>\n",
       "      <td>1</td>\n",
       "      <td>0</td>\n",
       "      <td>Incorrect</td>\n",
       "    </tr>\n",
       "    <tr>\n",
       "      <th>2</th>\n",
       "      <td>1</td>\n",
       "      <td>1</td>\n",
       "      <td>Correct</td>\n",
       "    </tr>\n",
       "    <tr>\n",
       "      <th>3</th>\n",
       "      <td>1</td>\n",
       "      <td>1</td>\n",
       "      <td>Correct</td>\n",
       "    </tr>\n",
       "    <tr>\n",
       "      <th>4</th>\n",
       "      <td>0</td>\n",
       "      <td>1</td>\n",
       "      <td>Incorrect</td>\n",
       "    </tr>\n",
       "  </tbody>\n",
       "</table>\n",
       "</div>"
      ],
      "text/plain": [
       "   Pred  Actual   Analysis\n",
       "0     0       0    Correct\n",
       "1     1       0  Incorrect\n",
       "2     1       1    Correct\n",
       "3     1       1    Correct\n",
       "4     0       1  Incorrect"
      ]
     },
     "execution_count": 83,
     "metadata": {},
     "output_type": "execute_result"
    }
   ],
   "source": [
    "df[\"Analysis\"].sum()\n",
    "df[\"Analysis\"] = df[\"Analysis\"].map({1:\"Incorrect\",-1:\"Incorrect\",0:\"Correct\"})\n",
    "df.head()"
   ]
  },
  {
   "cell_type": "code",
   "execution_count": 84,
   "metadata": {},
   "outputs": [
    {
     "data": {
      "text/plain": [
       "Correct      423\n",
       "Incorrect    305\n",
       "Name: Analysis, dtype: int64"
      ]
     },
     "execution_count": 84,
     "metadata": {},
     "output_type": "execute_result"
    }
   ],
   "source": [
    "df[\"Analysis\"].value_counts()"
   ]
  },
  {
   "cell_type": "code",
   "execution_count": 85,
   "metadata": {},
   "outputs": [
    {
     "data": {
      "text/plain": [
       "array([[146, 113],\n",
       "       [192, 277]])"
      ]
     },
     "execution_count": 85,
     "metadata": {},
     "output_type": "execute_result"
    }
   ],
   "source": [
    "metrics.confusion_matrix(predictions,y_test)"
   ]
  },
  {
   "cell_type": "markdown",
   "metadata": {},
   "source": [
    "# Support Vector Machine w/o Hyper Parameter Tuning"
   ]
  },
  {
   "cell_type": "code",
   "execution_count": 86,
   "metadata": {},
   "outputs": [
    {
     "data": {
      "text/plain": [
       "SVC(C=1.0, cache_size=200, class_weight=None, coef0=0.0,\n",
       "    decision_function_shape='ovr', degree=3, gamma='auto_deprecated',\n",
       "    kernel='poly', max_iter=-1, probability=False, random_state=None,\n",
       "    shrinking=True, tol=0.001, verbose=False)"
      ]
     },
     "execution_count": 86,
     "metadata": {},
     "output_type": "execute_result"
    }
   ],
   "source": [
    "# Create a support vector machine linear classifer and fit it to the training data.\n",
    "\n",
    "target_names = [\"not successful\", \"successful\"]\n",
    "\n",
    "modelSVC1 = SVC(kernel='linear', probability = True)\n",
    "modelSVC1.fit(X_train_scaled, y_train)\n",
    "\n",
    "modelSVC2 = SVC(kernel='rbf')\n",
    "modelSVC2.fit(X_train_scaled, y_train)\n",
    "\n",
    "modelSVC3 = SVC(kernel='poly')\n",
    "modelSVC3.fit(X_train_scaled, y_train)"
   ]
  },
  {
   "cell_type": "code",
   "execution_count": 87,
   "metadata": {},
   "outputs": [
    {
     "name": "stdout",
     "output_type": "stream",
     "text": [
      "Linear SVC Model: 0.5357142857142857\n",
      "RBF SVC Model: 0.4642857142857143\n",
      "Polynomial SVC Model: 0.4642857142857143\n"
     ]
    }
   ],
   "source": [
    "# Print model scores using the test data to compare\n",
    "print(f\"Linear SVC Model: {modelSVC1.score(X_test,y_test)}\")\n",
    "print(f\"RBF SVC Model: {modelSVC2.score(X_test,y_test)}\")\n",
    "print(f\"Polynomial SVC Model: {modelSVC3.score(X_test,y_test)}\")"
   ]
  },
  {
   "cell_type": "markdown",
   "metadata": {},
   "source": [
    "# Support Vector Machine w/ Hyper Parameter Tuning"
   ]
  },
  {
   "cell_type": "code",
   "execution_count": 88,
   "metadata": {},
   "outputs": [],
   "source": [
    "# create support vector classifier \n",
    "modelSVC = SVC()\n",
    "\n",
    "#defining hyper parameters\n",
    "params = {'C': [5,6,7,8,9,10], \n",
    "          'kernel': ['linear','rbf'],\n",
    "          'gamma': [0.1,1,10,100]}\n",
    "\n",
    "#Making models with hyper parameters sets\n",
    "modelSVC = GridSearchCV(modelSVC, param_grid=params, n_jobs=-1)"
   ]
  },
  {
   "cell_type": "code",
   "execution_count": 89,
   "metadata": {},
   "outputs": [
    {
     "data": {
      "text/plain": [
       "GridSearchCV(cv='warn', error_score='raise-deprecating',\n",
       "             estimator=SVC(C=1.0, cache_size=200, class_weight=None, coef0=0.0,\n",
       "                           decision_function_shape='ovr', degree=3,\n",
       "                           gamma='auto_deprecated', kernel='rbf', max_iter=-1,\n",
       "                           probability=False, random_state=None, shrinking=True,\n",
       "                           tol=0.001, verbose=False),\n",
       "             iid='warn', n_jobs=-1,\n",
       "             param_grid={'C': [5, 6, 7, 8, 9, 10], 'gamma': [0.1, 1, 10, 100],\n",
       "                         'kernel': ['linear', 'rbf']},\n",
       "             pre_dispatch='2*n_jobs', refit=True, return_train_score=False,\n",
       "             scoring=None, verbose=0)"
      ]
     },
     "execution_count": 89,
     "metadata": {},
     "output_type": "execute_result"
    }
   ],
   "source": [
    "#Learning\n",
    "modelSVC.fit(X_train_scaled,y_train)"
   ]
  },
  {
   "cell_type": "code",
   "execution_count": 90,
   "metadata": {},
   "outputs": [
    {
     "name": "stdout",
     "output_type": "stream",
     "text": [
      "Best Hyper Parameters: {'C': 5, 'gamma': 0.1, 'kernel': 'linear'}\n"
     ]
    }
   ],
   "source": [
    "#The best hyper parameters set\n",
    "print(f\"Best Hyper Parameters: {modelSVC.best_params_}\")"
   ]
  },
  {
   "cell_type": "code",
   "execution_count": 91,
   "metadata": {},
   "outputs": [
    {
     "data": {
      "text/plain": [
       "array([ 1.34571345e-05, -3.52043039e-01, -3.71236314e-01,  1.50830432e-01,\n",
       "        1.43875470e-01,  1.49833939e-01,  1.57945958e-01,  1.55850876e-01,\n",
       "        1.63484814e-01, -4.70407548e-01,  1.65379620e-01,  7.05846244e-02,\n",
       "        8.40520285e-02, -1.00711049e-04,  1.90949878e-04, -3.38978982e-04,\n",
       "        1.18548983e-04, -6.75262611e-05,  5.59730787e-05,  1.15357546e-01])"
      ]
     },
     "execution_count": 91,
     "metadata": {},
     "output_type": "execute_result"
    }
   ],
   "source": [
    "modelSVC1.coef_[0]"
   ]
  },
  {
   "cell_type": "code",
   "execution_count": 92,
   "metadata": {},
   "outputs": [
    {
     "data": {
      "image/png": "[encoded data removed]",
      "text/plain": [
       "<Figure size 432x288 with 1 Axes>"
      ]
     },
     "metadata": {
      "needs_background": "light"
     },
     "output_type": "display_data"
    },
    {
     "data": {
      "image/png": "[encoded data removed]",
      "text/plain": [
       "<Figure size 432x288 with 1 Axes>"
      ]
     },
     "metadata": {
      "needs_background": "light"
     },
     "output_type": "display_data"
    }
   ],
   "source": [
    "def f_importances(coef, names):\n",
    "    imp = coef\n",
    "    imp,names = zip(*sorted(zip(imp,names)))\n",
    "    plt.barh(range(len(names)), imp, align='center')\n",
    "    plt.yticks(range(len(names)), names)\n",
    "    plt.show()\n",
    "\n",
    "features_names = [\"duration\",\"rel_mon_01\",\"rel_mon_02\", \"rel_mon_03\", \"rel_mon_04\", \"rel_mon_05\", \"rel_mon_06\",\n",
    "             \"rel_mon_07\", \"rel_mon_08\", \"rel_mon_09\", \"rel_mon_10\", \"rel_mon_11\", \"rel_mon_12\",\"rating_numeric\",\n",
    "             \"director_score\",\"production_companies_count\",\"total_actor_starpower\",\"tot_wins\",\"tot_noms\",\n",
    "             \"holiday_month\"]\n",
    "\n",
    "f_importances(abs(modelSVC1.coef_[0]), features_names)\n",
    "f_importances(modelSVC1.coef_[0], features_names)"
   ]
  },
  {
   "cell_type": "code",
   "execution_count": 93,
   "metadata": {},
   "outputs": [],
   "source": [
    "# make prediction using test data\n",
    "prediction = modelSVC.predict(X_test_scaled)"
   ]
  },
  {
   "cell_type": "code",
   "execution_count": 94,
   "metadata": {},
   "outputs": [
    {
     "name": "stdout",
     "output_type": "stream",
     "text": [
      "Accuracy: 0.5315934065934066\n"
     ]
    }
   ],
   "source": [
    "#evaluation(Accuracy)\n",
    "print(f\"Accuracy: {metrics.accuracy_score(prediction,y_test)}\")"
   ]
  },
  {
   "cell_type": "markdown",
   "metadata": {},
   "source": [
    "# Summary of Models and Scores"
   ]
  },
  {
   "cell_type": "code",
   "execution_count": 96,
   "metadata": {},
   "outputs": [
    {
     "name": "stdout",
     "output_type": "stream",
     "text": [
      "Models WITHOUT Hyper Parameter Tuning\n",
      "------------------\n",
      "Decision Tree: 0.5412087912087912\n",
      "Random Forest: 0.47115384615384615\n",
      "Support Vector Machine: 0.5357142857142857\n",
      "-------------------------\n",
      "Model scores WITH Hyper Parameter Tuning\n",
      "Decision Tree: 0.5439560439560439\n",
      "Random Forest: 0.5810439560439561\n",
      "Support Vector Machine: 0.5315934065934066\n",
      "Deep Neural Network: 0.5467032790184021\n"
     ]
    }
   ],
   "source": [
    "print(f\"Models WITHOUT Hyper Parameter Tuning\")\n",
    "print(f\"------------------\")\n",
    "print(f\"Decision Tree: {modelDT.score(X_test_scaled, y_test)}\")\n",
    "print(f\"Random Forest: {rf.score(X_test_scaled, y_test)}\")\n",
    "print(f\"Support Vector Machine: {modelSVC1.score(X_test,y_test)}\")\n",
    "\n",
    "\n",
    "print(\"-------------------------\")\n",
    "print(f\"Model scores WITH Hyper Parameter Tuning\")\n",
    "print(f\"Decision Tree: {metrics.accuracy_score(predictionDT1,y_test)}\")\n",
    "print(f\"Random Forest: {metrics.accuracy_score(predictionRf1,y_test)}\")\n",
    "print(f\"Support Vector Machine: {metrics.accuracy_score(prediction,y_test)}\")\n",
    "print(f\"Deep Neural Network: {model_accuracy}\")"
   ]
  },
  {
   "cell_type": "markdown",
   "metadata": {},
   "source": [
    "# ROC Curve (Receiving Operator Characteristic) & CAP (Cumulative Accuracy Profile)"
   ]
  },
  {
   "cell_type": "code",
   "execution_count": 97,
   "metadata": {},
   "outputs": [
    {
     "name": "stdout",
     "output_type": "stream",
     "text": [
      "Neural Network AUC (Area Under Curve): 0.567\n",
      "Random Forest AUC (Area Under Curve): 0.610\n",
      "\n",
      "\n"
     ]
    },
    {
     "data": {
      "image/png": "[encoded data removed]",
      "text/plain": [
       "<Figure size 432x288 with 1 Axes>"
      ]
     },
     "metadata": {
      "needs_background": "light"
     },
     "output_type": "display_data"
    }
   ],
   "source": [
    "# predict probabilities\n",
    "probsNN = modelNN.predict_proba(X_test_scaled)\n",
    "probsRf = modelRf1.predict_proba(X_test_scaled)\n",
    "\n",
    "# keep probabilities for the positive outcome only\n",
    "probsNN = probsNN[:, 1]\n",
    "probsRf = probsRf[:, 1]\n",
    "\n",
    "# calculate AUC for NN and RF models\n",
    "aucNN = roc_auc_score(y_test, probsNN)\n",
    "aucRf = roc_auc_score(y_test, probsRf)\n",
    "print('Neural Network AUC (Area Under Curve): %.3f' % aucNN)\n",
    "print('Random Forest AUC (Area Under Curve): %.3f' % aucRf)\n",
    "print('\\n')\n",
    "# calculate roc curve\n",
    "fprNN, tprNN, thresholdsNN = roc_curve(y_test, probsNN)\n",
    "fprRf, tprRf, thresholdsRf = roc_curve(y_test, probsRf)\n",
    "\n",
    "# plot no skill\n",
    "pyplot.plot([0, 1], [0, 1], linestyle='--', label=\"Random\")\n",
    "# plot the Neural Network roc curve\n",
    "pyplot.plot(fprNN, tprNN, marker='.', label=\"Neural Network\")\n",
    "# plot the Random Forest ROC curve \n",
    "pyplot.plot(fprRf, tprRf, marker = '.', label = \"Random Forest\")\n",
    "# title\n",
    "plt.title('ROC Curve', fontsize = 16)\n",
    "# legend\n",
    "plt.legend(loc = 'lower right', fontsize = 10)\n",
    "# show the plot\n",
    "pyplot.show()"
   ]
  },
  {
   "cell_type": "markdown",
   "metadata": {},
   "source": [
    "# Cumulative Accuracy Profile"
   ]
  },
  {
   "cell_type": "code",
   "execution_count": 64,
   "metadata": {},
   "outputs": [
    {
     "name": "stdout",
     "output_type": "stream",
     "text": [
      "Total: 910\n",
      "Class 1 Count: 488\n",
      "Class 0 Count: 422\n"
     ]
    }
   ],
   "source": [
    "total = len(y_test)\n",
    "class_1_count = np.sum(y_test)\n",
    "class_0_count = total - class_1_count\n",
    "\n",
    "print(f\"Total: {total}\")\n",
    "print(f\"Class 1 Count: {class_1_count}\")\n",
    "print(f\"Class 0 Count: {class_0_count}\")"
   ]
  },
  {
   "cell_type": "code",
   "execution_count": 65,
   "metadata": {},
   "outputs": [
    {
     "data": {
      "text/plain": [
       "<matplotlib.legend.Legend at 0x1a2dd48eb8>"
      ]
     },
     "execution_count": 65,
     "metadata": {},
     "output_type": "execute_result"
    },
    {
     "data": {
      "image/png": "[encoded data removed]",
      "text/plain": [
       "<Figure size 432x288 with 1 Axes>"
      ]
     },
     "metadata": {
      "needs_background": "light"
     },
     "output_type": "display_data"
    }
   ],
   "source": [
    "# plot a random model\n",
    "plt.plot([0, total], [0, class_1_count], c = 'r', linestyle = '--', label = 'Random Model')\n",
    "\n",
    "# plot a perfect model\n",
    "plt.plot([0, class_1_count, total], \n",
    "         [0, class_1_count, class_1_count], \n",
    "         c = 'grey', \n",
    "         linewidth = 2, \n",
    "         label = 'Perfect Model')\n",
    "\n",
    "# creat plot for Random Forest model to compare\n",
    "probs = modelRf1.predict_proba(X_test_scaled)\n",
    "probs = probs[:, 1]\n",
    "model_y = [y for _, y in sorted(zip(probs, y_test), reverse = True)]\n",
    "y_values = np.append([0], np.cumsum(model_y))\n",
    "x_values = np.arange(0, total + 1)\n",
    "\n",
    "plt.plot(x_values, \n",
    "         y_values, \n",
    "         c = 'b', \n",
    "         label = 'Random Forest Classifier', \n",
    "         linewidth = 4)\n",
    "\n",
    "# Plot information\n",
    "plt.xlabel('Total observations', fontsize = 12)\n",
    "plt.ylabel('Class 1 observations', fontsize = 12)\n",
    "plt.title('Cumulative Accuracy Profile', fontsize = 12)\n",
    "plt.legend(loc = 'lower right', fontsize = 12)"
   ]
  },
  {
   "cell_type": "code",
   "execution_count": 66,
   "metadata": {},
   "outputs": [
    {
     "ename": "TypeError",
     "evalue": "'numpy.float64' object is not callable",
     "output_type": "error",
     "traceback": [
      "\u001b[0;31m---------------------------------------------------------------------------\u001b[0m",
      "\u001b[0;31mTypeError\u001b[0m                                 Traceback (most recent call last)",
      "\u001b[0;32m<ipython-input-66-ac22f9796248>\u001b[0m in \u001b[0;36m<module>\u001b[0;34m()\u001b[0m\n\u001b[1;32m      8\u001b[0m \u001b[0;34m\u001b[0m\u001b[0m\n\u001b[1;32m      9\u001b[0m \u001b[0;31m# Area under Random Model\u001b[0m\u001b[0;34m\u001b[0m\u001b[0;34m\u001b[0m\u001b[0;34m\u001b[0m\u001b[0m\n\u001b[0;32m---> 10\u001b[0;31m \u001b[0marea\u001b[0m \u001b[0;34m=\u001b[0m \u001b[0mauc\u001b[0m\u001b[0;34m(\u001b[0m\u001b[0;34m[\u001b[0m\u001b[0;36m0\u001b[0m\u001b[0;34m,\u001b[0m \u001b[0mtotal\u001b[0m\u001b[0;34m]\u001b[0m\u001b[0;34m,\u001b[0m \u001b[0;34m[\u001b[0m\u001b[0;36m0\u001b[0m\u001b[0;34m,\u001b[0m \u001b[0mclass_1_count\u001b[0m\u001b[0;34m]\u001b[0m\u001b[0;34m)\u001b[0m\u001b[0;34m\u001b[0m\u001b[0;34m\u001b[0m\u001b[0m\n\u001b[0m\u001b[1;32m     11\u001b[0m \u001b[0;34m\u001b[0m\u001b[0m\n\u001b[1;32m     12\u001b[0m \u001b[0;31m# Area between Perfect and Random Model\u001b[0m\u001b[0;34m\u001b[0m\u001b[0;34m\u001b[0m\u001b[0;34m\u001b[0m\u001b[0m\n",
      "\u001b[0;31mTypeError\u001b[0m: 'numpy.float64' object is not callable"
     ]
    }
   ],
   "source": [
    "#  CAP Analysis using Area Under Curve\n",
    "#  The first method to analyse the CAP Curve is using Area Under Curve. Let’s consider area under \n",
    "#  random model as a. We calculate the Accuracy Rate using the following steps:\n",
    "#  Calculate the area under the perfect model (aP) till the random model (a)\n",
    "#  Calculate the area under the prediction model (aR) till the random model (a)\n",
    "#  Calculate Accuracy Rate (AR) = aR / aP\n",
    "#  The closer the Accuracy Rate is to the 1, better is the model.\n",
    "\n",
    "# Area under Random Model\n",
    "area = auc([0, total], [0, class_1_count])\n",
    "\n",
    "# Area between Perfect and Random Model\n",
    "aP = auc([0, class_1_count, total], [0, class_1_count, class_1_count]) - area\n",
    "\n",
    "# Area between Trained and Random Model\n",
    "aR = auc(x_values, y_values) - area\n",
    "\n",
    "# print accuracy\n",
    "print(\"Accuracy Rate for Support Vector Classifier: {}\".format(aR / aP))"
   ]
  },
  {
   "cell_type": "code",
   "execution_count": null,
   "metadata": {},
   "outputs": [],
   "source": []
  }
 ],
 "metadata": {
  "kernelspec": {
   "display_name": "Python 3",
   "language": "python",
   "name": "python3"
  },
  "language_info": {
   "codemirror_mode": {
    "name": "ipython",
    "version": 3
   },
   "file_extension": ".py",
   "mimetype": "text/x-python",
   "name": "python",
   "nbconvert_exporter": "python",
   "pygments_lexer": "ipython3",
   "version": "3.7.2"
  }
 },
 "nbformat": 4,
 "nbformat_minor": 2
}
